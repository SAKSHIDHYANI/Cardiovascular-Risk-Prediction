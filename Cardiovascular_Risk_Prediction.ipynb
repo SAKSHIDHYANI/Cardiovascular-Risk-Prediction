{
  "nbformat": 4,
  "nbformat_minor": 0,
  "metadata": {
    "colab": {
      "name": "Cardiovascular Risk Prediction.ipynb",
      "provenance": [],
      "collapsed_sections": [],
      "authorship_tag": "ABX9TyNTKDH7Bn4stgrj67r6kD8L",
      "include_colab_link": true
    },
    "kernelspec": {
      "name": "python3",
      "display_name": "Python 3"
    },
    "language_info": {
      "name": "python"
    }
  },
  "cells": [
    {
      "cell_type": "markdown",
      "metadata": {
        "id": "view-in-github",
        "colab_type": "text"
      },
      "source": [
        "<a href=\"https://colab.research.google.com/github/SAKSHIDHYANI/Cardiovascular-Risk-Prediction/blob/main/Cardiovascular_Risk_Prediction.ipynb\" target=\"_parent\"><img src=\"https://colab.research.google.com/assets/colab-badge.svg\" alt=\"Open In Colab\"/></a>"
      ]
    },
    {
      "cell_type": "markdown",
      "metadata": {
        "id": "dvw3PRSNT3D-"
      },
      "source": [
        "**The dataset is from an ongoing cardiovascular study on residents of the town of Framingham,**\n",
        "**Massachusetts. The classification goal is to predict whether the patient has a 10-year risk of**\n",
        "**future coronary heart disease (CHD). The dataset provides the patients’ information. It includes**\n",
        "**over 4,000 records and 15 attributes.**\n",
        "**Variables**\n",
        "**Each attribute is a potential risk factor. There are both demographic, behavioral, and medical risk**\n",
        "**factors.**\n",
        "\n",
        "**Data Description**\n",
        "**Demographic:**\n",
        "\n",
        "**• Sex: male or female(\"M\" or \"F\")**\n",
        "\n",
        "**• Age: Age of the patient;(Continuous - Although the recorded ages have been truncated to**\n",
        "**whole numbers, the concept of age is continuous)**\n",
        "\n",
        "**Behavioral**\n",
        "\n",
        "**• is_smoking: whether or not the patient is a current smoker (\"YES\" or \"NO\")**\n",
        "\n",
        "**• Cigs Per Day: the number of cigarettes that the person smoked on average in one day.(can be**\n",
        "**considered continuous as one can have any number of cigarettes, even half a cigarette.)**\n",
        "\n",
        "**Medical( history)**\n",
        "\n",
        "**• BP Meds: whether or not the patient was on blood pressure medication (Nominal)**\n",
        "\n",
        "**• Prevalent Stroke: whether or not the patient had previously had a stroke (Nominal)**\n",
        "\n",
        "**• Prevalent Hyp: whether or not the patient was hypertensive (Nominal)**\n",
        "\n",
        "**• Diabetes: whether or not the patient had diabetes (Nominal)**\n",
        "\n",
        "**Medical(current)**\n",
        "\n",
        "**• Tot Chol: total cholesterol level (Continuous)**\n",
        "\n",
        "**• Sys BP: systolic blood pressure (Continuous)**\n",
        "\n",
        "**• Dia BP: diastolic blood pressure (Continuous)**\n",
        "\n",
        "**• BMI: Body Mass Index (Continuous)**\n",
        "\n",
        "**• Heart Rate: heart rate (Continuous - In medical research, variables such as heart rate though in**\n",
        "**fact discrete, yet are considered continuous because of large number of possible values.)**\n",
        "\n",
        "**• Glucose: glucose level (Continuous)**\n",
        "\n",
        "**Predict variable (desired target)**\n",
        "\n",
        "**• 10-year risk of coronary heart disease CHD(binary: “1”, means “Yes”, “0”** **means “No”)**"
      ]
    },
    {
      "cell_type": "code",
      "metadata": {
        "id": "Or7vArIiTwVI"
      },
      "source": [
        "#importing required libraries\n",
        "\n",
        "import numpy as np\n",
        "import pandas as pd\n",
        "from sklearn.tree import DecisionTreeClassifier \n",
        "from sklearn import metrics\n",
        "from sklearn.model_selection import train_test_split\n",
        "import seaborn as sns\n",
        "import matplotlib.pyplot as plt\n",
        "from sklearn.ensemble import RandomForestClassifier\n",
        "from sklearn.metrics import accuracy_score \n",
        "from sklearn.linear_model import LogisticRegression\n",
        "from sklearn.utils import resample\n",
        "from sklearn import svm\n",
        "from sklearn.model_selection import GridSearchCV\n",
        "from sklearn.linear_model import LogisticRegression\n",
        "from sklearn.neighbors import KNeighborsClassifier\n",
        "from sklearn.metrics import confusion_matrix, accuracy_score, roc_curve, classification_report\n"
      ],
      "execution_count": null,
      "outputs": []
    },
    {
      "cell_type": "code",
      "metadata": {
        "colab": {
          "base_uri": "https://localhost:8080/"
        },
        "id": "k7v6f5XAYiSj",
        "outputId": "f40e9de4-4fbc-431c-cb73-83e01d0f3da1"
      },
      "source": [
        "pip install Boruta"
      ],
      "execution_count": null,
      "outputs": [
        {
          "output_type": "stream",
          "name": "stdout",
          "text": [
            "Requirement already satisfied: Boruta in /usr/local/lib/python3.7/dist-packages (0.3)\n",
            "Requirement already satisfied: scikit-learn>=0.17.1 in /usr/local/lib/python3.7/dist-packages (from Boruta) (0.22.2.post1)\n",
            "Requirement already satisfied: scipy>=0.17.0 in /usr/local/lib/python3.7/dist-packages (from Boruta) (1.4.1)\n",
            "Requirement already satisfied: numpy>=1.10.4 in /usr/local/lib/python3.7/dist-packages (from Boruta) (1.19.5)\n",
            "Requirement already satisfied: joblib>=0.11 in /usr/local/lib/python3.7/dist-packages (from scikit-learn>=0.17.1->Boruta) (1.1.0)\n"
          ]
        }
      ]
    },
    {
      "cell_type": "code",
      "metadata": {
        "id": "Friln-WCVsI0"
      },
      "source": [
        "from boruta import BorutaPy"
      ],
      "execution_count": null,
      "outputs": []
    },
    {
      "cell_type": "code",
      "metadata": {
        "colab": {
          "base_uri": "https://localhost:8080/"
        },
        "id": "4tMv3FVZcLQU",
        "outputId": "eac28a0f-94d5-4d3e-fda9-fe15009098eb"
      },
      "source": [
        "from google.colab import drive\n",
        "drive.mount('/content/drive')"
      ],
      "execution_count": null,
      "outputs": [
        {
          "output_type": "stream",
          "name": "stdout",
          "text": [
            "Drive already mounted at /content/drive; to attempt to forcibly remount, call drive.mount(\"/content/drive\", force_remount=True).\n"
          ]
        }
      ]
    },
    {
      "cell_type": "code",
      "metadata": {
        "id": "d0-saEX6cnV7"
      },
      "source": [
        "# saving data from csv to dataframe\n",
        "data = pd.read_csv(\"/content/drive/MyDrive/Almabetter/capstone project 3/data_cardiovascular_risk.csv\")"
      ],
      "execution_count": null,
      "outputs": []
    },
    {
      "cell_type": "code",
      "metadata": {
        "colab": {
          "base_uri": "https://localhost:8080/",
          "height": 203
        },
        "id": "7Vqfpf5KcqMd",
        "outputId": "ca33602a-cf24-449b-b2b8-c6abf8064895"
      },
      "source": [
        "# checking the data columns and values for some rows\n",
        "data.head()"
      ],
      "execution_count": null,
      "outputs": [
        {
          "output_type": "execute_result",
          "data": {
            "text/html": [
              "<div>\n",
              "<style scoped>\n",
              "    .dataframe tbody tr th:only-of-type {\n",
              "        vertical-align: middle;\n",
              "    }\n",
              "\n",
              "    .dataframe tbody tr th {\n",
              "        vertical-align: top;\n",
              "    }\n",
              "\n",
              "    .dataframe thead th {\n",
              "        text-align: right;\n",
              "    }\n",
              "</style>\n",
              "<table border=\"1\" class=\"dataframe\">\n",
              "  <thead>\n",
              "    <tr style=\"text-align: right;\">\n",
              "      <th></th>\n",
              "      <th>id</th>\n",
              "      <th>age</th>\n",
              "      <th>education</th>\n",
              "      <th>sex</th>\n",
              "      <th>is_smoking</th>\n",
              "      <th>cigsPerDay</th>\n",
              "      <th>BPMeds</th>\n",
              "      <th>prevalentStroke</th>\n",
              "      <th>prevalentHyp</th>\n",
              "      <th>diabetes</th>\n",
              "      <th>totChol</th>\n",
              "      <th>sysBP</th>\n",
              "      <th>diaBP</th>\n",
              "      <th>BMI</th>\n",
              "      <th>heartRate</th>\n",
              "      <th>glucose</th>\n",
              "      <th>TenYearCHD</th>\n",
              "    </tr>\n",
              "  </thead>\n",
              "  <tbody>\n",
              "    <tr>\n",
              "      <th>0</th>\n",
              "      <td>0</td>\n",
              "      <td>64</td>\n",
              "      <td>2.0</td>\n",
              "      <td>F</td>\n",
              "      <td>YES</td>\n",
              "      <td>3.0</td>\n",
              "      <td>0.0</td>\n",
              "      <td>0</td>\n",
              "      <td>0</td>\n",
              "      <td>0</td>\n",
              "      <td>221.0</td>\n",
              "      <td>148.0</td>\n",
              "      <td>85.0</td>\n",
              "      <td>NaN</td>\n",
              "      <td>90.0</td>\n",
              "      <td>80.0</td>\n",
              "      <td>1</td>\n",
              "    </tr>\n",
              "    <tr>\n",
              "      <th>1</th>\n",
              "      <td>1</td>\n",
              "      <td>36</td>\n",
              "      <td>4.0</td>\n",
              "      <td>M</td>\n",
              "      <td>NO</td>\n",
              "      <td>0.0</td>\n",
              "      <td>0.0</td>\n",
              "      <td>0</td>\n",
              "      <td>1</td>\n",
              "      <td>0</td>\n",
              "      <td>212.0</td>\n",
              "      <td>168.0</td>\n",
              "      <td>98.0</td>\n",
              "      <td>29.77</td>\n",
              "      <td>72.0</td>\n",
              "      <td>75.0</td>\n",
              "      <td>0</td>\n",
              "    </tr>\n",
              "    <tr>\n",
              "      <th>2</th>\n",
              "      <td>2</td>\n",
              "      <td>46</td>\n",
              "      <td>1.0</td>\n",
              "      <td>F</td>\n",
              "      <td>YES</td>\n",
              "      <td>10.0</td>\n",
              "      <td>0.0</td>\n",
              "      <td>0</td>\n",
              "      <td>0</td>\n",
              "      <td>0</td>\n",
              "      <td>250.0</td>\n",
              "      <td>116.0</td>\n",
              "      <td>71.0</td>\n",
              "      <td>20.35</td>\n",
              "      <td>88.0</td>\n",
              "      <td>94.0</td>\n",
              "      <td>0</td>\n",
              "    </tr>\n",
              "    <tr>\n",
              "      <th>3</th>\n",
              "      <td>3</td>\n",
              "      <td>50</td>\n",
              "      <td>1.0</td>\n",
              "      <td>M</td>\n",
              "      <td>YES</td>\n",
              "      <td>20.0</td>\n",
              "      <td>0.0</td>\n",
              "      <td>0</td>\n",
              "      <td>1</td>\n",
              "      <td>0</td>\n",
              "      <td>233.0</td>\n",
              "      <td>158.0</td>\n",
              "      <td>88.0</td>\n",
              "      <td>28.26</td>\n",
              "      <td>68.0</td>\n",
              "      <td>94.0</td>\n",
              "      <td>1</td>\n",
              "    </tr>\n",
              "    <tr>\n",
              "      <th>4</th>\n",
              "      <td>4</td>\n",
              "      <td>64</td>\n",
              "      <td>1.0</td>\n",
              "      <td>F</td>\n",
              "      <td>YES</td>\n",
              "      <td>30.0</td>\n",
              "      <td>0.0</td>\n",
              "      <td>0</td>\n",
              "      <td>0</td>\n",
              "      <td>0</td>\n",
              "      <td>241.0</td>\n",
              "      <td>136.5</td>\n",
              "      <td>85.0</td>\n",
              "      <td>26.42</td>\n",
              "      <td>70.0</td>\n",
              "      <td>77.0</td>\n",
              "      <td>0</td>\n",
              "    </tr>\n",
              "  </tbody>\n",
              "</table>\n",
              "</div>"
            ],
            "text/plain": [
              "   id  age  education sex  ...    BMI  heartRate  glucose  TenYearCHD\n",
              "0   0   64        2.0   F  ...    NaN       90.0     80.0           1\n",
              "1   1   36        4.0   M  ...  29.77       72.0     75.0           0\n",
              "2   2   46        1.0   F  ...  20.35       88.0     94.0           0\n",
              "3   3   50        1.0   M  ...  28.26       68.0     94.0           1\n",
              "4   4   64        1.0   F  ...  26.42       70.0     77.0           0\n",
              "\n",
              "[5 rows x 17 columns]"
            ]
          },
          "metadata": {},
          "execution_count": 288
        }
      ]
    },
    {
      "cell_type": "code",
      "metadata": {
        "colab": {
          "base_uri": "https://localhost:8080/"
        },
        "id": "pqea0NQ0csRV",
        "outputId": "c19d7451-cb6b-4751-afbc-50bdb6e6106f"
      },
      "source": [
        "#information of the data\n",
        "data.info"
      ],
      "execution_count": null,
      "outputs": [
        {
          "output_type": "execute_result",
          "data": {
            "text/plain": [
              "<bound method DataFrame.info of         id  age  education sex  ...    BMI  heartRate  glucose  TenYearCHD\n",
              "0        0   64        2.0   F  ...    NaN       90.0     80.0           1\n",
              "1        1   36        4.0   M  ...  29.77       72.0     75.0           0\n",
              "2        2   46        1.0   F  ...  20.35       88.0     94.0           0\n",
              "3        3   50        1.0   M  ...  28.26       68.0     94.0           1\n",
              "4        4   64        1.0   F  ...  26.42       70.0     77.0           0\n",
              "...    ...  ...        ...  ..  ...    ...        ...      ...         ...\n",
              "3385  3385   60        1.0   F  ...  29.28       70.0    103.0           0\n",
              "3386  3386   46        1.0   F  ...  21.96       80.0     84.0           0\n",
              "3387  3387   44        3.0   M  ...  28.92       73.0     72.0           1\n",
              "3388  3388   60        1.0   M  ...  23.01       80.0     85.0           0\n",
              "3389  3389   54        3.0   F  ...  29.88       79.0     92.0           0\n",
              "\n",
              "[3390 rows x 17 columns]>"
            ]
          },
          "metadata": {},
          "execution_count": 289
        }
      ]
    },
    {
      "cell_type": "code",
      "metadata": {
        "colab": {
          "base_uri": "https://localhost:8080/",
          "height": 315
        },
        "id": "zAiyRKiocvO4",
        "outputId": "885f6ace-0a7a-40dd-9c2d-c0be0cc9568c"
      },
      "source": [
        "#  data related statistics\n",
        "data.describe()"
      ],
      "execution_count": null,
      "outputs": [
        {
          "output_type": "execute_result",
          "data": {
            "text/html": [
              "<div>\n",
              "<style scoped>\n",
              "    .dataframe tbody tr th:only-of-type {\n",
              "        vertical-align: middle;\n",
              "    }\n",
              "\n",
              "    .dataframe tbody tr th {\n",
              "        vertical-align: top;\n",
              "    }\n",
              "\n",
              "    .dataframe thead th {\n",
              "        text-align: right;\n",
              "    }\n",
              "</style>\n",
              "<table border=\"1\" class=\"dataframe\">\n",
              "  <thead>\n",
              "    <tr style=\"text-align: right;\">\n",
              "      <th></th>\n",
              "      <th>id</th>\n",
              "      <th>age</th>\n",
              "      <th>education</th>\n",
              "      <th>cigsPerDay</th>\n",
              "      <th>BPMeds</th>\n",
              "      <th>prevalentStroke</th>\n",
              "      <th>prevalentHyp</th>\n",
              "      <th>diabetes</th>\n",
              "      <th>totChol</th>\n",
              "      <th>sysBP</th>\n",
              "      <th>diaBP</th>\n",
              "      <th>BMI</th>\n",
              "      <th>heartRate</th>\n",
              "      <th>glucose</th>\n",
              "      <th>TenYearCHD</th>\n",
              "    </tr>\n",
              "  </thead>\n",
              "  <tbody>\n",
              "    <tr>\n",
              "      <th>count</th>\n",
              "      <td>3390.000000</td>\n",
              "      <td>3390.000000</td>\n",
              "      <td>3303.000000</td>\n",
              "      <td>3368.000000</td>\n",
              "      <td>3346.000000</td>\n",
              "      <td>3390.000000</td>\n",
              "      <td>3390.000000</td>\n",
              "      <td>3390.000000</td>\n",
              "      <td>3352.000000</td>\n",
              "      <td>3390.00000</td>\n",
              "      <td>3390.000000</td>\n",
              "      <td>3376.000000</td>\n",
              "      <td>3389.000000</td>\n",
              "      <td>3086.000000</td>\n",
              "      <td>3390.000000</td>\n",
              "    </tr>\n",
              "    <tr>\n",
              "      <th>mean</th>\n",
              "      <td>1694.500000</td>\n",
              "      <td>49.542183</td>\n",
              "      <td>1.970936</td>\n",
              "      <td>9.069477</td>\n",
              "      <td>0.029886</td>\n",
              "      <td>0.006490</td>\n",
              "      <td>0.315339</td>\n",
              "      <td>0.025664</td>\n",
              "      <td>237.074284</td>\n",
              "      <td>132.60118</td>\n",
              "      <td>82.883038</td>\n",
              "      <td>25.794964</td>\n",
              "      <td>75.977279</td>\n",
              "      <td>82.086520</td>\n",
              "      <td>0.150737</td>\n",
              "    </tr>\n",
              "    <tr>\n",
              "      <th>std</th>\n",
              "      <td>978.753033</td>\n",
              "      <td>8.592878</td>\n",
              "      <td>1.019081</td>\n",
              "      <td>11.879078</td>\n",
              "      <td>0.170299</td>\n",
              "      <td>0.080309</td>\n",
              "      <td>0.464719</td>\n",
              "      <td>0.158153</td>\n",
              "      <td>45.247430</td>\n",
              "      <td>22.29203</td>\n",
              "      <td>12.023581</td>\n",
              "      <td>4.115449</td>\n",
              "      <td>11.971868</td>\n",
              "      <td>24.244753</td>\n",
              "      <td>0.357846</td>\n",
              "    </tr>\n",
              "    <tr>\n",
              "      <th>min</th>\n",
              "      <td>0.000000</td>\n",
              "      <td>32.000000</td>\n",
              "      <td>1.000000</td>\n",
              "      <td>0.000000</td>\n",
              "      <td>0.000000</td>\n",
              "      <td>0.000000</td>\n",
              "      <td>0.000000</td>\n",
              "      <td>0.000000</td>\n",
              "      <td>107.000000</td>\n",
              "      <td>83.50000</td>\n",
              "      <td>48.000000</td>\n",
              "      <td>15.960000</td>\n",
              "      <td>45.000000</td>\n",
              "      <td>40.000000</td>\n",
              "      <td>0.000000</td>\n",
              "    </tr>\n",
              "    <tr>\n",
              "      <th>25%</th>\n",
              "      <td>847.250000</td>\n",
              "      <td>42.000000</td>\n",
              "      <td>1.000000</td>\n",
              "      <td>0.000000</td>\n",
              "      <td>0.000000</td>\n",
              "      <td>0.000000</td>\n",
              "      <td>0.000000</td>\n",
              "      <td>0.000000</td>\n",
              "      <td>206.000000</td>\n",
              "      <td>117.00000</td>\n",
              "      <td>74.500000</td>\n",
              "      <td>23.020000</td>\n",
              "      <td>68.000000</td>\n",
              "      <td>71.000000</td>\n",
              "      <td>0.000000</td>\n",
              "    </tr>\n",
              "    <tr>\n",
              "      <th>50%</th>\n",
              "      <td>1694.500000</td>\n",
              "      <td>49.000000</td>\n",
              "      <td>2.000000</td>\n",
              "      <td>0.000000</td>\n",
              "      <td>0.000000</td>\n",
              "      <td>0.000000</td>\n",
              "      <td>0.000000</td>\n",
              "      <td>0.000000</td>\n",
              "      <td>234.000000</td>\n",
              "      <td>128.50000</td>\n",
              "      <td>82.000000</td>\n",
              "      <td>25.380000</td>\n",
              "      <td>75.000000</td>\n",
              "      <td>78.000000</td>\n",
              "      <td>0.000000</td>\n",
              "    </tr>\n",
              "    <tr>\n",
              "      <th>75%</th>\n",
              "      <td>2541.750000</td>\n",
              "      <td>56.000000</td>\n",
              "      <td>3.000000</td>\n",
              "      <td>20.000000</td>\n",
              "      <td>0.000000</td>\n",
              "      <td>0.000000</td>\n",
              "      <td>1.000000</td>\n",
              "      <td>0.000000</td>\n",
              "      <td>264.000000</td>\n",
              "      <td>144.00000</td>\n",
              "      <td>90.000000</td>\n",
              "      <td>28.040000</td>\n",
              "      <td>83.000000</td>\n",
              "      <td>87.000000</td>\n",
              "      <td>0.000000</td>\n",
              "    </tr>\n",
              "    <tr>\n",
              "      <th>max</th>\n",
              "      <td>3389.000000</td>\n",
              "      <td>70.000000</td>\n",
              "      <td>4.000000</td>\n",
              "      <td>70.000000</td>\n",
              "      <td>1.000000</td>\n",
              "      <td>1.000000</td>\n",
              "      <td>1.000000</td>\n",
              "      <td>1.000000</td>\n",
              "      <td>696.000000</td>\n",
              "      <td>295.00000</td>\n",
              "      <td>142.500000</td>\n",
              "      <td>56.800000</td>\n",
              "      <td>143.000000</td>\n",
              "      <td>394.000000</td>\n",
              "      <td>1.000000</td>\n",
              "    </tr>\n",
              "  </tbody>\n",
              "</table>\n",
              "</div>"
            ],
            "text/plain": [
              "                id          age  ...      glucose   TenYearCHD\n",
              "count  3390.000000  3390.000000  ...  3086.000000  3390.000000\n",
              "mean   1694.500000    49.542183  ...    82.086520     0.150737\n",
              "std     978.753033     8.592878  ...    24.244753     0.357846\n",
              "min       0.000000    32.000000  ...    40.000000     0.000000\n",
              "25%     847.250000    42.000000  ...    71.000000     0.000000\n",
              "50%    1694.500000    49.000000  ...    78.000000     0.000000\n",
              "75%    2541.750000    56.000000  ...    87.000000     0.000000\n",
              "max    3389.000000    70.000000  ...   394.000000     1.000000\n",
              "\n",
              "[8 rows x 15 columns]"
            ]
          },
          "metadata": {},
          "execution_count": 290
        }
      ]
    },
    {
      "cell_type": "code",
      "metadata": {
        "colab": {
          "base_uri": "https://localhost:8080/"
        },
        "id": "kDmvyzwgcxsR",
        "outputId": "fb9c4274-2610-4cf4-e9de-b4183717b75c"
      },
      "source": [
        "# name of columns\n",
        "data.columns"
      ],
      "execution_count": null,
      "outputs": [
        {
          "output_type": "execute_result",
          "data": {
            "text/plain": [
              "Index(['id', 'age', 'education', 'sex', 'is_smoking', 'cigsPerDay', 'BPMeds',\n",
              "       'prevalentStroke', 'prevalentHyp', 'diabetes', 'totChol', 'sysBP',\n",
              "       'diaBP', 'BMI', 'heartRate', 'glucose', 'TenYearCHD'],\n",
              "      dtype='object')"
            ]
          },
          "metadata": {},
          "execution_count": 291
        }
      ]
    },
    {
      "cell_type": "code",
      "metadata": {
        "colab": {
          "base_uri": "https://localhost:8080/"
        },
        "id": "c3zu4mUKjczN",
        "outputId": "101a912a-aea9-4ed0-f16f-4e02c0b3bda3"
      },
      "source": [
        "# checking if data contains null values\n",
        "data.isna().sum()"
      ],
      "execution_count": null,
      "outputs": [
        {
          "output_type": "execute_result",
          "data": {
            "text/plain": [
              "id                   0\n",
              "age                  0\n",
              "education           87\n",
              "sex                  0\n",
              "is_smoking           0\n",
              "cigsPerDay          22\n",
              "BPMeds              44\n",
              "prevalentStroke      0\n",
              "prevalentHyp         0\n",
              "diabetes             0\n",
              "totChol             38\n",
              "sysBP                0\n",
              "diaBP                0\n",
              "BMI                 14\n",
              "heartRate            1\n",
              "glucose            304\n",
              "TenYearCHD           0\n",
              "dtype: int64"
            ]
          },
          "metadata": {},
          "execution_count": 292
        }
      ]
    },
    {
      "cell_type": "code",
      "metadata": {
        "id": "lTPXI73HjigU"
      },
      "source": [
        "# replacing null values with most frequent values in case of nominal, categorical variable\n",
        "\n",
        "data['education'].fillna(data['education'].mode()[0],inplace=True)\n",
        "data['cigsPerDay'].fillna(data['cigsPerDay'].mode()[0],inplace=True)\n",
        "data['BPMeds'].fillna(data['BPMeds'].mode()[0],inplace=True)\n",
        "\n",
        "# replacing null values with mean of the values in case of numerical variable\n",
        "\n",
        "data['totChol'].fillna(data['totChol'].mean(),inplace=True)\n",
        "data['BMI'].fillna(data['BMI'].mean(),inplace=True)\n",
        "data['heartRate'].fillna(data['heartRate'].mean(),inplace=True)\n",
        "data['glucose'].fillna(data['glucose'].mean(),inplace=True)"
      ],
      "execution_count": null,
      "outputs": []
    },
    {
      "cell_type": "code",
      "metadata": {
        "colab": {
          "base_uri": "https://localhost:8080/"
        },
        "id": "oyZBNLAHlQm5",
        "outputId": "7f171f0b-5499-481b-9104-bfd5f4ec465b"
      },
      "source": [
        "# again checking if null values are totally removed or not\n",
        "data.isna().sum()"
      ],
      "execution_count": null,
      "outputs": [
        {
          "output_type": "execute_result",
          "data": {
            "text/plain": [
              "id                 0\n",
              "age                0\n",
              "education          0\n",
              "sex                0\n",
              "is_smoking         0\n",
              "cigsPerDay         0\n",
              "BPMeds             0\n",
              "prevalentStroke    0\n",
              "prevalentHyp       0\n",
              "diabetes           0\n",
              "totChol            0\n",
              "sysBP              0\n",
              "diaBP              0\n",
              "BMI                0\n",
              "heartRate          0\n",
              "glucose            0\n",
              "TenYearCHD         0\n",
              "dtype: int64"
            ]
          },
          "metadata": {},
          "execution_count": 294
        }
      ]
    },
    {
      "cell_type": "code",
      "metadata": {
        "colab": {
          "base_uri": "https://localhost:8080/"
        },
        "id": "w47ju9y7jce3",
        "outputId": "741e59b8-d72b-4d3d-f7f7-f2b2aefcb9b6"
      },
      "source": [
        "# checking how many patients were on  blood pressure medication\n",
        "data['BPMeds'].value_counts()"
      ],
      "execution_count": null,
      "outputs": [
        {
          "output_type": "execute_result",
          "data": {
            "text/plain": [
              "0.0    3290\n",
              "1.0     100\n",
              "Name: BPMeds, dtype: int64"
            ]
          },
          "metadata": {},
          "execution_count": 295
        }
      ]
    },
    {
      "cell_type": "code",
      "metadata": {
        "colab": {
          "base_uri": "https://localhost:8080/"
        },
        "id": "sU36mJNnkLtW",
        "outputId": "7f2c3f1c-003c-4eeb-80c3-dea98ba19146"
      },
      "source": [
        "# checking different Body mass index values for patients\n",
        "data['BMI'].value_counts()"
      ],
      "execution_count": null,
      "outputs": [
        {
          "output_type": "execute_result",
          "data": {
            "text/plain": [
              "22.910000    17\n",
              "22.540000    16\n",
              "22.190000    15\n",
              "25.794964    14\n",
              "23.480000    12\n",
              "             ..\n",
              "18.380000     1\n",
              "22.940000     1\n",
              "28.390000     1\n",
              "34.040000     1\n",
              "30.780000     1\n",
              "Name: BMI, Length: 1260, dtype: int64"
            ]
          },
          "metadata": {},
          "execution_count": 296
        }
      ]
    },
    {
      "cell_type": "code",
      "metadata": {
        "colab": {
          "base_uri": "https://localhost:8080/"
        },
        "id": "0jmL3ZG7khYK",
        "outputId": "7b401ad7-4846-45f7-c678-d0c6d9fa6897"
      },
      "source": [
        "# checking total cholesterol values for different patients\n",
        "\n",
        "data['totChol'].value_counts()"
      ],
      "execution_count": null,
      "outputs": [
        {
          "output_type": "execute_result",
          "data": {
            "text/plain": [
              "240.0    65\n",
              "210.0    51\n",
              "220.0    48\n",
              "260.0    46\n",
              "232.0    45\n",
              "         ..\n",
              "354.0     1\n",
              "363.0     1\n",
              "380.0     1\n",
              "124.0     1\n",
              "367.0     1\n",
              "Name: totChol, Length: 241, dtype: int64"
            ]
          },
          "metadata": {},
          "execution_count": 297
        }
      ]
    },
    {
      "cell_type": "code",
      "metadata": {
        "colab": {
          "base_uri": "https://localhost:8080/"
        },
        "id": "8kJKxPwNk26k",
        "outputId": "7aee2393-5684-470b-902f-e7d7dc874242"
      },
      "source": [
        "# checking heart rate values for different patients\n",
        "\n",
        "data['heartRate'].value_counts()"
      ],
      "execution_count": null,
      "outputs": [
        {
          "output_type": "execute_result",
          "data": {
            "text/plain": [
              "75.000000     442\n",
              "80.000000     298\n",
              "70.000000     241\n",
              "85.000000     191\n",
              "72.000000     184\n",
              "             ... \n",
              "97.000000       1\n",
              "75.977279       1\n",
              "45.000000       1\n",
              "140.000000      1\n",
              "143.000000      1\n",
              "Name: heartRate, Length: 69, dtype: int64"
            ]
          },
          "metadata": {},
          "execution_count": 298
        }
      ]
    },
    {
      "cell_type": "code",
      "metadata": {
        "colab": {
          "base_uri": "https://localhost:8080/"
        },
        "id": "SbmVHG5alH2F",
        "outputId": "0040305e-faf4-442f-9c85-f5d8c3e06799"
      },
      "source": [
        "# checking glucose values for all patients\n",
        "\n",
        "data['glucose'].value_counts()"
      ],
      "execution_count": null,
      "outputs": [
        {
          "output_type": "execute_result",
          "data": {
            "text/plain": [
              "82.08652     304\n",
              "75.00000     149\n",
              "83.00000     135\n",
              "70.00000     123\n",
              "77.00000     122\n",
              "            ... \n",
              "225.00000      1\n",
              "191.00000      1\n",
              "147.00000      1\n",
              "274.00000      1\n",
              "163.00000      1\n",
              "Name: glucose, Length: 133, dtype: int64"
            ]
          },
          "metadata": {},
          "execution_count": 299
        }
      ]
    },
    {
      "cell_type": "code",
      "metadata": {
        "colab": {
          "base_uri": "https://localhost:8080/",
          "height": 306
        },
        "id": "vLFtjm3Vczxt",
        "outputId": "1ac947c2-fb33-498d-fc86-55123a355545"
      },
      "source": [
        "# plotting graph for checking how many users are smoking or not and how it affects the target variable\n",
        "\n",
        "pd.crosstab(data['is_smoking'],data['TenYearCHD']).plot(kind='bar')"
      ],
      "execution_count": null,
      "outputs": [
        {
          "output_type": "execute_result",
          "data": {
            "text/plain": [
              "<matplotlib.axes._subplots.AxesSubplot at 0x7fe67581b4d0>"
            ]
          },
          "metadata": {},
          "execution_count": 300
        },
        {
          "output_type": "display_data",
          "data": {
            "image/png": "[encoded data removed]",
            "text/plain": [
              "<Figure size 432x288 with 1 Axes>"
            ]
          },
          "metadata": {
            "needs_background": "light"
          }
        }
      ]
    },
    {
      "cell_type": "code",
      "metadata": {
        "colab": {
          "base_uri": "https://localhost:8080/",
          "height": 295
        },
        "id": "m8W8fSlwebMV",
        "outputId": "dedfec49-dbad-4f1a-d545-df19387d0cd8"
      },
      "source": [
        "# plotting graph for checking how many persons are male or female and how it affects the target variable\n",
        "\n",
        "pd.crosstab(data['sex'],data['TenYearCHD']).plot(kind='bar')"
      ],
      "execution_count": null,
      "outputs": [
        {
          "output_type": "execute_result",
          "data": {
            "text/plain": [
              "<matplotlib.axes._subplots.AxesSubplot at 0x7fe675243ed0>"
            ]
          },
          "metadata": {},
          "execution_count": 301
        },
        {
          "output_type": "display_data",
          "data": {
            "image/png": "[encoded data removed]",
            "text/plain": [
              "<Figure size 432x288 with 1 Axes>"
            ]
          },
          "metadata": {
            "needs_background": "light"
          }
        }
      ]
    },
    {
      "cell_type": "code",
      "metadata": {
        "colab": {
          "base_uri": "https://localhost:8080/",
          "height": 309
        },
        "id": "sZwMiRVse2E-",
        "outputId": "27370e4c-de0e-4019-f991-75b9ab65f639"
      },
      "source": [
        "# plotting graph for checking the cigarettes per day values and how it affects the target variable\n",
        "\n",
        "pd.crosstab(data['cigsPerDay'],data['TenYearCHD']).plot(kind='bar')"
      ],
      "execution_count": null,
      "outputs": [
        {
          "output_type": "execute_result",
          "data": {
            "text/plain": [
              "<matplotlib.axes._subplots.AxesSubplot at 0x7fe6751be4d0>"
            ]
          },
          "metadata": {},
          "execution_count": 302
        },
        {
          "output_type": "display_data",
          "data": {
            "image/png": "[encoded data removed]",
            "text/plain": [
              "<Figure size 432x288 with 1 Axes>"
            ]
          },
          "metadata": {
            "needs_background": "light"
          }
        }
      ]
    },
    {
      "cell_type": "code",
      "metadata": {
        "colab": {
          "base_uri": "https://localhost:8080/",
          "height": 302
        },
        "id": "5vI8wbI3fhAc",
        "outputId": "b7cf052d-265a-4075-9b20-c523d9ee64ef"
      },
      "source": [
        "# plotting graph for checking  whether  patient was on blood pressure medication or not and how it affects the target variable\n",
        "\n",
        "pd.crosstab(data['BPMeds'],data['TenYearCHD']).plot(kind='bar')"
      ],
      "execution_count": null,
      "outputs": [
        {
          "output_type": "execute_result",
          "data": {
            "text/plain": [
              "<matplotlib.axes._subplots.AxesSubplot at 0x7fe67503bd10>"
            ]
          },
          "metadata": {},
          "execution_count": 303
        },
        {
          "output_type": "display_data",
          "data": {
            "image/png": "[encoded data removed]",
            "text/plain": [
              "<Figure size 432x288 with 1 Axes>"
            ]
          },
          "metadata": {
            "needs_background": "light"
          }
        }
      ]
    },
    {
      "cell_type": "code",
      "metadata": {
        "colab": {
          "base_uri": "https://localhost:8080/",
          "height": 296
        },
        "id": "fKFI5u_gfm2B",
        "outputId": "b321cf7e-b0cd-44b9-da63-7e8c1c3c0a56"
      },
      "source": [
        "# plotting graph for checking  whether or not the patient had previously had a stroke and how it affects the target variable\n",
        "\n",
        "pd.crosstab(data['prevalentStroke'],data['TenYearCHD']).plot(kind='bar')"
      ],
      "execution_count": null,
      "outputs": [
        {
          "output_type": "execute_result",
          "data": {
            "text/plain": [
              "<matplotlib.axes._subplots.AxesSubplot at 0x7fe674fa3790>"
            ]
          },
          "metadata": {},
          "execution_count": 304
        },
        {
          "output_type": "display_data",
          "data": {
            "image/png": "[encoded data removed]",
            "text/plain": [
              "<Figure size 432x288 with 1 Axes>"
            ]
          },
          "metadata": {
            "needs_background": "light"
          }
        }
      ]
    },
    {
      "cell_type": "code",
      "metadata": {
        "colab": {
          "base_uri": "https://localhost:8080/",
          "height": 293
        },
        "id": "TMNoD9BBf37I",
        "outputId": "28188dc7-2e83-4ac9-b5a3-2e009fcb922c"
      },
      "source": [
        "# plotting graph for checking if person is diabetic or not and how it affects the target variable\n",
        "\n",
        "pd.crosstab(data['diabetes'],data['TenYearCHD']).plot(kind='bar')"
      ],
      "execution_count": null,
      "outputs": [
        {
          "output_type": "execute_result",
          "data": {
            "text/plain": [
              "<matplotlib.axes._subplots.AxesSubplot at 0x7fe674f2df50>"
            ]
          },
          "metadata": {},
          "execution_count": 305
        },
        {
          "output_type": "display_data",
          "data": {
            "image/png": "[encoded data removed]",
            "text/plain": [
              "<Figure size 432x288 with 1 Axes>"
            ]
          },
          "metadata": {
            "needs_background": "light"
          }
        }
      ]
    },
    {
      "cell_type": "code",
      "metadata": {
        "colab": {
          "base_uri": "https://localhost:8080/",
          "height": 302
        },
        "id": "Na62c80RgDij",
        "outputId": "a94f7184-0fc6-4d49-91f0-8d1d3bbbeb88"
      },
      "source": [
        "# plotting graph for checking the education values and how it affects the target variable\n",
        "\n",
        "pd.crosstab(data['education'],data['TenYearCHD']).plot(kind='bar')"
      ],
      "execution_count": null,
      "outputs": [
        {
          "output_type": "execute_result",
          "data": {
            "text/plain": [
              "<matplotlib.axes._subplots.AxesSubplot at 0x7fe674f005d0>"
            ]
          },
          "metadata": {},
          "execution_count": 306
        },
        {
          "output_type": "display_data",
          "data": {
            "image/png": "[encoded data removed]",
            "text/plain": [
              "<Figure size 432x288 with 1 Axes>"
            ]
          },
          "metadata": {
            "needs_background": "light"
          }
        }
      ]
    },
    {
      "cell_type": "code",
      "metadata": {
        "colab": {
          "base_uri": "https://localhost:8080/",
          "height": 293
        },
        "id": "P0l6_dfnh-5F",
        "outputId": "f10c2c00-e90d-4033-b44f-3b27b6f829f8"
      },
      "source": [
        "# plotting graph for checking whether or not the patient was hypertensive and how it affects the target variable\n",
        "\n",
        "pd.crosstab(data['prevalentHyp'],data['TenYearCHD']).plot(kind='bar')"
      ],
      "execution_count": null,
      "outputs": [
        {
          "output_type": "execute_result",
          "data": {
            "text/plain": [
              "<matplotlib.axes._subplots.AxesSubplot at 0x7fe674f2db50>"
            ]
          },
          "metadata": {},
          "execution_count": 307
        },
        {
          "output_type": "display_data",
          "data": {
            "image/png": "[encoded data removed]",
            "text/plain": [
              "<Figure size 432x288 with 1 Axes>"
            ]
          },
          "metadata": {
            "needs_background": "light"
          }
        }
      ]
    },
    {
      "cell_type": "code",
      "metadata": {
        "colab": {
          "base_uri": "https://localhost:8080/",
          "height": 203
        },
        "id": "W_242DlSoGGi",
        "outputId": "7c9a493b-69ab-4712-9ee9-160c3de8336e"
      },
      "source": [
        "# checking data after making required changes\n",
        "data.head()"
      ],
      "execution_count": null,
      "outputs": [
        {
          "output_type": "execute_result",
          "data": {
            "text/html": [
              "<div>\n",
              "<style scoped>\n",
              "    .dataframe tbody tr th:only-of-type {\n",
              "        vertical-align: middle;\n",
              "    }\n",
              "\n",
              "    .dataframe tbody tr th {\n",
              "        vertical-align: top;\n",
              "    }\n",
              "\n",
              "    .dataframe thead th {\n",
              "        text-align: right;\n",
              "    }\n",
              "</style>\n",
              "<table border=\"1\" class=\"dataframe\">\n",
              "  <thead>\n",
              "    <tr style=\"text-align: right;\">\n",
              "      <th></th>\n",
              "      <th>id</th>\n",
              "      <th>age</th>\n",
              "      <th>education</th>\n",
              "      <th>sex</th>\n",
              "      <th>is_smoking</th>\n",
              "      <th>cigsPerDay</th>\n",
              "      <th>BPMeds</th>\n",
              "      <th>prevalentStroke</th>\n",
              "      <th>prevalentHyp</th>\n",
              "      <th>diabetes</th>\n",
              "      <th>totChol</th>\n",
              "      <th>sysBP</th>\n",
              "      <th>diaBP</th>\n",
              "      <th>BMI</th>\n",
              "      <th>heartRate</th>\n",
              "      <th>glucose</th>\n",
              "      <th>TenYearCHD</th>\n",
              "    </tr>\n",
              "  </thead>\n",
              "  <tbody>\n",
              "    <tr>\n",
              "      <th>0</th>\n",
              "      <td>0</td>\n",
              "      <td>64</td>\n",
              "      <td>2.0</td>\n",
              "      <td>F</td>\n",
              "      <td>YES</td>\n",
              "      <td>3.0</td>\n",
              "      <td>0.0</td>\n",
              "      <td>0</td>\n",
              "      <td>0</td>\n",
              "      <td>0</td>\n",
              "      <td>221.0</td>\n",
              "      <td>148.0</td>\n",
              "      <td>85.0</td>\n",
              "      <td>25.794964</td>\n",
              "      <td>90.0</td>\n",
              "      <td>80.0</td>\n",
              "      <td>1</td>\n",
              "    </tr>\n",
              "    <tr>\n",
              "      <th>1</th>\n",
              "      <td>1</td>\n",
              "      <td>36</td>\n",
              "      <td>4.0</td>\n",
              "      <td>M</td>\n",
              "      <td>NO</td>\n",
              "      <td>0.0</td>\n",
              "      <td>0.0</td>\n",
              "      <td>0</td>\n",
              "      <td>1</td>\n",
              "      <td>0</td>\n",
              "      <td>212.0</td>\n",
              "      <td>168.0</td>\n",
              "      <td>98.0</td>\n",
              "      <td>29.770000</td>\n",
              "      <td>72.0</td>\n",
              "      <td>75.0</td>\n",
              "      <td>0</td>\n",
              "    </tr>\n",
              "    <tr>\n",
              "      <th>2</th>\n",
              "      <td>2</td>\n",
              "      <td>46</td>\n",
              "      <td>1.0</td>\n",
              "      <td>F</td>\n",
              "      <td>YES</td>\n",
              "      <td>10.0</td>\n",
              "      <td>0.0</td>\n",
              "      <td>0</td>\n",
              "      <td>0</td>\n",
              "      <td>0</td>\n",
              "      <td>250.0</td>\n",
              "      <td>116.0</td>\n",
              "      <td>71.0</td>\n",
              "      <td>20.350000</td>\n",
              "      <td>88.0</td>\n",
              "      <td>94.0</td>\n",
              "      <td>0</td>\n",
              "    </tr>\n",
              "    <tr>\n",
              "      <th>3</th>\n",
              "      <td>3</td>\n",
              "      <td>50</td>\n",
              "      <td>1.0</td>\n",
              "      <td>M</td>\n",
              "      <td>YES</td>\n",
              "      <td>20.0</td>\n",
              "      <td>0.0</td>\n",
              "      <td>0</td>\n",
              "      <td>1</td>\n",
              "      <td>0</td>\n",
              "      <td>233.0</td>\n",
              "      <td>158.0</td>\n",
              "      <td>88.0</td>\n",
              "      <td>28.260000</td>\n",
              "      <td>68.0</td>\n",
              "      <td>94.0</td>\n",
              "      <td>1</td>\n",
              "    </tr>\n",
              "    <tr>\n",
              "      <th>4</th>\n",
              "      <td>4</td>\n",
              "      <td>64</td>\n",
              "      <td>1.0</td>\n",
              "      <td>F</td>\n",
              "      <td>YES</td>\n",
              "      <td>30.0</td>\n",
              "      <td>0.0</td>\n",
              "      <td>0</td>\n",
              "      <td>0</td>\n",
              "      <td>0</td>\n",
              "      <td>241.0</td>\n",
              "      <td>136.5</td>\n",
              "      <td>85.0</td>\n",
              "      <td>26.420000</td>\n",
              "      <td>70.0</td>\n",
              "      <td>77.0</td>\n",
              "      <td>0</td>\n",
              "    </tr>\n",
              "  </tbody>\n",
              "</table>\n",
              "</div>"
            ],
            "text/plain": [
              "   id  age  education sex  ...        BMI  heartRate  glucose  TenYearCHD\n",
              "0   0   64        2.0   F  ...  25.794964       90.0     80.0           1\n",
              "1   1   36        4.0   M  ...  29.770000       72.0     75.0           0\n",
              "2   2   46        1.0   F  ...  20.350000       88.0     94.0           0\n",
              "3   3   50        1.0   M  ...  28.260000       68.0     94.0           1\n",
              "4   4   64        1.0   F  ...  26.420000       70.0     77.0           0\n",
              "\n",
              "[5 rows x 17 columns]"
            ]
          },
          "metadata": {},
          "execution_count": 308
        }
      ]
    },
    {
      "cell_type": "code",
      "metadata": {
        "id": "0c-ndKZ2oHhc"
      },
      "source": [
        "# Replacing string categorical value with numerical value 0 or 1\n",
        "\n",
        "data['sex'] = data['sex'].replace({'F':1,'M':0})\n",
        "data['is_smoking'] = data['is_smoking'].replace({'YES':1,'NO':0})"
      ],
      "execution_count": null,
      "outputs": []
    },
    {
      "cell_type": "code",
      "metadata": {
        "colab": {
          "base_uri": "https://localhost:8080/",
          "height": 203
        },
        "id": "AgRzp0wuobEg",
        "outputId": "3109aa61-e057-4d9e-a1ce-a6e4514cc43d"
      },
      "source": [
        "# checking data again after changes \n",
        "\n",
        "data.head()"
      ],
      "execution_count": null,
      "outputs": [
        {
          "output_type": "execute_result",
          "data": {
            "text/html": [
              "<div>\n",
              "<style scoped>\n",
              "    .dataframe tbody tr th:only-of-type {\n",
              "        vertical-align: middle;\n",
              "    }\n",
              "\n",
              "    .dataframe tbody tr th {\n",
              "        vertical-align: top;\n",
              "    }\n",
              "\n",
              "    .dataframe thead th {\n",
              "        text-align: right;\n",
              "    }\n",
              "</style>\n",
              "<table border=\"1\" class=\"dataframe\">\n",
              "  <thead>\n",
              "    <tr style=\"text-align: right;\">\n",
              "      <th></th>\n",
              "      <th>id</th>\n",
              "      <th>age</th>\n",
              "      <th>education</th>\n",
              "      <th>sex</th>\n",
              "      <th>is_smoking</th>\n",
              "      <th>cigsPerDay</th>\n",
              "      <th>BPMeds</th>\n",
              "      <th>prevalentStroke</th>\n",
              "      <th>prevalentHyp</th>\n",
              "      <th>diabetes</th>\n",
              "      <th>totChol</th>\n",
              "      <th>sysBP</th>\n",
              "      <th>diaBP</th>\n",
              "      <th>BMI</th>\n",
              "      <th>heartRate</th>\n",
              "      <th>glucose</th>\n",
              "      <th>TenYearCHD</th>\n",
              "    </tr>\n",
              "  </thead>\n",
              "  <tbody>\n",
              "    <tr>\n",
              "      <th>0</th>\n",
              "      <td>0</td>\n",
              "      <td>64</td>\n",
              "      <td>2.0</td>\n",
              "      <td>1</td>\n",
              "      <td>1</td>\n",
              "      <td>3.0</td>\n",
              "      <td>0.0</td>\n",
              "      <td>0</td>\n",
              "      <td>0</td>\n",
              "      <td>0</td>\n",
              "      <td>221.0</td>\n",
              "      <td>148.0</td>\n",
              "      <td>85.0</td>\n",
              "      <td>25.794964</td>\n",
              "      <td>90.0</td>\n",
              "      <td>80.0</td>\n",
              "      <td>1</td>\n",
              "    </tr>\n",
              "    <tr>\n",
              "      <th>1</th>\n",
              "      <td>1</td>\n",
              "      <td>36</td>\n",
              "      <td>4.0</td>\n",
              "      <td>0</td>\n",
              "      <td>0</td>\n",
              "      <td>0.0</td>\n",
              "      <td>0.0</td>\n",
              "      <td>0</td>\n",
              "      <td>1</td>\n",
              "      <td>0</td>\n",
              "      <td>212.0</td>\n",
              "      <td>168.0</td>\n",
              "      <td>98.0</td>\n",
              "      <td>29.770000</td>\n",
              "      <td>72.0</td>\n",
              "      <td>75.0</td>\n",
              "      <td>0</td>\n",
              "    </tr>\n",
              "    <tr>\n",
              "      <th>2</th>\n",
              "      <td>2</td>\n",
              "      <td>46</td>\n",
              "      <td>1.0</td>\n",
              "      <td>1</td>\n",
              "      <td>1</td>\n",
              "      <td>10.0</td>\n",
              "      <td>0.0</td>\n",
              "      <td>0</td>\n",
              "      <td>0</td>\n",
              "      <td>0</td>\n",
              "      <td>250.0</td>\n",
              "      <td>116.0</td>\n",
              "      <td>71.0</td>\n",
              "      <td>20.350000</td>\n",
              "      <td>88.0</td>\n",
              "      <td>94.0</td>\n",
              "      <td>0</td>\n",
              "    </tr>\n",
              "    <tr>\n",
              "      <th>3</th>\n",
              "      <td>3</td>\n",
              "      <td>50</td>\n",
              "      <td>1.0</td>\n",
              "      <td>0</td>\n",
              "      <td>1</td>\n",
              "      <td>20.0</td>\n",
              "      <td>0.0</td>\n",
              "      <td>0</td>\n",
              "      <td>1</td>\n",
              "      <td>0</td>\n",
              "      <td>233.0</td>\n",
              "      <td>158.0</td>\n",
              "      <td>88.0</td>\n",
              "      <td>28.260000</td>\n",
              "      <td>68.0</td>\n",
              "      <td>94.0</td>\n",
              "      <td>1</td>\n",
              "    </tr>\n",
              "    <tr>\n",
              "      <th>4</th>\n",
              "      <td>4</td>\n",
              "      <td>64</td>\n",
              "      <td>1.0</td>\n",
              "      <td>1</td>\n",
              "      <td>1</td>\n",
              "      <td>30.0</td>\n",
              "      <td>0.0</td>\n",
              "      <td>0</td>\n",
              "      <td>0</td>\n",
              "      <td>0</td>\n",
              "      <td>241.0</td>\n",
              "      <td>136.5</td>\n",
              "      <td>85.0</td>\n",
              "      <td>26.420000</td>\n",
              "      <td>70.0</td>\n",
              "      <td>77.0</td>\n",
              "      <td>0</td>\n",
              "    </tr>\n",
              "  </tbody>\n",
              "</table>\n",
              "</div>"
            ],
            "text/plain": [
              "   id  age  education  sex  ...        BMI  heartRate  glucose  TenYearCHD\n",
              "0   0   64        2.0    1  ...  25.794964       90.0     80.0           1\n",
              "1   1   36        4.0    0  ...  29.770000       72.0     75.0           0\n",
              "2   2   46        1.0    1  ...  20.350000       88.0     94.0           0\n",
              "3   3   50        1.0    0  ...  28.260000       68.0     94.0           1\n",
              "4   4   64        1.0    1  ...  26.420000       70.0     77.0           0\n",
              "\n",
              "[5 rows x 17 columns]"
            ]
          },
          "metadata": {},
          "execution_count": 310
        }
      ]
    },
    {
      "cell_type": "code",
      "metadata": {
        "colab": {
          "base_uri": "https://localhost:8080/"
        },
        "id": "JweCQ6tFpaYk",
        "outputId": "3f3ecb7a-204f-45f4-fd7d-6454e7f216c1"
      },
      "source": [
        "# columns of dataframe\n",
        "data.columns"
      ],
      "execution_count": null,
      "outputs": [
        {
          "output_type": "execute_result",
          "data": {
            "text/plain": [
              "Index(['id', 'age', 'education', 'sex', 'is_smoking', 'cigsPerDay', 'BPMeds',\n",
              "       'prevalentStroke', 'prevalentHyp', 'diabetes', 'totChol', 'sysBP',\n",
              "       'diaBP', 'BMI', 'heartRate', 'glucose', 'TenYearCHD'],\n",
              "      dtype='object')"
            ]
          },
          "metadata": {},
          "execution_count": 311
        }
      ]
    },
    {
      "cell_type": "code",
      "metadata": {
        "id": "BQ1ddpUTrWt1"
      },
      "source": [
        "# plotting  data distribution for different columns\n",
        "\n",
        "def plot(col_name):\n",
        "  print('\\033[1m Ten Year CHD Values for different '+col_name+' values')\n",
        "  ax = data.hist(column=col_name,by=\"TenYearCHD\",bins=30)\n",
        "  "
      ],
      "execution_count": null,
      "outputs": []
    },
    {
      "cell_type": "code",
      "metadata": {
        "colab": {
          "base_uri": "https://localhost:8080/",
          "height": 300
        },
        "id": "h3ZgnopmrhtV",
        "outputId": "260bd0b1-9917-4df1-f193-78f87ca1a990"
      },
      "source": [
        "# data distribution for age column\n",
        "plot('age')"
      ],
      "execution_count": null,
      "outputs": [
        {
          "output_type": "stream",
          "name": "stdout",
          "text": [
            "\u001b[1m Ten Year CHD Values for different age values\n"
          ]
        },
        {
          "output_type": "display_data",
          "data": {
            "image/png": "[encoded data removed]",
            "text/plain": [
              "<Figure size 432x288 with 2 Axes>"
            ]
          },
          "metadata": {
            "needs_background": "light"
          }
        }
      ]
    },
    {
      "cell_type": "code",
      "metadata": {
        "colab": {
          "base_uri": "https://localhost:8080/",
          "height": 293
        },
        "id": "UGiGAzpYu1V6",
        "outputId": "55265eae-060f-49b8-9e91-61238eb982f0"
      },
      "source": [
        "# data distribution for education column\n",
        "plot('education')"
      ],
      "execution_count": null,
      "outputs": [
        {
          "output_type": "stream",
          "name": "stdout",
          "text": [
            "\u001b[1m Ten Year CHD Values for different education values\n"
          ]
        },
        {
          "output_type": "display_data",
          "data": {
            "image/png": "[encoded data removed]",
            "text/plain": [
              "<Figure size 432x288 with 2 Axes>"
            ]
          },
          "metadata": {
            "needs_background": "light"
          }
        }
      ]
    },
    {
      "cell_type": "code",
      "metadata": {
        "colab": {
          "base_uri": "https://localhost:8080/",
          "height": 309
        },
        "id": "UXoV6q21vHcd",
        "outputId": "d7c3b657-b0b9-4b86-fc28-536b9a3c2c90"
      },
      "source": [
        "# data distribution for sex column\n",
        "plot('sex')"
      ],
      "execution_count": null,
      "outputs": [
        {
          "output_type": "stream",
          "name": "stdout",
          "text": [
            "\u001b[1m Ten Year CHD Values for different sex values\n"
          ]
        },
        {
          "output_type": "display_data",
          "data": {
            "image/png": "[encoded data removed]",
            "text/plain": [
              "<Figure size 432x288 with 2 Axes>"
            ]
          },
          "metadata": {
            "needs_background": "light"
          }
        }
      ]
    },
    {
      "cell_type": "code",
      "metadata": {
        "colab": {
          "base_uri": "https://localhost:8080/",
          "height": 309
        },
        "id": "G0qeyw4NvKKB",
        "outputId": "f373074d-5a8d-4840-b370-0365252333d7"
      },
      "source": [
        "# data distribution for is_smoking column\n",
        "plot('is_smoking')"
      ],
      "execution_count": null,
      "outputs": [
        {
          "output_type": "stream",
          "name": "stdout",
          "text": [
            "\u001b[1m Ten Year CHD Values for different is_smoking values\n"
          ]
        },
        {
          "output_type": "display_data",
          "data": {
            "image/png": "[encoded data removed]",
            "text/plain": [
              "<Figure size 432x288 with 2 Axes>"
            ]
          },
          "metadata": {
            "needs_background": "light"
          }
        }
      ]
    },
    {
      "cell_type": "code",
      "metadata": {
        "colab": {
          "base_uri": "https://localhost:8080/",
          "height": 300
        },
        "id": "pnuYJuMuvNzP",
        "outputId": "791b740a-7378-471d-ccb1-909c4d23249c"
      },
      "source": [
        "# data distribution for cigsPerDay column\n",
        "plot('cigsPerDay')"
      ],
      "execution_count": null,
      "outputs": [
        {
          "output_type": "stream",
          "name": "stdout",
          "text": [
            "\u001b[1m Ten Year CHD Values for different cigsPerDay values\n"
          ]
        },
        {
          "output_type": "display_data",
          "data": {
            "image/png": "[encoded data removed]",
            "text/plain": [
              "<Figure size 432x288 with 2 Axes>"
            ]
          },
          "metadata": {
            "needs_background": "light"
          }
        }
      ]
    },
    {
      "cell_type": "code",
      "metadata": {
        "colab": {
          "base_uri": "https://localhost:8080/",
          "height": 309
        },
        "id": "AWktfu99vQ98",
        "outputId": "80edbac7-cb1a-424f-f6fa-c0bc179d7a98"
      },
      "source": [
        "\n",
        "# data distribution for BPMeds column\n",
        "plot('BPMeds')"
      ],
      "execution_count": null,
      "outputs": [
        {
          "output_type": "stream",
          "name": "stdout",
          "text": [
            "\u001b[1m Ten Year CHD Values for different BPMeds values\n"
          ]
        },
        {
          "output_type": "display_data",
          "data": {
            "image/png": "[encoded data removed]",
            "text/plain": [
              "<Figure size 432x288 with 2 Axes>"
            ]
          },
          "metadata": {
            "needs_background": "light"
          }
        }
      ]
    },
    {
      "cell_type": "code",
      "metadata": {
        "colab": {
          "base_uri": "https://localhost:8080/",
          "height": 309
        },
        "id": "aohmsIVlvTwC",
        "outputId": "75090b05-d3c8-492a-af15-647387c6b29a"
      },
      "source": [
        "# data distribution for prevalentStroke column\n",
        "plot('prevalentStroke')"
      ],
      "execution_count": null,
      "outputs": [
        {
          "output_type": "stream",
          "name": "stdout",
          "text": [
            "\u001b[1m Ten Year CHD Values for different prevalentStroke values\n"
          ]
        },
        {
          "output_type": "display_data",
          "data": {
            "image/png": "[encoded data removed]",
            "text/plain": [
              "<Figure size 432x288 with 2 Axes>"
            ]
          },
          "metadata": {
            "needs_background": "light"
          }
        }
      ]
    },
    {
      "cell_type": "code",
      "metadata": {
        "colab": {
          "base_uri": "https://localhost:8080/",
          "height": 309
        },
        "id": "ltH1AxhMvXFN",
        "outputId": "45a1109e-a17d-43e3-f02d-b3d91a4bb52d"
      },
      "source": [
        "# data distribution for prevalentHyp column\n",
        "plot('prevalentHyp')"
      ],
      "execution_count": null,
      "outputs": [
        {
          "output_type": "stream",
          "name": "stdout",
          "text": [
            "\u001b[1m Ten Year CHD Values for different prevalentHyp values\n"
          ]
        },
        {
          "output_type": "display_data",
          "data": {
            "image/png": "[encoded data removed]",
            "text/plain": [
              "<Figure size 432x288 with 2 Axes>"
            ]
          },
          "metadata": {
            "needs_background": "light"
          }
        }
      ]
    },
    {
      "cell_type": "code",
      "metadata": {
        "colab": {
          "base_uri": "https://localhost:8080/",
          "height": 309
        },
        "id": "JcMEpon9vbQO",
        "outputId": "6b717588-9518-483d-a604-3a09bae84783"
      },
      "source": [
        "# data distribution for diabetes column\n",
        "plot('diabetes')"
      ],
      "execution_count": null,
      "outputs": [
        {
          "output_type": "stream",
          "name": "stdout",
          "text": [
            "\u001b[1m Ten Year CHD Values for different diabetes values\n"
          ]
        },
        {
          "output_type": "display_data",
          "data": {
            "image/png": "[encoded data removed]",
            "text/plain": [
              "<Figure size 432x288 with 2 Axes>"
            ]
          },
          "metadata": {
            "needs_background": "light"
          }
        }
      ]
    },
    {
      "cell_type": "code",
      "metadata": {
        "colab": {
          "base_uri": "https://localhost:8080/",
          "height": 306
        },
        "id": "DN6Kh0i6verf",
        "outputId": "b5e4a627-78e0-4024-da06-39b657d3bfcb"
      },
      "source": [
        "# data distribution for total cholesterol column\n",
        "plot('totChol')"
      ],
      "execution_count": null,
      "outputs": [
        {
          "output_type": "stream",
          "name": "stdout",
          "text": [
            "\u001b[1m Ten Year CHD Values for different totChol values\n"
          ]
        },
        {
          "output_type": "display_data",
          "data": {
            "image/png": "[encoded data removed]",
            "text/plain": [
              "<Figure size 432x288 with 2 Axes>"
            ]
          },
          "metadata": {
            "needs_background": "light"
          }
        }
      ]
    },
    {
      "cell_type": "code",
      "metadata": {
        "colab": {
          "base_uri": "https://localhost:8080/",
          "height": 306
        },
        "id": "FwGDYMknvh4n",
        "outputId": "b594a417-f9d6-42c3-bdbb-5bfd6f3f1822"
      },
      "source": [
        "# data distribution for total systolic blood pressure column\n",
        "plot('sysBP')"
      ],
      "execution_count": null,
      "outputs": [
        {
          "output_type": "stream",
          "name": "stdout",
          "text": [
            "\u001b[1m Ten Year CHD Values for different sysBP values\n"
          ]
        },
        {
          "output_type": "display_data",
          "data": {
            "image/png": "[encoded data removed]",
            "text/plain": [
              "<Figure size 432x288 with 2 Axes>"
            ]
          },
          "metadata": {
            "needs_background": "light"
          }
        }
      ]
    },
    {
      "cell_type": "code",
      "metadata": {
        "colab": {
          "base_uri": "https://localhost:8080/",
          "height": 306
        },
        "id": "QcfSV_YLvkaE",
        "outputId": "f871b010-3057-4db2-efe0-38c7aab7f92b"
      },
      "source": [
        "# data distribution for diastolic blood pressure column\n",
        "plot('diaBP')"
      ],
      "execution_count": null,
      "outputs": [
        {
          "output_type": "stream",
          "name": "stdout",
          "text": [
            "\u001b[1m Ten Year CHD Values for different diaBP values\n"
          ]
        },
        {
          "output_type": "display_data",
          "data": {
            "image/png": "[encoded data removed]",
            "text/plain": [
              "<Figure size 432x288 with 2 Axes>"
            ]
          },
          "metadata": {
            "needs_background": "light"
          }
        }
      ]
    },
    {
      "cell_type": "code",
      "metadata": {
        "colab": {
          "base_uri": "https://localhost:8080/",
          "height": 300
        },
        "id": "9IjbSIhavnPI",
        "outputId": "5fd67bae-7b56-4faf-f678-b8bc5c564645"
      },
      "source": [
        "# data distribution for Body Mass Index column\n",
        "plot('BMI')"
      ],
      "execution_count": null,
      "outputs": [
        {
          "output_type": "stream",
          "name": "stdout",
          "text": [
            "\u001b[1m Ten Year CHD Values for different BMI values\n"
          ]
        },
        {
          "output_type": "display_data",
          "data": {
            "image/png": "[encoded data removed]",
            "text/plain": [
              "<Figure size 432x288 with 2 Axes>"
            ]
          },
          "metadata": {
            "needs_background": "light"
          }
        }
      ]
    },
    {
      "cell_type": "code",
      "metadata": {
        "colab": {
          "base_uri": "https://localhost:8080/",
          "height": 306
        },
        "id": "i3x6_hqCvp9Z",
        "outputId": "0a68f875-51a7-4ef5-f26b-c1f9c9596c47"
      },
      "source": [
        "# data distribution for heartrate column\n",
        "plot('heartRate')"
      ],
      "execution_count": null,
      "outputs": [
        {
          "output_type": "stream",
          "name": "stdout",
          "text": [
            "\u001b[1m Ten Year CHD Values for different heartRate values\n"
          ]
        },
        {
          "output_type": "display_data",
          "data": {
            "image/png": "[encoded data removed]",
            "text/plain": [
              "<Figure size 432x288 with 2 Axes>"
            ]
          },
          "metadata": {
            "needs_background": "light"
          }
        }
      ]
    },
    {
      "cell_type": "code",
      "metadata": {
        "colab": {
          "base_uri": "https://localhost:8080/",
          "height": 306
        },
        "id": "9XisNcKgvtKg",
        "outputId": "ed2fd497-c091-454b-fc09-88cdd76f3ee5"
      },
      "source": [
        "# data distribution for glucose column\n",
        "plot('glucose')"
      ],
      "execution_count": null,
      "outputs": [
        {
          "output_type": "stream",
          "name": "stdout",
          "text": [
            "\u001b[1m Ten Year CHD Values for different glucose values\n"
          ]
        },
        {
          "output_type": "display_data",
          "data": {
            "image/png": "[encoded data removed]",
            "text/plain": [
              "<Figure size 432x288 with 2 Axes>"
            ]
          },
          "metadata": {
            "needs_background": "light"
          }
        }
      ]
    },
    {
      "cell_type": "code",
      "metadata": {
        "id": "eBwQOiISydcb"
      },
      "source": [
        "# function to boxplot column to check outliers\n",
        "\n",
        "def boxplotvar(column_name,ax_1):\n",
        "  sns.boxplot(data=data,y=column_name,x=\"TenYearCHD\",orient=\"v\",ax=ax_1,color = 'blue')"
      ],
      "execution_count": null,
      "outputs": []
    },
    {
      "cell_type": "code",
      "metadata": {
        "colab": {
          "base_uri": "https://localhost:8080/",
          "height": 294
        },
        "id": "ySV1mRcQye4g",
        "outputId": "d0a24fce-a510-47e9-c788-bbf99bf2ff9e"
      },
      "source": [
        "# plotting different column values to check outliers\n",
        "\n",
        "fig, (ax1,ax2,ax3,ax4) = plt.subplots(1,4, figsize=(20,4))\n",
        "boxplotvar('BMI',ax1)\n",
        "boxplotvar('totChol',ax2)\n",
        "boxplotvar('sysBP',ax3)\n",
        "boxplotvar('glucose',ax4)\n",
        "fig.tight_layout() "
      ],
      "execution_count": null,
      "outputs": [
        {
          "output_type": "display_data",
          "data": {
            "image/png": "[encoded data removed]",
            "text/plain": [
              "<Figure size 1440x288 with 4 Axes>"
            ]
          },
          "metadata": {
            "needs_background": "light"
          }
        }
      ]
    },
    {
      "cell_type": "code",
      "metadata": {
        "colab": {
          "base_uri": "https://localhost:8080/",
          "height": 296
        },
        "id": "Wqx1yKteY_ST",
        "outputId": "e356913d-2360-48bd-db05-ef0ea63bd96c"
      },
      "source": [
        "# plotting different column values to check outliers\n",
        "\n",
        "fig, (ax1,ax2,ax3,ax4) = plt.subplots(1,4, figsize=(25,4))\n",
        "sns.boxplot(x=data['heartRate'],ax=ax1,color = 'orange')\n",
        "sns.boxplot(x=data['cigsPerDay'],ax=ax2,color = 'orange')\n",
        "sns.boxplot(x=data['diaBP'],ax=ax3,color = 'orange')\n",
        "sns.boxplot(x=data['age'],ax=ax4,color = 'orange')\n"
      ],
      "execution_count": null,
      "outputs": [
        {
          "output_type": "execute_result",
          "data": {
            "text/plain": [
              "<matplotlib.axes._subplots.AxesSubplot at 0x7fe6748caf10>"
            ]
          },
          "metadata": {},
          "execution_count": 330
        },
        {
          "output_type": "display_data",
          "data": {
            "image/png": "[encoded data removed]",
            "text/plain": [
              "<Figure size 1800x288 with 4 Axes>"
            ]
          },
          "metadata": {
            "needs_background": "light"
          }
        }
      ]
    },
    {
      "cell_type": "code",
      "metadata": {
        "id": "m5F4BpFAoiYC"
      },
      "source": [
        "# splitting dataset into training and test data\n",
        "train,test=train_test_split(data,test_size=0.2,random_state=0)"
      ],
      "execution_count": null,
      "outputs": []
    },
    {
      "cell_type": "code",
      "metadata": {
        "id": "kse4wYGFotvf"
      },
      "source": [
        "# selecting independent and dependent features \n",
        "\n",
        "independent_variables = ['age','education', 'sex', 'is_smoking', 'cigsPerDay', 'BPMeds',\n",
        "       'prevalentStroke', 'prevalentHyp', 'diabetes', 'totChol', 'sysBP',\n",
        "       'diaBP', 'BMI', 'heartRate', 'glucose']\n",
        "dependent_variables = ['TenYearCHD']       \n",
        "train_independent = train[independent_variables]\n",
        "train_dependent =  train[dependent_variables]"
      ],
      "execution_count": null,
      "outputs": []
    },
    {
      "cell_type": "code",
      "metadata": {
        "colab": {
          "base_uri": "https://localhost:8080/",
          "height": 203
        },
        "id": "Zd-4yDpCqC0I",
        "outputId": "7058bebb-69ad-4616-c8d9-433c91d89346"
      },
      "source": [
        "#  independent training data \n",
        "\n",
        "train_independent.head()"
      ],
      "execution_count": null,
      "outputs": [
        {
          "output_type": "execute_result",
          "data": {
            "text/html": [
              "<div>\n",
              "<style scoped>\n",
              "    .dataframe tbody tr th:only-of-type {\n",
              "        vertical-align: middle;\n",
              "    }\n",
              "\n",
              "    .dataframe tbody tr th {\n",
              "        vertical-align: top;\n",
              "    }\n",
              "\n",
              "    .dataframe thead th {\n",
              "        text-align: right;\n",
              "    }\n",
              "</style>\n",
              "<table border=\"1\" class=\"dataframe\">\n",
              "  <thead>\n",
              "    <tr style=\"text-align: right;\">\n",
              "      <th></th>\n",
              "      <th>age</th>\n",
              "      <th>education</th>\n",
              "      <th>sex</th>\n",
              "      <th>is_smoking</th>\n",
              "      <th>cigsPerDay</th>\n",
              "      <th>BPMeds</th>\n",
              "      <th>prevalentStroke</th>\n",
              "      <th>prevalentHyp</th>\n",
              "      <th>diabetes</th>\n",
              "      <th>totChol</th>\n",
              "      <th>sysBP</th>\n",
              "      <th>diaBP</th>\n",
              "      <th>BMI</th>\n",
              "      <th>heartRate</th>\n",
              "      <th>glucose</th>\n",
              "    </tr>\n",
              "  </thead>\n",
              "  <tbody>\n",
              "    <tr>\n",
              "      <th>2134</th>\n",
              "      <td>54</td>\n",
              "      <td>1.0</td>\n",
              "      <td>1</td>\n",
              "      <td>0</td>\n",
              "      <td>0.0</td>\n",
              "      <td>0.0</td>\n",
              "      <td>0</td>\n",
              "      <td>0</td>\n",
              "      <td>0</td>\n",
              "      <td>272.0</td>\n",
              "      <td>146.0</td>\n",
              "      <td>95.0</td>\n",
              "      <td>23.66</td>\n",
              "      <td>72.0</td>\n",
              "      <td>80.0</td>\n",
              "    </tr>\n",
              "    <tr>\n",
              "      <th>1161</th>\n",
              "      <td>37</td>\n",
              "      <td>2.0</td>\n",
              "      <td>0</td>\n",
              "      <td>1</td>\n",
              "      <td>9.0</td>\n",
              "      <td>0.0</td>\n",
              "      <td>0</td>\n",
              "      <td>0</td>\n",
              "      <td>0</td>\n",
              "      <td>237.0</td>\n",
              "      <td>102.0</td>\n",
              "      <td>72.0</td>\n",
              "      <td>19.68</td>\n",
              "      <td>67.0</td>\n",
              "      <td>83.0</td>\n",
              "    </tr>\n",
              "    <tr>\n",
              "      <th>137</th>\n",
              "      <td>39</td>\n",
              "      <td>1.0</td>\n",
              "      <td>0</td>\n",
              "      <td>1</td>\n",
              "      <td>43.0</td>\n",
              "      <td>0.0</td>\n",
              "      <td>0</td>\n",
              "      <td>1</td>\n",
              "      <td>0</td>\n",
              "      <td>291.0</td>\n",
              "      <td>177.5</td>\n",
              "      <td>100.0</td>\n",
              "      <td>25.74</td>\n",
              "      <td>67.0</td>\n",
              "      <td>91.0</td>\n",
              "    </tr>\n",
              "    <tr>\n",
              "      <th>2170</th>\n",
              "      <td>55</td>\n",
              "      <td>1.0</td>\n",
              "      <td>1</td>\n",
              "      <td>0</td>\n",
              "      <td>0.0</td>\n",
              "      <td>0.0</td>\n",
              "      <td>0</td>\n",
              "      <td>0</td>\n",
              "      <td>0</td>\n",
              "      <td>225.0</td>\n",
              "      <td>136.5</td>\n",
              "      <td>85.5</td>\n",
              "      <td>20.56</td>\n",
              "      <td>60.0</td>\n",
              "      <td>90.0</td>\n",
              "    </tr>\n",
              "    <tr>\n",
              "      <th>2876</th>\n",
              "      <td>59</td>\n",
              "      <td>2.0</td>\n",
              "      <td>0</td>\n",
              "      <td>0</td>\n",
              "      <td>0.0</td>\n",
              "      <td>0.0</td>\n",
              "      <td>0</td>\n",
              "      <td>0</td>\n",
              "      <td>0</td>\n",
              "      <td>237.0</td>\n",
              "      <td>131.5</td>\n",
              "      <td>84.0</td>\n",
              "      <td>24.17</td>\n",
              "      <td>90.0</td>\n",
              "      <td>94.0</td>\n",
              "    </tr>\n",
              "  </tbody>\n",
              "</table>\n",
              "</div>"
            ],
            "text/plain": [
              "      age  education  sex  is_smoking  ...  diaBP    BMI  heartRate  glucose\n",
              "2134   54        1.0    1           0  ...   95.0  23.66       72.0     80.0\n",
              "1161   37        2.0    0           1  ...   72.0  19.68       67.0     83.0\n",
              "137    39        1.0    0           1  ...  100.0  25.74       67.0     91.0\n",
              "2170   55        1.0    1           0  ...   85.5  20.56       60.0     90.0\n",
              "2876   59        2.0    0           0  ...   84.0  24.17       90.0     94.0\n",
              "\n",
              "[5 rows x 15 columns]"
            ]
          },
          "metadata": {},
          "execution_count": 333
        }
      ]
    },
    {
      "cell_type": "code",
      "metadata": {
        "colab": {
          "base_uri": "https://localhost:8080/",
          "height": 203
        },
        "id": "fLPuOq0fqHNL",
        "outputId": "5802defe-6878-4688-baa8-7af84ec9f72e"
      },
      "source": [
        "# dependent training data\n",
        "\n",
        "train_dependent.head()"
      ],
      "execution_count": null,
      "outputs": [
        {
          "output_type": "execute_result",
          "data": {
            "text/html": [
              "<div>\n",
              "<style scoped>\n",
              "    .dataframe tbody tr th:only-of-type {\n",
              "        vertical-align: middle;\n",
              "    }\n",
              "\n",
              "    .dataframe tbody tr th {\n",
              "        vertical-align: top;\n",
              "    }\n",
              "\n",
              "    .dataframe thead th {\n",
              "        text-align: right;\n",
              "    }\n",
              "</style>\n",
              "<table border=\"1\" class=\"dataframe\">\n",
              "  <thead>\n",
              "    <tr style=\"text-align: right;\">\n",
              "      <th></th>\n",
              "      <th>TenYearCHD</th>\n",
              "    </tr>\n",
              "  </thead>\n",
              "  <tbody>\n",
              "    <tr>\n",
              "      <th>2134</th>\n",
              "      <td>0</td>\n",
              "    </tr>\n",
              "    <tr>\n",
              "      <th>1161</th>\n",
              "      <td>0</td>\n",
              "    </tr>\n",
              "    <tr>\n",
              "      <th>137</th>\n",
              "      <td>0</td>\n",
              "    </tr>\n",
              "    <tr>\n",
              "      <th>2170</th>\n",
              "      <td>0</td>\n",
              "    </tr>\n",
              "    <tr>\n",
              "      <th>2876</th>\n",
              "      <td>1</td>\n",
              "    </tr>\n",
              "  </tbody>\n",
              "</table>\n",
              "</div>"
            ],
            "text/plain": [
              "      TenYearCHD\n",
              "2134           0\n",
              "1161           0\n",
              "137            0\n",
              "2170           0\n",
              "2876           1"
            ]
          },
          "metadata": {},
          "execution_count": 334
        }
      ]
    },
    {
      "cell_type": "code",
      "metadata": {
        "colab": {
          "base_uri": "https://localhost:8080/",
          "height": 682
        },
        "id": "X50LagavrQOs",
        "outputId": "7ab8141d-5ab3-4009-884e-ebe9c6e5fc7d"
      },
      "source": [
        "# checking correlation between variables\n",
        "\n",
        "correlation_calc = data[independent_variables].corr()\n",
        "plt.figure(figsize=(14, 10))\n",
        "sns.heatmap(correlation_calc,  annot=True, cmap=\"YlGnBu\")"
      ],
      "execution_count": null,
      "outputs": [
        {
          "output_type": "execute_result",
          "data": {
            "text/plain": [
              "<matplotlib.axes._subplots.AxesSubplot at 0x7fe675676050>"
            ]
          },
          "metadata": {},
          "execution_count": 335
        },
        {
          "output_type": "display_data",
          "data": {
            "image/png": "[encoded data removed]",
            "text/plain": [
              "<Figure size 1008x720 with 2 Axes>"
            ]
          },
          "metadata": {
            "needs_background": "light"
          }
        }
      ]
    },
    {
      "cell_type": "markdown",
      "metadata": {
        "id": "LB3DiKsiqnKL"
      },
      "source": [
        "#**Random Forest Classifier**"
      ]
    },
    {
      "cell_type": "code",
      "metadata": {
        "colab": {
          "base_uri": "https://localhost:8080/"
        },
        "id": "8xKkrzEhvlU4",
        "outputId": "73c56f0c-436a-4649-e056-763970448ec3"
      },
      "source": [
        "#  Random Forest Classifier for training data\n",
        "\n",
        "rf_all_features = RandomForestClassifier(random_state=1, n_estimators=1000, max_depth=5)\n",
        "rf_all_features.fit(train_independent, train_dependent)"
      ],
      "execution_count": null,
      "outputs": [
        {
          "output_type": "stream",
          "name": "stderr",
          "text": [
            "/usr/local/lib/python3.7/dist-packages/ipykernel_launcher.py:4: DataConversionWarning: A column-vector y was passed when a 1d array was expected. Please change the shape of y to (n_samples,), for example using ravel().\n",
            "  after removing the cwd from sys.path.\n"
          ]
        },
        {
          "output_type": "execute_result",
          "data": {
            "text/plain": [
              "RandomForestClassifier(bootstrap=True, ccp_alpha=0.0, class_weight=None,\n",
              "                       criterion='gini', max_depth=5, max_features='auto',\n",
              "                       max_leaf_nodes=None, max_samples=None,\n",
              "                       min_impurity_decrease=0.0, min_impurity_split=None,\n",
              "                       min_samples_leaf=1, min_samples_split=2,\n",
              "                       min_weight_fraction_leaf=0.0, n_estimators=1000,\n",
              "                       n_jobs=None, oob_score=False, random_state=1, verbose=0,\n",
              "                       warm_start=False)"
            ]
          },
          "metadata": {},
          "execution_count": 336
        }
      ]
    },
    {
      "cell_type": "code",
      "metadata": {
        "colab": {
          "base_uri": "https://localhost:8080/"
        },
        "id": "WVZWJIFDwFzA",
        "outputId": "ccd454f5-b00a-454c-8533-77dff06a4def"
      },
      "source": [
        "# getting accuracy score\n",
        "\n",
        "accuracy_score(test[dependent_variables], rf_all_features.predict(test[independent_variables]))"
      ],
      "execution_count": null,
      "outputs": [
        {
          "output_type": "execute_result",
          "data": {
            "text/plain": [
              "0.8392330383480826"
            ]
          },
          "metadata": {},
          "execution_count": 337
        }
      ]
    },
    {
      "cell_type": "code",
      "metadata": {
        "id": "9IRjnEixxAJV",
        "colab": {
          "base_uri": "https://localhost:8080/"
        },
        "outputId": "118ed567-6279-4d2e-8f82-b19097e3853b"
      },
      "source": [
        "# using boruta selector for  selecting important features to train model\n",
        "import warnings\n",
        "warnings.filterwarnings('ignore')\n",
        "rfc = RandomForestClassifier(random_state=1, n_estimators=1000, max_depth=5)\n",
        "boruta_selector = BorutaPy(rfc, n_estimators='auto', verbose=2, random_state=1)\n",
        "boruta_selector.fit(np.array(train_independent), np.array(train_dependent.values))  "
      ],
      "execution_count": null,
      "outputs": [
        {
          "output_type": "stream",
          "name": "stdout",
          "text": [
            "Iteration: \t1 / 100\n",
            "Confirmed: \t0\n",
            "Tentative: \t15\n",
            "Rejected: \t0\n",
            "Iteration: \t2 / 100\n",
            "Confirmed: \t0\n",
            "Tentative: \t15\n",
            "Rejected: \t0\n",
            "Iteration: \t3 / 100\n",
            "Confirmed: \t0\n",
            "Tentative: \t15\n",
            "Rejected: \t0\n",
            "Iteration: \t4 / 100\n",
            "Confirmed: \t0\n",
            "Tentative: \t15\n",
            "Rejected: \t0\n",
            "Iteration: \t5 / 100\n",
            "Confirmed: \t0\n",
            "Tentative: \t15\n",
            "Rejected: \t0\n",
            "Iteration: \t6 / 100\n",
            "Confirmed: \t0\n",
            "Tentative: \t15\n",
            "Rejected: \t0\n",
            "Iteration: \t7 / 100\n",
            "Confirmed: \t0\n",
            "Tentative: \t15\n",
            "Rejected: \t0\n",
            "Iteration: \t8 / 100\n",
            "Confirmed: \t11\n",
            "Tentative: \t4\n",
            "Rejected: \t0\n",
            "Iteration: \t9 / 100\n",
            "Confirmed: \t11\n",
            "Tentative: \t3\n",
            "Rejected: \t1\n",
            "Iteration: \t10 / 100\n",
            "Confirmed: \t11\n",
            "Tentative: \t3\n",
            "Rejected: \t1\n",
            "Iteration: \t11 / 100\n",
            "Confirmed: \t11\n",
            "Tentative: \t3\n",
            "Rejected: \t1\n",
            "Iteration: \t12 / 100\n",
            "Confirmed: \t13\n",
            "Tentative: \t1\n",
            "Rejected: \t1\n",
            "Iteration: \t13 / 100\n",
            "Confirmed: \t13\n",
            "Tentative: \t1\n",
            "Rejected: \t1\n",
            "Iteration: \t14 / 100\n",
            "Confirmed: \t13\n",
            "Tentative: \t1\n",
            "Rejected: \t1\n",
            "Iteration: \t15 / 100\n",
            "Confirmed: \t13\n",
            "Tentative: \t1\n",
            "Rejected: \t1\n",
            "Iteration: \t16 / 100\n",
            "Confirmed: \t13\n",
            "Tentative: \t1\n",
            "Rejected: \t1\n",
            "Iteration: \t17 / 100\n",
            "Confirmed: \t13\n",
            "Tentative: \t1\n",
            "Rejected: \t1\n",
            "Iteration: \t18 / 100\n",
            "Confirmed: \t13\n",
            "Tentative: \t1\n",
            "Rejected: \t1\n",
            "Iteration: \t19 / 100\n",
            "Confirmed: \t13\n",
            "Tentative: \t1\n",
            "Rejected: \t1\n",
            "Iteration: \t20 / 100\n",
            "Confirmed: \t13\n",
            "Tentative: \t1\n",
            "Rejected: \t1\n",
            "Iteration: \t21 / 100\n",
            "Confirmed: \t13\n",
            "Tentative: \t1\n",
            "Rejected: \t1\n",
            "Iteration: \t22 / 100\n",
            "Confirmed: \t13\n",
            "Tentative: \t1\n",
            "Rejected: \t1\n",
            "Iteration: \t23 / 100\n",
            "Confirmed: \t13\n",
            "Tentative: \t1\n",
            "Rejected: \t1\n",
            "Iteration: \t24 / 100\n",
            "Confirmed: \t13\n",
            "Tentative: \t1\n",
            "Rejected: \t1\n",
            "Iteration: \t25 / 100\n",
            "Confirmed: \t13\n",
            "Tentative: \t1\n",
            "Rejected: \t1\n",
            "Iteration: \t26 / 100\n",
            "Confirmed: \t13\n",
            "Tentative: \t1\n",
            "Rejected: \t1\n",
            "Iteration: \t27 / 100\n",
            "Confirmed: \t13\n",
            "Tentative: \t1\n",
            "Rejected: \t1\n",
            "Iteration: \t28 / 100\n",
            "Confirmed: \t13\n",
            "Tentative: \t1\n",
            "Rejected: \t1\n",
            "Iteration: \t29 / 100\n",
            "Confirmed: \t13\n",
            "Tentative: \t1\n",
            "Rejected: \t1\n",
            "Iteration: \t30 / 100\n",
            "Confirmed: \t13\n",
            "Tentative: \t1\n",
            "Rejected: \t1\n",
            "Iteration: \t31 / 100\n",
            "Confirmed: \t13\n",
            "Tentative: \t1\n",
            "Rejected: \t1\n",
            "Iteration: \t32 / 100\n",
            "Confirmed: \t13\n",
            "Tentative: \t1\n",
            "Rejected: \t1\n",
            "Iteration: \t33 / 100\n",
            "Confirmed: \t13\n",
            "Tentative: \t1\n",
            "Rejected: \t1\n",
            "Iteration: \t34 / 100\n",
            "Confirmed: \t13\n",
            "Tentative: \t1\n",
            "Rejected: \t1\n",
            "Iteration: \t35 / 100\n",
            "Confirmed: \t13\n",
            "Tentative: \t1\n",
            "Rejected: \t1\n",
            "Iteration: \t36 / 100\n",
            "Confirmed: \t13\n",
            "Tentative: \t1\n",
            "Rejected: \t1\n",
            "Iteration: \t37 / 100\n",
            "Confirmed: \t13\n",
            "Tentative: \t1\n",
            "Rejected: \t1\n",
            "Iteration: \t38 / 100\n",
            "Confirmed: \t13\n",
            "Tentative: \t1\n",
            "Rejected: \t1\n",
            "Iteration: \t39 / 100\n",
            "Confirmed: \t13\n",
            "Tentative: \t1\n",
            "Rejected: \t1\n",
            "Iteration: \t40 / 100\n",
            "Confirmed: \t13\n",
            "Tentative: \t1\n",
            "Rejected: \t1\n",
            "Iteration: \t41 / 100\n",
            "Confirmed: \t13\n",
            "Tentative: \t1\n",
            "Rejected: \t1\n",
            "Iteration: \t42 / 100\n",
            "Confirmed: \t13\n",
            "Tentative: \t1\n",
            "Rejected: \t1\n",
            "Iteration: \t43 / 100\n",
            "Confirmed: \t13\n",
            "Tentative: \t1\n",
            "Rejected: \t1\n",
            "Iteration: \t44 / 100\n",
            "Confirmed: \t13\n",
            "Tentative: \t1\n",
            "Rejected: \t1\n",
            "Iteration: \t45 / 100\n",
            "Confirmed: \t13\n",
            "Tentative: \t1\n",
            "Rejected: \t1\n",
            "Iteration: \t46 / 100\n",
            "Confirmed: \t13\n",
            "Tentative: \t1\n",
            "Rejected: \t1\n",
            "Iteration: \t47 / 100\n",
            "Confirmed: \t13\n",
            "Tentative: \t1\n",
            "Rejected: \t1\n",
            "Iteration: \t48 / 100\n",
            "Confirmed: \t13\n",
            "Tentative: \t1\n",
            "Rejected: \t1\n",
            "Iteration: \t49 / 100\n",
            "Confirmed: \t13\n",
            "Tentative: \t1\n",
            "Rejected: \t1\n",
            "Iteration: \t50 / 100\n",
            "Confirmed: \t13\n",
            "Tentative: \t1\n",
            "Rejected: \t1\n",
            "Iteration: \t51 / 100\n",
            "Confirmed: \t13\n",
            "Tentative: \t1\n",
            "Rejected: \t1\n",
            "Iteration: \t52 / 100\n",
            "Confirmed: \t13\n",
            "Tentative: \t1\n",
            "Rejected: \t1\n",
            "Iteration: \t53 / 100\n",
            "Confirmed: \t13\n",
            "Tentative: \t1\n",
            "Rejected: \t1\n",
            "Iteration: \t54 / 100\n",
            "Confirmed: \t13\n",
            "Tentative: \t1\n",
            "Rejected: \t1\n",
            "Iteration: \t55 / 100\n",
            "Confirmed: \t13\n",
            "Tentative: \t1\n",
            "Rejected: \t1\n",
            "Iteration: \t56 / 100\n",
            "Confirmed: \t13\n",
            "Tentative: \t1\n",
            "Rejected: \t1\n",
            "Iteration: \t57 / 100\n",
            "Confirmed: \t13\n",
            "Tentative: \t1\n",
            "Rejected: \t1\n",
            "Iteration: \t58 / 100\n",
            "Confirmed: \t13\n",
            "Tentative: \t1\n",
            "Rejected: \t1\n",
            "Iteration: \t59 / 100\n",
            "Confirmed: \t13\n",
            "Tentative: \t1\n",
            "Rejected: \t1\n",
            "Iteration: \t60 / 100\n",
            "Confirmed: \t13\n",
            "Tentative: \t1\n",
            "Rejected: \t1\n",
            "Iteration: \t61 / 100\n",
            "Confirmed: \t13\n",
            "Tentative: \t1\n",
            "Rejected: \t1\n",
            "Iteration: \t62 / 100\n",
            "Confirmed: \t13\n",
            "Tentative: \t1\n",
            "Rejected: \t1\n",
            "Iteration: \t63 / 100\n",
            "Confirmed: \t13\n",
            "Tentative: \t1\n",
            "Rejected: \t1\n",
            "Iteration: \t64 / 100\n",
            "Confirmed: \t13\n",
            "Tentative: \t1\n",
            "Rejected: \t1\n",
            "Iteration: \t65 / 100\n",
            "Confirmed: \t13\n",
            "Tentative: \t1\n",
            "Rejected: \t1\n",
            "Iteration: \t66 / 100\n",
            "Confirmed: \t13\n",
            "Tentative: \t1\n",
            "Rejected: \t1\n",
            "Iteration: \t67 / 100\n",
            "Confirmed: \t13\n",
            "Tentative: \t1\n",
            "Rejected: \t1\n",
            "Iteration: \t68 / 100\n",
            "Confirmed: \t13\n",
            "Tentative: \t1\n",
            "Rejected: \t1\n",
            "Iteration: \t69 / 100\n",
            "Confirmed: \t13\n",
            "Tentative: \t1\n",
            "Rejected: \t1\n",
            "Iteration: \t70 / 100\n",
            "Confirmed: \t13\n",
            "Tentative: \t1\n",
            "Rejected: \t1\n",
            "Iteration: \t71 / 100\n",
            "Confirmed: \t13\n",
            "Tentative: \t1\n",
            "Rejected: \t1\n",
            "Iteration: \t72 / 100\n",
            "Confirmed: \t13\n",
            "Tentative: \t1\n",
            "Rejected: \t1\n",
            "Iteration: \t73 / 100\n",
            "Confirmed: \t13\n",
            "Tentative: \t1\n",
            "Rejected: \t1\n",
            "Iteration: \t74 / 100\n",
            "Confirmed: \t13\n",
            "Tentative: \t1\n",
            "Rejected: \t1\n",
            "Iteration: \t75 / 100\n",
            "Confirmed: \t13\n",
            "Tentative: \t1\n",
            "Rejected: \t1\n",
            "Iteration: \t76 / 100\n",
            "Confirmed: \t13\n",
            "Tentative: \t1\n",
            "Rejected: \t1\n",
            "Iteration: \t77 / 100\n",
            "Confirmed: \t13\n",
            "Tentative: \t1\n",
            "Rejected: \t1\n",
            "Iteration: \t78 / 100\n",
            "Confirmed: \t13\n",
            "Tentative: \t1\n",
            "Rejected: \t1\n",
            "Iteration: \t79 / 100\n",
            "Confirmed: \t13\n",
            "Tentative: \t1\n",
            "Rejected: \t1\n",
            "Iteration: \t80 / 100\n",
            "Confirmed: \t13\n",
            "Tentative: \t1\n",
            "Rejected: \t1\n",
            "Iteration: \t81 / 100\n",
            "Confirmed: \t13\n",
            "Tentative: \t1\n",
            "Rejected: \t1\n",
            "Iteration: \t82 / 100\n",
            "Confirmed: \t13\n",
            "Tentative: \t1\n",
            "Rejected: \t1\n",
            "Iteration: \t83 / 100\n",
            "Confirmed: \t13\n",
            "Tentative: \t1\n",
            "Rejected: \t1\n",
            "Iteration: \t84 / 100\n",
            "Confirmed: \t13\n",
            "Tentative: \t1\n",
            "Rejected: \t1\n",
            "Iteration: \t85 / 100\n",
            "Confirmed: \t13\n",
            "Tentative: \t1\n",
            "Rejected: \t1\n",
            "Iteration: \t86 / 100\n",
            "Confirmed: \t13\n",
            "Tentative: \t1\n",
            "Rejected: \t1\n",
            "Iteration: \t87 / 100\n",
            "Confirmed: \t13\n",
            "Tentative: \t1\n",
            "Rejected: \t1\n",
            "Iteration: \t88 / 100\n",
            "Confirmed: \t13\n",
            "Tentative: \t1\n",
            "Rejected: \t1\n",
            "Iteration: \t89 / 100\n",
            "Confirmed: \t13\n",
            "Tentative: \t1\n",
            "Rejected: \t1\n",
            "Iteration: \t90 / 100\n",
            "Confirmed: \t13\n",
            "Tentative: \t1\n",
            "Rejected: \t1\n",
            "Iteration: \t91 / 100\n",
            "Confirmed: \t13\n",
            "Tentative: \t1\n",
            "Rejected: \t1\n",
            "Iteration: \t92 / 100\n",
            "Confirmed: \t13\n",
            "Tentative: \t1\n",
            "Rejected: \t1\n",
            "Iteration: \t93 / 100\n",
            "Confirmed: \t13\n",
            "Tentative: \t1\n",
            "Rejected: \t1\n",
            "Iteration: \t94 / 100\n",
            "Confirmed: \t13\n",
            "Tentative: \t1\n",
            "Rejected: \t1\n",
            "Iteration: \t95 / 100\n",
            "Confirmed: \t13\n",
            "Tentative: \t1\n",
            "Rejected: \t1\n",
            "Iteration: \t96 / 100\n",
            "Confirmed: \t13\n",
            "Tentative: \t1\n",
            "Rejected: \t1\n",
            "Iteration: \t97 / 100\n",
            "Confirmed: \t13\n",
            "Tentative: \t1\n",
            "Rejected: \t1\n",
            "Iteration: \t98 / 100\n",
            "Confirmed: \t13\n",
            "Tentative: \t1\n",
            "Rejected: \t1\n",
            "Iteration: \t99 / 100\n",
            "Confirmed: \t13\n",
            "Tentative: \t1\n",
            "Rejected: \t1\n",
            "\n",
            "\n",
            "BorutaPy finished running.\n",
            "\n",
            "Iteration: \t100 / 100\n",
            "Confirmed: \t13\n",
            "Tentative: \t0\n",
            "Rejected: \t1\n"
          ]
        },
        {
          "output_type": "execute_result",
          "data": {
            "text/plain": [
              "BorutaPy(alpha=0.05,\n",
              "         estimator=RandomForestClassifier(bootstrap=True, ccp_alpha=0.0,\n",
              "                                          class_weight=None, criterion='gini',\n",
              "                                          max_depth=5, max_features='auto',\n",
              "                                          max_leaf_nodes=None, max_samples=None,\n",
              "                                          min_impurity_decrease=0.0,\n",
              "                                          min_impurity_split=None,\n",
              "                                          min_samples_leaf=1,\n",
              "                                          min_samples_split=2,\n",
              "                                          min_weight_fraction_leaf=0.0,\n",
              "                                          n_estimators=105, n_jobs=None,\n",
              "                                          oob_score=False,\n",
              "                                          random_state=RandomState(MT19937) at 0x7FE6749F47C0,\n",
              "                                          verbose=0, warm_start=False),\n",
              "         max_iter=100, n_estimators='auto', perc=100,\n",
              "         random_state=RandomState(MT19937) at 0x7FE6749F47C0, two_step=True,\n",
              "         verbose=2)"
            ]
          },
          "metadata": {},
          "execution_count": 383
        }
      ]
    },
    {
      "cell_type": "code",
      "metadata": {
        "colab": {
          "base_uri": "https://localhost:8080/"
        },
        "id": "Iq10jKLw5Djm",
        "outputId": "105a9dbb-b0dc-497b-99e1-1ec35cffbd58"
      },
      "source": [
        "# checking the ranking of significant features\n",
        "\n",
        "print(\"Ranking: \",boruta_selector.ranking_)          \n",
        "print(\"No. of significant features: \", boruta_selector.n_features_)"
      ],
      "execution_count": null,
      "outputs": [
        {
          "output_type": "stream",
          "name": "stdout",
          "text": [
            "Ranking:  [ 1  8  6 10  4 11  8  3  6  1  1  1  2  5  1]\n",
            "No. of significant features:  5\n"
          ]
        }
      ]
    },
    {
      "cell_type": "code",
      "metadata": {
        "colab": {
          "base_uri": "https://localhost:8080/",
          "height": 511
        },
        "id": "psuy9sOs5IJJ",
        "outputId": "10995de0-4841-4594-ac3e-bda2e435b7cf"
      },
      "source": [
        "# created dataframe to present ranking for the features\n",
        "\n",
        "selected_rf_features = pd.DataFrame({'Feature':list(train_independent.columns),\n",
        "                                       'Ranking':boruta_selector.ranking_})\n",
        "selected_rf_features.sort_values(by='Ranking') "
      ],
      "execution_count": null,
      "outputs": [
        {
          "output_type": "execute_result",
          "data": {
            "text/html": [
              "<div>\n",
              "<style scoped>\n",
              "    .dataframe tbody tr th:only-of-type {\n",
              "        vertical-align: middle;\n",
              "    }\n",
              "\n",
              "    .dataframe tbody tr th {\n",
              "        vertical-align: top;\n",
              "    }\n",
              "\n",
              "    .dataframe thead th {\n",
              "        text-align: right;\n",
              "    }\n",
              "</style>\n",
              "<table border=\"1\" class=\"dataframe\">\n",
              "  <thead>\n",
              "    <tr style=\"text-align: right;\">\n",
              "      <th></th>\n",
              "      <th>Feature</th>\n",
              "      <th>Ranking</th>\n",
              "    </tr>\n",
              "  </thead>\n",
              "  <tbody>\n",
              "    <tr>\n",
              "      <th>0</th>\n",
              "      <td>age</td>\n",
              "      <td>1</td>\n",
              "    </tr>\n",
              "    <tr>\n",
              "      <th>9</th>\n",
              "      <td>totChol</td>\n",
              "      <td>1</td>\n",
              "    </tr>\n",
              "    <tr>\n",
              "      <th>10</th>\n",
              "      <td>sysBP</td>\n",
              "      <td>1</td>\n",
              "    </tr>\n",
              "    <tr>\n",
              "      <th>11</th>\n",
              "      <td>diaBP</td>\n",
              "      <td>1</td>\n",
              "    </tr>\n",
              "    <tr>\n",
              "      <th>14</th>\n",
              "      <td>glucose</td>\n",
              "      <td>1</td>\n",
              "    </tr>\n",
              "    <tr>\n",
              "      <th>12</th>\n",
              "      <td>BMI</td>\n",
              "      <td>2</td>\n",
              "    </tr>\n",
              "    <tr>\n",
              "      <th>7</th>\n",
              "      <td>prevalentHyp</td>\n",
              "      <td>3</td>\n",
              "    </tr>\n",
              "    <tr>\n",
              "      <th>4</th>\n",
              "      <td>cigsPerDay</td>\n",
              "      <td>4</td>\n",
              "    </tr>\n",
              "    <tr>\n",
              "      <th>13</th>\n",
              "      <td>heartRate</td>\n",
              "      <td>5</td>\n",
              "    </tr>\n",
              "    <tr>\n",
              "      <th>2</th>\n",
              "      <td>sex</td>\n",
              "      <td>6</td>\n",
              "    </tr>\n",
              "    <tr>\n",
              "      <th>8</th>\n",
              "      <td>diabetes</td>\n",
              "      <td>6</td>\n",
              "    </tr>\n",
              "    <tr>\n",
              "      <th>1</th>\n",
              "      <td>education</td>\n",
              "      <td>8</td>\n",
              "    </tr>\n",
              "    <tr>\n",
              "      <th>6</th>\n",
              "      <td>prevalentStroke</td>\n",
              "      <td>8</td>\n",
              "    </tr>\n",
              "    <tr>\n",
              "      <th>3</th>\n",
              "      <td>is_smoking</td>\n",
              "      <td>10</td>\n",
              "    </tr>\n",
              "    <tr>\n",
              "      <th>5</th>\n",
              "      <td>BPMeds</td>\n",
              "      <td>11</td>\n",
              "    </tr>\n",
              "  </tbody>\n",
              "</table>\n",
              "</div>"
            ],
            "text/plain": [
              "            Feature  Ranking\n",
              "0               age        1\n",
              "9           totChol        1\n",
              "10            sysBP        1\n",
              "11            diaBP        1\n",
              "14          glucose        1\n",
              "12              BMI        2\n",
              "7      prevalentHyp        3\n",
              "4        cigsPerDay        4\n",
              "13        heartRate        5\n",
              "2               sex        6\n",
              "8          diabetes        6\n",
              "1         education        8\n",
              "6   prevalentStroke        8\n",
              "3        is_smoking       10\n",
              "5            BPMeds       11"
            ]
          },
          "metadata": {},
          "execution_count": 340
        }
      ]
    },
    {
      "cell_type": "code",
      "metadata": {
        "id": "n1vAb7j_5M0T",
        "colab": {
          "base_uri": "https://localhost:8080/"
        },
        "outputId": "cbae0949-198e-4f48-91d7-c4348c59cd54"
      },
      "source": [
        "# transforming data using boruta selector\n",
        "\n",
        "test_independent = test[independent_variables]\n",
        "X_important_train = boruta_selector.transform(np.array(train_independent))\n",
        "X_important_test = boruta_selector.transform(np.array(test_independent)) \n",
        "X_important_train"
      ],
      "execution_count": null,
      "outputs": [
        {
          "output_type": "execute_result",
          "data": {
            "text/plain": [
              "array([[ 54. , 272. , 146. ,  95. ,  80. ],\n",
              "       [ 37. , 237. , 102. ,  72. ,  83. ],\n",
              "       [ 39. , 291. , 177.5, 100. ,  91. ],\n",
              "       ...,\n",
              "       [ 40. , 208. , 119. ,  66. ,  66. ],\n",
              "       [ 40. , 152. , 119. ,  86. ,  66. ],\n",
              "       [ 57. , 194. , 133. ,  78. ,  92. ]])"
            ]
          },
          "metadata": {},
          "execution_count": 341
        }
      ]
    },
    {
      "cell_type": "code",
      "metadata": {
        "colab": {
          "base_uri": "https://localhost:8080/"
        },
        "id": "tVBsUxWF5RHx",
        "outputId": "f8455309-6f37-434b-fab4-be6c9d9127bf"
      },
      "source": [
        "# fitting and training data using random forest classifier\n",
        "\n",
        "rf_boruta = RandomForestClassifier(random_state=1, n_estimators=1000, max_depth=5)\n",
        "rf_boruta.fit(X_important_train, train[dependent_variables]) "
      ],
      "execution_count": null,
      "outputs": [
        {
          "output_type": "stream",
          "name": "stderr",
          "text": [
            "/usr/local/lib/python3.7/dist-packages/ipykernel_launcher.py:4: DataConversionWarning: A column-vector y was passed when a 1d array was expected. Please change the shape of y to (n_samples,), for example using ravel().\n",
            "  after removing the cwd from sys.path.\n"
          ]
        },
        {
          "output_type": "execute_result",
          "data": {
            "text/plain": [
              "RandomForestClassifier(bootstrap=True, ccp_alpha=0.0, class_weight=None,\n",
              "                       criterion='gini', max_depth=5, max_features='auto',\n",
              "                       max_leaf_nodes=None, max_samples=None,\n",
              "                       min_impurity_decrease=0.0, min_impurity_split=None,\n",
              "                       min_samples_leaf=1, min_samples_split=2,\n",
              "                       min_weight_fraction_leaf=0.0, n_estimators=1000,\n",
              "                       n_jobs=None, oob_score=False, random_state=1, verbose=0,\n",
              "                       warm_start=False)"
            ]
          },
          "metadata": {},
          "execution_count": 342
        }
      ]
    },
    {
      "cell_type": "code",
      "metadata": {
        "colab": {
          "base_uri": "https://localhost:8080/"
        },
        "id": "HQew_Zra5WFp",
        "outputId": "8027b8f8-6642-4acc-ad30-507e61a5aa4c"
      },
      "source": [
        "# Accuracy score \n",
        "accuracy_score(test[dependent_variables], rf_boruta.predict(X_important_test))"
      ],
      "execution_count": null,
      "outputs": [
        {
          "output_type": "execute_result",
          "data": {
            "text/plain": [
              "0.8362831858407079"
            ]
          },
          "metadata": {},
          "execution_count": 343
        }
      ]
    },
    {
      "cell_type": "code",
      "metadata": {
        "colab": {
          "base_uri": "https://localhost:8080/"
        },
        "id": "eVSEnZDWKGRc",
        "outputId": "94555c89-0fb0-4432-e8a6-904cd2158310"
      },
      "source": [
        "#precision score\n",
        "metrics.precision_score(test[dependent_variables], rf_boruta.predict(X_important_test))"
      ],
      "execution_count": null,
      "outputs": [
        {
          "output_type": "execute_result",
          "data": {
            "text/plain": [
              "0.18181818181818182"
            ]
          },
          "metadata": {},
          "execution_count": 344
        }
      ]
    },
    {
      "cell_type": "code",
      "metadata": {
        "colab": {
          "base_uri": "https://localhost:8080/"
        },
        "id": "a_Xf1Rq9KQpF",
        "outputId": "944e4e84-9fd3-44af-b612-f74b7e02a103"
      },
      "source": [
        "# F1 Score value\n",
        "\n",
        "metrics.f1_score(test[dependent_variables], rf_boruta.predict(X_important_test))"
      ],
      "execution_count": null,
      "outputs": [
        {
          "output_type": "execute_result",
          "data": {
            "text/plain": [
              "0.03478260869565218"
            ]
          },
          "metadata": {},
          "execution_count": 345
        }
      ]
    },
    {
      "cell_type": "code",
      "metadata": {
        "colab": {
          "base_uri": "https://localhost:8080/"
        },
        "id": "N-F3Ghzv5f3y",
        "outputId": "de2bf284-008a-4628-da29-bff94429258e"
      },
      "source": [
        "# data shape\n",
        "data.shape"
      ],
      "execution_count": null,
      "outputs": [
        {
          "output_type": "execute_result",
          "data": {
            "text/plain": [
              "(3390, 17)"
            ]
          },
          "metadata": {},
          "execution_count": 346
        }
      ]
    },
    {
      "cell_type": "code",
      "metadata": {
        "colab": {
          "base_uri": "https://localhost:8080/"
        },
        "id": "lFjpU7UY5jGt",
        "outputId": "996fac37-db99-40ae-ff05-50e10035c184"
      },
      "source": [
        "# value count for the target/dependent variable\n",
        "\n",
        "data['TenYearCHD'].value_counts()"
      ],
      "execution_count": null,
      "outputs": [
        {
          "output_type": "execute_result",
          "data": {
            "text/plain": [
              "0    2879\n",
              "1     511\n",
              "Name: TenYearCHD, dtype: int64"
            ]
          },
          "metadata": {},
          "execution_count": 347
        }
      ]
    },
    {
      "cell_type": "code",
      "metadata": {
        "colab": {
          "base_uri": "https://localhost:8080/"
        },
        "id": "OhMNqMej5oq9",
        "outputId": "edb3a61a-9214-4876-9227-59e368fbdd2d"
      },
      "source": [
        "# checking if data is imbalanced or not\n",
        "\n",
        "target1=data[data['TenYearCHD']==1]\n",
        "target0=data[data['TenYearCHD']==0]\n",
        "target1.shape"
      ],
      "execution_count": null,
      "outputs": [
        {
          "output_type": "execute_result",
          "data": {
            "text/plain": [
              "(511, 17)"
            ]
          },
          "metadata": {},
          "execution_count": 348
        }
      ]
    },
    {
      "cell_type": "markdown",
      "metadata": {
        "id": "_TICvXzjq0W6"
      },
      "source": [
        "**Resampling to balance dataset as with unbalanced dataset we are getting good accuracy score but precision and F1 Score value are not as expected**"
      ]
    },
    {
      "cell_type": "code",
      "metadata": {
        "id": "h5cgiGIB5sPh"
      },
      "source": [
        "# data resampling\n",
        "\n",
        "target1=resample(target1,replace=True,n_samples=len(target0),random_state=40)\n"
      ],
      "execution_count": null,
      "outputs": []
    },
    {
      "cell_type": "code",
      "metadata": {
        "id": "lvv4hof25vNv"
      },
      "source": [
        "# creating balanced dataset\n",
        "\n",
        "target=pd.concat([target0,target1])"
      ],
      "execution_count": null,
      "outputs": []
    },
    {
      "cell_type": "code",
      "metadata": {
        "colab": {
          "base_uri": "https://localhost:8080/"
        },
        "id": "Ws8Uo4OE2Q-W",
        "outputId": "402fc314-1872-413e-b96f-4a3df53e0816"
      },
      "source": [
        "# now again checking target feature value count\n",
        "\n",
        "target['TenYearCHD'].value_counts()"
      ],
      "execution_count": null,
      "outputs": [
        {
          "output_type": "execute_result",
          "data": {
            "text/plain": [
              "1    2879\n",
              "0    2879\n",
              "Name: TenYearCHD, dtype: int64"
            ]
          },
          "metadata": {},
          "execution_count": 351
        }
      ]
    },
    {
      "cell_type": "code",
      "metadata": {
        "colab": {
          "base_uri": "https://localhost:8080/"
        },
        "id": "ascsnYWiMAKe",
        "outputId": "8175a51a-ace9-4642-bd6b-032a12a3b184"
      },
      "source": [
        "target.shape"
      ],
      "execution_count": null,
      "outputs": [
        {
          "output_type": "execute_result",
          "data": {
            "text/plain": [
              "(5758, 17)"
            ]
          },
          "metadata": {},
          "execution_count": 352
        }
      ]
    },
    {
      "cell_type": "code",
      "metadata": {
        "id": "ILdUueynOmqT"
      },
      "source": [
        "# splitting into train and test data\n",
        "\n",
        "train,test=train_test_split(target,test_size=0.2,random_state=0)"
      ],
      "execution_count": null,
      "outputs": []
    },
    {
      "cell_type": "code",
      "metadata": {
        "colab": {
          "base_uri": "https://localhost:8080/"
        },
        "id": "xNXpJagDRT_s",
        "outputId": "e752ed75-7bc6-4218-bbd2-42a892153f96"
      },
      "source": [
        "train.shape"
      ],
      "execution_count": null,
      "outputs": [
        {
          "output_type": "execute_result",
          "data": {
            "text/plain": [
              "(4606, 17)"
            ]
          },
          "metadata": {},
          "execution_count": 354
        }
      ]
    },
    {
      "cell_type": "code",
      "metadata": {
        "colab": {
          "base_uri": "https://localhost:8080/"
        },
        "id": "lZH14mQiRWBe",
        "outputId": "2e171480-81a7-4b7a-cf76-0a6ecbd8a1f4"
      },
      "source": [
        "test.shape"
      ],
      "execution_count": null,
      "outputs": [
        {
          "output_type": "execute_result",
          "data": {
            "text/plain": [
              "(1152, 17)"
            ]
          },
          "metadata": {},
          "execution_count": 355
        }
      ]
    },
    {
      "cell_type": "code",
      "metadata": {
        "id": "F3OqdMdWRYnB"
      },
      "source": [
        "# created dependent and independent dataset \n",
        "\n",
        "train_independent = train[independent_variables]\n",
        "train_dependent =  train[dependent_variables]"
      ],
      "execution_count": null,
      "outputs": []
    },
    {
      "cell_type": "markdown",
      "metadata": {
        "id": "w3LKppGErdCZ"
      },
      "source": [
        "**Now fitting or training Random Forest Classifier on balanced data**"
      ]
    },
    {
      "cell_type": "code",
      "metadata": {
        "colab": {
          "base_uri": "https://localhost:8080/"
        },
        "id": "Tu36njVNRmtw",
        "outputId": "d1ef09ae-e9b6-4b38-f747-35a503ad2960"
      },
      "source": [
        "# fitting random forest classifier on balanced data\n",
        "\n",
        "rf_all_features = RandomForestClassifier(random_state=1, n_estimators=1000, max_depth=10)\n",
        "rf_all_features.fit(train_independent, train_dependent.values.ravel())"
      ],
      "execution_count": null,
      "outputs": [
        {
          "output_type": "execute_result",
          "data": {
            "text/plain": [
              "RandomForestClassifier(bootstrap=True, ccp_alpha=0.0, class_weight=None,\n",
              "                       criterion='gini', max_depth=10, max_features='auto',\n",
              "                       max_leaf_nodes=None, max_samples=None,\n",
              "                       min_impurity_decrease=0.0, min_impurity_split=None,\n",
              "                       min_samples_leaf=1, min_samples_split=2,\n",
              "                       min_weight_fraction_leaf=0.0, n_estimators=1000,\n",
              "                       n_jobs=None, oob_score=False, random_state=1, verbose=0,\n",
              "                       warm_start=False)"
            ]
          },
          "metadata": {},
          "execution_count": 357
        }
      ]
    },
    {
      "cell_type": "code",
      "metadata": {
        "colab": {
          "base_uri": "https://localhost:8080/"
        },
        "id": "PBssk5OMRzru",
        "outputId": "58292c4a-9fe1-43f6-d8c5-40fdd61cb0c5"
      },
      "source": [
        "# accuracy score\n",
        "\n",
        "accuracy_score(test[dependent_variables], rf_all_features.predict(test[independent_variables]))"
      ],
      "execution_count": null,
      "outputs": [
        {
          "output_type": "execute_result",
          "data": {
            "text/plain": [
              "0.8767361111111112"
            ]
          },
          "metadata": {},
          "execution_count": 358
        }
      ]
    },
    {
      "cell_type": "code",
      "metadata": {
        "id": "0-cM-kovR4l5",
        "colab": {
          "base_uri": "https://localhost:8080/"
        },
        "outputId": "580cdb15-ae9f-4538-b2e1-45ae857fd4e4"
      },
      "source": [
        "# again using boruta selector and random forest classifier to select significant features\n",
        "\n",
        "rfc = RandomForestClassifier(random_state=1, n_estimators=1000, max_depth=5)\n",
        "boruta_selector = BorutaPy(rfc, n_estimators='auto', verbose=2, random_state=1)\n",
        "boruta_selector.fit(np.array(train_independent), np.array(train_dependent).ravel())  "
      ],
      "execution_count": null,
      "outputs": [
        {
          "output_type": "stream",
          "name": "stdout",
          "text": [
            "Iteration: \t1 / 100\n",
            "Confirmed: \t0\n",
            "Tentative: \t15\n",
            "Rejected: \t0\n",
            "Iteration: \t2 / 100\n",
            "Confirmed: \t0\n",
            "Tentative: \t15\n",
            "Rejected: \t0\n",
            "Iteration: \t3 / 100\n",
            "Confirmed: \t0\n",
            "Tentative: \t15\n",
            "Rejected: \t0\n",
            "Iteration: \t4 / 100\n",
            "Confirmed: \t0\n",
            "Tentative: \t15\n",
            "Rejected: \t0\n",
            "Iteration: \t5 / 100\n",
            "Confirmed: \t0\n",
            "Tentative: \t15\n",
            "Rejected: \t0\n",
            "Iteration: \t6 / 100\n",
            "Confirmed: \t0\n",
            "Tentative: \t15\n",
            "Rejected: \t0\n",
            "Iteration: \t7 / 100\n",
            "Confirmed: \t0\n",
            "Tentative: \t15\n",
            "Rejected: \t0\n",
            "Iteration: \t8 / 100\n",
            "Confirmed: \t11\n",
            "Tentative: \t4\n",
            "Rejected: \t0\n",
            "Iteration: \t9 / 100\n",
            "Confirmed: \t11\n",
            "Tentative: \t3\n",
            "Rejected: \t1\n",
            "Iteration: \t10 / 100\n",
            "Confirmed: \t11\n",
            "Tentative: \t3\n",
            "Rejected: \t1\n",
            "Iteration: \t11 / 100\n",
            "Confirmed: \t11\n",
            "Tentative: \t3\n",
            "Rejected: \t1\n",
            "Iteration: \t12 / 100\n",
            "Confirmed: \t13\n",
            "Tentative: \t1\n",
            "Rejected: \t1\n",
            "Iteration: \t13 / 100\n",
            "Confirmed: \t13\n",
            "Tentative: \t1\n",
            "Rejected: \t1\n",
            "Iteration: \t14 / 100\n",
            "Confirmed: \t13\n",
            "Tentative: \t1\n",
            "Rejected: \t1\n",
            "Iteration: \t15 / 100\n",
            "Confirmed: \t13\n",
            "Tentative: \t1\n",
            "Rejected: \t1\n",
            "Iteration: \t16 / 100\n",
            "Confirmed: \t13\n",
            "Tentative: \t1\n",
            "Rejected: \t1\n",
            "Iteration: \t17 / 100\n",
            "Confirmed: \t13\n",
            "Tentative: \t1\n",
            "Rejected: \t1\n",
            "Iteration: \t18 / 100\n",
            "Confirmed: \t13\n",
            "Tentative: \t1\n",
            "Rejected: \t1\n",
            "Iteration: \t19 / 100\n",
            "Confirmed: \t13\n",
            "Tentative: \t1\n",
            "Rejected: \t1\n",
            "Iteration: \t20 / 100\n",
            "Confirmed: \t13\n",
            "Tentative: \t1\n",
            "Rejected: \t1\n",
            "Iteration: \t21 / 100\n",
            "Confirmed: \t13\n",
            "Tentative: \t1\n",
            "Rejected: \t1\n",
            "Iteration: \t22 / 100\n",
            "Confirmed: \t13\n",
            "Tentative: \t1\n",
            "Rejected: \t1\n",
            "Iteration: \t23 / 100\n",
            "Confirmed: \t13\n",
            "Tentative: \t1\n",
            "Rejected: \t1\n",
            "Iteration: \t24 / 100\n",
            "Confirmed: \t13\n",
            "Tentative: \t1\n",
            "Rejected: \t1\n",
            "Iteration: \t25 / 100\n",
            "Confirmed: \t13\n",
            "Tentative: \t1\n",
            "Rejected: \t1\n",
            "Iteration: \t26 / 100\n",
            "Confirmed: \t13\n",
            "Tentative: \t1\n",
            "Rejected: \t1\n",
            "Iteration: \t27 / 100\n",
            "Confirmed: \t13\n",
            "Tentative: \t1\n",
            "Rejected: \t1\n",
            "Iteration: \t28 / 100\n",
            "Confirmed: \t13\n",
            "Tentative: \t1\n",
            "Rejected: \t1\n",
            "Iteration: \t29 / 100\n",
            "Confirmed: \t13\n",
            "Tentative: \t1\n",
            "Rejected: \t1\n",
            "Iteration: \t30 / 100\n",
            "Confirmed: \t13\n",
            "Tentative: \t1\n",
            "Rejected: \t1\n",
            "Iteration: \t31 / 100\n",
            "Confirmed: \t13\n",
            "Tentative: \t1\n",
            "Rejected: \t1\n",
            "Iteration: \t32 / 100\n",
            "Confirmed: \t13\n",
            "Tentative: \t1\n",
            "Rejected: \t1\n",
            "Iteration: \t33 / 100\n",
            "Confirmed: \t13\n",
            "Tentative: \t1\n",
            "Rejected: \t1\n",
            "Iteration: \t34 / 100\n",
            "Confirmed: \t13\n",
            "Tentative: \t1\n",
            "Rejected: \t1\n",
            "Iteration: \t35 / 100\n",
            "Confirmed: \t13\n",
            "Tentative: \t1\n",
            "Rejected: \t1\n",
            "Iteration: \t36 / 100\n",
            "Confirmed: \t13\n",
            "Tentative: \t1\n",
            "Rejected: \t1\n",
            "Iteration: \t37 / 100\n",
            "Confirmed: \t13\n",
            "Tentative: \t1\n",
            "Rejected: \t1\n",
            "Iteration: \t38 / 100\n",
            "Confirmed: \t13\n",
            "Tentative: \t1\n",
            "Rejected: \t1\n",
            "Iteration: \t39 / 100\n",
            "Confirmed: \t13\n",
            "Tentative: \t1\n",
            "Rejected: \t1\n",
            "Iteration: \t40 / 100\n",
            "Confirmed: \t13\n",
            "Tentative: \t1\n",
            "Rejected: \t1\n",
            "Iteration: \t41 / 100\n",
            "Confirmed: \t13\n",
            "Tentative: \t1\n",
            "Rejected: \t1\n",
            "Iteration: \t42 / 100\n",
            "Confirmed: \t13\n",
            "Tentative: \t1\n",
            "Rejected: \t1\n",
            "Iteration: \t43 / 100\n",
            "Confirmed: \t13\n",
            "Tentative: \t1\n",
            "Rejected: \t1\n",
            "Iteration: \t44 / 100\n",
            "Confirmed: \t13\n",
            "Tentative: \t1\n",
            "Rejected: \t1\n",
            "Iteration: \t45 / 100\n",
            "Confirmed: \t13\n",
            "Tentative: \t1\n",
            "Rejected: \t1\n",
            "Iteration: \t46 / 100\n",
            "Confirmed: \t13\n",
            "Tentative: \t1\n",
            "Rejected: \t1\n",
            "Iteration: \t47 / 100\n",
            "Confirmed: \t13\n",
            "Tentative: \t1\n",
            "Rejected: \t1\n",
            "Iteration: \t48 / 100\n",
            "Confirmed: \t13\n",
            "Tentative: \t1\n",
            "Rejected: \t1\n",
            "Iteration: \t49 / 100\n",
            "Confirmed: \t13\n",
            "Tentative: \t1\n",
            "Rejected: \t1\n",
            "Iteration: \t50 / 100\n",
            "Confirmed: \t13\n",
            "Tentative: \t1\n",
            "Rejected: \t1\n",
            "Iteration: \t51 / 100\n",
            "Confirmed: \t13\n",
            "Tentative: \t1\n",
            "Rejected: \t1\n",
            "Iteration: \t52 / 100\n",
            "Confirmed: \t13\n",
            "Tentative: \t1\n",
            "Rejected: \t1\n",
            "Iteration: \t53 / 100\n",
            "Confirmed: \t13\n",
            "Tentative: \t1\n",
            "Rejected: \t1\n",
            "Iteration: \t54 / 100\n",
            "Confirmed: \t13\n",
            "Tentative: \t1\n",
            "Rejected: \t1\n",
            "Iteration: \t55 / 100\n",
            "Confirmed: \t13\n",
            "Tentative: \t1\n",
            "Rejected: \t1\n",
            "Iteration: \t56 / 100\n",
            "Confirmed: \t13\n",
            "Tentative: \t1\n",
            "Rejected: \t1\n",
            "Iteration: \t57 / 100\n",
            "Confirmed: \t13\n",
            "Tentative: \t1\n",
            "Rejected: \t1\n",
            "Iteration: \t58 / 100\n",
            "Confirmed: \t13\n",
            "Tentative: \t1\n",
            "Rejected: \t1\n",
            "Iteration: \t59 / 100\n",
            "Confirmed: \t13\n",
            "Tentative: \t1\n",
            "Rejected: \t1\n",
            "Iteration: \t60 / 100\n",
            "Confirmed: \t13\n",
            "Tentative: \t1\n",
            "Rejected: \t1\n",
            "Iteration: \t61 / 100\n",
            "Confirmed: \t13\n",
            "Tentative: \t1\n",
            "Rejected: \t1\n",
            "Iteration: \t62 / 100\n",
            "Confirmed: \t13\n",
            "Tentative: \t1\n",
            "Rejected: \t1\n",
            "Iteration: \t63 / 100\n",
            "Confirmed: \t13\n",
            "Tentative: \t1\n",
            "Rejected: \t1\n",
            "Iteration: \t64 / 100\n",
            "Confirmed: \t13\n",
            "Tentative: \t1\n",
            "Rejected: \t1\n",
            "Iteration: \t65 / 100\n",
            "Confirmed: \t13\n",
            "Tentative: \t1\n",
            "Rejected: \t1\n",
            "Iteration: \t66 / 100\n",
            "Confirmed: \t13\n",
            "Tentative: \t1\n",
            "Rejected: \t1\n",
            "Iteration: \t67 / 100\n",
            "Confirmed: \t13\n",
            "Tentative: \t1\n",
            "Rejected: \t1\n",
            "Iteration: \t68 / 100\n",
            "Confirmed: \t13\n",
            "Tentative: \t1\n",
            "Rejected: \t1\n",
            "Iteration: \t69 / 100\n",
            "Confirmed: \t13\n",
            "Tentative: \t1\n",
            "Rejected: \t1\n",
            "Iteration: \t70 / 100\n",
            "Confirmed: \t13\n",
            "Tentative: \t1\n",
            "Rejected: \t1\n",
            "Iteration: \t71 / 100\n",
            "Confirmed: \t13\n",
            "Tentative: \t1\n",
            "Rejected: \t1\n",
            "Iteration: \t72 / 100\n",
            "Confirmed: \t13\n",
            "Tentative: \t1\n",
            "Rejected: \t1\n",
            "Iteration: \t73 / 100\n",
            "Confirmed: \t13\n",
            "Tentative: \t1\n",
            "Rejected: \t1\n",
            "Iteration: \t74 / 100\n",
            "Confirmed: \t13\n",
            "Tentative: \t1\n",
            "Rejected: \t1\n",
            "Iteration: \t75 / 100\n",
            "Confirmed: \t13\n",
            "Tentative: \t1\n",
            "Rejected: \t1\n",
            "Iteration: \t76 / 100\n",
            "Confirmed: \t13\n",
            "Tentative: \t1\n",
            "Rejected: \t1\n",
            "Iteration: \t77 / 100\n",
            "Confirmed: \t13\n",
            "Tentative: \t1\n",
            "Rejected: \t1\n",
            "Iteration: \t78 / 100\n",
            "Confirmed: \t13\n",
            "Tentative: \t1\n",
            "Rejected: \t1\n",
            "Iteration: \t79 / 100\n",
            "Confirmed: \t13\n",
            "Tentative: \t1\n",
            "Rejected: \t1\n",
            "Iteration: \t80 / 100\n",
            "Confirmed: \t13\n",
            "Tentative: \t1\n",
            "Rejected: \t1\n",
            "Iteration: \t81 / 100\n",
            "Confirmed: \t13\n",
            "Tentative: \t1\n",
            "Rejected: \t1\n",
            "Iteration: \t82 / 100\n",
            "Confirmed: \t13\n",
            "Tentative: \t1\n",
            "Rejected: \t1\n",
            "Iteration: \t83 / 100\n",
            "Confirmed: \t13\n",
            "Tentative: \t1\n",
            "Rejected: \t1\n",
            "Iteration: \t84 / 100\n",
            "Confirmed: \t13\n",
            "Tentative: \t1\n",
            "Rejected: \t1\n",
            "Iteration: \t85 / 100\n",
            "Confirmed: \t13\n",
            "Tentative: \t1\n",
            "Rejected: \t1\n",
            "Iteration: \t86 / 100\n",
            "Confirmed: \t13\n",
            "Tentative: \t1\n",
            "Rejected: \t1\n",
            "Iteration: \t87 / 100\n",
            "Confirmed: \t13\n",
            "Tentative: \t1\n",
            "Rejected: \t1\n",
            "Iteration: \t88 / 100\n",
            "Confirmed: \t13\n",
            "Tentative: \t1\n",
            "Rejected: \t1\n",
            "Iteration: \t89 / 100\n",
            "Confirmed: \t13\n",
            "Tentative: \t1\n",
            "Rejected: \t1\n",
            "Iteration: \t90 / 100\n",
            "Confirmed: \t13\n",
            "Tentative: \t1\n",
            "Rejected: \t1\n",
            "Iteration: \t91 / 100\n",
            "Confirmed: \t13\n",
            "Tentative: \t1\n",
            "Rejected: \t1\n",
            "Iteration: \t92 / 100\n",
            "Confirmed: \t13\n",
            "Tentative: \t1\n",
            "Rejected: \t1\n",
            "Iteration: \t93 / 100\n",
            "Confirmed: \t13\n",
            "Tentative: \t1\n",
            "Rejected: \t1\n",
            "Iteration: \t94 / 100\n",
            "Confirmed: \t13\n",
            "Tentative: \t1\n",
            "Rejected: \t1\n",
            "Iteration: \t95 / 100\n",
            "Confirmed: \t13\n",
            "Tentative: \t1\n",
            "Rejected: \t1\n",
            "Iteration: \t96 / 100\n",
            "Confirmed: \t13\n",
            "Tentative: \t1\n",
            "Rejected: \t1\n",
            "Iteration: \t97 / 100\n",
            "Confirmed: \t13\n",
            "Tentative: \t1\n",
            "Rejected: \t1\n",
            "Iteration: \t98 / 100\n",
            "Confirmed: \t13\n",
            "Tentative: \t1\n",
            "Rejected: \t1\n",
            "Iteration: \t99 / 100\n",
            "Confirmed: \t13\n",
            "Tentative: \t1\n",
            "Rejected: \t1\n",
            "\n",
            "\n",
            "BorutaPy finished running.\n",
            "\n",
            "Iteration: \t100 / 100\n",
            "Confirmed: \t13\n",
            "Tentative: \t0\n",
            "Rejected: \t1\n"
          ]
        },
        {
          "output_type": "execute_result",
          "data": {
            "text/plain": [
              "BorutaPy(alpha=0.05,\n",
              "         estimator=RandomForestClassifier(bootstrap=True, ccp_alpha=0.0,\n",
              "                                          class_weight=None, criterion='gini',\n",
              "                                          max_depth=5, max_features='auto',\n",
              "                                          max_leaf_nodes=None, max_samples=None,\n",
              "                                          min_impurity_decrease=0.0,\n",
              "                                          min_impurity_split=None,\n",
              "                                          min_samples_leaf=1,\n",
              "                                          min_samples_split=2,\n",
              "                                          min_weight_fraction_leaf=0.0,\n",
              "                                          n_estimators=105, n_jobs=None,\n",
              "                                          oob_score=False,\n",
              "                                          random_state=RandomState(MT19937) at 0x7FE6749F4270,\n",
              "                                          verbose=0, warm_start=False),\n",
              "         max_iter=100, n_estimators='auto', perc=100,\n",
              "         random_state=RandomState(MT19937) at 0x7FE6749F4270, two_step=True,\n",
              "         verbose=2)"
            ]
          },
          "metadata": {},
          "execution_count": 359
        }
      ]
    },
    {
      "cell_type": "code",
      "metadata": {
        "colab": {
          "base_uri": "https://localhost:8080/"
        },
        "id": "uCt9vMI2SGlH",
        "outputId": "78552e83-1ffb-43de-df60-35cf20cbaa59"
      },
      "source": [
        "# ranking of significant features\n",
        "\n",
        "print(\"Ranking: \",boruta_selector.ranking_)          \n",
        "print(\"No. of significant features: \", boruta_selector.n_features_)"
      ],
      "execution_count": null,
      "outputs": [
        {
          "output_type": "stream",
          "name": "stdout",
          "text": [
            "Ranking:  [1 1 1 1 1 2 3 1 1 1 1 1 1 1 1]\n",
            "No. of significant features:  13\n"
          ]
        }
      ]
    },
    {
      "cell_type": "code",
      "metadata": {
        "colab": {
          "base_uri": "https://localhost:8080/",
          "height": 511
        },
        "id": "cTLv-2qwSH4z",
        "outputId": "25e9e16b-0d45-42a1-a0fb-2c62977efb17"
      },
      "source": [
        "# dataframe to show ranking of features\n",
        "\n",
        "selected_rf_features = pd.DataFrame({'Feature':list(train_independent.columns),\n",
        "                                       'Ranking':boruta_selector.ranking_})\n",
        "selected_rf_features.sort_values(by='Ranking') "
      ],
      "execution_count": null,
      "outputs": [
        {
          "output_type": "execute_result",
          "data": {
            "text/html": [
              "<div>\n",
              "<style scoped>\n",
              "    .dataframe tbody tr th:only-of-type {\n",
              "        vertical-align: middle;\n",
              "    }\n",
              "\n",
              "    .dataframe tbody tr th {\n",
              "        vertical-align: top;\n",
              "    }\n",
              "\n",
              "    .dataframe thead th {\n",
              "        text-align: right;\n",
              "    }\n",
              "</style>\n",
              "<table border=\"1\" class=\"dataframe\">\n",
              "  <thead>\n",
              "    <tr style=\"text-align: right;\">\n",
              "      <th></th>\n",
              "      <th>Feature</th>\n",
              "      <th>Ranking</th>\n",
              "    </tr>\n",
              "  </thead>\n",
              "  <tbody>\n",
              "    <tr>\n",
              "      <th>0</th>\n",
              "      <td>age</td>\n",
              "      <td>1</td>\n",
              "    </tr>\n",
              "    <tr>\n",
              "      <th>1</th>\n",
              "      <td>education</td>\n",
              "      <td>1</td>\n",
              "    </tr>\n",
              "    <tr>\n",
              "      <th>2</th>\n",
              "      <td>sex</td>\n",
              "      <td>1</td>\n",
              "    </tr>\n",
              "    <tr>\n",
              "      <th>3</th>\n",
              "      <td>is_smoking</td>\n",
              "      <td>1</td>\n",
              "    </tr>\n",
              "    <tr>\n",
              "      <th>4</th>\n",
              "      <td>cigsPerDay</td>\n",
              "      <td>1</td>\n",
              "    </tr>\n",
              "    <tr>\n",
              "      <th>7</th>\n",
              "      <td>prevalentHyp</td>\n",
              "      <td>1</td>\n",
              "    </tr>\n",
              "    <tr>\n",
              "      <th>8</th>\n",
              "      <td>diabetes</td>\n",
              "      <td>1</td>\n",
              "    </tr>\n",
              "    <tr>\n",
              "      <th>9</th>\n",
              "      <td>totChol</td>\n",
              "      <td>1</td>\n",
              "    </tr>\n",
              "    <tr>\n",
              "      <th>10</th>\n",
              "      <td>sysBP</td>\n",
              "      <td>1</td>\n",
              "    </tr>\n",
              "    <tr>\n",
              "      <th>11</th>\n",
              "      <td>diaBP</td>\n",
              "      <td>1</td>\n",
              "    </tr>\n",
              "    <tr>\n",
              "      <th>12</th>\n",
              "      <td>BMI</td>\n",
              "      <td>1</td>\n",
              "    </tr>\n",
              "    <tr>\n",
              "      <th>13</th>\n",
              "      <td>heartRate</td>\n",
              "      <td>1</td>\n",
              "    </tr>\n",
              "    <tr>\n",
              "      <th>14</th>\n",
              "      <td>glucose</td>\n",
              "      <td>1</td>\n",
              "    </tr>\n",
              "    <tr>\n",
              "      <th>5</th>\n",
              "      <td>BPMeds</td>\n",
              "      <td>2</td>\n",
              "    </tr>\n",
              "    <tr>\n",
              "      <th>6</th>\n",
              "      <td>prevalentStroke</td>\n",
              "      <td>3</td>\n",
              "    </tr>\n",
              "  </tbody>\n",
              "</table>\n",
              "</div>"
            ],
            "text/plain": [
              "            Feature  Ranking\n",
              "0               age        1\n",
              "1         education        1\n",
              "2               sex        1\n",
              "3        is_smoking        1\n",
              "4        cigsPerDay        1\n",
              "7      prevalentHyp        1\n",
              "8          diabetes        1\n",
              "9           totChol        1\n",
              "10            sysBP        1\n",
              "11            diaBP        1\n",
              "12              BMI        1\n",
              "13        heartRate        1\n",
              "14          glucose        1\n",
              "5            BPMeds        2\n",
              "6   prevalentStroke        3"
            ]
          },
          "metadata": {},
          "execution_count": 361
        }
      ]
    },
    {
      "cell_type": "code",
      "metadata": {
        "colab": {
          "base_uri": "https://localhost:8080/"
        },
        "id": "L016t_yZSMBU",
        "outputId": "b4f5804e-56b3-4dd8-879b-655741f62e5a"
      },
      "source": [
        "# using  boruta selector to transform the training data and implementing the random forest classifier on training data\n",
        "\n",
        "test_independent = test[independent_variables]\n",
        "X_important_train = boruta_selector.transform(np.array(train_independent))\n",
        "X_important_test = boruta_selector.transform(np.array(test_independent)) \n",
        "rf_boruta = RandomForestClassifier(random_state=1, n_estimators=1000, max_depth=10)\n",
        "rf_boruta.fit(X_important_train, train[dependent_variables]) "
      ],
      "execution_count": null,
      "outputs": [
        {
          "output_type": "stream",
          "name": "stderr",
          "text": [
            "/usr/local/lib/python3.7/dist-packages/ipykernel_launcher.py:7: DataConversionWarning: A column-vector y was passed when a 1d array was expected. Please change the shape of y to (n_samples,), for example using ravel().\n",
            "  import sys\n"
          ]
        },
        {
          "output_type": "execute_result",
          "data": {
            "text/plain": [
              "RandomForestClassifier(bootstrap=True, ccp_alpha=0.0, class_weight=None,\n",
              "                       criterion='gini', max_depth=10, max_features='auto',\n",
              "                       max_leaf_nodes=None, max_samples=None,\n",
              "                       min_impurity_decrease=0.0, min_impurity_split=None,\n",
              "                       min_samples_leaf=1, min_samples_split=2,\n",
              "                       min_weight_fraction_leaf=0.0, n_estimators=1000,\n",
              "                       n_jobs=None, oob_score=False, random_state=1, verbose=0,\n",
              "                       warm_start=False)"
            ]
          },
          "metadata": {},
          "execution_count": 362
        }
      ]
    },
    {
      "cell_type": "code",
      "metadata": {
        "colab": {
          "base_uri": "https://localhost:8080/"
        },
        "id": "qYJfSFV9HTXs",
        "outputId": "d1758deb-5875-41e6-dc07-54b5a78e314b"
      },
      "source": [
        "np.array(test_independent)"
      ],
      "execution_count": null,
      "outputs": [
        {
          "output_type": "execute_result",
          "data": {
            "text/plain": [
              "1152"
            ]
          },
          "metadata": {},
          "execution_count": 377
        }
      ]
    },
    {
      "cell_type": "code",
      "metadata": {
        "colab": {
          "base_uri": "https://localhost:8080/"
        },
        "id": "zJXBgMWQHUQD",
        "outputId": "f748bf2c-7ce7-436a-8060-97f498cbe90f"
      },
      "source": [
        "X_important_test"
      ],
      "execution_count": null,
      "outputs": [
        {
          "output_type": "execute_result",
          "data": {
            "text/plain": [
              "1152"
            ]
          },
          "metadata": {},
          "execution_count": 379
        }
      ]
    },
    {
      "cell_type": "code",
      "metadata": {
        "colab": {
          "base_uri": "https://localhost:8080/"
        },
        "id": "7BRHrRQsTUQJ",
        "outputId": "a9ec96c3-6a17-4ceb-b326-fa0a7a5ae299"
      },
      "source": [
        "# accuracy score\n",
        "\n",
        "accuracy_score(test[dependent_variables], rf_boruta.predict(X_important_test))"
      ],
      "execution_count": null,
      "outputs": [
        {
          "output_type": "execute_result",
          "data": {
            "text/plain": [
              "0.8871527777777778"
            ]
          },
          "metadata": {},
          "execution_count": 364
        }
      ]
    },
    {
      "cell_type": "code",
      "metadata": {
        "colab": {
          "base_uri": "https://localhost:8080/"
        },
        "id": "Yq5YMcgNTV3p",
        "outputId": "e7a2f3c9-a55b-406f-e03d-2023db875a6f"
      },
      "source": [
        "# precision score\n",
        "\n",
        "metrics.precision_score(test[dependent_variables], rf_boruta.predict(X_important_test))"
      ],
      "execution_count": null,
      "outputs": [
        {
          "output_type": "execute_result",
          "data": {
            "text/plain": [
              "0.8719211822660099"
            ]
          },
          "metadata": {},
          "execution_count": 365
        }
      ]
    },
    {
      "cell_type": "code",
      "metadata": {
        "colab": {
          "base_uri": "https://localhost:8080/"
        },
        "id": "7gkYHq13TiJe",
        "outputId": "ac551957-981a-41dc-db27-d2c304b90b08"
      },
      "source": [
        "# f1 score\n",
        "metrics.f1_score(test[dependent_variables], rf_boruta.predict(X_important_test))"
      ],
      "execution_count": null,
      "outputs": [
        {
          "output_type": "execute_result",
          "data": {
            "text/plain": [
              "0.8909395973154361"
            ]
          },
          "metadata": {},
          "execution_count": 366
        }
      ]
    },
    {
      "cell_type": "code",
      "metadata": {
        "colab": {
          "base_uri": "https://localhost:8080/",
          "height": 490
        },
        "id": "fn2Xtp3zyeJi",
        "outputId": "f5a75b29-8132-4cea-cd62-3e9c6269db82"
      },
      "source": [
        "# confusion matrix\n",
        "\n",
        "conf_matrix = confusion_matrix(test[dependent_variables],rf_boruta.predict(X_important_test))\n",
        "print(\"confusion matrix\")\n",
        "print(conf_matrix)\n",
        "plt.matshow(conf_matrix)\n",
        "plt.colorbar()\n",
        "print(\"\\n\")\n",
        "print(classification_report(test[dependent_variables], rf_boruta.predict(X_important_test)))"
      ],
      "execution_count": null,
      "outputs": [
        {
          "output_type": "stream",
          "name": "stdout",
          "text": [
            "confusion matrix\n",
            "[[491  78]\n",
            " [ 52 531]]\n",
            "\n",
            "\n",
            "              precision    recall  f1-score   support\n",
            "\n",
            "           0       0.90      0.86      0.88       569\n",
            "           1       0.87      0.91      0.89       583\n",
            "\n",
            "    accuracy                           0.89      1152\n",
            "   macro avg       0.89      0.89      0.89      1152\n",
            "weighted avg       0.89      0.89      0.89      1152\n",
            "\n"
          ]
        },
        {
          "output_type": "display_data",
          "data": {
            "image/png": "[encoded data removed]",
            "text/plain": [
              "<Figure size 288x288 with 2 Axes>"
            ]
          },
          "metadata": {
            "needs_background": "light"
          }
        }
      ]
    },
    {
      "cell_type": "code",
      "metadata": {
        "colab": {
          "base_uri": "https://localhost:8080/",
          "height": 265
        },
        "id": "qjypKAAiQiU5",
        "outputId": "eaae2546-9b72-4e62-838f-667a6273439a"
      },
      "source": [
        "# plotting roc curve\n",
        "fpr, tpr, threshold = metrics.roc_curve(test[dependent_variables], rf_boruta.predict(X_important_test))\n",
        "auc = metrics.roc_auc_score(test[dependent_variables], rf_boruta.predict(X_important_test))\n",
        "plt.plot(fpr,tpr,label=\"data , auc=\"+str(auc))\n",
        "plt.legend(loc=4)\n",
        "plt.show()"
      ],
      "execution_count": null,
      "outputs": [
        {
          "output_type": "display_data",
          "data": {
            "image/png": "[encoded data removed]",
            "text/plain": [
              "<Figure size 432x288 with 1 Axes>"
            ]
          },
          "metadata": {
            "needs_background": "light"
          }
        }
      ]
    },
    {
      "cell_type": "markdown",
      "metadata": {
        "id": "PasBPHZ4VniF"
      },
      "source": [
        "#**K Neighbour Classifier**"
      ]
    },
    {
      "cell_type": "code",
      "metadata": {
        "id": "VKhzurPijkNs"
      },
      "source": [
        "#  selecting hyperparameter range for implementing Kneighbour Classifier\n",
        "\n",
        "k_range = list(range(1, 31))\n",
        "param_grid = dict(n_neighbors=k_range)"
      ],
      "execution_count": null,
      "outputs": []
    },
    {
      "cell_type": "code",
      "metadata": {
        "id": "j3q4Q8L1hAi3",
        "colab": {
          "base_uri": "https://localhost:8080/"
        },
        "outputId": "eb5a23c0-0011-4690-c894-1764313f4dd8"
      },
      "source": [
        "# implementing Kneighbour Classifier on training data\n",
        "\n",
        "knn = GridSearchCV(KNeighborsClassifier(), param_grid, cv=10, scoring='accuracy', return_train_score=False,verbose=1)\n",
        "knn.fit(train[independent_variables], train[dependent_variables].values.ravel())\n",
        "acc_score = accuracy_score(test[dependent_variables], knn.predict(test_independent))\n"
      ],
      "execution_count": null,
      "outputs": [
        {
          "output_type": "stream",
          "name": "stdout",
          "text": [
            "Fitting 10 folds for each of 30 candidates, totalling 300 fits\n"
          ]
        },
        {
          "output_type": "stream",
          "name": "stderr",
          "text": [
            "[Parallel(n_jobs=1)]: Using backend SequentialBackend with 1 concurrent workers.\n",
            "[Parallel(n_jobs=1)]: Done 300 out of 300 | elapsed:   12.7s finished\n"
          ]
        }
      ]
    },
    {
      "cell_type": "code",
      "metadata": {
        "colab": {
          "base_uri": "https://localhost:8080/"
        },
        "id": "Zexwo02Ep1ac",
        "outputId": "fc2efdb3-78f5-4791-ec52-151946fda682"
      },
      "source": [
        "# checking accuracy score and classification report\n",
        "\n",
        "print(\"Accuracy of k-NN Classification:\",acc_score,'\\n')\n",
        "print(\"Classification Report\",classification_report(test[dependent_variables], knn.predict(test_independent)))"
      ],
      "execution_count": null,
      "outputs": [
        {
          "output_type": "stream",
          "name": "stdout",
          "text": [
            "Accuracy of k-NN Classification: 0.9253472222222222 \n",
            "\n",
            "Classification Report               precision    recall  f1-score   support\n",
            "\n",
            "           0       1.00      0.85      0.92       569\n",
            "           1       0.87      1.00      0.93       583\n",
            "\n",
            "    accuracy                           0.93      1152\n",
            "   macro avg       0.93      0.92      0.92      1152\n",
            "weighted avg       0.93      0.93      0.92      1152\n",
            "\n"
          ]
        }
      ]
    },
    {
      "cell_type": "code",
      "metadata": {
        "colab": {
          "base_uri": "https://localhost:8080/",
          "height": 322
        },
        "id": "EwsPDXTq360H",
        "outputId": "39b04820-9847-4be2-9cd1-28b918feb9d7"
      },
      "source": [
        "#Confusion Matrix\n",
        "conf_matrix = confusion_matrix(test[dependent_variables],knn.predict(test_independent))\n",
        "print(\"confusion matrix\")\n",
        "print(conf_matrix)\n",
        "plt.matshow(conf_matrix)\n",
        "plt.colorbar()"
      ],
      "execution_count": null,
      "outputs": [
        {
          "output_type": "stream",
          "name": "stdout",
          "text": [
            "confusion matrix\n",
            "[[485  84]\n",
            " [  2 581]]\n"
          ]
        },
        {
          "output_type": "execute_result",
          "data": {
            "text/plain": [
              "<matplotlib.colorbar.Colorbar at 0x7fe674a7a0d0>"
            ]
          },
          "metadata": {},
          "execution_count": 372
        },
        {
          "output_type": "display_data",
          "data": {
            "image/png": "[encoded data removed]",
            "text/plain": [
              "<Figure size 288x288 with 2 Axes>"
            ]
          },
          "metadata": {
            "needs_background": "light"
          }
        }
      ]
    },
    {
      "cell_type": "code",
      "metadata": {
        "id": "Ff_ITLZahXoI",
        "colab": {
          "base_uri": "https://localhost:8080/",
          "height": 265
        },
        "outputId": "a13eb75f-2441-41e6-c640-483ad8c5faf2"
      },
      "source": [
        "# roc_auc curve\n",
        "\n",
        "fpr, tpr, threshold = metrics.roc_curve(test[dependent_variables], knn.predict(test_independent))\n",
        "auc = metrics.roc_auc_score(test[dependent_variables],knn.predict(test_independent))\n",
        "plt.plot(fpr,tpr,label=\"data , auc=\"+str(auc))\n",
        "plt.legend(loc=4)\n",
        "plt.show()"
      ],
      "execution_count": null,
      "outputs": [
        {
          "output_type": "display_data",
          "data": {
            "image/png": "[encoded data removed]",
            "text/plain": [
              "<Figure size 432x288 with 1 Axes>"
            ]
          },
          "metadata": {
            "needs_background": "light"
          }
        }
      ]
    },
    {
      "cell_type": "markdown",
      "metadata": {
        "id": "HCXWWwelO8Ws"
      },
      "source": [
        "**SVM Classifier**"
      ]
    },
    {
      "cell_type": "code",
      "metadata": {
        "colab": {
          "base_uri": "https://localhost:8080/"
        },
        "id": "sqQnH8gbQAVA",
        "outputId": "d78cd0b5-17ca-46b1-ef5f-6e1c96d24ab4"
      },
      "source": [
        "# Svm SVC classifier on training data\n",
        "\n",
        "param_grid = {'C': [0.1, 10, 100],\n",
        "              'gamma': [1, 0.1, 0.01, 0.001, 0.0001],\n",
        "              'kernel': ['rbf']}\n",
        " \n",
        "grid = GridSearchCV(svm.SVC(), param_grid, refit = True, verbose = 3)\n",
        "grid.fit(train[independent_variables], train[dependent_variables])"
      ],
      "execution_count": null,
      "outputs": [
        {
          "output_type": "stream",
          "name": "stdout",
          "text": [
            "Fitting 5 folds for each of 15 candidates, totalling 75 fits\n",
            "[CV] C=0.1, gamma=1, kernel=rbf ......................................\n"
          ]
        },
        {
          "output_type": "stream",
          "name": "stderr",
          "text": [
            "[Parallel(n_jobs=1)]: Using backend SequentialBackend with 1 concurrent workers.\n"
          ]
        },
        {
          "output_type": "stream",
          "name": "stdout",
          "text": [
            "[CV] .......... C=0.1, gamma=1, kernel=rbf, score=0.502, total=   0.8s\n",
            "[CV] C=0.1, gamma=1, kernel=rbf ......................................\n"
          ]
        },
        {
          "output_type": "stream",
          "name": "stderr",
          "text": [
            "[Parallel(n_jobs=1)]: Done   1 out of   1 | elapsed:    0.8s remaining:    0.0s\n"
          ]
        },
        {
          "output_type": "stream",
          "name": "stdout",
          "text": [
            "[CV] .......... C=0.1, gamma=1, kernel=rbf, score=0.502, total=   0.7s\n",
            "[CV] C=0.1, gamma=1, kernel=rbf ......................................\n"
          ]
        },
        {
          "output_type": "stream",
          "name": "stderr",
          "text": [
            "[Parallel(n_jobs=1)]: Done   2 out of   2 | elapsed:    1.5s remaining:    0.0s\n"
          ]
        },
        {
          "output_type": "stream",
          "name": "stdout",
          "text": [
            "[CV] .......... C=0.1, gamma=1, kernel=rbf, score=0.503, total=   0.7s\n",
            "[CV] C=0.1, gamma=1, kernel=rbf ......................................\n",
            "[CV] .......... C=0.1, gamma=1, kernel=rbf, score=0.503, total=   0.7s\n",
            "[CV] C=0.1, gamma=1, kernel=rbf ......................................\n",
            "[CV] .......... C=0.1, gamma=1, kernel=rbf, score=0.502, total=   0.7s\n",
            "[CV] C=0.1, gamma=0.1, kernel=rbf ....................................\n",
            "[CV] ........ C=0.1, gamma=0.1, kernel=rbf, score=0.502, total=   1.1s\n",
            "[CV] C=0.1, gamma=0.1, kernel=rbf ....................................\n",
            "[CV] ........ C=0.1, gamma=0.1, kernel=rbf, score=0.502, total=   1.0s\n",
            "[CV] C=0.1, gamma=0.1, kernel=rbf ....................................\n",
            "[CV] ........ C=0.1, gamma=0.1, kernel=rbf, score=0.503, total=   1.0s\n",
            "[CV] C=0.1, gamma=0.1, kernel=rbf ....................................\n",
            "[CV] ........ C=0.1, gamma=0.1, kernel=rbf, score=0.503, total=   1.0s\n",
            "[CV] C=0.1, gamma=0.1, kernel=rbf ....................................\n",
            "[CV] ........ C=0.1, gamma=0.1, kernel=rbf, score=0.502, total=   1.0s\n",
            "[CV] C=0.1, gamma=0.01, kernel=rbf ...................................\n",
            "[CV] ....... C=0.1, gamma=0.01, kernel=rbf, score=0.569, total=   0.9s\n",
            "[CV] C=0.1, gamma=0.01, kernel=rbf ...................................\n",
            "[CV] ....... C=0.1, gamma=0.01, kernel=rbf, score=0.605, total=   0.9s\n",
            "[CV] C=0.1, gamma=0.01, kernel=rbf ...................................\n",
            "[CV] ....... C=0.1, gamma=0.01, kernel=rbf, score=0.592, total=   0.9s\n",
            "[CV] C=0.1, gamma=0.01, kernel=rbf ...................................\n",
            "[CV] ....... C=0.1, gamma=0.01, kernel=rbf, score=0.591, total=   0.9s\n",
            "[CV] C=0.1, gamma=0.01, kernel=rbf ...................................\n",
            "[CV] ....... C=0.1, gamma=0.01, kernel=rbf, score=0.568, total=   0.9s\n",
            "[CV] C=0.1, gamma=0.001, kernel=rbf ..................................\n",
            "[CV] ...... C=0.1, gamma=0.001, kernel=rbf, score=0.675, total=   0.8s\n",
            "[CV] C=0.1, gamma=0.001, kernel=rbf ..................................\n",
            "[CV] ...... C=0.1, gamma=0.001, kernel=rbf, score=0.692, total=   0.8s\n",
            "[CV] C=0.1, gamma=0.001, kernel=rbf ..................................\n",
            "[CV] ...... C=0.1, gamma=0.001, kernel=rbf, score=0.646, total=   0.8s\n",
            "[CV] C=0.1, gamma=0.001, kernel=rbf ..................................\n",
            "[CV] ...... C=0.1, gamma=0.001, kernel=rbf, score=0.691, total=   0.8s\n",
            "[CV] C=0.1, gamma=0.001, kernel=rbf ..................................\n",
            "[CV] ...... C=0.1, gamma=0.001, kernel=rbf, score=0.700, total=   0.8s\n",
            "[CV] C=0.1, gamma=0.0001, kernel=rbf .................................\n",
            "[CV] ..... C=0.1, gamma=0.0001, kernel=rbf, score=0.652, total=   0.8s\n",
            "[CV] C=0.1, gamma=0.0001, kernel=rbf .................................\n",
            "[CV] ..... C=0.1, gamma=0.0001, kernel=rbf, score=0.662, total=   0.8s\n",
            "[CV] C=0.1, gamma=0.0001, kernel=rbf .................................\n",
            "[CV] ..... C=0.1, gamma=0.0001, kernel=rbf, score=0.642, total=   0.8s\n",
            "[CV] C=0.1, gamma=0.0001, kernel=rbf .................................\n",
            "[CV] ..... C=0.1, gamma=0.0001, kernel=rbf, score=0.670, total=   0.8s\n",
            "[CV] C=0.1, gamma=0.0001, kernel=rbf .................................\n",
            "[CV] ..... C=0.1, gamma=0.0001, kernel=rbf, score=0.701, total=   0.8s\n",
            "[CV] C=10, gamma=1, kernel=rbf .......................................\n",
            "[CV] ........... C=10, gamma=1, kernel=rbf, score=0.990, total=   0.6s\n",
            "[CV] C=10, gamma=1, kernel=rbf .......................................\n",
            "[CV] ........... C=10, gamma=1, kernel=rbf, score=0.978, total=   0.6s\n",
            "[CV] C=10, gamma=1, kernel=rbf .......................................\n",
            "[CV] ........... C=10, gamma=1, kernel=rbf, score=0.982, total=   0.6s\n",
            "[CV] C=10, gamma=1, kernel=rbf .......................................\n",
            "[CV] ........... C=10, gamma=1, kernel=rbf, score=0.983, total=   0.6s\n",
            "[CV] C=10, gamma=1, kernel=rbf .......................................\n",
            "[CV] ........... C=10, gamma=1, kernel=rbf, score=0.991, total=   0.7s\n",
            "[CV] C=10, gamma=0.1, kernel=rbf .....................................\n",
            "[CV] ......... C=10, gamma=0.1, kernel=rbf, score=0.990, total=   0.8s\n",
            "[CV] C=10, gamma=0.1, kernel=rbf .....................................\n",
            "[CV] ......... C=10, gamma=0.1, kernel=rbf, score=0.978, total=   0.8s\n",
            "[CV] C=10, gamma=0.1, kernel=rbf .....................................\n",
            "[CV] ......... C=10, gamma=0.1, kernel=rbf, score=0.982, total=   0.8s\n",
            "[CV] C=10, gamma=0.1, kernel=rbf .....................................\n",
            "[CV] ......... C=10, gamma=0.1, kernel=rbf, score=0.983, total=   0.8s\n",
            "[CV] C=10, gamma=0.1, kernel=rbf .....................................\n",
            "[CV] ......... C=10, gamma=0.1, kernel=rbf, score=0.991, total=   0.8s\n",
            "[CV] C=10, gamma=0.01, kernel=rbf ....................................\n",
            "[CV] ........ C=10, gamma=0.01, kernel=rbf, score=0.983, total=   0.6s\n",
            "[CV] C=10, gamma=0.01, kernel=rbf ....................................\n",
            "[CV] ........ C=10, gamma=0.01, kernel=rbf, score=0.967, total=   0.7s\n",
            "[CV] C=10, gamma=0.01, kernel=rbf ....................................\n",
            "[CV] ........ C=10, gamma=0.01, kernel=rbf, score=0.975, total=   0.7s\n",
            "[CV] C=10, gamma=0.01, kernel=rbf ....................................\n",
            "[CV] ........ C=10, gamma=0.01, kernel=rbf, score=0.966, total=   0.7s\n",
            "[CV] C=10, gamma=0.01, kernel=rbf ....................................\n",
            "[CV] ........ C=10, gamma=0.01, kernel=rbf, score=0.975, total=   0.7s\n",
            "[CV] C=10, gamma=0.001, kernel=rbf ...................................\n",
            "[CV] ....... C=10, gamma=0.001, kernel=rbf, score=0.835, total=   1.0s\n",
            "[CV] C=10, gamma=0.001, kernel=rbf ...................................\n",
            "[CV] ....... C=10, gamma=0.001, kernel=rbf, score=0.841, total=   1.0s\n",
            "[CV] C=10, gamma=0.001, kernel=rbf ...................................\n",
            "[CV] ....... C=10, gamma=0.001, kernel=rbf, score=0.819, total=   0.9s\n",
            "[CV] C=10, gamma=0.001, kernel=rbf ...................................\n",
            "[CV] ....... C=10, gamma=0.001, kernel=rbf, score=0.846, total=   0.9s\n",
            "[CV] C=10, gamma=0.001, kernel=rbf ...................................\n",
            "[CV] ....... C=10, gamma=0.001, kernel=rbf, score=0.862, total=   0.9s\n",
            "[CV] C=10, gamma=0.0001, kernel=rbf ..................................\n",
            "[CV] ...... C=10, gamma=0.0001, kernel=rbf, score=0.696, total=   0.9s\n",
            "[CV] C=10, gamma=0.0001, kernel=rbf ..................................\n",
            "[CV] ...... C=10, gamma=0.0001, kernel=rbf, score=0.711, total=   0.9s\n",
            "[CV] C=10, gamma=0.0001, kernel=rbf ..................................\n",
            "[CV] ...... C=10, gamma=0.0001, kernel=rbf, score=0.678, total=   0.8s\n",
            "[CV] C=10, gamma=0.0001, kernel=rbf ..................................\n",
            "[CV] ...... C=10, gamma=0.0001, kernel=rbf, score=0.688, total=   0.8s\n",
            "[CV] C=10, gamma=0.0001, kernel=rbf ..................................\n",
            "[CV] ...... C=10, gamma=0.0001, kernel=rbf, score=0.716, total=   0.9s\n",
            "[CV] C=100, gamma=1, kernel=rbf ......................................\n",
            "[CV] .......... C=100, gamma=1, kernel=rbf, score=0.990, total=   0.6s\n",
            "[CV] C=100, gamma=1, kernel=rbf ......................................\n",
            "[CV] .......... C=100, gamma=1, kernel=rbf, score=0.978, total=   0.6s\n",
            "[CV] C=100, gamma=1, kernel=rbf ......................................\n",
            "[CV] .......... C=100, gamma=1, kernel=rbf, score=0.982, total=   0.6s\n",
            "[CV] C=100, gamma=1, kernel=rbf ......................................\n",
            "[CV] .......... C=100, gamma=1, kernel=rbf, score=0.983, total=   0.6s\n",
            "[CV] C=100, gamma=1, kernel=rbf ......................................\n",
            "[CV] .......... C=100, gamma=1, kernel=rbf, score=0.991, total=   0.7s\n",
            "[CV] C=100, gamma=0.1, kernel=rbf ....................................\n",
            "[CV] ........ C=100, gamma=0.1, kernel=rbf, score=0.990, total=   0.8s\n",
            "[CV] C=100, gamma=0.1, kernel=rbf ....................................\n",
            "[CV] ........ C=100, gamma=0.1, kernel=rbf, score=0.978, total=   0.8s\n",
            "[CV] C=100, gamma=0.1, kernel=rbf ....................................\n",
            "[CV] ........ C=100, gamma=0.1, kernel=rbf, score=0.982, total=   0.8s\n",
            "[CV] C=100, gamma=0.1, kernel=rbf ....................................\n",
            "[CV] ........ C=100, gamma=0.1, kernel=rbf, score=0.983, total=   0.8s\n",
            "[CV] C=100, gamma=0.1, kernel=rbf ....................................\n",
            "[CV] ........ C=100, gamma=0.1, kernel=rbf, score=0.991, total=   0.8s\n",
            "[CV] C=100, gamma=0.01, kernel=rbf ...................................\n",
            "[CV] ....... C=100, gamma=0.01, kernel=rbf, score=0.983, total=   0.7s\n",
            "[CV] C=100, gamma=0.01, kernel=rbf ...................................\n",
            "[CV] ....... C=100, gamma=0.01, kernel=rbf, score=0.967, total=   0.7s\n",
            "[CV] C=100, gamma=0.01, kernel=rbf ...................................\n",
            "[CV] ....... C=100, gamma=0.01, kernel=rbf, score=0.975, total=   0.7s\n",
            "[CV] C=100, gamma=0.01, kernel=rbf ...................................\n",
            "[CV] ....... C=100, gamma=0.01, kernel=rbf, score=0.966, total=   0.7s\n",
            "[CV] C=100, gamma=0.01, kernel=rbf ...................................\n",
            "[CV] ....... C=100, gamma=0.01, kernel=rbf, score=0.975, total=   0.6s\n",
            "[CV] C=100, gamma=0.001, kernel=rbf ..................................\n",
            "[CV] ...... C=100, gamma=0.001, kernel=rbf, score=0.888, total=   1.6s\n",
            "[CV] C=100, gamma=0.001, kernel=rbf ..................................\n",
            "[CV] ...... C=100, gamma=0.001, kernel=rbf, score=0.888, total=   1.7s\n",
            "[CV] C=100, gamma=0.001, kernel=rbf ..................................\n",
            "[CV] ...... C=100, gamma=0.001, kernel=rbf, score=0.874, total=   1.7s\n",
            "[CV] C=100, gamma=0.001, kernel=rbf ..................................\n",
            "[CV] ...... C=100, gamma=0.001, kernel=rbf, score=0.887, total=   1.8s\n",
            "[CV] C=100, gamma=0.001, kernel=rbf ..................................\n",
            "[CV] ...... C=100, gamma=0.001, kernel=rbf, score=0.891, total=   1.7s\n",
            "[CV] C=100, gamma=0.0001, kernel=rbf .................................\n",
            "[CV] ..... C=100, gamma=0.0001, kernel=rbf, score=0.716, total=   1.5s\n",
            "[CV] C=100, gamma=0.0001, kernel=rbf .................................\n",
            "[CV] ..... C=100, gamma=0.0001, kernel=rbf, score=0.720, total=   1.5s\n",
            "[CV] C=100, gamma=0.0001, kernel=rbf .................................\n",
            "[CV] ..... C=100, gamma=0.0001, kernel=rbf, score=0.704, total=   1.4s\n",
            "[CV] C=100, gamma=0.0001, kernel=rbf .................................\n",
            "[CV] ..... C=100, gamma=0.0001, kernel=rbf, score=0.716, total=   1.5s\n",
            "[CV] C=100, gamma=0.0001, kernel=rbf .................................\n",
            "[CV] ..... C=100, gamma=0.0001, kernel=rbf, score=0.737, total=   1.4s\n"
          ]
        },
        {
          "output_type": "stream",
          "name": "stderr",
          "text": [
            "[Parallel(n_jobs=1)]: Done  75 out of  75 | elapsed:  1.1min finished\n"
          ]
        },
        {
          "output_type": "execute_result",
          "data": {
            "text/plain": [
              "GridSearchCV(cv=None, error_score=nan,\n",
              "             estimator=SVC(C=1.0, break_ties=False, cache_size=200,\n",
              "                           class_weight=None, coef0=0.0,\n",
              "                           decision_function_shape='ovr', degree=3,\n",
              "                           gamma='scale', kernel='rbf', max_iter=-1,\n",
              "                           probability=False, random_state=None, shrinking=True,\n",
              "                           tol=0.001, verbose=False),\n",
              "             iid='deprecated', n_jobs=None,\n",
              "             param_grid={'C': [0.1, 10, 100],\n",
              "                         'gamma': [1, 0.1, 0.01, 0.001, 0.0001],\n",
              "                         'kernel': ['rbf']},\n",
              "             pre_dispatch='2*n_jobs', refit=True, return_train_score=False,\n",
              "             scoring=None, verbose=3)"
            ]
          },
          "metadata": {},
          "execution_count": 413
        }
      ]
    },
    {
      "cell_type": "code",
      "metadata": {
        "colab": {
          "base_uri": "https://localhost:8080/"
        },
        "id": "VmZxg27jTkB4",
        "outputId": "4e2ba17c-0558-439f-d90b-d074feec7546"
      },
      "source": [
        "# accuracy score\n",
        "\n",
        "acc_score = accuracy_score(test[dependent_variables], grid.predict(test_independent))\n",
        "print(\"Accuracy of SVM Classification:\",acc_score,'\\n')\n",
        "print(\"Classification Report\",classification_report(test[dependent_variables], grid.predict(test_independent)))"
      ],
      "execution_count": null,
      "outputs": [
        {
          "output_type": "stream",
          "name": "stdout",
          "text": [
            "Accuracy of SVM Classification: 0.9965277777777778 \n",
            "\n",
            "Classification Report               precision    recall  f1-score   support\n",
            "\n",
            "           0       0.99      1.00      1.00       569\n",
            "           1       1.00      0.99      1.00       583\n",
            "\n",
            "    accuracy                           1.00      1152\n",
            "   macro avg       1.00      1.00      1.00      1152\n",
            "weighted avg       1.00      1.00      1.00      1152\n",
            "\n"
          ]
        }
      ]
    },
    {
      "cell_type": "code",
      "metadata": {
        "colab": {
          "base_uri": "https://localhost:8080/",
          "height": 327
        },
        "id": "hbjftG_YUyme",
        "outputId": "aff4eda4-ac1b-47b7-a97e-bcf6d7e25466"
      },
      "source": [
        "# confusion matrix\n",
        "conf_matrix = confusion_matrix(test[dependent_variables],grid.predict(test_independent))\n",
        "print(\"confusion matrix\")\n",
        "print(conf_matrix)\n",
        "plt.matshow(conf_matrix)\n",
        "plt.colorbar()"
      ],
      "execution_count": null,
      "outputs": [
        {
          "output_type": "stream",
          "name": "stdout",
          "text": [
            "confusion matrix\n",
            "[[569   0]\n",
            " [  4 579]]\n"
          ]
        },
        {
          "output_type": "execute_result",
          "data": {
            "text/plain": [
              "<matplotlib.colorbar.Colorbar at 0x7fe673f79810>"
            ]
          },
          "metadata": {},
          "execution_count": 415
        },
        {
          "output_type": "display_data",
          "data": {
            "image/png": "[encoded data removed]",
            "text/plain": [
              "<Figure size 288x288 with 2 Axes>"
            ]
          },
          "metadata": {
            "needs_background": "light"
          }
        }
      ]
    },
    {
      "cell_type": "code",
      "metadata": {
        "colab": {
          "base_uri": "https://localhost:8080/",
          "height": 265
        },
        "id": "TVPK-D2dU0kT",
        "outputId": "5e7f9924-8509-49c6-fadc-85233f99c2ae"
      },
      "source": [
        "# roc curve\n",
        "fpr, tpr, threshold = metrics.roc_curve(test[dependent_variables], grid.predict(test_independent))\n",
        "auc = metrics.roc_auc_score(test[dependent_variables],grid.predict(test_independent))\n",
        "plt.plot(fpr,tpr,label=\"data , auc=\"+str(auc))\n",
        "plt.legend(loc=4)\n",
        "plt.show()"
      ],
      "execution_count": null,
      "outputs": [
        {
          "output_type": "display_data",
          "data": {
            "image/png": "[encoded data removed]",
            "text/plain": [
              "<Figure size 432x288 with 1 Axes>"
            ]
          },
          "metadata": {
            "needs_background": "light"
          }
        }
      ]
    }
  ]
}