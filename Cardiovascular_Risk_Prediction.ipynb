{
  "cells": [
    {
      "cell_type": "markdown",
      "metadata": {
        "id": "view-in-github",
        "colab_type": "text"
      },
      "source": [
        "<a href=\"https://colab.research.google.com/github/SAKSHIDHYANI/Cardiovascular-Risk-Prediction/blob/main/Cardiovascular_Risk_Prediction.ipynb\" target=\"_parent\"><img src=\"https://colab.research.google.com/assets/colab-badge.svg\" alt=\"Open In Colab\"/></a>"
      ]
    },
    {
      "cell_type": "markdown",
      "metadata": {
        "id": "dvw3PRSNT3D-"
      },
      "source": [
        "**The dataset is from an ongoing cardiovascular study on residents of the town of Framingham,**\n",
        "**Massachusetts. The classification goal is to predict whether the patient has a 10-year risk of**\n",
        "**future coronary heart disease (CHD). The dataset provides the patients’ information. It includes**\n",
        "**over 4,000 records and 15 attributes.**\n",
        "**Variables**\n",
        "**Each attribute is a potential risk factor. There are both demographic, behavioral, and medical risk**\n",
        "**factors.**\n",
        "\n",
        "**Data Description**\n",
        "**Demographic:**\n",
        "\n",
        "**• Sex: male or female(\"M\" or \"F\")**\n",
        "\n",
        "**• Age: Age of the patient;(Continuous - Although the recorded ages have been truncated to**\n",
        "**whole numbers, the concept of age is continuous)**\n",
        "\n",
        "**Behavioral**\n",
        "\n",
        "**• is_smoking: whether or not the patient is a current smoker (\"YES\" or \"NO\")**\n",
        "\n",
        "**• Cigs Per Day: the number of cigarettes that the person smoked on average in one day.(can be**\n",
        "**considered continuous as one can have any number of cigarettes, even half a cigarette.)**\n",
        "\n",
        "**Medical( history)**\n",
        "\n",
        "**• BP Meds: whether or not the patient was on blood pressure medication (Nominal)**\n",
        "\n",
        "**• Prevalent Stroke: whether or not the patient had previously had a stroke (Nominal)**\n",
        "\n",
        "**• Prevalent Hyp: whether or not the patient was hypertensive (Nominal)**\n",
        "\n",
        "**• Diabetes: whether or not the patient had diabetes (Nominal)**\n",
        "\n",
        "**Medical(current)**\n",
        "\n",
        "**• Tot Chol: total cholesterol level (Continuous)**\n",
        "\n",
        "**• Sys BP: systolic blood pressure (Continuous)**\n",
        "\n",
        "**• Dia BP: diastolic blood pressure (Continuous)**\n",
        "\n",
        "**• BMI: Body Mass Index (Continuous)**\n",
        "\n",
        "**• Heart Rate: heart rate (Continuous - In medical research, variables such as heart rate though in**\n",
        "**fact discrete, yet are considered continuous because of large number of possible values.)**\n",
        "\n",
        "**• Glucose: glucose level (Continuous)**\n",
        "\n",
        "**Predict variable (desired target)**\n",
        "\n",
        "**• 10-year risk of coronary heart disease CHD(binary: “1”, means “Yes”, “0”** **means “No”)**"
      ]
    },
    {
      "cell_type": "markdown",
      "metadata": {
        "id": "X-XxVXQLYQgf"
      },
      "source": [
        "##**Importing required libraries**"
      ]
    },
    {
      "cell_type": "code",
      "execution_count": 1,
      "metadata": {
        "id": "Or7vArIiTwVI"
      },
      "outputs": [],
      "source": [
        "#importing required libraries\n",
        "\n",
        "import numpy as np\n",
        "import pandas as pd\n",
        "from sklearn.tree import DecisionTreeClassifier \n",
        "from sklearn import metrics\n",
        "from sklearn.model_selection import train_test_split\n",
        "import seaborn as sns\n",
        "import matplotlib.pyplot as plt\n",
        "from sklearn.ensemble import RandomForestClassifier\n",
        "from sklearn.metrics import accuracy_score \n",
        "from sklearn.linear_model import LogisticRegression\n",
        "from sklearn.utils import resample\n",
        "from sklearn import svm\n",
        "from sklearn.model_selection import GridSearchCV\n",
        "from sklearn.linear_model import LogisticRegression\n",
        "from sklearn.neighbors import KNeighborsClassifier\n",
        "from sklearn.metrics import confusion_matrix, accuracy_score, roc_curve, classification_report\n",
        "from sklearn.impute import KNNImputer"
      ]
    },
    {
      "cell_type": "code",
      "execution_count": 2,
      "metadata": {
        "colab": {
          "base_uri": "https://localhost:8080/"
        },
        "id": "4tMv3FVZcLQU",
        "outputId": "b964a28d-ea11-461a-b58a-5603239938b4"
      },
      "outputs": [
        {
          "output_type": "stream",
          "name": "stdout",
          "text": [
            "Drive already mounted at /content/drive; to attempt to forcibly remount, call drive.mount(\"/content/drive\", force_remount=True).\n"
          ]
        }
      ],
      "source": [
        "from google.colab import drive\n",
        "drive.mount('/content/drive')"
      ]
    },
    {
      "cell_type": "markdown",
      "metadata": {
        "id": "Zvx70YRjYX2v"
      },
      "source": [
        "##**Loading data from csv file to dataframe**"
      ]
    },
    {
      "cell_type": "code",
      "execution_count": 3,
      "metadata": {
        "id": "d0-saEX6cnV7"
      },
      "outputs": [],
      "source": [
        "# saving data from csv to dataframe\n",
        "data = pd.read_csv(\"/content/drive/MyDrive/Almabetter/Cardiovascular Risk Prediction - Sakshi Dhyani/data_cardiovascular_risk.csv\")"
      ]
    },
    {
      "cell_type": "code",
      "execution_count": 4,
      "metadata": {
        "colab": {
          "base_uri": "https://localhost:8080/",
          "height": 206
        },
        "id": "7Vqfpf5KcqMd",
        "outputId": "7cca2207-3443-40a9-8879-19fa6420846f"
      },
      "outputs": [
        {
          "output_type": "execute_result",
          "data": {
            "text/plain": [
              "   id  age  education sex is_smoking  cigsPerDay  BPMeds  prevalentStroke  \\\n",
              "0   0   64        2.0   F        YES         3.0     0.0                0   \n",
              "1   1   36        4.0   M         NO         0.0     0.0                0   \n",
              "2   2   46        1.0   F        YES        10.0     0.0                0   \n",
              "3   3   50        1.0   M        YES        20.0     0.0                0   \n",
              "4   4   64        1.0   F        YES        30.0     0.0                0   \n",
              "\n",
              "   prevalentHyp  diabetes  totChol  sysBP  diaBP    BMI  heartRate  glucose  \\\n",
              "0             0         0    221.0  148.0   85.0    NaN       90.0     80.0   \n",
              "1             1         0    212.0  168.0   98.0  29.77       72.0     75.0   \n",
              "2             0         0    250.0  116.0   71.0  20.35       88.0     94.0   \n",
              "3             1         0    233.0  158.0   88.0  28.26       68.0     94.0   \n",
              "4             0         0    241.0  136.5   85.0  26.42       70.0     77.0   \n",
              "\n",
              "   TenYearCHD  \n",
              "0           1  \n",
              "1           0  \n",
              "2           0  \n",
              "3           1  \n",
              "4           0  "
            ],
            "text/html": [
              "\n",
              "  <div id=\"df-905afe2d-bf23-47f0-9dcb-e4e6062cd0f1\">\n",
              "    <div class=\"colab-df-container\">\n",
              "      <div>\n",
              "<style scoped>\n",
              "    .dataframe tbody tr th:only-of-type {\n",
              "        vertical-align: middle;\n",
              "    }\n",
              "\n",
              "    .dataframe tbody tr th {\n",
              "        vertical-align: top;\n",
              "    }\n",
              "\n",
              "    .dataframe thead th {\n",
              "        text-align: right;\n",
              "    }\n",
              "</style>\n",
              "<table border=\"1\" class=\"dataframe\">\n",
              "  <thead>\n",
              "    <tr style=\"text-align: right;\">\n",
              "      <th></th>\n",
              "      <th>id</th>\n",
              "      <th>age</th>\n",
              "      <th>education</th>\n",
              "      <th>sex</th>\n",
              "      <th>is_smoking</th>\n",
              "      <th>cigsPerDay</th>\n",
              "      <th>BPMeds</th>\n",
              "      <th>prevalentStroke</th>\n",
              "      <th>prevalentHyp</th>\n",
              "      <th>diabetes</th>\n",
              "      <th>totChol</th>\n",
              "      <th>sysBP</th>\n",
              "      <th>diaBP</th>\n",
              "      <th>BMI</th>\n",
              "      <th>heartRate</th>\n",
              "      <th>glucose</th>\n",
              "      <th>TenYearCHD</th>\n",
              "    </tr>\n",
              "  </thead>\n",
              "  <tbody>\n",
              "    <tr>\n",
              "      <th>0</th>\n",
              "      <td>0</td>\n",
              "      <td>64</td>\n",
              "      <td>2.0</td>\n",
              "      <td>F</td>\n",
              "      <td>YES</td>\n",
              "      <td>3.0</td>\n",
              "      <td>0.0</td>\n",
              "      <td>0</td>\n",
              "      <td>0</td>\n",
              "      <td>0</td>\n",
              "      <td>221.0</td>\n",
              "      <td>148.0</td>\n",
              "      <td>85.0</td>\n",
              "      <td>NaN</td>\n",
              "      <td>90.0</td>\n",
              "      <td>80.0</td>\n",
              "      <td>1</td>\n",
              "    </tr>\n",
              "    <tr>\n",
              "      <th>1</th>\n",
              "      <td>1</td>\n",
              "      <td>36</td>\n",
              "      <td>4.0</td>\n",
              "      <td>M</td>\n",
              "      <td>NO</td>\n",
              "      <td>0.0</td>\n",
              "      <td>0.0</td>\n",
              "      <td>0</td>\n",
              "      <td>1</td>\n",
              "      <td>0</td>\n",
              "      <td>212.0</td>\n",
              "      <td>168.0</td>\n",
              "      <td>98.0</td>\n",
              "      <td>29.77</td>\n",
              "      <td>72.0</td>\n",
              "      <td>75.0</td>\n",
              "      <td>0</td>\n",
              "    </tr>\n",
              "    <tr>\n",
              "      <th>2</th>\n",
              "      <td>2</td>\n",
              "      <td>46</td>\n",
              "      <td>1.0</td>\n",
              "      <td>F</td>\n",
              "      <td>YES</td>\n",
              "      <td>10.0</td>\n",
              "      <td>0.0</td>\n",
              "      <td>0</td>\n",
              "      <td>0</td>\n",
              "      <td>0</td>\n",
              "      <td>250.0</td>\n",
              "      <td>116.0</td>\n",
              "      <td>71.0</td>\n",
              "      <td>20.35</td>\n",
              "      <td>88.0</td>\n",
              "      <td>94.0</td>\n",
              "      <td>0</td>\n",
              "    </tr>\n",
              "    <tr>\n",
              "      <th>3</th>\n",
              "      <td>3</td>\n",
              "      <td>50</td>\n",
              "      <td>1.0</td>\n",
              "      <td>M</td>\n",
              "      <td>YES</td>\n",
              "      <td>20.0</td>\n",
              "      <td>0.0</td>\n",
              "      <td>0</td>\n",
              "      <td>1</td>\n",
              "      <td>0</td>\n",
              "      <td>233.0</td>\n",
              "      <td>158.0</td>\n",
              "      <td>88.0</td>\n",
              "      <td>28.26</td>\n",
              "      <td>68.0</td>\n",
              "      <td>94.0</td>\n",
              "      <td>1</td>\n",
              "    </tr>\n",
              "    <tr>\n",
              "      <th>4</th>\n",
              "      <td>4</td>\n",
              "      <td>64</td>\n",
              "      <td>1.0</td>\n",
              "      <td>F</td>\n",
              "      <td>YES</td>\n",
              "      <td>30.0</td>\n",
              "      <td>0.0</td>\n",
              "      <td>0</td>\n",
              "      <td>0</td>\n",
              "      <td>0</td>\n",
              "      <td>241.0</td>\n",
              "      <td>136.5</td>\n",
              "      <td>85.0</td>\n",
              "      <td>26.42</td>\n",
              "      <td>70.0</td>\n",
              "      <td>77.0</td>\n",
              "      <td>0</td>\n",
              "    </tr>\n",
              "  </tbody>\n",
              "</table>\n",
              "</div>\n",
              "      <button class=\"colab-df-convert\" onclick=\"convertToInteractive('df-905afe2d-bf23-47f0-9dcb-e4e6062cd0f1')\"\n",
              "              title=\"Convert this dataframe to an interactive table.\"\n",
              "              style=\"display:none;\">\n",
              "        \n",
              "  <svg xmlns=\"http://www.w3.org/2000/svg\" height=\"24px\"viewBox=\"0 0 24 24\"\n",
              "       width=\"24px\">\n",
              "    <path d=\"M0 0h24v24H0V0z\" fill=\"none\"/>\n",
              "    <path d=\"M18.56 5.44l.94 2.06.94-2.06 2.06-.94-2.06-.94-.94-2.06-.94 2.06-2.06.94zm-11 1L8.5 8.5l.94-2.06 2.06-.94-2.06-.94L8.5 2.5l-.94 2.06-2.06.94zm10 10l.94 2.06.94-2.06 2.06-.94-2.06-.94-.94-2.06-.94 2.06-2.06.94z\"/><path d=\"M17.41 7.96l-1.37-1.37c-.4-.4-.92-.59-1.43-.59-.52 0-1.04.2-1.43.59L10.3 9.45l-7.72 7.72c-.78.78-.78 2.05 0 2.83L4 21.41c.39.39.9.59 1.41.59.51 0 1.02-.2 1.41-.59l7.78-7.78 2.81-2.81c.8-.78.8-2.07 0-2.86zM5.41 20L4 18.59l7.72-7.72 1.47 1.35L5.41 20z\"/>\n",
              "  </svg>\n",
              "      </button>\n",
              "      \n",
              "  <style>\n",
              "    .colab-df-container {\n",
              "      display:flex;\n",
              "      flex-wrap:wrap;\n",
              "      gap: 12px;\n",
              "    }\n",
              "\n",
              "    .colab-df-convert {\n",
              "      background-color: #E8F0FE;\n",
              "      border: none;\n",
              "      border-radius: 50%;\n",
              "      cursor: pointer;\n",
              "      display: none;\n",
              "      fill: #1967D2;\n",
              "      height: 32px;\n",
              "      padding: 0 0 0 0;\n",
              "      width: 32px;\n",
              "    }\n",
              "\n",
              "    .colab-df-convert:hover {\n",
              "      background-color: #E2EBFA;\n",
              "      box-shadow: 0px 1px 2px rgba(60, 64, 67, 0.3), 0px 1px 3px 1px rgba(60, 64, 67, 0.15);\n",
              "      fill: #174EA6;\n",
              "    }\n",
              "\n",
              "    [theme=dark] .colab-df-convert {\n",
              "      background-color: #3B4455;\n",
              "      fill: #D2E3FC;\n",
              "    }\n",
              "\n",
              "    [theme=dark] .colab-df-convert:hover {\n",
              "      background-color: #434B5C;\n",
              "      box-shadow: 0px 1px 3px 1px rgba(0, 0, 0, 0.15);\n",
              "      filter: drop-shadow(0px 1px 2px rgba(0, 0, 0, 0.3));\n",
              "      fill: #FFFFFF;\n",
              "    }\n",
              "  </style>\n",
              "\n",
              "      <script>\n",
              "        const buttonEl =\n",
              "          document.querySelector('#df-905afe2d-bf23-47f0-9dcb-e4e6062cd0f1 button.colab-df-convert');\n",
              "        buttonEl.style.display =\n",
              "          google.colab.kernel.accessAllowed ? 'block' : 'none';\n",
              "\n",
              "        async function convertToInteractive(key) {\n",
              "          const element = document.querySelector('#df-905afe2d-bf23-47f0-9dcb-e4e6062cd0f1');\n",
              "          const dataTable =\n",
              "            await google.colab.kernel.invokeFunction('convertToInteractive',\n",
              "                                                     [key], {});\n",
              "          if (!dataTable) return;\n",
              "\n",
              "          const docLinkHtml = 'Like what you see? Visit the ' +\n",
              "            '<a target=\"_blank\" href=https://colab.research.google.com/notebooks/data_table.ipynb>data table notebook</a>'\n",
              "            + ' to learn more about interactive tables.';\n",
              "          element.innerHTML = '';\n",
              "          dataTable['output_type'] = 'display_data';\n",
              "          await google.colab.output.renderOutput(dataTable, element);\n",
              "          const docLink = document.createElement('div');\n",
              "          docLink.innerHTML = docLinkHtml;\n",
              "          element.appendChild(docLink);\n",
              "        }\n",
              "      </script>\n",
              "    </div>\n",
              "  </div>\n",
              "  "
            ]
          },
          "metadata": {},
          "execution_count": 4
        }
      ],
      "source": [
        "# checking the data columns and values for some rows\n",
        "data.head()"
      ]
    },
    {
      "cell_type": "code",
      "execution_count": 5,
      "metadata": {
        "colab": {
          "base_uri": "https://localhost:8080/"
        },
        "id": "cuAAgq_LrA9m",
        "outputId": "ee0efe94-4d54-4fd8-dc35-f3925ddaf1c0"
      },
      "outputs": [
        {
          "output_type": "execute_result",
          "data": {
            "text/plain": [
              "(3390, 17)"
            ]
          },
          "metadata": {},
          "execution_count": 5
        }
      ],
      "source": [
        "data.shape"
      ]
    },
    {
      "cell_type": "code",
      "execution_count": 6,
      "metadata": {
        "colab": {
          "base_uri": "https://localhost:8080/"
        },
        "id": "pqea0NQ0csRV",
        "outputId": "8beabb40-ae86-4129-d495-96bcc7f8ed03"
      },
      "outputs": [
        {
          "output_type": "execute_result",
          "data": {
            "text/plain": [
              "<bound method DataFrame.info of         id  age  education sex is_smoking  cigsPerDay  BPMeds  \\\n",
              "0        0   64        2.0   F        YES         3.0     0.0   \n",
              "1        1   36        4.0   M         NO         0.0     0.0   \n",
              "2        2   46        1.0   F        YES        10.0     0.0   \n",
              "3        3   50        1.0   M        YES        20.0     0.0   \n",
              "4        4   64        1.0   F        YES        30.0     0.0   \n",
              "...    ...  ...        ...  ..        ...         ...     ...   \n",
              "3385  3385   60        1.0   F         NO         0.0     0.0   \n",
              "3386  3386   46        1.0   F         NO         0.0     0.0   \n",
              "3387  3387   44        3.0   M        YES         3.0     0.0   \n",
              "3388  3388   60        1.0   M         NO         0.0     NaN   \n",
              "3389  3389   54        3.0   F         NO         0.0     0.0   \n",
              "\n",
              "      prevalentStroke  prevalentHyp  diabetes  totChol  sysBP  diaBP    BMI  \\\n",
              "0                   0             0         0    221.0  148.0   85.0    NaN   \n",
              "1                   0             1         0    212.0  168.0   98.0  29.77   \n",
              "2                   0             0         0    250.0  116.0   71.0  20.35   \n",
              "3                   0             1         0    233.0  158.0   88.0  28.26   \n",
              "4                   0             0         0    241.0  136.5   85.0  26.42   \n",
              "...               ...           ...       ...      ...    ...    ...    ...   \n",
              "3385                0             0         0    261.0  123.5   79.0  29.28   \n",
              "3386                0             0         0    199.0  102.0   56.0  21.96   \n",
              "3387                0             1         0    352.0  164.0  119.0  28.92   \n",
              "3388                0             1         0    191.0  167.0  105.0  23.01   \n",
              "3389                0             0         0    288.0  124.0   77.0  29.88   \n",
              "\n",
              "      heartRate  glucose  TenYearCHD  \n",
              "0          90.0     80.0           1  \n",
              "1          72.0     75.0           0  \n",
              "2          88.0     94.0           0  \n",
              "3          68.0     94.0           1  \n",
              "4          70.0     77.0           0  \n",
              "...         ...      ...         ...  \n",
              "3385       70.0    103.0           0  \n",
              "3386       80.0     84.0           0  \n",
              "3387       73.0     72.0           1  \n",
              "3388       80.0     85.0           0  \n",
              "3389       79.0     92.0           0  \n",
              "\n",
              "[3390 rows x 17 columns]>"
            ]
          },
          "metadata": {},
          "execution_count": 6
        }
      ],
      "source": [
        "#information of the data\n",
        "data.info"
      ]
    },
    {
      "cell_type": "code",
      "execution_count": 7,
      "metadata": {
        "colab": {
          "base_uri": "https://localhost:8080/",
          "height": 364
        },
        "id": "zAiyRKiocvO4",
        "outputId": "e951e337-fb44-4ede-bf17-faad3b4c0f21"
      },
      "outputs": [
        {
          "output_type": "execute_result",
          "data": {
            "text/plain": [
              "                id          age    education   cigsPerDay       BPMeds  \\\n",
              "count  3390.000000  3390.000000  3303.000000  3368.000000  3346.000000   \n",
              "mean   1694.500000    49.542183     1.970936     9.069477     0.029886   \n",
              "std     978.753033     8.592878     1.019081    11.879078     0.170299   \n",
              "min       0.000000    32.000000     1.000000     0.000000     0.000000   \n",
              "25%     847.250000    42.000000     1.000000     0.000000     0.000000   \n",
              "50%    1694.500000    49.000000     2.000000     0.000000     0.000000   \n",
              "75%    2541.750000    56.000000     3.000000    20.000000     0.000000   \n",
              "max    3389.000000    70.000000     4.000000    70.000000     1.000000   \n",
              "\n",
              "       prevalentStroke  prevalentHyp     diabetes      totChol       sysBP  \\\n",
              "count      3390.000000   3390.000000  3390.000000  3352.000000  3390.00000   \n",
              "mean          0.006490      0.315339     0.025664   237.074284   132.60118   \n",
              "std           0.080309      0.464719     0.158153    45.247430    22.29203   \n",
              "min           0.000000      0.000000     0.000000   107.000000    83.50000   \n",
              "25%           0.000000      0.000000     0.000000   206.000000   117.00000   \n",
              "50%           0.000000      0.000000     0.000000   234.000000   128.50000   \n",
              "75%           0.000000      1.000000     0.000000   264.000000   144.00000   \n",
              "max           1.000000      1.000000     1.000000   696.000000   295.00000   \n",
              "\n",
              "             diaBP          BMI    heartRate      glucose   TenYearCHD  \n",
              "count  3390.000000  3376.000000  3389.000000  3086.000000  3390.000000  \n",
              "mean     82.883038    25.794964    75.977279    82.086520     0.150737  \n",
              "std      12.023581     4.115449    11.971868    24.244753     0.357846  \n",
              "min      48.000000    15.960000    45.000000    40.000000     0.000000  \n",
              "25%      74.500000    23.020000    68.000000    71.000000     0.000000  \n",
              "50%      82.000000    25.380000    75.000000    78.000000     0.000000  \n",
              "75%      90.000000    28.040000    83.000000    87.000000     0.000000  \n",
              "max     142.500000    56.800000   143.000000   394.000000     1.000000  "
            ],
            "text/html": [
              "\n",
              "  <div id=\"df-1cd0269d-3615-46f5-b86e-e7d4a51338d5\">\n",
              "    <div class=\"colab-df-container\">\n",
              "      <div>\n",
              "<style scoped>\n",
              "    .dataframe tbody tr th:only-of-type {\n",
              "        vertical-align: middle;\n",
              "    }\n",
              "\n",
              "    .dataframe tbody tr th {\n",
              "        vertical-align: top;\n",
              "    }\n",
              "\n",
              "    .dataframe thead th {\n",
              "        text-align: right;\n",
              "    }\n",
              "</style>\n",
              "<table border=\"1\" class=\"dataframe\">\n",
              "  <thead>\n",
              "    <tr style=\"text-align: right;\">\n",
              "      <th></th>\n",
              "      <th>id</th>\n",
              "      <th>age</th>\n",
              "      <th>education</th>\n",
              "      <th>cigsPerDay</th>\n",
              "      <th>BPMeds</th>\n",
              "      <th>prevalentStroke</th>\n",
              "      <th>prevalentHyp</th>\n",
              "      <th>diabetes</th>\n",
              "      <th>totChol</th>\n",
              "      <th>sysBP</th>\n",
              "      <th>diaBP</th>\n",
              "      <th>BMI</th>\n",
              "      <th>heartRate</th>\n",
              "      <th>glucose</th>\n",
              "      <th>TenYearCHD</th>\n",
              "    </tr>\n",
              "  </thead>\n",
              "  <tbody>\n",
              "    <tr>\n",
              "      <th>count</th>\n",
              "      <td>3390.000000</td>\n",
              "      <td>3390.000000</td>\n",
              "      <td>3303.000000</td>\n",
              "      <td>3368.000000</td>\n",
              "      <td>3346.000000</td>\n",
              "      <td>3390.000000</td>\n",
              "      <td>3390.000000</td>\n",
              "      <td>3390.000000</td>\n",
              "      <td>3352.000000</td>\n",
              "      <td>3390.00000</td>\n",
              "      <td>3390.000000</td>\n",
              "      <td>3376.000000</td>\n",
              "      <td>3389.000000</td>\n",
              "      <td>3086.000000</td>\n",
              "      <td>3390.000000</td>\n",
              "    </tr>\n",
              "    <tr>\n",
              "      <th>mean</th>\n",
              "      <td>1694.500000</td>\n",
              "      <td>49.542183</td>\n",
              "      <td>1.970936</td>\n",
              "      <td>9.069477</td>\n",
              "      <td>0.029886</td>\n",
              "      <td>0.006490</td>\n",
              "      <td>0.315339</td>\n",
              "      <td>0.025664</td>\n",
              "      <td>237.074284</td>\n",
              "      <td>132.60118</td>\n",
              "      <td>82.883038</td>\n",
              "      <td>25.794964</td>\n",
              "      <td>75.977279</td>\n",
              "      <td>82.086520</td>\n",
              "      <td>0.150737</td>\n",
              "    </tr>\n",
              "    <tr>\n",
              "      <th>std</th>\n",
              "      <td>978.753033</td>\n",
              "      <td>8.592878</td>\n",
              "      <td>1.019081</td>\n",
              "      <td>11.879078</td>\n",
              "      <td>0.170299</td>\n",
              "      <td>0.080309</td>\n",
              "      <td>0.464719</td>\n",
              "      <td>0.158153</td>\n",
              "      <td>45.247430</td>\n",
              "      <td>22.29203</td>\n",
              "      <td>12.023581</td>\n",
              "      <td>4.115449</td>\n",
              "      <td>11.971868</td>\n",
              "      <td>24.244753</td>\n",
              "      <td>0.357846</td>\n",
              "    </tr>\n",
              "    <tr>\n",
              "      <th>min</th>\n",
              "      <td>0.000000</td>\n",
              "      <td>32.000000</td>\n",
              "      <td>1.000000</td>\n",
              "      <td>0.000000</td>\n",
              "      <td>0.000000</td>\n",
              "      <td>0.000000</td>\n",
              "      <td>0.000000</td>\n",
              "      <td>0.000000</td>\n",
              "      <td>107.000000</td>\n",
              "      <td>83.50000</td>\n",
              "      <td>48.000000</td>\n",
              "      <td>15.960000</td>\n",
              "      <td>45.000000</td>\n",
              "      <td>40.000000</td>\n",
              "      <td>0.000000</td>\n",
              "    </tr>\n",
              "    <tr>\n",
              "      <th>25%</th>\n",
              "      <td>847.250000</td>\n",
              "      <td>42.000000</td>\n",
              "      <td>1.000000</td>\n",
              "      <td>0.000000</td>\n",
              "      <td>0.000000</td>\n",
              "      <td>0.000000</td>\n",
              "      <td>0.000000</td>\n",
              "      <td>0.000000</td>\n",
              "      <td>206.000000</td>\n",
              "      <td>117.00000</td>\n",
              "      <td>74.500000</td>\n",
              "      <td>23.020000</td>\n",
              "      <td>68.000000</td>\n",
              "      <td>71.000000</td>\n",
              "      <td>0.000000</td>\n",
              "    </tr>\n",
              "    <tr>\n",
              "      <th>50%</th>\n",
              "      <td>1694.500000</td>\n",
              "      <td>49.000000</td>\n",
              "      <td>2.000000</td>\n",
              "      <td>0.000000</td>\n",
              "      <td>0.000000</td>\n",
              "      <td>0.000000</td>\n",
              "      <td>0.000000</td>\n",
              "      <td>0.000000</td>\n",
              "      <td>234.000000</td>\n",
              "      <td>128.50000</td>\n",
              "      <td>82.000000</td>\n",
              "      <td>25.380000</td>\n",
              "      <td>75.000000</td>\n",
              "      <td>78.000000</td>\n",
              "      <td>0.000000</td>\n",
              "    </tr>\n",
              "    <tr>\n",
              "      <th>75%</th>\n",
              "      <td>2541.750000</td>\n",
              "      <td>56.000000</td>\n",
              "      <td>3.000000</td>\n",
              "      <td>20.000000</td>\n",
              "      <td>0.000000</td>\n",
              "      <td>0.000000</td>\n",
              "      <td>1.000000</td>\n",
              "      <td>0.000000</td>\n",
              "      <td>264.000000</td>\n",
              "      <td>144.00000</td>\n",
              "      <td>90.000000</td>\n",
              "      <td>28.040000</td>\n",
              "      <td>83.000000</td>\n",
              "      <td>87.000000</td>\n",
              "      <td>0.000000</td>\n",
              "    </tr>\n",
              "    <tr>\n",
              "      <th>max</th>\n",
              "      <td>3389.000000</td>\n",
              "      <td>70.000000</td>\n",
              "      <td>4.000000</td>\n",
              "      <td>70.000000</td>\n",
              "      <td>1.000000</td>\n",
              "      <td>1.000000</td>\n",
              "      <td>1.000000</td>\n",
              "      <td>1.000000</td>\n",
              "      <td>696.000000</td>\n",
              "      <td>295.00000</td>\n",
              "      <td>142.500000</td>\n",
              "      <td>56.800000</td>\n",
              "      <td>143.000000</td>\n",
              "      <td>394.000000</td>\n",
              "      <td>1.000000</td>\n",
              "    </tr>\n",
              "  </tbody>\n",
              "</table>\n",
              "</div>\n",
              "      <button class=\"colab-df-convert\" onclick=\"convertToInteractive('df-1cd0269d-3615-46f5-b86e-e7d4a51338d5')\"\n",
              "              title=\"Convert this dataframe to an interactive table.\"\n",
              "              style=\"display:none;\">\n",
              "        \n",
              "  <svg xmlns=\"http://www.w3.org/2000/svg\" height=\"24px\"viewBox=\"0 0 24 24\"\n",
              "       width=\"24px\">\n",
              "    <path d=\"M0 0h24v24H0V0z\" fill=\"none\"/>\n",
              "    <path d=\"M18.56 5.44l.94 2.06.94-2.06 2.06-.94-2.06-.94-.94-2.06-.94 2.06-2.06.94zm-11 1L8.5 8.5l.94-2.06 2.06-.94-2.06-.94L8.5 2.5l-.94 2.06-2.06.94zm10 10l.94 2.06.94-2.06 2.06-.94-2.06-.94-.94-2.06-.94 2.06-2.06.94z\"/><path d=\"M17.41 7.96l-1.37-1.37c-.4-.4-.92-.59-1.43-.59-.52 0-1.04.2-1.43.59L10.3 9.45l-7.72 7.72c-.78.78-.78 2.05 0 2.83L4 21.41c.39.39.9.59 1.41.59.51 0 1.02-.2 1.41-.59l7.78-7.78 2.81-2.81c.8-.78.8-2.07 0-2.86zM5.41 20L4 18.59l7.72-7.72 1.47 1.35L5.41 20z\"/>\n",
              "  </svg>\n",
              "      </button>\n",
              "      \n",
              "  <style>\n",
              "    .colab-df-container {\n",
              "      display:flex;\n",
              "      flex-wrap:wrap;\n",
              "      gap: 12px;\n",
              "    }\n",
              "\n",
              "    .colab-df-convert {\n",
              "      background-color: #E8F0FE;\n",
              "      border: none;\n",
              "      border-radius: 50%;\n",
              "      cursor: pointer;\n",
              "      display: none;\n",
              "      fill: #1967D2;\n",
              "      height: 32px;\n",
              "      padding: 0 0 0 0;\n",
              "      width: 32px;\n",
              "    }\n",
              "\n",
              "    .colab-df-convert:hover {\n",
              "      background-color: #E2EBFA;\n",
              "      box-shadow: 0px 1px 2px rgba(60, 64, 67, 0.3), 0px 1px 3px 1px rgba(60, 64, 67, 0.15);\n",
              "      fill: #174EA6;\n",
              "    }\n",
              "\n",
              "    [theme=dark] .colab-df-convert {\n",
              "      background-color: #3B4455;\n",
              "      fill: #D2E3FC;\n",
              "    }\n",
              "\n",
              "    [theme=dark] .colab-df-convert:hover {\n",
              "      background-color: #434B5C;\n",
              "      box-shadow: 0px 1px 3px 1px rgba(0, 0, 0, 0.15);\n",
              "      filter: drop-shadow(0px 1px 2px rgba(0, 0, 0, 0.3));\n",
              "      fill: #FFFFFF;\n",
              "    }\n",
              "  </style>\n",
              "\n",
              "      <script>\n",
              "        const buttonEl =\n",
              "          document.querySelector('#df-1cd0269d-3615-46f5-b86e-e7d4a51338d5 button.colab-df-convert');\n",
              "        buttonEl.style.display =\n",
              "          google.colab.kernel.accessAllowed ? 'block' : 'none';\n",
              "\n",
              "        async function convertToInteractive(key) {\n",
              "          const element = document.querySelector('#df-1cd0269d-3615-46f5-b86e-e7d4a51338d5');\n",
              "          const dataTable =\n",
              "            await google.colab.kernel.invokeFunction('convertToInteractive',\n",
              "                                                     [key], {});\n",
              "          if (!dataTable) return;\n",
              "\n",
              "          const docLinkHtml = 'Like what you see? Visit the ' +\n",
              "            '<a target=\"_blank\" href=https://colab.research.google.com/notebooks/data_table.ipynb>data table notebook</a>'\n",
              "            + ' to learn more about interactive tables.';\n",
              "          element.innerHTML = '';\n",
              "          dataTable['output_type'] = 'display_data';\n",
              "          await google.colab.output.renderOutput(dataTable, element);\n",
              "          const docLink = document.createElement('div');\n",
              "          docLink.innerHTML = docLinkHtml;\n",
              "          element.appendChild(docLink);\n",
              "        }\n",
              "      </script>\n",
              "    </div>\n",
              "  </div>\n",
              "  "
            ]
          },
          "metadata": {},
          "execution_count": 7
        }
      ],
      "source": [
        "#  data related statistics\n",
        "data.describe()"
      ]
    },
    {
      "cell_type": "code",
      "execution_count": 8,
      "metadata": {
        "colab": {
          "base_uri": "https://localhost:8080/"
        },
        "id": "kDmvyzwgcxsR",
        "outputId": "f2db00b0-c394-4bd4-f3b0-47cca37e20cb"
      },
      "outputs": [
        {
          "output_type": "execute_result",
          "data": {
            "text/plain": [
              "Index(['id', 'age', 'education', 'sex', 'is_smoking', 'cigsPerDay', 'BPMeds',\n",
              "       'prevalentStroke', 'prevalentHyp', 'diabetes', 'totChol', 'sysBP',\n",
              "       'diaBP', 'BMI', 'heartRate', 'glucose', 'TenYearCHD'],\n",
              "      dtype='object')"
            ]
          },
          "metadata": {},
          "execution_count": 8
        }
      ],
      "source": [
        "# name of columns\n",
        "data.columns"
      ]
    },
    {
      "cell_type": "markdown",
      "metadata": {
        "id": "KfH7h667YIe3"
      },
      "source": [
        "**Checking for Null Values**"
      ]
    },
    {
      "cell_type": "code",
      "execution_count": 9,
      "metadata": {
        "colab": {
          "base_uri": "https://localhost:8080/"
        },
        "id": "c3zu4mUKjczN",
        "outputId": "29ce3a46-699e-4fb4-eff6-70725409edb3"
      },
      "outputs": [
        {
          "output_type": "execute_result",
          "data": {
            "text/plain": [
              "id                   0\n",
              "age                  0\n",
              "education           87\n",
              "sex                  0\n",
              "is_smoking           0\n",
              "cigsPerDay          22\n",
              "BPMeds              44\n",
              "prevalentStroke      0\n",
              "prevalentHyp         0\n",
              "diabetes             0\n",
              "totChol             38\n",
              "sysBP                0\n",
              "diaBP                0\n",
              "BMI                 14\n",
              "heartRate            1\n",
              "glucose            304\n",
              "TenYearCHD           0\n",
              "dtype: int64"
            ]
          },
          "metadata": {},
          "execution_count": 9
        }
      ],
      "source": [
        "# checking if data contains null values\n",
        "data.isna().sum()"
      ]
    },
    {
      "cell_type": "code",
      "execution_count": 10,
      "metadata": {
        "id": "8gZhkiJI8Luz"
      },
      "outputs": [],
      "source": [
        "# Replacing string categorical value with numerical value 0 or 1\n",
        "\n",
        "data['sex'] = data['sex'].replace({'F':1,'M':0})\n",
        "data['is_smoking'] = data['is_smoking'].replace({'YES':1,'NO':0})"
      ]
    },
    {
      "cell_type": "code",
      "execution_count": 11,
      "metadata": {
        "colab": {
          "base_uri": "https://localhost:8080/"
        },
        "id": "iybUyiKW8NUW",
        "outputId": "8f72d365-b0b5-4cc0-ddac-d63dc39b0267"
      },
      "outputs": [
        {
          "output_type": "execute_result",
          "data": {
            "text/plain": [
              "id                   0\n",
              "age                  0\n",
              "education           87\n",
              "sex                  0\n",
              "is_smoking           0\n",
              "cigsPerDay          22\n",
              "BPMeds              44\n",
              "prevalentStroke      0\n",
              "prevalentHyp         0\n",
              "diabetes             0\n",
              "totChol             38\n",
              "sysBP                0\n",
              "diaBP                0\n",
              "BMI                 14\n",
              "heartRate            1\n",
              "glucose            304\n",
              "TenYearCHD           0\n",
              "dtype: int64"
            ]
          },
          "metadata": {},
          "execution_count": 11
        }
      ],
      "source": [
        "# checking if data contains null values\n",
        "data.isna().sum()"
      ]
    },
    {
      "cell_type": "markdown",
      "metadata": {
        "id": "Fy2_vP8NVcWE"
      },
      "source": [
        "**To prevent data leakage, splitting into train and test data set**"
      ]
    },
    {
      "cell_type": "code",
      "source": [
        "data.drop(['id'],axis=1,inplace=True)"
      ],
      "metadata": {
        "id": "y56Tc8dnlMCV"
      },
      "execution_count": 12,
      "outputs": []
    },
    {
      "cell_type": "code",
      "execution_count": 13,
      "metadata": {
        "id": "euMv-JBRVVbI"
      },
      "outputs": [],
      "source": [
        "# splitting dataset into training and test data\n",
        "train,test=train_test_split(data,test_size=0.2,random_state=0, stratify=data['TenYearCHD'])"
      ]
    },
    {
      "cell_type": "code",
      "execution_count": 14,
      "metadata": {
        "colab": {
          "base_uri": "https://localhost:8080/"
        },
        "id": "PcrENkxCWBvl",
        "outputId": "b731bff2-ccbf-4ee9-ba64-66782b0d6d05"
      },
      "outputs": [
        {
          "output_type": "execute_result",
          "data": {
            "text/plain": [
              "(2712, 16)"
            ]
          },
          "metadata": {},
          "execution_count": 14
        }
      ],
      "source": [
        "train.shape"
      ]
    },
    {
      "cell_type": "code",
      "execution_count": 15,
      "metadata": {
        "colab": {
          "base_uri": "https://localhost:8080/"
        },
        "id": "CaNyc6niWEnU",
        "outputId": "465c79eb-e4c3-4899-c57b-f8d9b4bf9f8c"
      },
      "outputs": [
        {
          "output_type": "execute_result",
          "data": {
            "text/plain": [
              "(678, 16)"
            ]
          },
          "metadata": {},
          "execution_count": 15
        }
      ],
      "source": [
        "test.shape"
      ]
    },
    {
      "cell_type": "code",
      "execution_count": 16,
      "metadata": {
        "colab": {
          "base_uri": "https://localhost:8080/"
        },
        "id": "SvatEMydWRii",
        "outputId": "77162dca-0017-4c34-cf1c-44e5db8a3f60"
      },
      "outputs": [
        {
          "output_type": "execute_result",
          "data": {
            "text/plain": [
              "age                  0\n",
              "education           68\n",
              "sex                  0\n",
              "is_smoking           0\n",
              "cigsPerDay          19\n",
              "BPMeds              36\n",
              "prevalentStroke      0\n",
              "prevalentHyp         0\n",
              "diabetes             0\n",
              "totChol             30\n",
              "sysBP                0\n",
              "diaBP                0\n",
              "BMI                 13\n",
              "heartRate            1\n",
              "glucose            255\n",
              "TenYearCHD           0\n",
              "dtype: int64"
            ]
          },
          "metadata": {},
          "execution_count": 16
        }
      ],
      "source": [
        "train.isna().sum()"
      ]
    },
    {
      "cell_type": "code",
      "execution_count": 17,
      "metadata": {
        "colab": {
          "base_uri": "https://localhost:8080/"
        },
        "id": "H1p3sQG3WT89",
        "outputId": "1ad3be45-459a-4446-b6d5-11c356c47984"
      },
      "outputs": [
        {
          "output_type": "execute_result",
          "data": {
            "text/plain": [
              "age                 0\n",
              "education          19\n",
              "sex                 0\n",
              "is_smoking          0\n",
              "cigsPerDay          3\n",
              "BPMeds              8\n",
              "prevalentStroke     0\n",
              "prevalentHyp        0\n",
              "diabetes            0\n",
              "totChol             8\n",
              "sysBP               0\n",
              "diaBP               0\n",
              "BMI                 1\n",
              "heartRate           0\n",
              "glucose            49\n",
              "TenYearCHD          0\n",
              "dtype: int64"
            ]
          },
          "metadata": {},
          "execution_count": 17
        }
      ],
      "source": [
        "test.isna().sum()"
      ]
    },
    {
      "cell_type": "code",
      "source": [
        "train['TenYearCHD'].value_counts()"
      ],
      "metadata": {
        "colab": {
          "base_uri": "https://localhost:8080/"
        },
        "id": "JSpu0ICZkuvJ",
        "outputId": "d684e957-92d3-49b4-8604-01bc197619e6"
      },
      "execution_count": 18,
      "outputs": [
        {
          "output_type": "execute_result",
          "data": {
            "text/plain": [
              "0    2303\n",
              "1     409\n",
              "Name: TenYearCHD, dtype: int64"
            ]
          },
          "metadata": {},
          "execution_count": 18
        }
      ]
    },
    {
      "cell_type": "markdown",
      "metadata": {
        "id": "bTRrbaOW_zGs"
      },
      "source": [
        "**Imputing null values using KNN imputer**"
      ]
    },
    {
      "cell_type": "code",
      "execution_count": 19,
      "metadata": {
        "id": "z210zyJ48dr3"
      },
      "outputs": [],
      "source": [
        "# imputing missing values using KNN imputer for continuous variables\n",
        "cts = ['age','cigsPerDay','totChol','sysBP','diaBP','BMI','heartRate','glucose']\n",
        "imputer = KNNImputer(n_neighbors=3)\n",
        "train[cts] = imputer.fit_transform(train[cts])\n",
        "test[cts] = imputer.fit_transform(test[cts])"
      ]
    },
    {
      "cell_type": "code",
      "source": [
        "# imputing missing values using KNN imputer for categorical variables\n",
        "from sklearn.impute import SimpleImputer\n",
        "category = ['education','sex','is_smoking','BPMeds','prevalentStroke','prevalentHyp','diabetes']\n",
        "frequent= SimpleImputer(strategy=\"most_frequent\")\n",
        "train[category] = frequent.fit_transform(train[category])\n",
        "test[category] = frequent.fit_transform(test[category])"
      ],
      "metadata": {
        "id": "ndcnKfFKn4Vj"
      },
      "execution_count": 20,
      "outputs": []
    },
    {
      "cell_type": "code",
      "execution_count": 21,
      "metadata": {
        "colab": {
          "base_uri": "https://localhost:8080/",
          "height": 206
        },
        "id": "YbhSk04r9lyP",
        "outputId": "99c6da56-45ff-48cf-a0d3-cc66d9745af9"
      },
      "outputs": [
        {
          "output_type": "execute_result",
          "data": {
            "text/plain": [
              "       age  education  sex  is_smoking  cigsPerDay  BPMeds  prevalentStroke  \\\n",
              "1609  48.0        1.0  1.0         0.0         0.0     0.0              0.0   \n",
              "1789  48.0        1.0  0.0         1.0        20.0     0.0              0.0   \n",
              "2117  49.0        2.0  0.0         1.0         3.0     0.0              0.0   \n",
              "1126  37.0        1.0  0.0         1.0        30.0     0.0              0.0   \n",
              "1581  62.0        3.0  0.0         0.0         0.0     0.0              0.0   \n",
              "\n",
              "      prevalentHyp  diabetes  totChol  sysBP  diaBP    BMI  heartRate  \\\n",
              "1609           0.0       0.0    244.0  117.0   81.5  28.96       67.0   \n",
              "1789           0.0       0.0    268.0  116.5   82.0  21.34       60.0   \n",
              "2117           1.0       0.0    246.0  141.0   92.0  27.92       75.0   \n",
              "1126           0.0       0.0    275.0  127.0   80.0  27.22       85.0   \n",
              "1581           0.0       0.0    211.0  128.0   78.0  27.99       56.0   \n",
              "\n",
              "      glucose  TenYearCHD  \n",
              "1609     78.0           0  \n",
              "1789     82.0           0  \n",
              "2117     76.0           0  \n",
              "1126     93.0           0  \n",
              "1581     83.0           1  "
            ],
            "text/html": [
              "\n",
              "  <div id=\"df-eff7d7a0-8c07-479e-b25e-37ea75efbed9\">\n",
              "    <div class=\"colab-df-container\">\n",
              "      <div>\n",
              "<style scoped>\n",
              "    .dataframe tbody tr th:only-of-type {\n",
              "        vertical-align: middle;\n",
              "    }\n",
              "\n",
              "    .dataframe tbody tr th {\n",
              "        vertical-align: top;\n",
              "    }\n",
              "\n",
              "    .dataframe thead th {\n",
              "        text-align: right;\n",
              "    }\n",
              "</style>\n",
              "<table border=\"1\" class=\"dataframe\">\n",
              "  <thead>\n",
              "    <tr style=\"text-align: right;\">\n",
              "      <th></th>\n",
              "      <th>age</th>\n",
              "      <th>education</th>\n",
              "      <th>sex</th>\n",
              "      <th>is_smoking</th>\n",
              "      <th>cigsPerDay</th>\n",
              "      <th>BPMeds</th>\n",
              "      <th>prevalentStroke</th>\n",
              "      <th>prevalentHyp</th>\n",
              "      <th>diabetes</th>\n",
              "      <th>totChol</th>\n",
              "      <th>sysBP</th>\n",
              "      <th>diaBP</th>\n",
              "      <th>BMI</th>\n",
              "      <th>heartRate</th>\n",
              "      <th>glucose</th>\n",
              "      <th>TenYearCHD</th>\n",
              "    </tr>\n",
              "  </thead>\n",
              "  <tbody>\n",
              "    <tr>\n",
              "      <th>1609</th>\n",
              "      <td>48.0</td>\n",
              "      <td>1.0</td>\n",
              "      <td>1.0</td>\n",
              "      <td>0.0</td>\n",
              "      <td>0.0</td>\n",
              "      <td>0.0</td>\n",
              "      <td>0.0</td>\n",
              "      <td>0.0</td>\n",
              "      <td>0.0</td>\n",
              "      <td>244.0</td>\n",
              "      <td>117.0</td>\n",
              "      <td>81.5</td>\n",
              "      <td>28.96</td>\n",
              "      <td>67.0</td>\n",
              "      <td>78.0</td>\n",
              "      <td>0</td>\n",
              "    </tr>\n",
              "    <tr>\n",
              "      <th>1789</th>\n",
              "      <td>48.0</td>\n",
              "      <td>1.0</td>\n",
              "      <td>0.0</td>\n",
              "      <td>1.0</td>\n",
              "      <td>20.0</td>\n",
              "      <td>0.0</td>\n",
              "      <td>0.0</td>\n",
              "      <td>0.0</td>\n",
              "      <td>0.0</td>\n",
              "      <td>268.0</td>\n",
              "      <td>116.5</td>\n",
              "      <td>82.0</td>\n",
              "      <td>21.34</td>\n",
              "      <td>60.0</td>\n",
              "      <td>82.0</td>\n",
              "      <td>0</td>\n",
              "    </tr>\n",
              "    <tr>\n",
              "      <th>2117</th>\n",
              "      <td>49.0</td>\n",
              "      <td>2.0</td>\n",
              "      <td>0.0</td>\n",
              "      <td>1.0</td>\n",
              "      <td>3.0</td>\n",
              "      <td>0.0</td>\n",
              "      <td>0.0</td>\n",
              "      <td>1.0</td>\n",
              "      <td>0.0</td>\n",
              "      <td>246.0</td>\n",
              "      <td>141.0</td>\n",
              "      <td>92.0</td>\n",
              "      <td>27.92</td>\n",
              "      <td>75.0</td>\n",
              "      <td>76.0</td>\n",
              "      <td>0</td>\n",
              "    </tr>\n",
              "    <tr>\n",
              "      <th>1126</th>\n",
              "      <td>37.0</td>\n",
              "      <td>1.0</td>\n",
              "      <td>0.0</td>\n",
              "      <td>1.0</td>\n",
              "      <td>30.0</td>\n",
              "      <td>0.0</td>\n",
              "      <td>0.0</td>\n",
              "      <td>0.0</td>\n",
              "      <td>0.0</td>\n",
              "      <td>275.0</td>\n",
              "      <td>127.0</td>\n",
              "      <td>80.0</td>\n",
              "      <td>27.22</td>\n",
              "      <td>85.0</td>\n",
              "      <td>93.0</td>\n",
              "      <td>0</td>\n",
              "    </tr>\n",
              "    <tr>\n",
              "      <th>1581</th>\n",
              "      <td>62.0</td>\n",
              "      <td>3.0</td>\n",
              "      <td>0.0</td>\n",
              "      <td>0.0</td>\n",
              "      <td>0.0</td>\n",
              "      <td>0.0</td>\n",
              "      <td>0.0</td>\n",
              "      <td>0.0</td>\n",
              "      <td>0.0</td>\n",
              "      <td>211.0</td>\n",
              "      <td>128.0</td>\n",
              "      <td>78.0</td>\n",
              "      <td>27.99</td>\n",
              "      <td>56.0</td>\n",
              "      <td>83.0</td>\n",
              "      <td>1</td>\n",
              "    </tr>\n",
              "  </tbody>\n",
              "</table>\n",
              "</div>\n",
              "      <button class=\"colab-df-convert\" onclick=\"convertToInteractive('df-eff7d7a0-8c07-479e-b25e-37ea75efbed9')\"\n",
              "              title=\"Convert this dataframe to an interactive table.\"\n",
              "              style=\"display:none;\">\n",
              "        \n",
              "  <svg xmlns=\"http://www.w3.org/2000/svg\" height=\"24px\"viewBox=\"0 0 24 24\"\n",
              "       width=\"24px\">\n",
              "    <path d=\"M0 0h24v24H0V0z\" fill=\"none\"/>\n",
              "    <path d=\"M18.56 5.44l.94 2.06.94-2.06 2.06-.94-2.06-.94-.94-2.06-.94 2.06-2.06.94zm-11 1L8.5 8.5l.94-2.06 2.06-.94-2.06-.94L8.5 2.5l-.94 2.06-2.06.94zm10 10l.94 2.06.94-2.06 2.06-.94-2.06-.94-.94-2.06-.94 2.06-2.06.94z\"/><path d=\"M17.41 7.96l-1.37-1.37c-.4-.4-.92-.59-1.43-.59-.52 0-1.04.2-1.43.59L10.3 9.45l-7.72 7.72c-.78.78-.78 2.05 0 2.83L4 21.41c.39.39.9.59 1.41.59.51 0 1.02-.2 1.41-.59l7.78-7.78 2.81-2.81c.8-.78.8-2.07 0-2.86zM5.41 20L4 18.59l7.72-7.72 1.47 1.35L5.41 20z\"/>\n",
              "  </svg>\n",
              "      </button>\n",
              "      \n",
              "  <style>\n",
              "    .colab-df-container {\n",
              "      display:flex;\n",
              "      flex-wrap:wrap;\n",
              "      gap: 12px;\n",
              "    }\n",
              "\n",
              "    .colab-df-convert {\n",
              "      background-color: #E8F0FE;\n",
              "      border: none;\n",
              "      border-radius: 50%;\n",
              "      cursor: pointer;\n",
              "      display: none;\n",
              "      fill: #1967D2;\n",
              "      height: 32px;\n",
              "      padding: 0 0 0 0;\n",
              "      width: 32px;\n",
              "    }\n",
              "\n",
              "    .colab-df-convert:hover {\n",
              "      background-color: #E2EBFA;\n",
              "      box-shadow: 0px 1px 2px rgba(60, 64, 67, 0.3), 0px 1px 3px 1px rgba(60, 64, 67, 0.15);\n",
              "      fill: #174EA6;\n",
              "    }\n",
              "\n",
              "    [theme=dark] .colab-df-convert {\n",
              "      background-color: #3B4455;\n",
              "      fill: #D2E3FC;\n",
              "    }\n",
              "\n",
              "    [theme=dark] .colab-df-convert:hover {\n",
              "      background-color: #434B5C;\n",
              "      box-shadow: 0px 1px 3px 1px rgba(0, 0, 0, 0.15);\n",
              "      filter: drop-shadow(0px 1px 2px rgba(0, 0, 0, 0.3));\n",
              "      fill: #FFFFFF;\n",
              "    }\n",
              "  </style>\n",
              "\n",
              "      <script>\n",
              "        const buttonEl =\n",
              "          document.querySelector('#df-eff7d7a0-8c07-479e-b25e-37ea75efbed9 button.colab-df-convert');\n",
              "        buttonEl.style.display =\n",
              "          google.colab.kernel.accessAllowed ? 'block' : 'none';\n",
              "\n",
              "        async function convertToInteractive(key) {\n",
              "          const element = document.querySelector('#df-eff7d7a0-8c07-479e-b25e-37ea75efbed9');\n",
              "          const dataTable =\n",
              "            await google.colab.kernel.invokeFunction('convertToInteractive',\n",
              "                                                     [key], {});\n",
              "          if (!dataTable) return;\n",
              "\n",
              "          const docLinkHtml = 'Like what you see? Visit the ' +\n",
              "            '<a target=\"_blank\" href=https://colab.research.google.com/notebooks/data_table.ipynb>data table notebook</a>'\n",
              "            + ' to learn more about interactive tables.';\n",
              "          element.innerHTML = '';\n",
              "          dataTable['output_type'] = 'display_data';\n",
              "          await google.colab.output.renderOutput(dataTable, element);\n",
              "          const docLink = document.createElement('div');\n",
              "          docLink.innerHTML = docLinkHtml;\n",
              "          element.appendChild(docLink);\n",
              "        }\n",
              "      </script>\n",
              "    </div>\n",
              "  </div>\n",
              "  "
            ]
          },
          "metadata": {},
          "execution_count": 21
        }
      ],
      "source": [
        "train.head()"
      ]
    },
    {
      "cell_type": "code",
      "execution_count": 22,
      "metadata": {
        "colab": {
          "base_uri": "https://localhost:8080/"
        },
        "id": "KKaQorK2_fiz",
        "outputId": "bebae9df-86fe-4574-d2a3-5a41dd3f0393"
      },
      "outputs": [
        {
          "output_type": "execute_result",
          "data": {
            "text/plain": [
              "age                0\n",
              "education          0\n",
              "sex                0\n",
              "is_smoking         0\n",
              "cigsPerDay         0\n",
              "BPMeds             0\n",
              "prevalentStroke    0\n",
              "prevalentHyp       0\n",
              "diabetes           0\n",
              "totChol            0\n",
              "sysBP              0\n",
              "diaBP              0\n",
              "BMI                0\n",
              "heartRate          0\n",
              "glucose            0\n",
              "TenYearCHD         0\n",
              "dtype: int64"
            ]
          },
          "metadata": {},
          "execution_count": 22
        }
      ],
      "source": [
        "# checking if data contains null values\n",
        "train.isna().sum()"
      ]
    },
    {
      "cell_type": "code",
      "execution_count": 23,
      "metadata": {
        "colab": {
          "base_uri": "https://localhost:8080/"
        },
        "id": "MsY0IhSzWudX",
        "outputId": "1bfa36b7-001e-47d2-8da9-58c61386a089"
      },
      "outputs": [
        {
          "output_type": "execute_result",
          "data": {
            "text/plain": [
              "age                0\n",
              "education          0\n",
              "sex                0\n",
              "is_smoking         0\n",
              "cigsPerDay         0\n",
              "BPMeds             0\n",
              "prevalentStroke    0\n",
              "prevalentHyp       0\n",
              "diabetes           0\n",
              "totChol            0\n",
              "sysBP              0\n",
              "diaBP              0\n",
              "BMI                0\n",
              "heartRate          0\n",
              "glucose            0\n",
              "TenYearCHD         0\n",
              "dtype: int64"
            ]
          },
          "metadata": {},
          "execution_count": 23
        }
      ],
      "source": [
        "test.isna().sum()"
      ]
    },
    {
      "cell_type": "code",
      "execution_count": 24,
      "metadata": {
        "colab": {
          "base_uri": "https://localhost:8080/"
        },
        "id": "A453thvrN4Gw",
        "outputId": "f0fd4fa1-9b2a-4de7-d35c-b90350108eec"
      },
      "outputs": [
        {
          "output_type": "execute_result",
          "data": {
            "text/plain": [
              "0.0    2693\n",
              "1.0      19\n",
              "Name: prevalentStroke, dtype: int64"
            ]
          },
          "metadata": {},
          "execution_count": 24
        }
      ],
      "source": [
        "train['prevalentStroke'].value_counts()"
      ]
    },
    {
      "cell_type": "code",
      "execution_count": 25,
      "metadata": {
        "colab": {
          "base_uri": "https://localhost:8080/"
        },
        "id": "KXV_IWcXN99S",
        "outputId": "a2995079-ecab-4f49-814c-acb16c56b8e0"
      },
      "outputs": [
        {
          "output_type": "execute_result",
          "data": {
            "text/plain": [
              "0.0    1846\n",
              "1.0     866\n",
              "Name: prevalentHyp, dtype: int64"
            ]
          },
          "metadata": {},
          "execution_count": 25
        }
      ],
      "source": [
        "train['prevalentHyp'].value_counts()"
      ]
    },
    {
      "cell_type": "code",
      "execution_count": 26,
      "metadata": {
        "colab": {
          "base_uri": "https://localhost:8080/"
        },
        "id": "_xKuKpApOCr9",
        "outputId": "f279e449-be59-4f0a-93cf-49c1fee6d678"
      },
      "outputs": [
        {
          "output_type": "execute_result",
          "data": {
            "text/plain": [
              "0.0    2637\n",
              "1.0      75\n",
              "Name: diabetes, dtype: int64"
            ]
          },
          "metadata": {},
          "execution_count": 26
        }
      ],
      "source": [
        "train['diabetes'].value_counts()"
      ]
    },
    {
      "cell_type": "code",
      "execution_count": 27,
      "metadata": {
        "colab": {
          "base_uri": "https://localhost:8080/"
        },
        "id": "tKLnueBdOcIg",
        "outputId": "b3f4ce77-eec0-4278-f5a0-9dcd0490a4bf"
      },
      "outputs": [
        {
          "output_type": "execute_result",
          "data": {
            "text/plain": [
              "22.54    16\n",
              "22.19    14\n",
              "22.91    12\n",
              "25.09    11\n",
              "23.10    10\n",
              "         ..\n",
              "18.75     1\n",
              "26.10     1\n",
              "19.50     1\n",
              "35.16     1\n",
              "29.38     1\n",
              "Name: BMI, Length: 1160, dtype: int64"
            ]
          },
          "metadata": {},
          "execution_count": 27
        }
      ],
      "source": [
        "train['BMI'].value_counts()"
      ]
    },
    {
      "cell_type": "code",
      "execution_count": 28,
      "metadata": {
        "colab": {
          "base_uri": "https://localhost:8080/"
        },
        "id": "JafsfFsMOW0l",
        "outputId": "5324ce1e-8da2-4fa5-b1df-747341e36abd"
      },
      "outputs": [
        {
          "output_type": "execute_result",
          "data": {
            "text/plain": [
              "80.0     174\n",
              "82.0     100\n",
              "70.0      86\n",
              "85.0      84\n",
              "90.0      82\n",
              "        ... \n",
              "51.0       1\n",
              "116.0      1\n",
              "60.5       1\n",
              "50.0       1\n",
              "136.0      1\n",
              "Name: diaBP, Length: 136, dtype: int64"
            ]
          },
          "metadata": {},
          "execution_count": 28
        }
      ],
      "source": [
        "train['diaBP'].value_counts()"
      ]
    },
    {
      "cell_type": "code",
      "execution_count": 29,
      "metadata": {
        "colab": {
          "base_uri": "https://localhost:8080/"
        },
        "id": "OqeJA5k7OST6",
        "outputId": "40f9c2ff-6c87-4909-990d-bd5d9a0184a9"
      },
      "outputs": [
        {
          "output_type": "execute_result",
          "data": {
            "text/plain": [
              "110.0    68\n",
              "120.0    67\n",
              "130.0    66\n",
              "125.0    56\n",
              "124.0    53\n",
              "         ..\n",
              "148.5     1\n",
              "185.5     1\n",
              "99.5      1\n",
              "188.5     1\n",
              "208.0     1\n",
              "Name: sysBP, Length: 220, dtype: int64"
            ]
          },
          "metadata": {},
          "execution_count": 29
        }
      ],
      "source": [
        "train['sysBP'].value_counts()"
      ]
    },
    {
      "cell_type": "code",
      "execution_count": 30,
      "metadata": {
        "colab": {
          "base_uri": "https://localhost:8080/"
        },
        "id": "yWe9tr3gNHeG",
        "outputId": "e8888311-9f4a-4bdd-ae65-5088e68efd45"
      },
      "outputs": [
        {
          "output_type": "execute_result",
          "data": {
            "text/plain": [
              "0.000000     1369\n",
              "20.000000     485\n",
              "15.000000     142\n",
              "30.000000     141\n",
              "10.000000      83\n",
              "5.000000       83\n",
              "9.000000       81\n",
              "3.000000       70\n",
              "40.000000      49\n",
              "1.000000       41\n",
              "43.000000      34\n",
              "25.000000      32\n",
              "35.000000      16\n",
              "2.000000       12\n",
              "6.000000       11\n",
              "8.000000        8\n",
              "60.000000       6\n",
              "18.000000       5\n",
              "4.000000        5\n",
              "7.000000        5\n",
              "23.000000       5\n",
              "12.000000       4\n",
              "11.000000       4\n",
              "17.000000       3\n",
              "6.666667        3\n",
              "13.000000       2\n",
              "16.000000       2\n",
              "21.000000       2\n",
              "45.000000       2\n",
              "19.000000       2\n",
              "9.666667        1\n",
              "70.000000       1\n",
              "38.000000       1\n",
              "50.000000       1\n",
              "26.666667       1\n",
              "Name: cigsPerDay, dtype: int64"
            ]
          },
          "metadata": {},
          "execution_count": 30
        }
      ],
      "source": [
        "# checking how many patients were on  blood pressure medication\n",
        "train['cigsPerDay'].value_counts()"
      ]
    },
    {
      "cell_type": "code",
      "execution_count": 31,
      "metadata": {
        "colab": {
          "base_uri": "https://localhost:8080/"
        },
        "id": "w47ju9y7jce3",
        "outputId": "a38f060e-352d-4fcb-d94f-1b517682339b"
      },
      "outputs": [
        {
          "output_type": "execute_result",
          "data": {
            "text/plain": [
              "0.0    2630\n",
              "1.0      82\n",
              "Name: BPMeds, dtype: int64"
            ]
          },
          "metadata": {},
          "execution_count": 31
        }
      ],
      "source": [
        "# checking how many patients were on  blood pressure medication\n",
        "train['BPMeds'].value_counts()"
      ]
    },
    {
      "cell_type": "code",
      "execution_count": 32,
      "metadata": {
        "colab": {
          "base_uri": "https://localhost:8080/"
        },
        "id": "sU36mJNnkLtW",
        "outputId": "78d1064f-3096-4ee4-ff92-2f41161e7d10"
      },
      "outputs": [
        {
          "output_type": "execute_result",
          "data": {
            "text/plain": [
              "22.54    16\n",
              "22.19    14\n",
              "22.91    12\n",
              "25.09    11\n",
              "23.10    10\n",
              "         ..\n",
              "18.75     1\n",
              "26.10     1\n",
              "19.50     1\n",
              "35.16     1\n",
              "29.38     1\n",
              "Name: BMI, Length: 1160, dtype: int64"
            ]
          },
          "metadata": {},
          "execution_count": 32
        }
      ],
      "source": [
        "# checking different Body mass index values for patients\n",
        "train['BMI'].value_counts()"
      ]
    },
    {
      "cell_type": "code",
      "execution_count": 33,
      "metadata": {
        "colab": {
          "base_uri": "https://localhost:8080/"
        },
        "id": "0jmL3ZG7khYK",
        "outputId": "42ac9d0f-14d7-4e5a-d74e-05fa358a329c"
      },
      "outputs": [
        {
          "output_type": "execute_result",
          "data": {
            "text/plain": [
              "240.0    53\n",
              "210.0    43\n",
              "232.0    37\n",
              "235.0    36\n",
              "220.0    36\n",
              "         ..\n",
              "365.0     1\n",
              "129.0     1\n",
              "135.0     1\n",
              "696.0     1\n",
              "360.0     1\n",
              "Name: totChol, Length: 255, dtype: int64"
            ]
          },
          "metadata": {},
          "execution_count": 33
        }
      ],
      "source": [
        "# checking total cholesterol values for different patients\n",
        "\n",
        "train['totChol'].value_counts()"
      ]
    },
    {
      "cell_type": "code",
      "execution_count": 34,
      "metadata": {
        "colab": {
          "base_uri": "https://localhost:8080/"
        },
        "id": "8kJKxPwNk26k",
        "outputId": "2ff105fb-36ac-4051-ba25-d5e93db78a5d"
      },
      "outputs": [
        {
          "output_type": "execute_result",
          "data": {
            "text/plain": [
              "75.0     360\n",
              "80.0     243\n",
              "70.0     187\n",
              "85.0     161\n",
              "72.0     146\n",
              "        ... \n",
              "143.0      1\n",
              "115.0      1\n",
              "51.0       1\n",
              "140.0      1\n",
              "107.0      1\n",
              "Name: heartRate, Length: 65, dtype: int64"
            ]
          },
          "metadata": {},
          "execution_count": 34
        }
      ],
      "source": [
        "# checking heart rate values for different patients\n",
        "\n",
        "train['heartRate'].value_counts()"
      ]
    },
    {
      "cell_type": "code",
      "execution_count": 35,
      "metadata": {
        "colab": {
          "base_uri": "https://localhost:8080/"
        },
        "id": "SbmVHG5alH2F",
        "outputId": "0726b1d9-e67e-4d89-8de5-9bbc98f52cc0"
      },
      "outputs": [
        {
          "output_type": "execute_result",
          "data": {
            "text/plain": [
              "75.000000     121\n",
              "83.000000     117\n",
              "78.000000     102\n",
              "80.000000     102\n",
              "70.000000      99\n",
              "             ... \n",
              "63.666667       1\n",
              "124.000000      1\n",
              "254.000000      1\n",
              "119.000000      1\n",
              "107.666667      1\n",
              "Name: glucose, Length: 190, dtype: int64"
            ]
          },
          "metadata": {},
          "execution_count": 35
        }
      ],
      "source": [
        "# checking glucose values for all patients\n",
        "\n",
        "train['glucose'].value_counts()"
      ]
    },
    {
      "cell_type": "code",
      "source": [
        "train['diabetes'].value_counts()"
      ],
      "metadata": {
        "colab": {
          "base_uri": "https://localhost:8080/"
        },
        "id": "m2pZJG_qrE6S",
        "outputId": "6745fdcf-14ab-4ed9-d013-24136d3208d9"
      },
      "execution_count": 36,
      "outputs": [
        {
          "output_type": "execute_result",
          "data": {
            "text/plain": [
              "0.0    2637\n",
              "1.0      75\n",
              "Name: diabetes, dtype: int64"
            ]
          },
          "metadata": {},
          "execution_count": 36
        }
      ]
    },
    {
      "cell_type": "markdown",
      "metadata": {
        "id": "s44nxwQrX90e"
      },
      "source": [
        "##**Target variable dependency on different columns**"
      ]
    },
    {
      "cell_type": "code",
      "execution_count": 37,
      "metadata": {
        "colab": {
          "base_uri": "https://localhost:8080/",
          "height": 303
        },
        "id": "vLFtjm3Vczxt",
        "outputId": "82f2dcc6-d14b-4898-e96b-24e6ce622750"
      },
      "outputs": [
        {
          "output_type": "execute_result",
          "data": {
            "text/plain": [
              "<matplotlib.axes._subplots.AxesSubplot at 0x7fcb7cca9a50>"
            ]
          },
          "metadata": {},
          "execution_count": 37
        },
        {
          "output_type": "display_data",
          "data": {
            "text/plain": [
              "<Figure size 432x288 with 1 Axes>"
            ],
            "image/png": "[encoded data removed]"
          },
          "metadata": {
            "needs_background": "light"
          }
        }
      ],
      "source": [
        "# plotting graph for checking how many users are smoking or not and how it affects the target variable\n",
        "\n",
        "pd.crosstab(train['is_smoking'],train['TenYearCHD']).plot(kind='bar')"
      ]
    },
    {
      "cell_type": "code",
      "execution_count": 38,
      "metadata": {
        "colab": {
          "base_uri": "https://localhost:8080/",
          "height": 306
        },
        "id": "m8W8fSlwebMV",
        "outputId": "7a1a5c3f-6f0d-4318-d390-f43eadfba4db"
      },
      "outputs": [
        {
          "output_type": "execute_result",
          "data": {
            "text/plain": [
              "<matplotlib.axes._subplots.AxesSubplot at 0x7fcb7cba4710>"
            ]
          },
          "metadata": {},
          "execution_count": 38
        },
        {
          "output_type": "display_data",
          "data": {
            "text/plain": [
              "<Figure size 432x288 with 1 Axes>"
            ],
            "image/png": "[encoded data removed]"
          },
          "metadata": {
            "needs_background": "light"
          }
        }
      ],
      "source": [
        "# plotting graph for checking how many persons are male or female and how it affects the target variable\n",
        "\n",
        "pd.crosstab(train['sex'],train['TenYearCHD']).plot(kind='bar')"
      ]
    },
    {
      "cell_type": "code",
      "execution_count": 39,
      "metadata": {
        "colab": {
          "base_uri": "https://localhost:8080/",
          "height": 302
        },
        "id": "5vI8wbI3fhAc",
        "outputId": "046b9ff3-4c7d-4a82-8b52-3ced85323f0e"
      },
      "outputs": [
        {
          "output_type": "execute_result",
          "data": {
            "text/plain": [
              "<matplotlib.axes._subplots.AxesSubplot at 0x7fcb7c66ec90>"
            ]
          },
          "metadata": {},
          "execution_count": 39
        },
        {
          "output_type": "display_data",
          "data": {
            "text/plain": [
              "<Figure size 432x288 with 1 Axes>"
            ],
            "image/png": "[encoded data removed]"
          },
          "metadata": {
            "needs_background": "light"
          }
        }
      ],
      "source": [
        "# plotting graph for checking  whether  patient was on blood pressure medication or not and how it affects the target variable\n",
        "\n",
        "pd.crosstab(train['BPMeds'],train['TenYearCHD']).plot(kind='bar')"
      ]
    },
    {
      "cell_type": "code",
      "execution_count": 40,
      "metadata": {
        "colab": {
          "base_uri": "https://localhost:8080/",
          "height": 302
        },
        "id": "fKFI5u_gfm2B",
        "outputId": "873b5ef0-9be1-4d61-b0b1-5daed69390a4"
      },
      "outputs": [
        {
          "output_type": "execute_result",
          "data": {
            "text/plain": [
              "<matplotlib.axes._subplots.AxesSubplot at 0x7fcb7c5ee4d0>"
            ]
          },
          "metadata": {},
          "execution_count": 40
        },
        {
          "output_type": "display_data",
          "data": {
            "text/plain": [
              "<Figure size 432x288 with 1 Axes>"
            ],
            "image/png": "[encoded data removed]"
          },
          "metadata": {
            "needs_background": "light"
          }
        }
      ],
      "source": [
        "# plotting graph for checking  whether or not the patient had previously had a stroke and how it affects the target variable\n",
        "\n",
        "pd.crosstab(train['prevalentStroke'],train['TenYearCHD']).plot(kind='bar')"
      ]
    },
    {
      "cell_type": "code",
      "execution_count": 41,
      "metadata": {
        "colab": {
          "base_uri": "https://localhost:8080/",
          "height": 302
        },
        "id": "TMNoD9BBf37I",
        "outputId": "47e045c8-7657-4ce3-a14d-59aa2700e5ff"
      },
      "outputs": [
        {
          "output_type": "execute_result",
          "data": {
            "text/plain": [
              "<matplotlib.axes._subplots.AxesSubplot at 0x7fcb7c61de90>"
            ]
          },
          "metadata": {},
          "execution_count": 41
        },
        {
          "output_type": "display_data",
          "data": {
            "text/plain": [
              "<Figure size 432x288 with 1 Axes>"
            ],
            "image/png": "[encoded data removed]"
          },
          "metadata": {
            "needs_background": "light"
          }
        }
      ],
      "source": [
        "# plotting graph for checking if person is diabetic or not and how it affects the target variable\n",
        "\n",
        "pd.crosstab(train['diabetes'],train['TenYearCHD']).plot(kind='bar')"
      ]
    },
    {
      "cell_type": "code",
      "execution_count": 42,
      "metadata": {
        "colab": {
          "base_uri": "https://localhost:8080/",
          "height": 306
        },
        "id": "Na62c80RgDij",
        "outputId": "26e9e0cb-2586-4db4-bc88-8e75f3252b0b"
      },
      "outputs": [
        {
          "output_type": "execute_result",
          "data": {
            "text/plain": [
              "<matplotlib.axes._subplots.AxesSubplot at 0x7fcb7c4e8990>"
            ]
          },
          "metadata": {},
          "execution_count": 42
        },
        {
          "output_type": "display_data",
          "data": {
            "text/plain": [
              "<Figure size 432x288 with 1 Axes>"
            ],
            "image/png": "[encoded data removed]"
          },
          "metadata": {
            "needs_background": "light"
          }
        }
      ],
      "source": [
        "# plotting graph for checking the education values and how it affects the target variable\n",
        "\n",
        "pd.crosstab(train['education'],train['TenYearCHD']).plot(kind='bar')"
      ]
    },
    {
      "cell_type": "code",
      "execution_count": 43,
      "metadata": {
        "colab": {
          "base_uri": "https://localhost:8080/",
          "height": 302
        },
        "id": "P0l6_dfnh-5F",
        "outputId": "e9633b2f-6fde-4dc2-a41c-886b1dd6fbef"
      },
      "outputs": [
        {
          "output_type": "execute_result",
          "data": {
            "text/plain": [
              "<matplotlib.axes._subplots.AxesSubplot at 0x7fcb7c61d890>"
            ]
          },
          "metadata": {},
          "execution_count": 43
        },
        {
          "output_type": "display_data",
          "data": {
            "text/plain": [
              "<Figure size 432x288 with 1 Axes>"
            ],
            "image/png": "[encoded data removed]"
          },
          "metadata": {
            "needs_background": "light"
          }
        }
      ],
      "source": [
        "# plotting graph for checking whether or not the patient was hypertensive and how it affects the target variable\n",
        "\n",
        "pd.crosstab(train['prevalentHyp'],train['TenYearCHD']).plot(kind='bar')"
      ]
    },
    {
      "cell_type": "markdown",
      "metadata": {
        "id": "Lkk8Ld2yXrGl"
      },
      "source": [
        "##**Data Distribution for different target variable labels**"
      ]
    },
    {
      "cell_type": "code",
      "execution_count": 44,
      "metadata": {
        "id": "BQ1ddpUTrWt1"
      },
      "outputs": [],
      "source": [
        "# plotting  data distribution for different columns\n",
        "\n",
        "def plot(col_name):\n",
        "  print('\\033[1m Ten Year CHD Values for different '+col_name+' values')\n",
        "  ax = train.hist(column=col_name,by=\"TenYearCHD\",bins=30)\n",
        "  "
      ]
    },
    {
      "cell_type": "code",
      "execution_count": 45,
      "metadata": {
        "colab": {
          "base_uri": "https://localhost:8080/",
          "height": 300
        },
        "id": "h3ZgnopmrhtV",
        "outputId": "9a2cbcff-c17a-4004-8a9a-94407a9033bc"
      },
      "outputs": [
        {
          "output_type": "stream",
          "name": "stdout",
          "text": [
            "\u001b[1m Ten Year CHD Values for different age values\n"
          ]
        },
        {
          "output_type": "display_data",
          "data": {
            "text/plain": [
              "<Figure size 432x288 with 2 Axes>"
            ],
            "image/png": "[encoded data removed]"
          },
          "metadata": {
            "needs_background": "light"
          }
        }
      ],
      "source": [
        "# data distribution for age column\n",
        "plot('age')"
      ]
    },
    {
      "cell_type": "code",
      "execution_count": 46,
      "metadata": {
        "colab": {
          "base_uri": "https://localhost:8080/",
          "height": 294
        },
        "id": "UGiGAzpYu1V6",
        "outputId": "8cfe1a07-c659-4341-b88f-72ece073f56a"
      },
      "outputs": [
        {
          "output_type": "stream",
          "name": "stdout",
          "text": [
            "\u001b[1m Ten Year CHD Values for different education values\n"
          ]
        },
        {
          "output_type": "display_data",
          "data": {
            "text/plain": [
              "<Figure size 432x288 with 2 Axes>"
            ],
            "image/png": "[encoded data removed]"
          },
          "metadata": {
            "needs_background": "light"
          }
        }
      ],
      "source": [
        "# data distribution for education column\n",
        "plot('education')"
      ]
    },
    {
      "cell_type": "code",
      "execution_count": 47,
      "metadata": {
        "colab": {
          "base_uri": "https://localhost:8080/",
          "height": 310
        },
        "id": "UXoV6q21vHcd",
        "outputId": "b403ec0d-47ae-4112-d83c-d05a929b1ff0"
      },
      "outputs": [
        {
          "output_type": "stream",
          "name": "stdout",
          "text": [
            "\u001b[1m Ten Year CHD Values for different sex values\n"
          ]
        },
        {
          "output_type": "display_data",
          "data": {
            "text/plain": [
              "<Figure size 432x288 with 2 Axes>"
            ],
            "image/png": "[encoded data removed]"
          },
          "metadata": {
            "needs_background": "light"
          }
        }
      ],
      "source": [
        "# data distribution for sex column\n",
        "plot('sex')"
      ]
    },
    {
      "cell_type": "code",
      "execution_count": 48,
      "metadata": {
        "colab": {
          "base_uri": "https://localhost:8080/",
          "height": 310
        },
        "id": "G0qeyw4NvKKB",
        "outputId": "6260fd33-2f50-4626-d9c5-73cfc11536ba"
      },
      "outputs": [
        {
          "output_type": "stream",
          "name": "stdout",
          "text": [
            "\u001b[1m Ten Year CHD Values for different is_smoking values\n"
          ]
        },
        {
          "output_type": "display_data",
          "data": {
            "text/plain": [
              "<Figure size 432x288 with 2 Axes>"
            ],
            "image/png": "[encoded data removed]"
          },
          "metadata": {
            "needs_background": "light"
          }
        }
      ],
      "source": [
        "# data distribution for is_smoking column\n",
        "plot('is_smoking')"
      ]
    },
    {
      "cell_type": "code",
      "execution_count": 49,
      "metadata": {
        "colab": {
          "base_uri": "https://localhost:8080/",
          "height": 300
        },
        "id": "pnuYJuMuvNzP",
        "outputId": "2758967f-8ae6-4b39-b5ec-e1f6d85cc1d5"
      },
      "outputs": [
        {
          "output_type": "stream",
          "name": "stdout",
          "text": [
            "\u001b[1m Ten Year CHD Values for different cigsPerDay values\n"
          ]
        },
        {
          "output_type": "display_data",
          "data": {
            "text/plain": [
              "<Figure size 432x288 with 2 Axes>"
            ],
            "image/png": "[encoded data removed]"
          },
          "metadata": {
            "needs_background": "light"
          }
        }
      ],
      "source": [
        "# data distribution for cigsPerDay column\n",
        "plot('cigsPerDay')"
      ]
    },
    {
      "cell_type": "code",
      "execution_count": 50,
      "metadata": {
        "colab": {
          "base_uri": "https://localhost:8080/",
          "height": 310
        },
        "id": "AWktfu99vQ98",
        "outputId": "d7fa04b2-6e3d-43b1-ec8c-ba92dc84c979"
      },
      "outputs": [
        {
          "output_type": "stream",
          "name": "stdout",
          "text": [
            "\u001b[1m Ten Year CHD Values for different BPMeds values\n"
          ]
        },
        {
          "output_type": "display_data",
          "data": {
            "text/plain": [
              "<Figure size 432x288 with 2 Axes>"
            ],
            "image/png": "[encoded data removed]"
          },
          "metadata": {
            "needs_background": "light"
          }
        }
      ],
      "source": [
        "\n",
        "# data distribution for BPMeds column\n",
        "plot('BPMeds')"
      ]
    },
    {
      "cell_type": "code",
      "execution_count": 51,
      "metadata": {
        "colab": {
          "base_uri": "https://localhost:8080/",
          "height": 310
        },
        "id": "aohmsIVlvTwC",
        "outputId": "2d5e26ff-e491-482d-f781-7b55b83abf7b"
      },
      "outputs": [
        {
          "output_type": "stream",
          "name": "stdout",
          "text": [
            "\u001b[1m Ten Year CHD Values for different prevalentStroke values\n"
          ]
        },
        {
          "output_type": "display_data",
          "data": {
            "text/plain": [
              "<Figure size 432x288 with 2 Axes>"
            ],
            "image/png": "[encoded data removed]"
          },
          "metadata": {
            "needs_background": "light"
          }
        }
      ],
      "source": [
        "# data distribution for prevalentStroke column\n",
        "plot('prevalentStroke')"
      ]
    },
    {
      "cell_type": "code",
      "execution_count": 52,
      "metadata": {
        "colab": {
          "base_uri": "https://localhost:8080/",
          "height": 310
        },
        "id": "ltH1AxhMvXFN",
        "outputId": "1c96789a-129e-416b-e758-39eda4c5db98"
      },
      "outputs": [
        {
          "output_type": "stream",
          "name": "stdout",
          "text": [
            "\u001b[1m Ten Year CHD Values for different prevalentHyp values\n"
          ]
        },
        {
          "output_type": "display_data",
          "data": {
            "text/plain": [
              "<Figure size 432x288 with 2 Axes>"
            ],
            "image/png": "[encoded data removed]"
          },
          "metadata": {
            "needs_background": "light"
          }
        }
      ],
      "source": [
        "# data distribution for prevalentHyp column\n",
        "plot('prevalentHyp')"
      ]
    },
    {
      "cell_type": "code",
      "execution_count": 53,
      "metadata": {
        "colab": {
          "base_uri": "https://localhost:8080/",
          "height": 310
        },
        "id": "JcMEpon9vbQO",
        "outputId": "cb77e919-5578-45db-eea8-4e80bc5b8d42"
      },
      "outputs": [
        {
          "output_type": "stream",
          "name": "stdout",
          "text": [
            "\u001b[1m Ten Year CHD Values for different diabetes values\n"
          ]
        },
        {
          "output_type": "display_data",
          "data": {
            "text/plain": [
              "<Figure size 432x288 with 2 Axes>"
            ],
            "image/png": "[encoded data removed]"
          },
          "metadata": {
            "needs_background": "light"
          }
        }
      ],
      "source": [
        "# data distribution for diabetes column\n",
        "plot('diabetes')"
      ]
    },
    {
      "cell_type": "code",
      "execution_count": 54,
      "metadata": {
        "colab": {
          "base_uri": "https://localhost:8080/",
          "height": 306
        },
        "id": "DN6Kh0i6verf",
        "outputId": "4b899931-9a95-4433-9c4e-9fd81c70b2af"
      },
      "outputs": [
        {
          "output_type": "stream",
          "name": "stdout",
          "text": [
            "\u001b[1m Ten Year CHD Values for different totChol values\n"
          ]
        },
        {
          "output_type": "display_data",
          "data": {
            "text/plain": [
              "<Figure size 432x288 with 2 Axes>"
            ],
            "image/png": "[encoded data removed]"
          },
          "metadata": {
            "needs_background": "light"
          }
        }
      ],
      "source": [
        "# data distribution for total cholesterol column\n",
        "plot('totChol')"
      ]
    },
    {
      "cell_type": "code",
      "execution_count": 55,
      "metadata": {
        "colab": {
          "base_uri": "https://localhost:8080/",
          "height": 306
        },
        "id": "FwGDYMknvh4n",
        "outputId": "a69ca1ac-d60b-4d35-c299-10bb0b9ebdb4"
      },
      "outputs": [
        {
          "output_type": "stream",
          "name": "stdout",
          "text": [
            "\u001b[1m Ten Year CHD Values for different sysBP values\n"
          ]
        },
        {
          "output_type": "display_data",
          "data": {
            "text/plain": [
              "<Figure size 432x288 with 2 Axes>"
            ],
            "image/png": "[encoded data removed]"
          },
          "metadata": {
            "needs_background": "light"
          }
        }
      ],
      "source": [
        "# data distribution for total systolic blood pressure column\n",
        "plot('sysBP')"
      ]
    },
    {
      "cell_type": "code",
      "execution_count": 56,
      "metadata": {
        "colab": {
          "base_uri": "https://localhost:8080/",
          "height": 306
        },
        "id": "QcfSV_YLvkaE",
        "outputId": "f6accae5-2037-4070-a039-e9d005c65b40"
      },
      "outputs": [
        {
          "output_type": "stream",
          "name": "stdout",
          "text": [
            "\u001b[1m Ten Year CHD Values for different diaBP values\n"
          ]
        },
        {
          "output_type": "display_data",
          "data": {
            "text/plain": [
              "<Figure size 432x288 with 2 Axes>"
            ],
            "image/png": "[encoded data removed]"
          },
          "metadata": {
            "needs_background": "light"
          }
        }
      ],
      "source": [
        "# data distribution for diastolic blood pressure column\n",
        "plot('diaBP')"
      ]
    },
    {
      "cell_type": "code",
      "execution_count": 57,
      "metadata": {
        "colab": {
          "base_uri": "https://localhost:8080/",
          "height": 300
        },
        "id": "9IjbSIhavnPI",
        "outputId": "5dffa414-1c2f-47e9-f38d-30caf959729a"
      },
      "outputs": [
        {
          "output_type": "stream",
          "name": "stdout",
          "text": [
            "\u001b[1m Ten Year CHD Values for different BMI values\n"
          ]
        },
        {
          "output_type": "display_data",
          "data": {
            "text/plain": [
              "<Figure size 432x288 with 2 Axes>"
            ],
            "image/png": "[encoded data removed]"
          },
          "metadata": {
            "needs_background": "light"
          }
        }
      ],
      "source": [
        "# data distribution for Body Mass Index column\n",
        "plot('BMI')"
      ]
    },
    {
      "cell_type": "code",
      "execution_count": 58,
      "metadata": {
        "colab": {
          "base_uri": "https://localhost:8080/",
          "height": 306
        },
        "id": "i3x6_hqCvp9Z",
        "outputId": "1f65bd8a-93e2-45d9-fab4-8bf3202c5b51"
      },
      "outputs": [
        {
          "output_type": "stream",
          "name": "stdout",
          "text": [
            "\u001b[1m Ten Year CHD Values for different heartRate values\n"
          ]
        },
        {
          "output_type": "display_data",
          "data": {
            "text/plain": [
              "<Figure size 432x288 with 2 Axes>"
            ],
            "image/png": "[encoded data removed]"
          },
          "metadata": {
            "needs_background": "light"
          }
        }
      ],
      "source": [
        "# data distribution for heartrate column\n",
        "plot('heartRate')"
      ]
    },
    {
      "cell_type": "code",
      "execution_count": 59,
      "metadata": {
        "colab": {
          "base_uri": "https://localhost:8080/",
          "height": 306
        },
        "id": "9XisNcKgvtKg",
        "outputId": "a86a6507-32b6-4a7d-d65f-54bca395bf07"
      },
      "outputs": [
        {
          "output_type": "stream",
          "name": "stdout",
          "text": [
            "\u001b[1m Ten Year CHD Values for different glucose values\n"
          ]
        },
        {
          "output_type": "display_data",
          "data": {
            "text/plain": [
              "<Figure size 432x288 with 2 Axes>"
            ],
            "image/png": "[encoded data removed]"
          },
          "metadata": {
            "needs_background": "light"
          }
        }
      ],
      "source": [
        "# data distribution for glucose column\n",
        "plot('glucose')"
      ]
    },
    {
      "cell_type": "code",
      "source": [
        ""
      ],
      "metadata": {
        "id": "CK6raL-6eoHJ"
      },
      "execution_count": 59,
      "outputs": []
    },
    {
      "cell_type": "markdown",
      "metadata": {
        "id": "0Pp4WkXaXlRj"
      },
      "source": [
        "##**Outliers Detection**"
      ]
    },
    {
      "cell_type": "code",
      "execution_count": 60,
      "metadata": {
        "colab": {
          "base_uri": "https://localhost:8080/",
          "height": 296
        },
        "id": "ySV1mRcQye4g",
        "outputId": "95191a1c-a70c-44b3-b230-8ea6b18e176e"
      },
      "outputs": [
        {
          "output_type": "execute_result",
          "data": {
            "text/plain": [
              "<matplotlib.axes._subplots.AxesSubplot at 0x7fcb7be9a650>"
            ]
          },
          "metadata": {},
          "execution_count": 60
        },
        {
          "output_type": "display_data",
          "data": {
            "text/plain": [
              "<Figure size 1800x288 with 4 Axes>"
            ],
            "image/png": "[encoded data removed]"
          },
          "metadata": {
            "needs_background": "light"
          }
        }
      ],
      "source": [
        "# plotting different column values to check outliers\n",
        "\n",
        "fig, (ax1,ax2,ax3,ax4) = plt.subplots(1,4, figsize=(25,4))\n",
        "sns.boxplot(x=train['BMI'],ax=ax1,color = 'orange')\n",
        "sns.boxplot(x=train['totChol'],ax=ax2,color = 'orange')\n",
        "sns.boxplot(x=train['sysBP'],ax=ax3,color = 'orange')\n",
        "sns.boxplot(x=train['glucose'],ax=ax4,color = 'orange')\n"
      ]
    },
    {
      "cell_type": "code",
      "execution_count": 61,
      "metadata": {
        "colab": {
          "base_uri": "https://localhost:8080/",
          "height": 296
        },
        "id": "Wqx1yKteY_ST",
        "outputId": "ba1e9f70-71fd-46bc-ee52-e7a13ca9a973"
      },
      "outputs": [
        {
          "output_type": "execute_result",
          "data": {
            "text/plain": [
              "<matplotlib.axes._subplots.AxesSubplot at 0x7fcb7bbeaad0>"
            ]
          },
          "metadata": {},
          "execution_count": 61
        },
        {
          "output_type": "display_data",
          "data": {
            "text/plain": [
              "<Figure size 1800x288 with 4 Axes>"
            ],
            "image/png": "[encoded data removed]"
          },
          "metadata": {
            "needs_background": "light"
          }
        }
      ],
      "source": [
        "# plotting different column values to check outliers\n",
        "\n",
        "fig, (ax1,ax2,ax3,ax4) = plt.subplots(1,4, figsize=(25,4))\n",
        "sns.boxplot(x=train['heartRate'],ax=ax1,color = 'orange')\n",
        "sns.boxplot(x=train['cigsPerDay'],ax=ax2,color = 'orange')\n",
        "sns.boxplot(x=train['diaBP'],ax=ax3,color = 'orange')\n",
        "sns.boxplot(x=train['age'],ax=ax4,color = 'orange')\n"
      ]
    },
    {
      "cell_type": "markdown",
      "metadata": {
        "id": "nw8THl-mCWZ4"
      },
      "source": [
        "**Treatment of outliers for training and testing data**"
      ]
    },
    {
      "cell_type": "code",
      "execution_count": 62,
      "metadata": {
        "id": "vhuDNwBuCVzX"
      },
      "outputs": [],
      "source": [
        "# function to find outliers using Z score\n",
        "outlier_list = []\n",
        "\n",
        "def outlier_detection(data):\n",
        "    thres = 3\n",
        "    mean = np.mean(data)\n",
        "    std = np.std(data)    \n",
        "    for data_point in data:\n",
        "        z_score = (data_point -mean)/std\n",
        "        if (np.abs(z_score) > thres):\n",
        "            outlier_list.append(data_point)\n",
        "    return outlier_list\n"
      ]
    },
    {
      "cell_type": "code",
      "execution_count": 63,
      "metadata": {
        "colab": {
          "base_uri": "https://localhost:8080/"
        },
        "id": "8MNArvudEsTX",
        "outputId": "6d0bad61-cf91-42ae-9dbc-3ccb0f2feee4"
      },
      "outputs": [
        {
          "output_type": "stream",
          "name": "stdout",
          "text": [
            "number of Outliers for feature BMI:  36\n",
            "number of Outliers for feature totChol:  49\n",
            "number of Outliers for feature sysBP:  78\n",
            "number of Outliers for feature glucose:  116\n",
            "number of Outliers for feature heartRate:  130\n",
            "number of Outliers for feature cigsPerDay:  140\n",
            "number of Outliers for feature diaBP:  163\n",
            "number of Outliers for feature age:  163\n"
          ]
        }
      ],
      "source": [
        "cols = ['BMI','totChol','sysBP','glucose','heartRate','cigsPerDay','diaBP','age']\n",
        "for col in cols:\n",
        "  outlier_values = outlier_detection(train[col])\n",
        "  print(\"number of Outliers for feature {}: \".format(col), len(outlier_values))"
      ]
    },
    {
      "cell_type": "code",
      "execution_count": 64,
      "metadata": {
        "id": "MqLP9qNXH6ZG"
      },
      "outputs": [],
      "source": [
        "# Computing 10th, 90th percentiles and replacing the outliers\n",
        "def treat_outliers(data):\n",
        "  fifth_qunatile = data.quantile(0.05) \n",
        "  ninetyfive_qunatile  = data.quantile(0.95) \n",
        "  data.clip(fifth_qunatile, ninetyfive_qunatile, inplace=True)\n",
        "\n",
        "for col in cols:\n",
        "  treat_outliers(train[col])\n"
      ]
    },
    {
      "cell_type": "code",
      "execution_count": 65,
      "metadata": {
        "colab": {
          "base_uri": "https://localhost:8080/",
          "height": 295
        },
        "id": "yQGiBAPOMOZb",
        "outputId": "4a0235e0-8c1b-4999-aea1-8ef50b978841"
      },
      "outputs": [
        {
          "output_type": "execute_result",
          "data": {
            "text/plain": [
              "<matplotlib.axes._subplots.AxesSubplot at 0x7fcb7beba110>"
            ]
          },
          "metadata": {},
          "execution_count": 65
        },
        {
          "output_type": "display_data",
          "data": {
            "text/plain": [
              "<Figure size 1800x288 with 4 Axes>"
            ],
            "image/png": "[encoded data removed]"
          },
          "metadata": {
            "needs_background": "light"
          }
        }
      ],
      "source": [
        "# plotting different column values to check outliers if they exist or not \n",
        "\n",
        "fig, (ax1,ax2,ax3,ax4) = plt.subplots(1,4, figsize=(25,4))\n",
        "sns.boxplot(x=train['BMI'],ax=ax1,color = 'orange')\n",
        "sns.boxplot(x=train['totChol'],ax=ax2,color = 'orange')\n",
        "sns.boxplot(x=train['sysBP'],ax=ax3,color = 'orange')\n",
        "sns.boxplot(x=train['glucose'],ax=ax4,color = 'orange')\n"
      ]
    },
    {
      "cell_type": "code",
      "execution_count": 66,
      "metadata": {
        "colab": {
          "base_uri": "https://localhost:8080/",
          "height": 296
        },
        "id": "WkFhN_UNMXOo",
        "outputId": "da319175-f09b-48fd-851d-c83c9f3acee8"
      },
      "outputs": [
        {
          "output_type": "execute_result",
          "data": {
            "text/plain": [
              "<matplotlib.axes._subplots.AxesSubplot at 0x7fcb7c285090>"
            ]
          },
          "metadata": {},
          "execution_count": 66
        },
        {
          "output_type": "display_data",
          "data": {
            "text/plain": [
              "<Figure size 1800x288 with 4 Axes>"
            ],
            "image/png": "[encoded data removed]"
          },
          "metadata": {
            "needs_background": "light"
          }
        }
      ],
      "source": [
        "# plotting different column values to check outliers if they exist or not\n",
        "\n",
        "fig, (ax1,ax2,ax3,ax4) = plt.subplots(1,4, figsize=(25,4))\n",
        "sns.boxplot(x=train['heartRate'],ax=ax1,color = 'orange')\n",
        "sns.boxplot(x=train['cigsPerDay'],ax=ax2,color = 'orange')\n",
        "sns.boxplot(x=train['diaBP'],ax=ax3,color = 'orange')\n",
        "sns.boxplot(x=train['age'],ax=ax4,color = 'orange')"
      ]
    },
    {
      "cell_type": "markdown",
      "metadata": {
        "id": "BYvjm02HYeMD"
      },
      "source": [
        "**Outliers removed from training data**"
      ]
    },
    {
      "cell_type": "code",
      "execution_count": 67,
      "metadata": {
        "colab": {
          "base_uri": "https://localhost:8080/",
          "height": 295
        },
        "id": "9DFNg1dnZ5io",
        "outputId": "184a4d93-2338-48ad-e2f5-fef8a550828b"
      },
      "outputs": [
        {
          "output_type": "execute_result",
          "data": {
            "text/plain": [
              "<matplotlib.axes._subplots.AxesSubplot at 0x7fcb7c1bf450>"
            ]
          },
          "metadata": {},
          "execution_count": 67
        },
        {
          "output_type": "display_data",
          "data": {
            "text/plain": [
              "<Figure size 1800x288 with 4 Axes>"
            ],
            "image/png": "[encoded data removed]"
          },
          "metadata": {
            "needs_background": "light"
          }
        }
      ],
      "source": [
        "# plotting different column values to check outliers (test data)\n",
        "\n",
        "fig, (ax1,ax2,ax3,ax4) = plt.subplots(1,4, figsize=(25,4))\n",
        "sns.boxplot(x=test['BMI'],ax=ax1,color = 'orange')\n",
        "sns.boxplot(x=test['totChol'],ax=ax2,color = 'orange')\n",
        "sns.boxplot(x=test['sysBP'],ax=ax3,color = 'orange')\n",
        "sns.boxplot(x=test['glucose'],ax=ax4,color = 'orange')"
      ]
    },
    {
      "cell_type": "code",
      "execution_count": 68,
      "metadata": {
        "colab": {
          "base_uri": "https://localhost:8080/",
          "height": 296
        },
        "id": "G17IE9SbaKGW",
        "outputId": "0245a0bf-8a4b-454f-c8ae-b5fd9e512eed"
      },
      "outputs": [
        {
          "output_type": "execute_result",
          "data": {
            "text/plain": [
              "<matplotlib.axes._subplots.AxesSubplot at 0x7fcb7c393090>"
            ]
          },
          "metadata": {},
          "execution_count": 68
        },
        {
          "output_type": "display_data",
          "data": {
            "text/plain": [
              "<Figure size 1800x288 with 4 Axes>"
            ],
            "image/png": "[encoded data removed]"
          },
          "metadata": {
            "needs_background": "light"
          }
        }
      ],
      "source": [
        "# plotting different column values to check outliers (test data)\n",
        "\n",
        "fig, (ax1,ax2,ax3,ax4) = plt.subplots(1,4, figsize=(25,4))\n",
        "sns.boxplot(x=test['heartRate'],ax=ax1,color = 'orange')\n",
        "sns.boxplot(x=test['cigsPerDay'],ax=ax2,color = 'orange')\n",
        "sns.boxplot(x=test['diaBP'],ax=ax3,color = 'orange')\n",
        "sns.boxplot(x=test['age'],ax=ax4,color = 'orange')"
      ]
    },
    {
      "cell_type": "code",
      "execution_count": 69,
      "metadata": {
        "id": "TDXvHOEQaW51"
      },
      "outputs": [],
      "source": [
        "# outlier treatment for test data\n",
        "for col in cols:\n",
        "  treat_outliers(test[col])"
      ]
    },
    {
      "cell_type": "code",
      "execution_count": 70,
      "metadata": {
        "colab": {
          "base_uri": "https://localhost:8080/",
          "height": 296
        },
        "id": "NYYI93tSaeCs",
        "outputId": "bc679c2f-890c-440d-bc6e-e6fa5096afc8"
      },
      "outputs": [
        {
          "output_type": "execute_result",
          "data": {
            "text/plain": [
              "<matplotlib.axes._subplots.AxesSubplot at 0x7fcb7b94a550>"
            ]
          },
          "metadata": {},
          "execution_count": 70
        },
        {
          "output_type": "display_data",
          "data": {
            "text/plain": [
              "<Figure size 1800x288 with 4 Axes>"
            ],
            "image/png": "[encoded data removed]"
          },
          "metadata": {
            "needs_background": "light"
          }
        }
      ],
      "source": [
        "# plotting different column values to check outliers (test data) if exist or not\n",
        "\n",
        "fig, (ax1,ax2,ax3,ax4) = plt.subplots(1,4, figsize=(25,4))\n",
        "sns.boxplot(x=test['BMI'],ax=ax1,color = 'orange')\n",
        "sns.boxplot(x=test['totChol'],ax=ax2,color = 'orange')\n",
        "sns.boxplot(x=test['sysBP'],ax=ax3,color = 'orange')\n",
        "sns.boxplot(x=test['glucose'],ax=ax4,color = 'orange')"
      ]
    },
    {
      "cell_type": "code",
      "execution_count": 71,
      "metadata": {
        "colab": {
          "base_uri": "https://localhost:8080/",
          "height": 296
        },
        "id": "WlhLNS-IajpI",
        "outputId": "d55b9e88-685a-406b-af52-dfe1c4fc0037"
      },
      "outputs": [
        {
          "output_type": "execute_result",
          "data": {
            "text/plain": [
              "<matplotlib.axes._subplots.AxesSubplot at 0x7fcb7b76f150>"
            ]
          },
          "metadata": {},
          "execution_count": 71
        },
        {
          "output_type": "display_data",
          "data": {
            "text/plain": [
              "<Figure size 1800x288 with 4 Axes>"
            ],
            "image/png": "[encoded data removed]"
          },
          "metadata": {
            "needs_background": "light"
          }
        }
      ],
      "source": [
        "# plotting different column values to check outliers (test data) if exist or not\n",
        "\n",
        "fig, (ax1,ax2,ax3,ax4) = plt.subplots(1,4, figsize=(25,4))\n",
        "sns.boxplot(x=test['heartRate'],ax=ax1,color = 'orange')\n",
        "sns.boxplot(x=test['cigsPerDay'],ax=ax2,color = 'orange')\n",
        "sns.boxplot(x=test['diaBP'],ax=ax3,color = 'orange')\n",
        "sns.boxplot(x=test['age'],ax=ax4,color = 'orange')"
      ]
    },
    {
      "cell_type": "markdown",
      "metadata": {
        "id": "SrcV-aTcam2H"
      },
      "source": [
        "**Treatment of outliers in test data done**"
      ]
    },
    {
      "cell_type": "markdown",
      "source": [
        "**Insights using feature engineering**"
      ],
      "metadata": {
        "id": "AgFJnH5NY9jY"
      }
    },
    {
      "cell_type": "code",
      "source": [
        "train['hr_bucket'] = train['heartRate'].apply(lambda x : 10*(x//10))\n",
        "ax = sns.catplot('hr_bucket', 'TenYearCHD', kind='bar', data = train, height=4, aspect=1.5)\n",
        "ax.set_ylabels('CHD Probability')"
      ],
      "metadata": {
        "colab": {
          "base_uri": "https://localhost:8080/",
          "height": 369
        },
        "id": "zHbVh2L4YyPY",
        "outputId": "ec793324-03ab-44d9-b98e-20860b5e98f0"
      },
      "execution_count": 72,
      "outputs": [
        {
          "output_type": "stream",
          "name": "stderr",
          "text": [
            "/usr/local/lib/python3.7/dist-packages/seaborn/_decorators.py:43: FutureWarning: Pass the following variables as keyword args: x, y. From version 0.12, the only valid positional argument will be `data`, and passing other arguments without an explicit keyword will result in an error or misinterpretation.\n",
            "  FutureWarning\n"
          ]
        },
        {
          "output_type": "execute_result",
          "data": {
            "text/plain": [
              "<seaborn.axisgrid.FacetGrid at 0x7fcb7f53fe90>"
            ]
          },
          "metadata": {},
          "execution_count": 72
        },
        {
          "output_type": "display_data",
          "data": {
            "text/plain": [
              "<Figure size 432x288 with 1 Axes>"
            ],
            "image/png": "[encoded data removed]"
          },
          "metadata": {
            "needs_background": "light"
          }
        }
      ]
    },
    {
      "cell_type": "code",
      "source": [
        "train['bmi_bucket'] = train['BMI'].apply(lambda x : 3*(x//3))\n",
        "ax = sns.catplot('bmi_bucket', 'TenYearCHD', kind='bar', data = train, height=4, aspect=1.5)\n",
        "ax.set_ylabels('CHD Probability')"
      ],
      "metadata": {
        "colab": {
          "base_uri": "https://localhost:8080/",
          "height": 369
        },
        "id": "3TKCIBM4ZESe",
        "outputId": "f594d6bb-8bed-4965-88a5-0c38026e0d19"
      },
      "execution_count": 73,
      "outputs": [
        {
          "output_type": "stream",
          "name": "stderr",
          "text": [
            "/usr/local/lib/python3.7/dist-packages/seaborn/_decorators.py:43: FutureWarning: Pass the following variables as keyword args: x, y. From version 0.12, the only valid positional argument will be `data`, and passing other arguments without an explicit keyword will result in an error or misinterpretation.\n",
            "  FutureWarning\n"
          ]
        },
        {
          "output_type": "execute_result",
          "data": {
            "text/plain": [
              "<seaborn.axisgrid.FacetGrid at 0x7fcb7c1252d0>"
            ]
          },
          "metadata": {},
          "execution_count": 73
        },
        {
          "output_type": "display_data",
          "data": {
            "text/plain": [
              "<Figure size 432x288 with 1 Axes>"
            ],
            "image/png": "[encoded data removed]"
          },
          "metadata": {
            "needs_background": "light"
          }
        }
      ]
    },
    {
      "cell_type": "code",
      "source": [
        "train['sysBP_bucket'] = train['sysBP'].apply(lambda x : 30*(x//30))\n",
        "ax = sns.catplot('sysBP_bucket', 'TenYearCHD', kind='bar', data = train, height=4, aspect=1.5)\n",
        "ax.set_ylabels('CHD Probability')"
      ],
      "metadata": {
        "colab": {
          "base_uri": "https://localhost:8080/",
          "height": 369
        },
        "id": "5gEBRhe2ZX24",
        "outputId": "85272dfd-d201-425f-eb40-5e9ff9466ef2"
      },
      "execution_count": 74,
      "outputs": [
        {
          "output_type": "stream",
          "name": "stderr",
          "text": [
            "/usr/local/lib/python3.7/dist-packages/seaborn/_decorators.py:43: FutureWarning: Pass the following variables as keyword args: x, y. From version 0.12, the only valid positional argument will be `data`, and passing other arguments without an explicit keyword will result in an error or misinterpretation.\n",
            "  FutureWarning\n"
          ]
        },
        {
          "output_type": "execute_result",
          "data": {
            "text/plain": [
              "<seaborn.axisgrid.FacetGrid at 0x7fcb7bfa4910>"
            ]
          },
          "metadata": {},
          "execution_count": 74
        },
        {
          "output_type": "display_data",
          "data": {
            "text/plain": [
              "<Figure size 432x288 with 1 Axes>"
            ],
            "image/png": "[encoded data removed]"
          },
          "metadata": {
            "needs_background": "light"
          }
        }
      ]
    },
    {
      "cell_type": "code",
      "source": [
        "train['chol_bucket'] = train['totChol'].apply(lambda x : 40*(x//40))\n",
        "ax = sns.catplot('chol_bucket', 'TenYearCHD', kind='bar', data = train, height=4, aspect=1.5)\n",
        "ax.set_ylabels('CHD Probability')"
      ],
      "metadata": {
        "colab": {
          "base_uri": "https://localhost:8080/",
          "height": 369
        },
        "id": "9Epv7S-2Zo_4",
        "outputId": "d5d8f2be-5a01-4ac9-bfea-5d1cbb29ae59"
      },
      "execution_count": 75,
      "outputs": [
        {
          "output_type": "stream",
          "name": "stderr",
          "text": [
            "/usr/local/lib/python3.7/dist-packages/seaborn/_decorators.py:43: FutureWarning: Pass the following variables as keyword args: x, y. From version 0.12, the only valid positional argument will be `data`, and passing other arguments without an explicit keyword will result in an error or misinterpretation.\n",
            "  FutureWarning\n"
          ]
        },
        {
          "output_type": "execute_result",
          "data": {
            "text/plain": [
              "<seaborn.axisgrid.FacetGrid at 0x7fcb7be0ae90>"
            ]
          },
          "metadata": {},
          "execution_count": 75
        },
        {
          "output_type": "display_data",
          "data": {
            "text/plain": [
              "<Figure size 432x288 with 1 Axes>"
            ],
            "image/png": "[encoded data removed]"
          },
          "metadata": {
            "needs_background": "light"
          }
        }
      ]
    },
    {
      "cell_type": "code",
      "source": [
        "train['age_bucket'] = train['age'].apply(lambda x : 5*(x//5))\n",
        "ax=sns.catplot('age_bucket', 'TenYearCHD', kind='bar', data = train, height=4, aspect=1.5)\n",
        "ax.set_ylabels('CHD Probability')"
      ],
      "metadata": {
        "colab": {
          "base_uri": "https://localhost:8080/",
          "height": 369
        },
        "id": "6EXeTKQnZ0cv",
        "outputId": "51baec47-c333-4a29-ef75-9d74d488b2b4"
      },
      "execution_count": 76,
      "outputs": [
        {
          "output_type": "stream",
          "name": "stderr",
          "text": [
            "/usr/local/lib/python3.7/dist-packages/seaborn/_decorators.py:43: FutureWarning: Pass the following variables as keyword args: x, y. From version 0.12, the only valid positional argument will be `data`, and passing other arguments without an explicit keyword will result in an error or misinterpretation.\n",
            "  FutureWarning\n"
          ]
        },
        {
          "output_type": "execute_result",
          "data": {
            "text/plain": [
              "<seaborn.axisgrid.FacetGrid at 0x7fcb7b587cd0>"
            ]
          },
          "metadata": {},
          "execution_count": 76
        },
        {
          "output_type": "display_data",
          "data": {
            "text/plain": [
              "<Figure size 432x288 with 1 Axes>"
            ],
            "image/png": "[encoded data removed]"
          },
          "metadata": {
            "needs_background": "light"
          }
        }
      ]
    },
    {
      "cell_type": "code",
      "source": [
        "train['glucose_bucket'] = train['glucose'].apply(lambda x : 50*(x//50))\n",
        "ax = sns.catplot('glucose_bucket', 'TenYearCHD', kind='bar', data = train, height=4, aspect=1.5)\n",
        "ax.set_ylabels('CHD Probability')"
      ],
      "metadata": {
        "colab": {
          "base_uri": "https://localhost:8080/",
          "height": 369
        },
        "id": "I5ERrrlpaF7I",
        "outputId": "7cf5f927-0b56-4eb1-e67a-43b9a312c642"
      },
      "execution_count": 77,
      "outputs": [
        {
          "output_type": "stream",
          "name": "stderr",
          "text": [
            "/usr/local/lib/python3.7/dist-packages/seaborn/_decorators.py:43: FutureWarning: Pass the following variables as keyword args: x, y. From version 0.12, the only valid positional argument will be `data`, and passing other arguments without an explicit keyword will result in an error or misinterpretation.\n",
            "  FutureWarning\n"
          ]
        },
        {
          "output_type": "execute_result",
          "data": {
            "text/plain": [
              "<seaborn.axisgrid.FacetGrid at 0x7fcb7c1aff50>"
            ]
          },
          "metadata": {},
          "execution_count": 77
        },
        {
          "output_type": "display_data",
          "data": {
            "text/plain": [
              "<Figure size 432x288 with 1 Axes>"
            ],
            "image/png": "[encoded data removed]"
          },
          "metadata": {
            "needs_background": "light"
          }
        }
      ]
    },
    {
      "cell_type": "markdown",
      "metadata": {
        "id": "hEbK4U7tk_2Z"
      },
      "source": [
        "**Checking collinearity between variables**"
      ]
    },
    {
      "cell_type": "code",
      "execution_count": 78,
      "metadata": {
        "id": "xwc8OmRJfur8"
      },
      "outputs": [],
      "source": [
        "independent_variables = ['age','education', 'sex', 'is_smoking', 'cigsPerDay', 'BPMeds',\n",
        "       'prevalentStroke', 'prevalentHyp', 'diabetes', 'totChol', 'sysBP',\n",
        "       'diaBP', 'BMI', 'heartRate', 'glucose']\n",
        "dependent_variables = ['TenYearCHD']   "
      ]
    },
    {
      "cell_type": "code",
      "execution_count": 79,
      "metadata": {
        "colab": {
          "base_uri": "https://localhost:8080/",
          "height": 682
        },
        "id": "zxs-lCx9fbOP",
        "outputId": "512f32b3-5aa7-432c-fbc5-179fb2e57662"
      },
      "outputs": [
        {
          "output_type": "execute_result",
          "data": {
            "text/plain": [
              "<matplotlib.axes._subplots.AxesSubplot at 0x7fcb7b430910>"
            ]
          },
          "metadata": {},
          "execution_count": 79
        },
        {
          "output_type": "display_data",
          "data": {
            "text/plain": [
              "<Figure size 1008x720 with 2 Axes>"
            ],
            "image/png": "[encoded data removed]"
          },
          "metadata": {
            "needs_background": "light"
          }
        }
      ],
      "source": [
        "# checking correlation between variables\n",
        "\n",
        "correlation_calc = train[independent_variables].corr()\n",
        "plt.figure(figsize=(14, 10))\n",
        "sns.heatmap(correlation_calc,  annot=True, cmap=\"YlGnBu\")"
      ]
    },
    {
      "cell_type": "code",
      "execution_count": 80,
      "metadata": {
        "id": "TAqk12i4iZ4C"
      },
      "outputs": [],
      "source": [
        "# dropping columns to remove rows which are combined\n",
        "\n",
        "train['pulsePressure'] =train['sysBP'] - train['diaBP']\n",
        "test['pulsePressure'] = test['sysBP']-test['diaBP']\n",
        "train.drop(['diaBP'],axis=1,inplace=True)\n",
        "test.drop(['diaBP'],axis=1,inplace=True)\n",
        "train.drop(['sysBP'],axis=1,inplace=True)\n",
        "test.drop(['sysBP'],axis=1,inplace=True)"
      ]
    },
    {
      "cell_type": "code",
      "execution_count": 81,
      "metadata": {
        "id": "QKGBvNpuj54x"
      },
      "outputs": [],
      "source": [
        "# dropping is_smoking column as cigsPerDay is highly correlated to it\n",
        "\n",
        "train.drop(['is_smoking'],axis=1,inplace=True)\n",
        "test.drop(['is_smoking'],axis=1,inplace=True)"
      ]
    },
    {
      "cell_type": "code",
      "execution_count": 82,
      "metadata": {
        "colab": {
          "base_uri": "https://localhost:8080/",
          "height": 682
        },
        "id": "jjWheJski1wq",
        "outputId": "f6a9fe0f-32ed-49e7-a637-41a4d77536c1"
      },
      "outputs": [
        {
          "output_type": "execute_result",
          "data": {
            "text/plain": [
              "<matplotlib.axes._subplots.AxesSubplot at 0x7fcb7bf25490>"
            ]
          },
          "metadata": {},
          "execution_count": 82
        },
        {
          "output_type": "display_data",
          "data": {
            "text/plain": [
              "<Figure size 1008x720 with 2 Axes>"
            ],
            "image/png": "[encoded data removed]"
          },
          "metadata": {
            "needs_background": "light"
          }
        }
      ],
      "source": [
        "# checking correlation between variables\n",
        "independent_variables = ['age','education', 'sex', 'cigsPerDay', 'BPMeds',\n",
        "       'prevalentStroke', 'prevalentHyp', 'diabetes', 'totChol',\n",
        "        'BMI', 'heartRate', 'glucose','pulsePressure']\n",
        "\n",
        "correlation_calc = train[independent_variables].corr()\n",
        "plt.figure(figsize=(14, 10))\n",
        "sns.heatmap(correlation_calc,  annot=True, cmap=\"YlGnBu\")"
      ]
    },
    {
      "cell_type": "code",
      "source": [
        "train.drop(['prevalentHyp'],axis=1,inplace=True)\n",
        "test.drop(['prevalentHyp'],axis=1,inplace=True)"
      ],
      "metadata": {
        "id": "H1nqtrqE8WQv"
      },
      "execution_count": 83,
      "outputs": []
    },
    {
      "cell_type": "markdown",
      "metadata": {
        "id": "hI1Qyk84PnH4"
      },
      "source": [
        "\n",
        "## **Resampling of data as data is imbalanced**"
      ]
    },
    {
      "cell_type": "code",
      "execution_count": 84,
      "metadata": {
        "id": "MiPmvnXirZQJ"
      },
      "outputs": [],
      "source": [
        "independent_variables = ['age', 'education', 'sex', 'cigsPerDay', 'BPMeds', 'prevalentStroke',\n",
        "        'diabetes', 'totChol', 'BMI', 'heartRate',\n",
        "       'glucose',  'pulsePressure']\n",
        "dependent_variable = ['TenYearCHD']"
      ]
    },
    {
      "cell_type": "code",
      "execution_count": 85,
      "metadata": {
        "id": "3aoR-_noeXDC"
      },
      "outputs": [],
      "source": [
        "train_independent = train[independent_variables]\n",
        "train_dependent =  train[dependent_variables]"
      ]
    },
    {
      "cell_type": "code",
      "execution_count": 86,
      "metadata": {
        "colab": {
          "base_uri": "https://localhost:8080/"
        },
        "id": "81WvwxwjmmFp",
        "outputId": "1ce6415d-6230-45b7-ffa5-847c6e63bfbc"
      },
      "outputs": [
        {
          "output_type": "execute_result",
          "data": {
            "text/plain": [
              "Index(['age', 'education', 'sex', 'cigsPerDay', 'BPMeds', 'prevalentStroke',\n",
              "       'diabetes', 'totChol', 'BMI', 'heartRate', 'glucose', 'pulsePressure'],\n",
              "      dtype='object')"
            ]
          },
          "metadata": {},
          "execution_count": 86
        }
      ],
      "source": [
        "train_independent.columns"
      ]
    },
    {
      "cell_type": "code",
      "execution_count": 87,
      "metadata": {
        "colab": {
          "base_uri": "https://localhost:8080/"
        },
        "id": "08Jy4miTeakI",
        "outputId": "ac9fc9dc-0ef1-4ff6-dce4-7afb1ddaa5de"
      },
      "outputs": [
        {
          "output_type": "execute_result",
          "data": {
            "text/plain": [
              "0    2303\n",
              "1     409\n",
              "Name: TenYearCHD, dtype: int64"
            ]
          },
          "metadata": {},
          "execution_count": 87
        }
      ],
      "source": [
        "train_dependent['TenYearCHD'].value_counts()"
      ]
    },
    {
      "cell_type": "code",
      "execution_count": 88,
      "metadata": {
        "id": "shVug-uOeiPc"
      },
      "outputs": [],
      "source": [
        "from imblearn.combine import SMOTEENN\n",
        "smote_enn = SMOTEENN(random_state=0)\n",
        "X_train, y_train = smote_enn.fit_resample(train[independent_variables], train[dependent_variables])\n",
        "from imblearn.under_sampling import TomekLinks\n",
        "tl = TomekLinks(sampling_strategy='majority')\n",
        "X_train, y_train = tl.fit_resample(X_train, y_train)\n",
        "#from imblearn.over_sampling import SMOTE\n",
        "#oversample = SMOTE()\n",
        "#X_train, y_train = oversample.fit_resample(train[independent_variables], train[dependent_variables])"
      ]
    },
    {
      "cell_type": "code",
      "execution_count": 89,
      "metadata": {
        "colab": {
          "base_uri": "https://localhost:8080/"
        },
        "id": "FUwme99Uew6O",
        "outputId": "7ba64dc1-89f0-4ac2-cf86-b4f37aa19cf8"
      },
      "outputs": [
        {
          "output_type": "execute_result",
          "data": {
            "text/plain": [
              "TenYearCHD\n",
              "1             2088\n",
              "0             1240\n",
              "dtype: int64"
            ]
          },
          "metadata": {},
          "execution_count": 89
        }
      ],
      "source": [
        "y_train.value_counts()"
      ]
    },
    {
      "cell_type": "markdown",
      "metadata": {
        "id": "kuoXYDbOfF8u"
      },
      "source": [
        "**Data is now balanced data**"
      ]
    },
    {
      "cell_type": "markdown",
      "metadata": {
        "id": "d4yd2MwXXZf4"
      },
      "source": [
        "##**Models Implementation for fitting the training data**"
      ]
    },
    {
      "cell_type": "markdown",
      "metadata": {
        "id": "kofEkktUMhZJ"
      },
      "source": [
        "## **Decision Tree Classifier**"
      ]
    },
    {
      "cell_type": "code",
      "execution_count": 90,
      "metadata": {
        "id": "9LlXVRETl164"
      },
      "outputs": [],
      "source": [
        "train_independent = X_train\n",
        "train_dependent = y_train"
      ]
    },
    {
      "cell_type": "code",
      "execution_count": 91,
      "metadata": {
        "colab": {
          "base_uri": "https://localhost:8080/"
        },
        "id": "LKKNjDDh-rhv",
        "outputId": "90e825c0-7a17-49de-f96a-446521711b23"
      },
      "outputs": [
        {
          "output_type": "execute_result",
          "data": {
            "text/plain": [
              "DecisionTreeClassifier(random_state=0)"
            ]
          },
          "metadata": {},
          "execution_count": 91
        }
      ],
      "source": [
        "from sklearn.tree import DecisionTreeClassifier\n",
        "  \n",
        "# create a regressor object\n",
        "classifier= DecisionTreeClassifier(random_state = 0) \n",
        "  \n",
        "# fit the regressor with X and Y data\n",
        "classifier.fit(train_independent, train_dependent)"
      ]
    },
    {
      "cell_type": "code",
      "execution_count": 92,
      "metadata": {
        "colab": {
          "base_uri": "https://localhost:8080/"
        },
        "id": "k-49MOndKx1v",
        "outputId": "1e2b37fd-c853-4e3e-a43d-e8c2f2db3150"
      },
      "outputs": [
        {
          "output_type": "execute_result",
          "data": {
            "text/plain": [
              "1.0"
            ]
          },
          "metadata": {},
          "execution_count": 92
        }
      ],
      "source": [
        "# accuracy score for training data\n",
        "\n",
        "y_pred = classifier.predict(test[independent_variables])\n",
        "accuracy_score(train_dependent, classifier.predict(train_independent))"
      ]
    },
    {
      "cell_type": "code",
      "execution_count": 93,
      "metadata": {
        "colab": {
          "base_uri": "https://localhost:8080/"
        },
        "id": "Py-Wpt74sMLI",
        "outputId": "951f60d4-9c5b-4a7a-bdae-f5a123e98f8e"
      },
      "outputs": [
        {
          "output_type": "execute_result",
          "data": {
            "text/plain": [
              "0.6578171091445427"
            ]
          },
          "metadata": {},
          "execution_count": 93
        }
      ],
      "source": [
        "# accuracy score  for testing data\n",
        "\n",
        "accuracy_score(test[dependent_variables], classifier.predict(test[independent_variables]))"
      ]
    },
    {
      "cell_type": "code",
      "execution_count": 94,
      "metadata": {
        "colab": {
          "base_uri": "https://localhost:8080/"
        },
        "id": "4_dvygAXK2Xl",
        "outputId": "9a6323f4-5d00-46f0-d8ee-3a83a6fd1afc"
      },
      "outputs": [
        {
          "output_type": "execute_result",
          "data": {
            "text/plain": [
              "1.0"
            ]
          },
          "metadata": {},
          "execution_count": 94
        }
      ],
      "source": [
        "# recall score for training data set\n",
        "from sklearn.metrics import recall_score\n",
        "recall_score(train_dependent, classifier.predict(train_independent))"
      ]
    },
    {
      "cell_type": "code",
      "execution_count": 95,
      "metadata": {
        "colab": {
          "base_uri": "https://localhost:8080/"
        },
        "id": "g8oshEm-K-2-",
        "outputId": "ba713a5a-e6f1-4884-9fae-d57b7a160299"
      },
      "outputs": [
        {
          "output_type": "execute_result",
          "data": {
            "text/plain": [
              "0.37254901960784315"
            ]
          },
          "metadata": {},
          "execution_count": 95
        }
      ],
      "source": [
        "# recall score for testing data set\n",
        "recall_score(test[dependent_variables], classifier.predict(test[independent_variables]))"
      ]
    },
    {
      "cell_type": "markdown",
      "metadata": {
        "id": "gVUVSydhF1Fx"
      },
      "source": [
        "**Our goal is to increase recall score as per the problem so as patient is not diagnosed incorrectly**"
      ]
    },
    {
      "cell_type": "code",
      "execution_count": 96,
      "metadata": {
        "id": "l6f8jBK2uPa6"
      },
      "outputs": [],
      "source": [
        "# using standard scaler to transform data \n",
        "\n",
        "from sklearn.preprocessing import StandardScaler\n",
        "scaler= StandardScaler()\n",
        "X_train=scaler.fit_transform(train_independent)\n",
        "X_test=scaler.fit_transform(test[independent_variables])"
      ]
    },
    {
      "cell_type": "code",
      "execution_count": 97,
      "metadata": {
        "colab": {
          "base_uri": "https://localhost:8080/"
        },
        "id": "4qToRjHBuqRV",
        "outputId": "413f40f0-a52a-416f-a339-da637882ce1e"
      },
      "outputs": [
        {
          "output_type": "execute_result",
          "data": {
            "text/plain": [
              "DecisionTreeClassifier(random_state=0)"
            ]
          },
          "metadata": {},
          "execution_count": 97
        }
      ],
      "source": [
        "# Again implementing decision tree classifier\n",
        "\n",
        "classifier= DecisionTreeClassifier(random_state = 0) \n",
        "classifier.fit(X_train, train_dependent)"
      ]
    },
    {
      "cell_type": "code",
      "execution_count": 98,
      "metadata": {
        "colab": {
          "base_uri": "https://localhost:8080/"
        },
        "id": "rk-1aPXovdbY",
        "outputId": "8e49830f-6154-4df6-9aa2-12fe39bca143"
      },
      "outputs": [
        {
          "output_type": "execute_result",
          "data": {
            "text/plain": [
              "1.0"
            ]
          },
          "metadata": {},
          "execution_count": 98
        }
      ],
      "source": [
        "# recall score \n",
        "recall_score(train_dependent, classifier.predict(X_train))"
      ]
    },
    {
      "cell_type": "code",
      "execution_count": 99,
      "metadata": {
        "colab": {
          "base_uri": "https://localhost:8080/"
        },
        "id": "IMqtHgk-vnQ6",
        "outputId": "b628280b-35ef-4bac-c337-7c339220678d"
      },
      "outputs": [
        {
          "output_type": "execute_result",
          "data": {
            "text/plain": [
              "0.7549019607843137"
            ]
          },
          "metadata": {},
          "execution_count": 99
        }
      ],
      "source": [
        "# recall score increased for testing data\n",
        "recall_score(test[dependent_variables], classifier.predict(X_test))"
      ]
    },
    {
      "cell_type": "code",
      "execution_count": 100,
      "metadata": {
        "colab": {
          "base_uri": "https://localhost:8080/"
        },
        "id": "aHNvWUXvxSRd",
        "outputId": "dca3aee8-b6c0-496f-f241-5bc3f7f63f16"
      },
      "outputs": [
        {
          "output_type": "execute_result",
          "data": {
            "text/plain": [
              "{'ccp_alpha': 0.0,\n",
              " 'class_weight': None,\n",
              " 'criterion': 'gini',\n",
              " 'max_depth': None,\n",
              " 'max_features': None,\n",
              " 'max_leaf_nodes': None,\n",
              " 'min_impurity_decrease': 0.0,\n",
              " 'min_samples_leaf': 1,\n",
              " 'min_samples_split': 2,\n",
              " 'min_weight_fraction_leaf': 0.0,\n",
              " 'random_state': 0,\n",
              " 'splitter': 'best'}"
            ]
          },
          "metadata": {},
          "execution_count": 100
        }
      ],
      "source": [
        "classifier.get_params()"
      ]
    },
    {
      "cell_type": "code",
      "execution_count": 101,
      "metadata": {
        "colab": {
          "base_uri": "https://localhost:8080/",
          "height": 474
        },
        "id": "qKqMZNuX4Xj_",
        "outputId": "5fb623ff-21e6-41f8-b207-ee6b281321bc"
      },
      "outputs": [
        {
          "output_type": "stream",
          "name": "stdout",
          "text": [
            "Feature: 0, Score: 0.30695\n",
            "Feature: 1, Score: 0.05188\n",
            "Feature: 2, Score: 0.04996\n",
            "Feature: 3, Score: 0.08679\n",
            "Feature: 4, Score: 0.00667\n",
            "Feature: 5, Score: 0.00000\n",
            "Feature: 6, Score: 0.01857\n",
            "Feature: 7, Score: 0.10473\n",
            "Feature: 8, Score: 0.07792\n",
            "Feature: 9, Score: 0.12264\n",
            "Feature: 10, Score: 0.07085\n",
            "Feature: 11, Score: 0.10304\n"
          ]
        },
        {
          "output_type": "display_data",
          "data": {
            "text/plain": [
              "<Figure size 432x288 with 1 Axes>"
            ],
            "image/png": "[encoded data removed]"
          },
          "metadata": {
            "needs_background": "light"
          }
        }
      ],
      "source": [
        "# importance of features can be seen using feature_importances_\n",
        "\n",
        "importance = classifier.feature_importances_\n",
        "# summarize feature importance\n",
        "for i,v in enumerate(importance):\n",
        "\tprint('Feature: %0d, Score: %.5f' % (i,v))\n",
        "# plot feature importance\n",
        "plt.bar([x for x in range(len(importance))], importance)\n",
        "plt.show()"
      ]
    },
    {
      "cell_type": "markdown",
      "metadata": {
        "id": "S-eOi76gslQE"
      },
      "source": [
        "**Hyperparameter Tuning on decision tree classifier**"
      ]
    },
    {
      "cell_type": "code",
      "execution_count": 102,
      "metadata": {
        "colab": {
          "base_uri": "https://localhost:8080/"
        },
        "id": "7z60GD8gFU_8",
        "outputId": "9e6d92be-7612-4b6d-e1ab-4d2b4bc72f4e"
      },
      "outputs": [
        {
          "output_type": "stream",
          "name": "stdout",
          "text": [
            "Fitting 3 folds for each of 18 candidates, totalling 54 fits\n",
            "[CV 1/3] END criterion=gini, max_depth=16, min_samples_split=2;, score=0.807 total time=   0.0s\n",
            "[CV 2/3] END criterion=gini, max_depth=16, min_samples_split=2;, score=0.874 total time=   0.0s\n",
            "[CV 3/3] END criterion=gini, max_depth=16, min_samples_split=2;, score=0.857 total time=   0.0s\n",
            "[CV 1/3] END criterion=gini, max_depth=16, min_samples_split=3;, score=0.798 total time=   0.0s\n",
            "[CV 2/3] END criterion=gini, max_depth=16, min_samples_split=3;, score=0.885 total time=   0.0s\n",
            "[CV 3/3] END criterion=gini, max_depth=16, min_samples_split=3;, score=0.852 total time=   0.0s\n",
            "[CV 1/3] END criterion=gini, max_depth=16, min_samples_split=4;, score=0.788 total time=   0.0s\n",
            "[CV 2/3] END criterion=gini, max_depth=16, min_samples_split=4;, score=0.883 total time=   0.0s\n",
            "[CV 3/3] END criterion=gini, max_depth=16, min_samples_split=4;, score=0.856 total time=   0.0s\n",
            "[CV 1/3] END criterion=gini, max_depth=17, min_samples_split=2;, score=0.800 total time=   0.0s\n",
            "[CV 2/3] END criterion=gini, max_depth=17, min_samples_split=2;, score=0.874 total time=   0.0s\n",
            "[CV 3/3] END criterion=gini, max_depth=17, min_samples_split=2;, score=0.857 total time=   0.0s\n",
            "[CV 1/3] END criterion=gini, max_depth=17, min_samples_split=3;, score=0.805 total time=   0.0s\n",
            "[CV 2/3] END criterion=gini, max_depth=17, min_samples_split=3;, score=0.885 total time=   0.0s\n",
            "[CV 3/3] END criterion=gini, max_depth=17, min_samples_split=3;, score=0.852 total time=   0.0s\n",
            "[CV 1/3] END criterion=gini, max_depth=17, min_samples_split=4;, score=0.789 total time=   0.0s\n",
            "[CV 2/3] END criterion=gini, max_depth=17, min_samples_split=4;, score=0.883 total time=   0.0s\n",
            "[CV 3/3] END criterion=gini, max_depth=17, min_samples_split=4;, score=0.856 total time=   0.0s\n",
            "[CV 1/3] END criterion=gini, max_depth=18, min_samples_split=2;, score=0.800 total time=   0.0s\n",
            "[CV 2/3] END criterion=gini, max_depth=18, min_samples_split=2;, score=0.874 total time=   0.0s\n",
            "[CV 3/3] END criterion=gini, max_depth=18, min_samples_split=2;, score=0.857 total time=   0.0s\n",
            "[CV 1/3] END criterion=gini, max_depth=18, min_samples_split=3;, score=0.805 total time=   0.0s\n",
            "[CV 2/3] END criterion=gini, max_depth=18, min_samples_split=3;, score=0.885 total time=   0.0s\n",
            "[CV 3/3] END criterion=gini, max_depth=18, min_samples_split=3;, score=0.852 total time=   0.0s\n",
            "[CV 1/3] END criterion=gini, max_depth=18, min_samples_split=4;, score=0.789 total time=   0.0s\n",
            "[CV 2/3] END criterion=gini, max_depth=18, min_samples_split=4;, score=0.883 total time=   0.0s\n",
            "[CV 3/3] END criterion=gini, max_depth=18, min_samples_split=4;, score=0.856 total time=   0.0s\n",
            "[CV 1/3] END criterion=entropy, max_depth=16, min_samples_split=2;, score=0.792 total time=   0.0s\n",
            "[CV 2/3] END criterion=entropy, max_depth=16, min_samples_split=2;, score=0.864 total time=   0.0s\n",
            "[CV 3/3] END criterion=entropy, max_depth=16, min_samples_split=2;, score=0.870 total time=   0.0s\n",
            "[CV 1/3] END criterion=entropy, max_depth=16, min_samples_split=3;, score=0.793 total time=   0.0s\n",
            "[CV 2/3] END criterion=entropy, max_depth=16, min_samples_split=3;, score=0.869 total time=   0.0s\n",
            "[CV 3/3] END criterion=entropy, max_depth=16, min_samples_split=3;, score=0.867 total time=   0.0s\n",
            "[CV 1/3] END criterion=entropy, max_depth=16, min_samples_split=4;, score=0.797 total time=   0.0s\n",
            "[CV 2/3] END criterion=entropy, max_depth=16, min_samples_split=4;, score=0.864 total time=   0.0s\n",
            "[CV 3/3] END criterion=entropy, max_depth=16, min_samples_split=4;, score=0.870 total time=   0.0s\n",
            "[CV 1/3] END criterion=entropy, max_depth=17, min_samples_split=2;, score=0.795 total time=   0.0s\n",
            "[CV 2/3] END criterion=entropy, max_depth=17, min_samples_split=2;, score=0.864 total time=   0.0s\n",
            "[CV 3/3] END criterion=entropy, max_depth=17, min_samples_split=2;, score=0.872 total time=   0.0s\n",
            "[CV 1/3] END criterion=entropy, max_depth=17, min_samples_split=3;, score=0.795 total time=   0.0s\n",
            "[CV 2/3] END criterion=entropy, max_depth=17, min_samples_split=3;, score=0.869 total time=   0.0s\n",
            "[CV 3/3] END criterion=entropy, max_depth=17, min_samples_split=3;, score=0.876 total time=   0.0s\n",
            "[CV 1/3] END criterion=entropy, max_depth=17, min_samples_split=4;, score=0.796 total time=   0.0s\n",
            "[CV 2/3] END criterion=entropy, max_depth=17, min_samples_split=4;, score=0.864 total time=   0.0s\n",
            "[CV 3/3] END criterion=entropy, max_depth=17, min_samples_split=4;, score=0.867 total time=   0.0s\n",
            "[CV 1/3] END criterion=entropy, max_depth=18, min_samples_split=2;, score=0.795 total time=   0.0s\n",
            "[CV 2/3] END criterion=entropy, max_depth=18, min_samples_split=2;, score=0.864 total time=   0.0s\n",
            "[CV 3/3] END criterion=entropy, max_depth=18, min_samples_split=2;, score=0.872 total time=   0.0s\n",
            "[CV 1/3] END criterion=entropy, max_depth=18, min_samples_split=3;, score=0.790 total time=   0.0s\n",
            "[CV 2/3] END criterion=entropy, max_depth=18, min_samples_split=3;, score=0.869 total time=   0.0s\n",
            "[CV 3/3] END criterion=entropy, max_depth=18, min_samples_split=3;, score=0.876 total time=   0.0s\n",
            "[CV 1/3] END criterion=entropy, max_depth=18, min_samples_split=4;, score=0.796 total time=   0.0s\n",
            "[CV 2/3] END criterion=entropy, max_depth=18, min_samples_split=4;, score=0.864 total time=   0.0s\n",
            "[CV 3/3] END criterion=entropy, max_depth=18, min_samples_split=4;, score=0.867 total time=   0.0s\n"
          ]
        },
        {
          "output_type": "execute_result",
          "data": {
            "text/plain": [
              "GridSearchCV(cv=3, estimator=DecisionTreeClassifier(random_state=0),\n",
              "             param_grid={'criterion': ['gini', 'entropy'],\n",
              "                         'max_depth': [16, 17, 18],\n",
              "                         'min_samples_split': [2, 3, 4]},\n",
              "             verbose=3)"
            ]
          },
          "metadata": {},
          "execution_count": 102
        }
      ],
      "source": [
        "# applying hyperparameter tuning to control overfitting and find optimal hyperparameters\n",
        "\n",
        "grid = {\"max_depth\": [16,17,18],\"criterion\": [\"gini\",'entropy'],\"min_samples_split\":[2,3,4]}\n",
        "\n",
        "grid = GridSearchCV(classifier, grid, refit = True, verbose = 3, cv=3)\n",
        "grid.fit(X_train, train_dependent)"
      ]
    },
    {
      "cell_type": "code",
      "source": [
        "grid.best_params_"
      ],
      "metadata": {
        "colab": {
          "base_uri": "https://localhost:8080/"
        },
        "id": "-RxswM_jR9gR",
        "outputId": "b1be58e8-5caf-4c1f-b851-82a29e6624b2"
      },
      "execution_count": 103,
      "outputs": [
        {
          "output_type": "execute_result",
          "data": {
            "text/plain": [
              "{'criterion': 'gini', 'max_depth': 17, 'min_samples_split': 3}"
            ]
          },
          "metadata": {},
          "execution_count": 103
        }
      ]
    },
    {
      "cell_type": "code",
      "execution_count": 104,
      "metadata": {
        "colab": {
          "base_uri": "https://localhost:8080/"
        },
        "id": "QWz_yW8BOF-M",
        "outputId": "dbd68ae0-a204-41fe-9fa7-cde4661ea110"
      },
      "outputs": [
        {
          "output_type": "execute_result",
          "data": {
            "text/plain": [
              "0.9952107279693486"
            ]
          },
          "metadata": {},
          "execution_count": 104
        }
      ],
      "source": [
        "# recall score for training data\n",
        "\n",
        "recall_score(train_dependent, grid.predict(X_train))"
      ]
    },
    {
      "cell_type": "code",
      "execution_count": 105,
      "metadata": {
        "colab": {
          "base_uri": "https://localhost:8080/"
        },
        "id": "3DpH-MQ5yh3x",
        "outputId": "d2451a71-243b-423a-80b4-76b0e8a1f20e"
      },
      "outputs": [
        {
          "output_type": "execute_result",
          "data": {
            "text/plain": [
              "0.7352941176470589"
            ]
          },
          "metadata": {},
          "execution_count": 105
        }
      ],
      "source": [
        "# recall score for testing data\n",
        "\n",
        "recall_score(test[dependent_variables], grid.predict(X_test))"
      ]
    },
    {
      "cell_type": "code",
      "execution_count": 106,
      "metadata": {
        "colab": {
          "base_uri": "https://localhost:8080/"
        },
        "id": "cBT0pvQ5ucD4",
        "outputId": "6545f2a0-2c85-4b32-abe3-2b25a944f7dd"
      },
      "outputs": [
        {
          "output_type": "execute_result",
          "data": {
            "text/plain": [
              "0.14792899408284024"
            ]
          },
          "metadata": {},
          "execution_count": 106
        }
      ],
      "source": [
        "from sklearn.metrics import precision_score\n",
        "precision_score(test[dependent_variables], grid.predict(X_test))"
      ]
    },
    {
      "cell_type": "code",
      "source": [
        "from sklearn.metrics import precision_recall_curve\n",
        "y_decision_function = grid.predict(X_test)\n",
        "precision,recall,threshold = precision_recall_curve(test[dependent_variables],y_decision_function)\n",
        "plt.plot(recall,precision)\n",
        "plt.xlabel('Recall')\n",
        "plt.ylabel('Precision')\n",
        "plt.title('Precision Recall Tradeoff')\n",
        "plt.show() "
      ],
      "metadata": {
        "colab": {
          "base_uri": "https://localhost:8080/",
          "height": 295
        },
        "id": "jUIvZLiSmnE4",
        "outputId": "dbc89b02-5d96-4231-b4f8-3f9646d2fed5"
      },
      "execution_count": 107,
      "outputs": [
        {
          "output_type": "display_data",
          "data": {
            "text/plain": [
              "<Figure size 432x288 with 1 Axes>"
            ],
            "image/png": "[encoded data removed]"
          },
          "metadata": {
            "needs_background": "light"
          }
        }
      ]
    },
    {
      "cell_type": "code",
      "execution_count": 108,
      "metadata": {
        "colab": {
          "base_uri": "https://localhost:8080/",
          "height": 323
        },
        "id": "BO8EUkji-bNc",
        "outputId": "46a18df0-bbda-47e6-fc4c-aa4086008df0"
      },
      "outputs": [
        {
          "output_type": "stream",
          "name": "stdout",
          "text": [
            "confusion matrix\n",
            "[[144 432]\n",
            " [ 27  75]]\n"
          ]
        },
        {
          "output_type": "execute_result",
          "data": {
            "text/plain": [
              "<matplotlib.colorbar.Colorbar at 0x7fcb79183bd0>"
            ]
          },
          "metadata": {},
          "execution_count": 108
        },
        {
          "output_type": "display_data",
          "data": {
            "text/plain": [
              "<Figure size 288x288 with 2 Axes>"
            ],
            "image/png": "[encoded data removed]"
          },
          "metadata": {
            "needs_background": "light"
          }
        }
      ],
      "source": [
        "#Confusion Matrix to see false negatives , true positives, true negatives, false positives\n",
        "\n",
        "conf_matrix = confusion_matrix(test[dependent_variables], grid.predict(X_test))\n",
        "print(\"confusion matrix\")\n",
        "print(conf_matrix)\n",
        "plt.matshow(conf_matrix)\n",
        "plt.colorbar()"
      ]
    },
    {
      "cell_type": "code",
      "execution_count": 109,
      "metadata": {
        "colab": {
          "base_uri": "https://localhost:8080/"
        },
        "id": "MNoOhPb5RyTl",
        "outputId": "da7ac637-7b33-4fd0-8321-465aaf195c53"
      },
      "outputs": [
        {
          "output_type": "stream",
          "name": "stdout",
          "text": [
            "Classification Report               precision    recall  f1-score   support\n",
            "\n",
            "           0       0.84      0.25      0.39       576\n",
            "           1       0.15      0.74      0.25       102\n",
            "\n",
            "    accuracy                           0.32       678\n",
            "   macro avg       0.50      0.49      0.32       678\n",
            "weighted avg       0.74      0.32      0.36       678\n",
            "\n"
          ]
        }
      ],
      "source": [
        "# classification report\n",
        "\n",
        "print(\"Classification Report\",classification_report(test[dependent_variables], grid.predict(X_test)))"
      ]
    },
    {
      "cell_type": "markdown",
      "source": [
        "# **SVM Classifier**"
      ],
      "metadata": {
        "id": "mbXqSILdMVkn"
      }
    },
    {
      "cell_type": "code",
      "source": [
        "model = svm.SVC(C=1.0, kernel='linear', class_weight='balanced')\n",
        "model.fit(X_train, train_dependent.values.ravel())"
      ],
      "metadata": {
        "colab": {
          "base_uri": "https://localhost:8080/"
        },
        "id": "Td3uXSSF5JBw",
        "outputId": "2fce3a5f-34e9-44c0-8271-c224f2d66014"
      },
      "execution_count": 110,
      "outputs": [
        {
          "output_type": "execute_result",
          "data": {
            "text/plain": [
              "SVC(class_weight='balanced', kernel='linear')"
            ]
          },
          "metadata": {},
          "execution_count": 110
        }
      ]
    },
    {
      "cell_type": "code",
      "source": [
        "print(\"Classification Report\",classification_report(test[dependent_variables], model.predict(X_test)))"
      ],
      "metadata": {
        "colab": {
          "base_uri": "https://localhost:8080/"
        },
        "id": "UsS37yTk5S1S",
        "outputId": "fd7ac788-eeef-45f2-a3e6-1251d492cffc"
      },
      "execution_count": 111,
      "outputs": [
        {
          "output_type": "stream",
          "name": "stdout",
          "text": [
            "Classification Report               precision    recall  f1-score   support\n",
            "\n",
            "           0       0.93      0.51      0.66       576\n",
            "           1       0.22      0.78      0.34       102\n",
            "\n",
            "    accuracy                           0.55       678\n",
            "   macro avg       0.57      0.65      0.50       678\n",
            "weighted avg       0.82      0.55      0.61       678\n",
            "\n"
          ]
        }
      ]
    },
    {
      "cell_type": "code",
      "source": [
        "accuracy_score(test[dependent_variables], model.predict(X_test))"
      ],
      "metadata": {
        "colab": {
          "base_uri": "https://localhost:8080/"
        },
        "id": "nF3_-mc15bI6",
        "outputId": "03f22c6b-f3d2-4cc9-d52d-3d97d2d39f3c"
      },
      "execution_count": 112,
      "outputs": [
        {
          "output_type": "execute_result",
          "data": {
            "text/plain": [
              "0.5486725663716814"
            ]
          },
          "metadata": {},
          "execution_count": 112
        }
      ]
    },
    {
      "cell_type": "code",
      "source": [
        "precision_score(test[dependent_variables], model.predict(X_test))"
      ],
      "metadata": {
        "colab": {
          "base_uri": "https://localhost:8080/"
        },
        "id": "UmX1aQNIMR-C",
        "outputId": "d5af111d-3713-4e99-8aee-9684f9bbd154"
      },
      "execution_count": 113,
      "outputs": [
        {
          "output_type": "execute_result",
          "data": {
            "text/plain": [
              "0.21978021978021978"
            ]
          },
          "metadata": {},
          "execution_count": 113
        }
      ]
    },
    {
      "cell_type": "code",
      "source": [
        "recall_score(test[dependent_variables], model.predict(X_test))"
      ],
      "metadata": {
        "colab": {
          "base_uri": "https://localhost:8080/"
        },
        "id": "4jQrg2l4MelS",
        "outputId": "10b0a66a-4f3a-482c-b3ca-e97c5561198f"
      },
      "execution_count": 114,
      "outputs": [
        {
          "output_type": "execute_result",
          "data": {
            "text/plain": [
              "0.7843137254901961"
            ]
          },
          "metadata": {},
          "execution_count": 114
        }
      ]
    },
    {
      "cell_type": "code",
      "source": [
        "param_grid = {  \n",
        "              'kernel': ['rbf','linear'],'class_weight':['balanced']}\n",
        " \n",
        "grid = GridSearchCV(svm.SVC(), param_grid, refit = True, verbose = 3)\n",
        " \n",
        "# fitting the model for grid search\n",
        "grid.fit(X_train, train_dependent.values.ravel())"
      ],
      "metadata": {
        "colab": {
          "base_uri": "https://localhost:8080/"
        },
        "id": "UAbi6ncHo4Ub",
        "outputId": "d1a8af95-5ecd-43bc-c079-b66e411e909c"
      },
      "execution_count": 115,
      "outputs": [
        {
          "output_type": "stream",
          "name": "stdout",
          "text": [
            "Fitting 5 folds for each of 2 candidates, totalling 10 fits\n",
            "[CV 1/5] END .class_weight=balanced, kernel=rbf;, score=0.805 total time=   0.5s\n",
            "[CV 2/5] END .class_weight=balanced, kernel=rbf;, score=0.836 total time=   0.4s\n",
            "[CV 3/5] END .class_weight=balanced, kernel=rbf;, score=0.836 total time=   0.4s\n",
            "[CV 4/5] END .class_weight=balanced, kernel=rbf;, score=0.842 total time=   0.4s\n",
            "[CV 5/5] END .class_weight=balanced, kernel=rbf;, score=0.841 total time=   0.4s\n",
            "[CV 1/5] END class_weight=balanced, kernel=linear;, score=0.736 total time=   0.4s\n",
            "[CV 2/5] END class_weight=balanced, kernel=linear;, score=0.751 total time=   0.4s\n",
            "[CV 3/5] END class_weight=balanced, kernel=linear;, score=0.752 total time=   0.4s\n",
            "[CV 4/5] END class_weight=balanced, kernel=linear;, score=0.765 total time=   0.4s\n",
            "[CV 5/5] END class_weight=balanced, kernel=linear;, score=0.750 total time=   0.4s\n"
          ]
        },
        {
          "output_type": "execute_result",
          "data": {
            "text/plain": [
              "GridSearchCV(estimator=SVC(),\n",
              "             param_grid={'class_weight': ['balanced'],\n",
              "                         'kernel': ['rbf', 'linear']},\n",
              "             verbose=3)"
            ]
          },
          "metadata": {},
          "execution_count": 115
        }
      ]
    },
    {
      "cell_type": "code",
      "source": [
        "print(\"Classification Report\",classification_report(test[dependent_variables], grid.predict(X_test)))"
      ],
      "metadata": {
        "colab": {
          "base_uri": "https://localhost:8080/"
        },
        "id": "il-XSJZ4tDOt",
        "outputId": "099b31d1-f43e-4933-9e58-56d83809789a"
      },
      "execution_count": 116,
      "outputs": [
        {
          "output_type": "stream",
          "name": "stdout",
          "text": [
            "Classification Report               precision    recall  f1-score   support\n",
            "\n",
            "           0       0.89      0.51      0.65       576\n",
            "           1       0.19      0.66      0.30       102\n",
            "\n",
            "    accuracy                           0.54       678\n",
            "   macro avg       0.54      0.59      0.48       678\n",
            "weighted avg       0.79      0.54      0.60       678\n",
            "\n"
          ]
        }
      ]
    },
    {
      "cell_type": "code",
      "source": [
        "recall_score(test[dependent_variables], grid.predict(X_test))"
      ],
      "metadata": {
        "colab": {
          "base_uri": "https://localhost:8080/"
        },
        "id": "yfOcTpRztGuf",
        "outputId": "812c1439-9d85-4dbd-b995-96e5200c0c6b"
      },
      "execution_count": 117,
      "outputs": [
        {
          "output_type": "execute_result",
          "data": {
            "text/plain": [
              "0.6568627450980392"
            ]
          },
          "metadata": {},
          "execution_count": 117
        }
      ]
    },
    {
      "cell_type": "code",
      "source": [
        "precision_score(test[dependent_variables], grid.predict(X_test))"
      ],
      "metadata": {
        "colab": {
          "base_uri": "https://localhost:8080/"
        },
        "id": "bCu_cGAgtPrC",
        "outputId": "ba96f0e3-e511-4f3c-ac74-6da58877d8c7"
      },
      "execution_count": 118,
      "outputs": [
        {
          "output_type": "execute_result",
          "data": {
            "text/plain": [
              "0.1930835734870317"
            ]
          },
          "metadata": {},
          "execution_count": 118
        }
      ]
    },
    {
      "cell_type": "code",
      "source": [
        "accuracy_score(test[dependent_variables], grid.predict(X_test))"
      ],
      "metadata": {
        "colab": {
          "base_uri": "https://localhost:8080/"
        },
        "id": "g8ZPdTdJtXH3",
        "outputId": "eeca26fa-6825-4b30-b956-2db61618b763"
      },
      "execution_count": 119,
      "outputs": [
        {
          "output_type": "execute_result",
          "data": {
            "text/plain": [
              "0.5353982300884956"
            ]
          },
          "metadata": {},
          "execution_count": 119
        }
      ]
    },
    {
      "cell_type": "code",
      "source": [
        "from sklearn.metrics import precision_recall_curve\n",
        "y_decision_function = grid.predict(X_test)\n",
        "precision,recall,threshold = precision_recall_curve(test[dependent_variables],y_decision_function)\n",
        "plt.plot(recall,precision)\n",
        "plt.xlabel('Recall')\n",
        "plt.ylabel('Precision')\n",
        "plt.title('Precision Recall Tradeoff')\n",
        "plt.show() "
      ],
      "metadata": {
        "colab": {
          "base_uri": "https://localhost:8080/",
          "height": 295
        },
        "id": "CQonP6ccnrH2",
        "outputId": "f2d6e9b8-1d29-44fc-b172-d30721251ebb"
      },
      "execution_count": 120,
      "outputs": [
        {
          "output_type": "display_data",
          "data": {
            "text/plain": [
              "<Figure size 432x288 with 1 Axes>"
            ],
            "image/png": "[encoded data removed]"
          },
          "metadata": {
            "needs_background": "light"
          }
        }
      ]
    },
    {
      "cell_type": "markdown",
      "source": [
        "**Hyperparameter tuning reduced recall score value which is not acceptable for this scenario**"
      ],
      "metadata": {
        "id": "wYChjsiW1KM3"
      }
    },
    {
      "cell_type": "markdown",
      "metadata": {
        "id": "Csmi8hxRtF_E"
      },
      "source": [
        "## **Random Forest Classifier with hyper parameter tuning**"
      ]
    },
    {
      "cell_type": "code",
      "execution_count": 121,
      "metadata": {
        "id": "DDRsIfTfc5by"
      },
      "outputs": [],
      "source": [
        "# creating grid for hyperparameters\n",
        "\n",
        "from sklearn.model_selection import RandomizedSearchCV\n",
        "\n",
        "n_estimators = [int(x) for x in np.linspace(start = 200, stop = 2000, num = 10)]\n",
        "max_features = ['auto', 'sqrt']\n",
        "max_depth = [int(x) for x in np.linspace(10, 110, num = 11)]\n",
        "max_depth.append(None)\n",
        "min_samples_split = [2, 5, 10]\n",
        "min_samples_leaf = [1, 2, 4]\n",
        "bootstrap = [True, False]\n",
        "random_grid = {'n_estimators': n_estimators,\n",
        "               'max_features': max_features,\n",
        "               'max_depth': max_depth,\n",
        "               'min_samples_split': min_samples_split,\n",
        "               'min_samples_leaf': min_samples_leaf,\n",
        "               'bootstrap': bootstrap}\n"
      ]
    },
    {
      "cell_type": "code",
      "execution_count": 122,
      "metadata": {
        "id": "fSW-mgdheHXm"
      },
      "outputs": [],
      "source": [
        "# using randomized search cv\n",
        "\n",
        "clf = RandomForestClassifier()\n",
        "# Random search of parameters, using 3 fold cross validation, \n",
        "rf = RandomizedSearchCV(estimator = clf, param_distributions = random_grid, n_iter = 100, cv = 3, verbose=2, random_state=42, n_jobs = -1)"
      ]
    },
    {
      "cell_type": "code",
      "execution_count": 123,
      "metadata": {
        "colab": {
          "base_uri": "https://localhost:8080/"
        },
        "id": "38eQ-uyreTr3",
        "outputId": "6e6d86f0-9e7a-4191-ce78-f4f7db3701fe"
      },
      "outputs": [
        {
          "output_type": "stream",
          "name": "stdout",
          "text": [
            "Fitting 3 folds for each of 100 candidates, totalling 300 fits\n"
          ]
        },
        {
          "output_type": "execute_result",
          "data": {
            "text/plain": [
              "RandomizedSearchCV(cv=3, estimator=RandomForestClassifier(), n_iter=100,\n",
              "                   n_jobs=-1,\n",
              "                   param_distributions={'bootstrap': [True, False],\n",
              "                                        'max_depth': [10, 20, 30, 40, 50, 60,\n",
              "                                                      70, 80, 90, 100, 110,\n",
              "                                                      None],\n",
              "                                        'max_features': ['auto', 'sqrt'],\n",
              "                                        'min_samples_leaf': [1, 2, 4],\n",
              "                                        'min_samples_split': [2, 5, 10],\n",
              "                                        'n_estimators': [200, 400, 600, 800,\n",
              "                                                         1000, 1200, 1400, 1600,\n",
              "                                                         1800, 2000]},\n",
              "                   random_state=42, verbose=2)"
            ]
          },
          "metadata": {},
          "execution_count": 123
        }
      ],
      "source": [
        "# fitting model\n",
        "\n",
        "rf.fit(X_train, train_dependent.values.ravel())"
      ]
    },
    {
      "cell_type": "markdown",
      "metadata": {
        "id": "5ED6zOrMtV8_"
      },
      "source": [
        "**Evaluation Metrics**"
      ]
    },
    {
      "cell_type": "code",
      "execution_count": 124,
      "metadata": {
        "colab": {
          "base_uri": "https://localhost:8080/"
        },
        "id": "mT1jWeJedOhA",
        "outputId": "1a7828b3-e729-4231-bfb1-9703bbf6dcca"
      },
      "outputs": [
        {
          "output_type": "execute_result",
          "data": {
            "text/plain": [
              "1.0"
            ]
          },
          "metadata": {},
          "execution_count": 124
        }
      ],
      "source": [
        "# recall score on training data\n",
        "recall_score(train_dependent, rf.predict(X_train))"
      ]
    },
    {
      "cell_type": "code",
      "execution_count": 125,
      "metadata": {
        "colab": {
          "base_uri": "https://localhost:8080/"
        },
        "id": "ReqqtznTdfiX",
        "outputId": "52a1bf11-817e-4e10-a383-fc48b38737d8"
      },
      "outputs": [
        {
          "output_type": "execute_result",
          "data": {
            "text/plain": [
              "1.0"
            ]
          },
          "metadata": {},
          "execution_count": 125
        }
      ],
      "source": [
        "# accuracy score on training data\n",
        "accuracy_score(train_dependent, rf.predict(X_train))"
      ]
    },
    {
      "cell_type": "code",
      "execution_count": 126,
      "metadata": {
        "colab": {
          "base_uri": "https://localhost:8080/"
        },
        "id": "KCREJtKOdjQs",
        "outputId": "d4c66075-d352-4502-8d7d-9f2722026e2c"
      },
      "outputs": [
        {
          "output_type": "execute_result",
          "data": {
            "text/plain": [
              "0.17551622418879056"
            ]
          },
          "metadata": {},
          "execution_count": 126
        }
      ],
      "source": [
        "# accuracy score on test data\n",
        "accuracy_score(test[dependent_variables], rf.predict(X_test))"
      ]
    },
    {
      "cell_type": "code",
      "execution_count": 127,
      "metadata": {
        "colab": {
          "base_uri": "https://localhost:8080/"
        },
        "id": "zTCTNmffdTO7",
        "outputId": "2ae87e2d-957d-4ae1-8513-7db50363e35f"
      },
      "outputs": [
        {
          "output_type": "execute_result",
          "data": {
            "text/plain": [
              "0.9607843137254902"
            ]
          },
          "metadata": {},
          "execution_count": 127
        }
      ],
      "source": [
        "# recall score on test data\n",
        "\n",
        "recall_score(test[dependent_variables], rf.predict(X_test))"
      ]
    },
    {
      "cell_type": "code",
      "execution_count": 128,
      "metadata": {
        "colab": {
          "base_uri": "https://localhost:8080/"
        },
        "id": "vRSNKkeIrqKa",
        "outputId": "0bf09a72-cc68-4519-c807-83f3df6032a0"
      },
      "outputs": [
        {
          "output_type": "execute_result",
          "data": {
            "text/plain": [
              "0.15007656967840735"
            ]
          },
          "metadata": {},
          "execution_count": 128
        }
      ],
      "source": [
        "# precision score on test data\n",
        "from sklearn.metrics import precision_score\n",
        "precision_score(test[dependent_variables], rf.predict(X_test))"
      ]
    },
    {
      "cell_type": "code",
      "execution_count": 129,
      "metadata": {
        "colab": {
          "base_uri": "https://localhost:8080/",
          "height": 323
        },
        "id": "EbZYr0Hfdstk",
        "outputId": "50a02e00-7b0b-4569-8953-7f914ed3b3f5"
      },
      "outputs": [
        {
          "output_type": "stream",
          "name": "stdout",
          "text": [
            "confusion matrix\n",
            "[[ 21 555]\n",
            " [  4  98]]\n"
          ]
        },
        {
          "output_type": "execute_result",
          "data": {
            "text/plain": [
              "<matplotlib.colorbar.Colorbar at 0x7fcb79248450>"
            ]
          },
          "metadata": {},
          "execution_count": 129
        },
        {
          "output_type": "display_data",
          "data": {
            "text/plain": [
              "<Figure size 288x288 with 2 Axes>"
            ],
            "image/png": "[encoded data removed]"
          },
          "metadata": {
            "needs_background": "light"
          }
        }
      ],
      "source": [
        "# confusion matrix\n",
        "conf_matrix = confusion_matrix(test[dependent_variables], rf.predict(X_test))\n",
        "print(\"confusion matrix\")\n",
        "print(conf_matrix)\n",
        "plt.matshow(conf_matrix)\n",
        "plt.colorbar()"
      ]
    },
    {
      "cell_type": "code",
      "source": [
        "from sklearn.metrics import precision_recall_curve\n",
        "y_decision_function = grid.predict(X_test)\n",
        "precision,recall,threshold = precision_recall_curve(test[dependent_variables],y_decision_function)\n",
        "plt.plot(recall,precision)\n",
        "plt.xlabel('Recall')\n",
        "plt.ylabel('Precision')\n",
        "plt.title('Precision Recall Tradeoff')\n",
        "plt.show() "
      ],
      "metadata": {
        "id": "9gY-_p91n0pY",
        "colab": {
          "base_uri": "https://localhost:8080/",
          "height": 295
        },
        "outputId": "0f97022b-d155-4774-f6b0-ed4e7c1f1d6f"
      },
      "execution_count": 130,
      "outputs": [
        {
          "output_type": "display_data",
          "data": {
            "text/plain": [
              "<Figure size 432x288 with 1 Axes>"
            ],
            "image/png": "[encoded data removed]"
          },
          "metadata": {
            "needs_background": "light"
          }
        }
      ]
    },
    {
      "cell_type": "markdown",
      "metadata": {
        "id": "LYOwH2NLM8mG"
      },
      "source": [
        "# **Logistic Regression**"
      ]
    },
    {
      "cell_type": "code",
      "execution_count": 131,
      "metadata": {
        "id": "yP_ZC-BEM6g3"
      },
      "outputs": [],
      "source": [
        "# logistic regression classifier\n",
        "from sklearn.linear_model import LogisticRegression\n",
        "clf = LogisticRegression(random_state=0,class_weight='balanced')"
      ]
    },
    {
      "cell_type": "code",
      "execution_count": 132,
      "metadata": {
        "colab": {
          "base_uri": "https://localhost:8080/"
        },
        "id": "1UoZr5OWzHv3",
        "outputId": "e9a362ee-c13a-4a96-fd23-0a42cf018a41"
      },
      "outputs": [
        {
          "output_type": "execute_result",
          "data": {
            "text/plain": [
              "LogisticRegression(class_weight='balanced', random_state=0)"
            ]
          },
          "metadata": {},
          "execution_count": 132
        }
      ],
      "source": [
        "# fitting scaled data\n",
        "\n",
        "clf.fit(X_train, train_dependent.values.ravel())"
      ]
    },
    {
      "cell_type": "markdown",
      "metadata": {
        "id": "Ev6t6NUZt8ai"
      },
      "source": [
        "###**Evaluation of Model**"
      ]
    },
    {
      "cell_type": "code",
      "execution_count": 133,
      "metadata": {
        "colab": {
          "base_uri": "https://localhost:8080/"
        },
        "id": "B8hFJEOIsDxO",
        "outputId": "b5ae8a92-7a1d-498a-f0dc-fe588465afbc"
      },
      "outputs": [
        {
          "output_type": "execute_result",
          "data": {
            "text/plain": [
              "0.5398230088495575"
            ]
          },
          "metadata": {},
          "execution_count": 133
        }
      ],
      "source": [
        "# accuracy score on test data\n",
        "accuracy_score(test[dependent_variables], clf.predict(X_test))"
      ]
    },
    {
      "cell_type": "code",
      "execution_count": 134,
      "metadata": {
        "colab": {
          "base_uri": "https://localhost:8080/"
        },
        "id": "FhRgQx1_sOk2",
        "outputId": "f362c64a-2b47-4bb1-f5be-feec867b781b"
      },
      "outputs": [
        {
          "output_type": "execute_result",
          "data": {
            "text/plain": [
              "0.21621621621621623"
            ]
          },
          "metadata": {},
          "execution_count": 134
        }
      ],
      "source": [
        "# precision score on test data\n",
        "\n",
        "precision_score(test[dependent_variables], clf.predict(X_test))"
      ]
    },
    {
      "cell_type": "code",
      "execution_count": 135,
      "metadata": {
        "colab": {
          "base_uri": "https://localhost:8080/"
        },
        "id": "er6czOdENG0j",
        "outputId": "380019bd-f079-40ec-863d-6bf6baa15304"
      },
      "outputs": [
        {
          "output_type": "execute_result",
          "data": {
            "text/plain": [
              "0.75"
            ]
          },
          "metadata": {},
          "execution_count": 135
        }
      ],
      "source": [
        "# recall score  for training data\n",
        "\n",
        "recall_score(train_dependent, clf.predict(X_train))"
      ]
    },
    {
      "cell_type": "code",
      "execution_count": 136,
      "metadata": {
        "colab": {
          "base_uri": "https://localhost:8080/"
        },
        "id": "gBrMgPCSNVGw",
        "outputId": "b07a3137-8a6a-4485-daff-18ae04d82fef"
      },
      "outputs": [
        {
          "output_type": "execute_result",
          "data": {
            "text/plain": [
              "0.7843137254901961"
            ]
          },
          "metadata": {},
          "execution_count": 136
        }
      ],
      "source": [
        "# recall score  for testing data\n",
        "recall_score(test[dependent_variables], clf.predict(X_test))"
      ]
    },
    {
      "cell_type": "code",
      "source": [
        "from sklearn.metrics import precision_recall_curve\n",
        "y_decision_function = clf.predict(X_test)\n",
        "precision,recall,threshold = precision_recall_curve(test[dependent_variables],y_decision_function)\n",
        "plt.plot(recall,precision)\n",
        "plt.xlabel('Recall')\n",
        "plt.ylabel('Precision')\n",
        "plt.title('Precision Recall Tradeoff')\n",
        "plt.show() "
      ],
      "metadata": {
        "colab": {
          "base_uri": "https://localhost:8080/",
          "height": 295
        },
        "id": "S1YDZ0rSn9Cb",
        "outputId": "3917c3ad-044a-4a93-9129-bed22d35cf92"
      },
      "execution_count": 137,
      "outputs": [
        {
          "output_type": "display_data",
          "data": {
            "text/plain": [
              "<Figure size 432x288 with 1 Axes>"
            ],
            "image/png": "[encoded data removed]"
          },
          "metadata": {
            "needs_background": "light"
          }
        }
      ]
    },
    {
      "cell_type": "code",
      "execution_count": 138,
      "metadata": {
        "colab": {
          "base_uri": "https://localhost:8080/"
        },
        "id": "vJFeG6IbRiC4",
        "outputId": "10adf4f4-2329-4e21-a9ec-e0715def01e9"
      },
      "outputs": [
        {
          "output_type": "stream",
          "name": "stdout",
          "text": [
            "Classification Report               precision    recall  f1-score   support\n",
            "\n",
            "           0       0.93      0.50      0.65       576\n",
            "           1       0.22      0.78      0.34       102\n",
            "\n",
            "    accuracy                           0.54       678\n",
            "   macro avg       0.57      0.64      0.49       678\n",
            "weighted avg       0.82      0.54      0.60       678\n",
            "\n"
          ]
        }
      ],
      "source": [
        "#classification report\n",
        "\n",
        "print(\"Classification Report\",classification_report(test[dependent_variables], clf.predict(X_test)))"
      ]
    },
    {
      "cell_type": "code",
      "execution_count": 139,
      "metadata": {
        "colab": {
          "base_uri": "https://localhost:8080/",
          "height": 323
        },
        "id": "EwsPDXTq360H",
        "outputId": "46d2b372-a309-4156-bc82-2811feaa85dd"
      },
      "outputs": [
        {
          "output_type": "stream",
          "name": "stdout",
          "text": [
            "confusion matrix\n",
            "[[286 290]\n",
            " [ 22  80]]\n"
          ]
        },
        {
          "output_type": "execute_result",
          "data": {
            "text/plain": [
              "<matplotlib.colorbar.Colorbar at 0x7fcb787f73d0>"
            ]
          },
          "metadata": {},
          "execution_count": 139
        },
        {
          "output_type": "display_data",
          "data": {
            "text/plain": [
              "<Figure size 288x288 with 2 Axes>"
            ],
            "image/png": "[encoded data removed]"
          },
          "metadata": {
            "needs_background": "light"
          }
        }
      ],
      "source": [
        "#Confusion Matrix\n",
        "conf_matrix = confusion_matrix(test[dependent_variables], clf.predict(X_test))\n",
        "print(\"confusion matrix\")\n",
        "print(conf_matrix)\n",
        "plt.matshow(conf_matrix)\n",
        "plt.colorbar()"
      ]
    },
    {
      "cell_type": "markdown",
      "source": [
        "**Data was imbalanced , SMOTE was used to balance the dataset and to improve the results**\n",
        "\n",
        "**Hyper parameter tuning was applied using Grid Search CV and randomized search cv for different models**\n",
        "\n",
        "**Recall of 78% is achieved using logistic regression**\n",
        "\n",
        "**Recall of 96% is achieved using Random Forest Classifer**\n",
        "\n",
        "**Recall of 78 % is achieved using SVM Classifier**\n",
        "\n",
        "**Recall of 73% is achieved using Decision Tree Classifier**\n",
        "\n",
        "\n"
      ],
      "metadata": {
        "id": "QEQFqZIenWhF"
      }
    }
  ],
  "metadata": {
    "colab": {
      "collapsed_sections": [],
      "name": "Cardiovascular Risk Prediction.ipynb",
      "provenance": [],
      "authorship_tag": "ABX9TyNo1t6vR7fCzQqqzN3BSQFQ",
      "include_colab_link": true
    },
    "kernelspec": {
      "display_name": "Python 3",
      "name": "python3"
    },
    "language_info": {
      "name": "python"
    }
  },
  "nbformat": 4,
  "nbformat_minor": 0
}