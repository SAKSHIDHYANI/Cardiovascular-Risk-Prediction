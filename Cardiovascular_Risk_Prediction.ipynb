{
  "cells": [
    {
      "cell_type": "markdown",
      "metadata": {
        "id": "view-in-github",
        "colab_type": "text"
      },
      "source": [
        "<a href=\"https://colab.research.google.com/github/SAKSHIDHYANI/Cardiovascular-Risk-Prediction/blob/main/Cardiovascular_Risk_Prediction.ipynb\" target=\"_parent\"><img src=\"https://colab.research.google.com/assets/colab-badge.svg\" alt=\"Open In Colab\"/></a>"
      ]
    },
    {
      "cell_type": "markdown",
      "metadata": {
        "id": "dvw3PRSNT3D-"
      },
      "source": [
        "**The dataset is from an ongoing cardiovascular study on residents of the town of Framingham,**\n",
        "**Massachusetts. The classification goal is to predict whether the patient has a 10-year risk of**\n",
        "**future coronary heart disease (CHD). The dataset provides the patients’ information. It includes**\n",
        "**over 4,000 records and 15 attributes.**\n",
        "**Variables**\n",
        "**Each attribute is a potential risk factor. There are both demographic, behavioral, and medical risk**\n",
        "**factors.**\n",
        "\n",
        "**Data Description**\n",
        "**Demographic:**\n",
        "\n",
        "**• Sex: male or female(\"M\" or \"F\")**\n",
        "\n",
        "**• Age: Age of the patient;(Continuous - Although the recorded ages have been truncated to**\n",
        "**whole numbers, the concept of age is continuous)**\n",
        "\n",
        "**Behavioral**\n",
        "\n",
        "**• is_smoking: whether or not the patient is a current smoker (\"YES\" or \"NO\")**\n",
        "\n",
        "**• Cigs Per Day: the number of cigarettes that the person smoked on average in one day.(can be**\n",
        "**considered continuous as one can have any number of cigarettes, even half a cigarette.)**\n",
        "\n",
        "**Medical( history)**\n",
        "\n",
        "**• BP Meds: whether or not the patient was on blood pressure medication (Nominal)**\n",
        "\n",
        "**• Prevalent Stroke: whether or not the patient had previously had a stroke (Nominal)**\n",
        "\n",
        "**• Prevalent Hyp: whether or not the patient was hypertensive (Nominal)**\n",
        "\n",
        "**• Diabetes: whether or not the patient had diabetes (Nominal)**\n",
        "\n",
        "**Medical(current)**\n",
        "\n",
        "**• Tot Chol: total cholesterol level (Continuous)**\n",
        "\n",
        "**• Sys BP: systolic blood pressure (Continuous)**\n",
        "\n",
        "**• Dia BP: diastolic blood pressure (Continuous)**\n",
        "\n",
        "**• BMI: Body Mass Index (Continuous)**\n",
        "\n",
        "**• Heart Rate: heart rate (Continuous - In medical research, variables such as heart rate though in**\n",
        "**fact discrete, yet are considered continuous because of large number of possible values.)**\n",
        "\n",
        "**• Glucose: glucose level (Continuous)**\n",
        "\n",
        "**Predict variable (desired target)**\n",
        "\n",
        "**• 10-year risk of coronary heart disease CHD(binary: “1”, means “Yes”, “0”** **means “No”)**"
      ]
    },
    {
      "cell_type": "markdown",
      "metadata": {
        "id": "X-XxVXQLYQgf"
      },
      "source": [
        "##**Importing required libraries**"
      ]
    },
    {
      "cell_type": "code",
      "execution_count": null,
      "metadata": {
        "id": "Or7vArIiTwVI"
      },
      "outputs": [],
      "source": [
        "#importing required libraries\n",
        "\n",
        "import numpy as np\n",
        "import pandas as pd\n",
        "from sklearn.tree import DecisionTreeClassifier \n",
        "from sklearn import metrics\n",
        "from sklearn.model_selection import train_test_split\n",
        "import seaborn as sns\n",
        "import matplotlib.pyplot as plt\n",
        "from sklearn.ensemble import RandomForestClassifier\n",
        "from sklearn.metrics import accuracy_score \n",
        "from sklearn.linear_model import LogisticRegression\n",
        "from sklearn.utils import resample\n",
        "from sklearn import svm\n",
        "from sklearn.model_selection import GridSearchCV\n",
        "from sklearn.linear_model import LogisticRegression\n",
        "from sklearn.neighbors import KNeighborsClassifier\n",
        "from sklearn.metrics import confusion_matrix, accuracy_score, roc_curve, classification_report\n",
        "from sklearn.impute import KNNImputer"
      ]
    },
    {
      "cell_type": "code",
      "execution_count": null,
      "metadata": {
        "colab": {
          "base_uri": "https://localhost:8080/"
        },
        "id": "4tMv3FVZcLQU",
        "outputId": "d8fa3918-aadb-4bd3-dc39-0e3aad88c197"
      },
      "outputs": [
        {
          "output_type": "stream",
          "name": "stdout",
          "text": [
            "Drive already mounted at /content/drive; to attempt to forcibly remount, call drive.mount(\"/content/drive\", force_remount=True).\n"
          ]
        }
      ],
      "source": [
        "from google.colab import drive\n",
        "drive.mount('/content/drive')"
      ]
    },
    {
      "cell_type": "markdown",
      "metadata": {
        "id": "Zvx70YRjYX2v"
      },
      "source": [
        "##**Loading data from csv file to dataframe**"
      ]
    },
    {
      "cell_type": "code",
      "execution_count": null,
      "metadata": {
        "id": "d0-saEX6cnV7"
      },
      "outputs": [],
      "source": [
        "# saving data from csv to dataframe\n",
        "data = pd.read_csv(\"/content/drive/MyDrive/Almabetter/Cardiovascular Risk Prediction - Sakshi Dhyani/data_cardiovascular_risk.csv\")"
      ]
    },
    {
      "cell_type": "code",
      "execution_count": null,
      "metadata": {
        "colab": {
          "base_uri": "https://localhost:8080/",
          "height": 206
        },
        "id": "7Vqfpf5KcqMd",
        "outputId": "92520cdd-490d-4387-85d5-a89d727b967f"
      },
      "outputs": [
        {
          "output_type": "execute_result",
          "data": {
            "text/plain": [
              "   id  age  education sex is_smoking  cigsPerDay  BPMeds  prevalentStroke  \\\n",
              "0   0   64        2.0   F        YES         3.0     0.0                0   \n",
              "1   1   36        4.0   M         NO         0.0     0.0                0   \n",
              "2   2   46        1.0   F        YES        10.0     0.0                0   \n",
              "3   3   50        1.0   M        YES        20.0     0.0                0   \n",
              "4   4   64        1.0   F        YES        30.0     0.0                0   \n",
              "\n",
              "   prevalentHyp  diabetes  totChol  sysBP  diaBP    BMI  heartRate  glucose  \\\n",
              "0             0         0    221.0  148.0   85.0    NaN       90.0     80.0   \n",
              "1             1         0    212.0  168.0   98.0  29.77       72.0     75.0   \n",
              "2             0         0    250.0  116.0   71.0  20.35       88.0     94.0   \n",
              "3             1         0    233.0  158.0   88.0  28.26       68.0     94.0   \n",
              "4             0         0    241.0  136.5   85.0  26.42       70.0     77.0   \n",
              "\n",
              "   TenYearCHD  \n",
              "0           1  \n",
              "1           0  \n",
              "2           0  \n",
              "3           1  \n",
              "4           0  "
            ],
            "text/html": [
              "\n",
              "  <div id=\"df-9e3f5232-7ec7-430b-b3e0-7e5a91b56e88\">\n",
              "    <div class=\"colab-df-container\">\n",
              "      <div>\n",
              "<style scoped>\n",
              "    .dataframe tbody tr th:only-of-type {\n",
              "        vertical-align: middle;\n",
              "    }\n",
              "\n",
              "    .dataframe tbody tr th {\n",
              "        vertical-align: top;\n",
              "    }\n",
              "\n",
              "    .dataframe thead th {\n",
              "        text-align: right;\n",
              "    }\n",
              "</style>\n",
              "<table border=\"1\" class=\"dataframe\">\n",
              "  <thead>\n",
              "    <tr style=\"text-align: right;\">\n",
              "      <th></th>\n",
              "      <th>id</th>\n",
              "      <th>age</th>\n",
              "      <th>education</th>\n",
              "      <th>sex</th>\n",
              "      <th>is_smoking</th>\n",
              "      <th>cigsPerDay</th>\n",
              "      <th>BPMeds</th>\n",
              "      <th>prevalentStroke</th>\n",
              "      <th>prevalentHyp</th>\n",
              "      <th>diabetes</th>\n",
              "      <th>totChol</th>\n",
              "      <th>sysBP</th>\n",
              "      <th>diaBP</th>\n",
              "      <th>BMI</th>\n",
              "      <th>heartRate</th>\n",
              "      <th>glucose</th>\n",
              "      <th>TenYearCHD</th>\n",
              "    </tr>\n",
              "  </thead>\n",
              "  <tbody>\n",
              "    <tr>\n",
              "      <th>0</th>\n",
              "      <td>0</td>\n",
              "      <td>64</td>\n",
              "      <td>2.0</td>\n",
              "      <td>F</td>\n",
              "      <td>YES</td>\n",
              "      <td>3.0</td>\n",
              "      <td>0.0</td>\n",
              "      <td>0</td>\n",
              "      <td>0</td>\n",
              "      <td>0</td>\n",
              "      <td>221.0</td>\n",
              "      <td>148.0</td>\n",
              "      <td>85.0</td>\n",
              "      <td>NaN</td>\n",
              "      <td>90.0</td>\n",
              "      <td>80.0</td>\n",
              "      <td>1</td>\n",
              "    </tr>\n",
              "    <tr>\n",
              "      <th>1</th>\n",
              "      <td>1</td>\n",
              "      <td>36</td>\n",
              "      <td>4.0</td>\n",
              "      <td>M</td>\n",
              "      <td>NO</td>\n",
              "      <td>0.0</td>\n",
              "      <td>0.0</td>\n",
              "      <td>0</td>\n",
              "      <td>1</td>\n",
              "      <td>0</td>\n",
              "      <td>212.0</td>\n",
              "      <td>168.0</td>\n",
              "      <td>98.0</td>\n",
              "      <td>29.77</td>\n",
              "      <td>72.0</td>\n",
              "      <td>75.0</td>\n",
              "      <td>0</td>\n",
              "    </tr>\n",
              "    <tr>\n",
              "      <th>2</th>\n",
              "      <td>2</td>\n",
              "      <td>46</td>\n",
              "      <td>1.0</td>\n",
              "      <td>F</td>\n",
              "      <td>YES</td>\n",
              "      <td>10.0</td>\n",
              "      <td>0.0</td>\n",
              "      <td>0</td>\n",
              "      <td>0</td>\n",
              "      <td>0</td>\n",
              "      <td>250.0</td>\n",
              "      <td>116.0</td>\n",
              "      <td>71.0</td>\n",
              "      <td>20.35</td>\n",
              "      <td>88.0</td>\n",
              "      <td>94.0</td>\n",
              "      <td>0</td>\n",
              "    </tr>\n",
              "    <tr>\n",
              "      <th>3</th>\n",
              "      <td>3</td>\n",
              "      <td>50</td>\n",
              "      <td>1.0</td>\n",
              "      <td>M</td>\n",
              "      <td>YES</td>\n",
              "      <td>20.0</td>\n",
              "      <td>0.0</td>\n",
              "      <td>0</td>\n",
              "      <td>1</td>\n",
              "      <td>0</td>\n",
              "      <td>233.0</td>\n",
              "      <td>158.0</td>\n",
              "      <td>88.0</td>\n",
              "      <td>28.26</td>\n",
              "      <td>68.0</td>\n",
              "      <td>94.0</td>\n",
              "      <td>1</td>\n",
              "    </tr>\n",
              "    <tr>\n",
              "      <th>4</th>\n",
              "      <td>4</td>\n",
              "      <td>64</td>\n",
              "      <td>1.0</td>\n",
              "      <td>F</td>\n",
              "      <td>YES</td>\n",
              "      <td>30.0</td>\n",
              "      <td>0.0</td>\n",
              "      <td>0</td>\n",
              "      <td>0</td>\n",
              "      <td>0</td>\n",
              "      <td>241.0</td>\n",
              "      <td>136.5</td>\n",
              "      <td>85.0</td>\n",
              "      <td>26.42</td>\n",
              "      <td>70.0</td>\n",
              "      <td>77.0</td>\n",
              "      <td>0</td>\n",
              "    </tr>\n",
              "  </tbody>\n",
              "</table>\n",
              "</div>\n",
              "      <button class=\"colab-df-convert\" onclick=\"convertToInteractive('df-9e3f5232-7ec7-430b-b3e0-7e5a91b56e88')\"\n",
              "              title=\"Convert this dataframe to an interactive table.\"\n",
              "              style=\"display:none;\">\n",
              "        \n",
              "  <svg xmlns=\"http://www.w3.org/2000/svg\" height=\"24px\"viewBox=\"0 0 24 24\"\n",
              "       width=\"24px\">\n",
              "    <path d=\"M0 0h24v24H0V0z\" fill=\"none\"/>\n",
              "    <path d=\"M18.56 5.44l.94 2.06.94-2.06 2.06-.94-2.06-.94-.94-2.06-.94 2.06-2.06.94zm-11 1L8.5 8.5l.94-2.06 2.06-.94-2.06-.94L8.5 2.5l-.94 2.06-2.06.94zm10 10l.94 2.06.94-2.06 2.06-.94-2.06-.94-.94-2.06-.94 2.06-2.06.94z\"/><path d=\"M17.41 7.96l-1.37-1.37c-.4-.4-.92-.59-1.43-.59-.52 0-1.04.2-1.43.59L10.3 9.45l-7.72 7.72c-.78.78-.78 2.05 0 2.83L4 21.41c.39.39.9.59 1.41.59.51 0 1.02-.2 1.41-.59l7.78-7.78 2.81-2.81c.8-.78.8-2.07 0-2.86zM5.41 20L4 18.59l7.72-7.72 1.47 1.35L5.41 20z\"/>\n",
              "  </svg>\n",
              "      </button>\n",
              "      \n",
              "  <style>\n",
              "    .colab-df-container {\n",
              "      display:flex;\n",
              "      flex-wrap:wrap;\n",
              "      gap: 12px;\n",
              "    }\n",
              "\n",
              "    .colab-df-convert {\n",
              "      background-color: #E8F0FE;\n",
              "      border: none;\n",
              "      border-radius: 50%;\n",
              "      cursor: pointer;\n",
              "      display: none;\n",
              "      fill: #1967D2;\n",
              "      height: 32px;\n",
              "      padding: 0 0 0 0;\n",
              "      width: 32px;\n",
              "    }\n",
              "\n",
              "    .colab-df-convert:hover {\n",
              "      background-color: #E2EBFA;\n",
              "      box-shadow: 0px 1px 2px rgba(60, 64, 67, 0.3), 0px 1px 3px 1px rgba(60, 64, 67, 0.15);\n",
              "      fill: #174EA6;\n",
              "    }\n",
              "\n",
              "    [theme=dark] .colab-df-convert {\n",
              "      background-color: #3B4455;\n",
              "      fill: #D2E3FC;\n",
              "    }\n",
              "\n",
              "    [theme=dark] .colab-df-convert:hover {\n",
              "      background-color: #434B5C;\n",
              "      box-shadow: 0px 1px 3px 1px rgba(0, 0, 0, 0.15);\n",
              "      filter: drop-shadow(0px 1px 2px rgba(0, 0, 0, 0.3));\n",
              "      fill: #FFFFFF;\n",
              "    }\n",
              "  </style>\n",
              "\n",
              "      <script>\n",
              "        const buttonEl =\n",
              "          document.querySelector('#df-9e3f5232-7ec7-430b-b3e0-7e5a91b56e88 button.colab-df-convert');\n",
              "        buttonEl.style.display =\n",
              "          google.colab.kernel.accessAllowed ? 'block' : 'none';\n",
              "\n",
              "        async function convertToInteractive(key) {\n",
              "          const element = document.querySelector('#df-9e3f5232-7ec7-430b-b3e0-7e5a91b56e88');\n",
              "          const dataTable =\n",
              "            await google.colab.kernel.invokeFunction('convertToInteractive',\n",
              "                                                     [key], {});\n",
              "          if (!dataTable) return;\n",
              "\n",
              "          const docLinkHtml = 'Like what you see? Visit the ' +\n",
              "            '<a target=\"_blank\" href=https://colab.research.google.com/notebooks/data_table.ipynb>data table notebook</a>'\n",
              "            + ' to learn more about interactive tables.';\n",
              "          element.innerHTML = '';\n",
              "          dataTable['output_type'] = 'display_data';\n",
              "          await google.colab.output.renderOutput(dataTable, element);\n",
              "          const docLink = document.createElement('div');\n",
              "          docLink.innerHTML = docLinkHtml;\n",
              "          element.appendChild(docLink);\n",
              "        }\n",
              "      </script>\n",
              "    </div>\n",
              "  </div>\n",
              "  "
            ]
          },
          "metadata": {},
          "execution_count": 22
        }
      ],
      "source": [
        "# checking the data columns and values for some rows\n",
        "data.head()"
      ]
    },
    {
      "cell_type": "code",
      "execution_count": null,
      "metadata": {
        "colab": {
          "base_uri": "https://localhost:8080/"
        },
        "id": "cuAAgq_LrA9m",
        "outputId": "f750ddfb-fa82-436a-cd37-80f4a6d15057"
      },
      "outputs": [
        {
          "output_type": "execute_result",
          "data": {
            "text/plain": [
              "(3390, 17)"
            ]
          },
          "metadata": {},
          "execution_count": 23
        }
      ],
      "source": [
        "data.shape"
      ]
    },
    {
      "cell_type": "code",
      "execution_count": null,
      "metadata": {
        "colab": {
          "base_uri": "https://localhost:8080/"
        },
        "id": "pqea0NQ0csRV",
        "outputId": "8a815855-61cb-4d4d-b148-2d5830cea301"
      },
      "outputs": [
        {
          "output_type": "execute_result",
          "data": {
            "text/plain": [
              "<bound method DataFrame.info of         id  age  education sex is_smoking  cigsPerDay  BPMeds  \\\n",
              "0        0   64        2.0   F        YES         3.0     0.0   \n",
              "1        1   36        4.0   M         NO         0.0     0.0   \n",
              "2        2   46        1.0   F        YES        10.0     0.0   \n",
              "3        3   50        1.0   M        YES        20.0     0.0   \n",
              "4        4   64        1.0   F        YES        30.0     0.0   \n",
              "...    ...  ...        ...  ..        ...         ...     ...   \n",
              "3385  3385   60        1.0   F         NO         0.0     0.0   \n",
              "3386  3386   46        1.0   F         NO         0.0     0.0   \n",
              "3387  3387   44        3.0   M        YES         3.0     0.0   \n",
              "3388  3388   60        1.0   M         NO         0.0     NaN   \n",
              "3389  3389   54        3.0   F         NO         0.0     0.0   \n",
              "\n",
              "      prevalentStroke  prevalentHyp  diabetes  totChol  sysBP  diaBP    BMI  \\\n",
              "0                   0             0         0    221.0  148.0   85.0    NaN   \n",
              "1                   0             1         0    212.0  168.0   98.0  29.77   \n",
              "2                   0             0         0    250.0  116.0   71.0  20.35   \n",
              "3                   0             1         0    233.0  158.0   88.0  28.26   \n",
              "4                   0             0         0    241.0  136.5   85.0  26.42   \n",
              "...               ...           ...       ...      ...    ...    ...    ...   \n",
              "3385                0             0         0    261.0  123.5   79.0  29.28   \n",
              "3386                0             0         0    199.0  102.0   56.0  21.96   \n",
              "3387                0             1         0    352.0  164.0  119.0  28.92   \n",
              "3388                0             1         0    191.0  167.0  105.0  23.01   \n",
              "3389                0             0         0    288.0  124.0   77.0  29.88   \n",
              "\n",
              "      heartRate  glucose  TenYearCHD  \n",
              "0          90.0     80.0           1  \n",
              "1          72.0     75.0           0  \n",
              "2          88.0     94.0           0  \n",
              "3          68.0     94.0           1  \n",
              "4          70.0     77.0           0  \n",
              "...         ...      ...         ...  \n",
              "3385       70.0    103.0           0  \n",
              "3386       80.0     84.0           0  \n",
              "3387       73.0     72.0           1  \n",
              "3388       80.0     85.0           0  \n",
              "3389       79.0     92.0           0  \n",
              "\n",
              "[3390 rows x 17 columns]>"
            ]
          },
          "metadata": {},
          "execution_count": 24
        }
      ],
      "source": [
        "#information of the data\n",
        "data.info"
      ]
    },
    {
      "cell_type": "code",
      "execution_count": null,
      "metadata": {
        "colab": {
          "base_uri": "https://localhost:8080/",
          "height": 364
        },
        "id": "zAiyRKiocvO4",
        "outputId": "6cab4b1e-9d15-4bf6-fbef-a96a0d26e0c0"
      },
      "outputs": [
        {
          "output_type": "execute_result",
          "data": {
            "text/plain": [
              "                id          age    education   cigsPerDay       BPMeds  \\\n",
              "count  3390.000000  3390.000000  3303.000000  3368.000000  3346.000000   \n",
              "mean   1694.500000    49.542183     1.970936     9.069477     0.029886   \n",
              "std     978.753033     8.592878     1.019081    11.879078     0.170299   \n",
              "min       0.000000    32.000000     1.000000     0.000000     0.000000   \n",
              "25%     847.250000    42.000000     1.000000     0.000000     0.000000   \n",
              "50%    1694.500000    49.000000     2.000000     0.000000     0.000000   \n",
              "75%    2541.750000    56.000000     3.000000    20.000000     0.000000   \n",
              "max    3389.000000    70.000000     4.000000    70.000000     1.000000   \n",
              "\n",
              "       prevalentStroke  prevalentHyp     diabetes      totChol       sysBP  \\\n",
              "count      3390.000000   3390.000000  3390.000000  3352.000000  3390.00000   \n",
              "mean          0.006490      0.315339     0.025664   237.074284   132.60118   \n",
              "std           0.080309      0.464719     0.158153    45.247430    22.29203   \n",
              "min           0.000000      0.000000     0.000000   107.000000    83.50000   \n",
              "25%           0.000000      0.000000     0.000000   206.000000   117.00000   \n",
              "50%           0.000000      0.000000     0.000000   234.000000   128.50000   \n",
              "75%           0.000000      1.000000     0.000000   264.000000   144.00000   \n",
              "max           1.000000      1.000000     1.000000   696.000000   295.00000   \n",
              "\n",
              "             diaBP          BMI    heartRate      glucose   TenYearCHD  \n",
              "count  3390.000000  3376.000000  3389.000000  3086.000000  3390.000000  \n",
              "mean     82.883038    25.794964    75.977279    82.086520     0.150737  \n",
              "std      12.023581     4.115449    11.971868    24.244753     0.357846  \n",
              "min      48.000000    15.960000    45.000000    40.000000     0.000000  \n",
              "25%      74.500000    23.020000    68.000000    71.000000     0.000000  \n",
              "50%      82.000000    25.380000    75.000000    78.000000     0.000000  \n",
              "75%      90.000000    28.040000    83.000000    87.000000     0.000000  \n",
              "max     142.500000    56.800000   143.000000   394.000000     1.000000  "
            ],
            "text/html": [
              "\n",
              "  <div id=\"df-2b9129fb-e89f-4d59-8398-054825410bd6\">\n",
              "    <div class=\"colab-df-container\">\n",
              "      <div>\n",
              "<style scoped>\n",
              "    .dataframe tbody tr th:only-of-type {\n",
              "        vertical-align: middle;\n",
              "    }\n",
              "\n",
              "    .dataframe tbody tr th {\n",
              "        vertical-align: top;\n",
              "    }\n",
              "\n",
              "    .dataframe thead th {\n",
              "        text-align: right;\n",
              "    }\n",
              "</style>\n",
              "<table border=\"1\" class=\"dataframe\">\n",
              "  <thead>\n",
              "    <tr style=\"text-align: right;\">\n",
              "      <th></th>\n",
              "      <th>id</th>\n",
              "      <th>age</th>\n",
              "      <th>education</th>\n",
              "      <th>cigsPerDay</th>\n",
              "      <th>BPMeds</th>\n",
              "      <th>prevalentStroke</th>\n",
              "      <th>prevalentHyp</th>\n",
              "      <th>diabetes</th>\n",
              "      <th>totChol</th>\n",
              "      <th>sysBP</th>\n",
              "      <th>diaBP</th>\n",
              "      <th>BMI</th>\n",
              "      <th>heartRate</th>\n",
              "      <th>glucose</th>\n",
              "      <th>TenYearCHD</th>\n",
              "    </tr>\n",
              "  </thead>\n",
              "  <tbody>\n",
              "    <tr>\n",
              "      <th>count</th>\n",
              "      <td>3390.000000</td>\n",
              "      <td>3390.000000</td>\n",
              "      <td>3303.000000</td>\n",
              "      <td>3368.000000</td>\n",
              "      <td>3346.000000</td>\n",
              "      <td>3390.000000</td>\n",
              "      <td>3390.000000</td>\n",
              "      <td>3390.000000</td>\n",
              "      <td>3352.000000</td>\n",
              "      <td>3390.00000</td>\n",
              "      <td>3390.000000</td>\n",
              "      <td>3376.000000</td>\n",
              "      <td>3389.000000</td>\n",
              "      <td>3086.000000</td>\n",
              "      <td>3390.000000</td>\n",
              "    </tr>\n",
              "    <tr>\n",
              "      <th>mean</th>\n",
              "      <td>1694.500000</td>\n",
              "      <td>49.542183</td>\n",
              "      <td>1.970936</td>\n",
              "      <td>9.069477</td>\n",
              "      <td>0.029886</td>\n",
              "      <td>0.006490</td>\n",
              "      <td>0.315339</td>\n",
              "      <td>0.025664</td>\n",
              "      <td>237.074284</td>\n",
              "      <td>132.60118</td>\n",
              "      <td>82.883038</td>\n",
              "      <td>25.794964</td>\n",
              "      <td>75.977279</td>\n",
              "      <td>82.086520</td>\n",
              "      <td>0.150737</td>\n",
              "    </tr>\n",
              "    <tr>\n",
              "      <th>std</th>\n",
              "      <td>978.753033</td>\n",
              "      <td>8.592878</td>\n",
              "      <td>1.019081</td>\n",
              "      <td>11.879078</td>\n",
              "      <td>0.170299</td>\n",
              "      <td>0.080309</td>\n",
              "      <td>0.464719</td>\n",
              "      <td>0.158153</td>\n",
              "      <td>45.247430</td>\n",
              "      <td>22.29203</td>\n",
              "      <td>12.023581</td>\n",
              "      <td>4.115449</td>\n",
              "      <td>11.971868</td>\n",
              "      <td>24.244753</td>\n",
              "      <td>0.357846</td>\n",
              "    </tr>\n",
              "    <tr>\n",
              "      <th>min</th>\n",
              "      <td>0.000000</td>\n",
              "      <td>32.000000</td>\n",
              "      <td>1.000000</td>\n",
              "      <td>0.000000</td>\n",
              "      <td>0.000000</td>\n",
              "      <td>0.000000</td>\n",
              "      <td>0.000000</td>\n",
              "      <td>0.000000</td>\n",
              "      <td>107.000000</td>\n",
              "      <td>83.50000</td>\n",
              "      <td>48.000000</td>\n",
              "      <td>15.960000</td>\n",
              "      <td>45.000000</td>\n",
              "      <td>40.000000</td>\n",
              "      <td>0.000000</td>\n",
              "    </tr>\n",
              "    <tr>\n",
              "      <th>25%</th>\n",
              "      <td>847.250000</td>\n",
              "      <td>42.000000</td>\n",
              "      <td>1.000000</td>\n",
              "      <td>0.000000</td>\n",
              "      <td>0.000000</td>\n",
              "      <td>0.000000</td>\n",
              "      <td>0.000000</td>\n",
              "      <td>0.000000</td>\n",
              "      <td>206.000000</td>\n",
              "      <td>117.00000</td>\n",
              "      <td>74.500000</td>\n",
              "      <td>23.020000</td>\n",
              "      <td>68.000000</td>\n",
              "      <td>71.000000</td>\n",
              "      <td>0.000000</td>\n",
              "    </tr>\n",
              "    <tr>\n",
              "      <th>50%</th>\n",
              "      <td>1694.500000</td>\n",
              "      <td>49.000000</td>\n",
              "      <td>2.000000</td>\n",
              "      <td>0.000000</td>\n",
              "      <td>0.000000</td>\n",
              "      <td>0.000000</td>\n",
              "      <td>0.000000</td>\n",
              "      <td>0.000000</td>\n",
              "      <td>234.000000</td>\n",
              "      <td>128.50000</td>\n",
              "      <td>82.000000</td>\n",
              "      <td>25.380000</td>\n",
              "      <td>75.000000</td>\n",
              "      <td>78.000000</td>\n",
              "      <td>0.000000</td>\n",
              "    </tr>\n",
              "    <tr>\n",
              "      <th>75%</th>\n",
              "      <td>2541.750000</td>\n",
              "      <td>56.000000</td>\n",
              "      <td>3.000000</td>\n",
              "      <td>20.000000</td>\n",
              "      <td>0.000000</td>\n",
              "      <td>0.000000</td>\n",
              "      <td>1.000000</td>\n",
              "      <td>0.000000</td>\n",
              "      <td>264.000000</td>\n",
              "      <td>144.00000</td>\n",
              "      <td>90.000000</td>\n",
              "      <td>28.040000</td>\n",
              "      <td>83.000000</td>\n",
              "      <td>87.000000</td>\n",
              "      <td>0.000000</td>\n",
              "    </tr>\n",
              "    <tr>\n",
              "      <th>max</th>\n",
              "      <td>3389.000000</td>\n",
              "      <td>70.000000</td>\n",
              "      <td>4.000000</td>\n",
              "      <td>70.000000</td>\n",
              "      <td>1.000000</td>\n",
              "      <td>1.000000</td>\n",
              "      <td>1.000000</td>\n",
              "      <td>1.000000</td>\n",
              "      <td>696.000000</td>\n",
              "      <td>295.00000</td>\n",
              "      <td>142.500000</td>\n",
              "      <td>56.800000</td>\n",
              "      <td>143.000000</td>\n",
              "      <td>394.000000</td>\n",
              "      <td>1.000000</td>\n",
              "    </tr>\n",
              "  </tbody>\n",
              "</table>\n",
              "</div>\n",
              "      <button class=\"colab-df-convert\" onclick=\"convertToInteractive('df-2b9129fb-e89f-4d59-8398-054825410bd6')\"\n",
              "              title=\"Convert this dataframe to an interactive table.\"\n",
              "              style=\"display:none;\">\n",
              "        \n",
              "  <svg xmlns=\"http://www.w3.org/2000/svg\" height=\"24px\"viewBox=\"0 0 24 24\"\n",
              "       width=\"24px\">\n",
              "    <path d=\"M0 0h24v24H0V0z\" fill=\"none\"/>\n",
              "    <path d=\"M18.56 5.44l.94 2.06.94-2.06 2.06-.94-2.06-.94-.94-2.06-.94 2.06-2.06.94zm-11 1L8.5 8.5l.94-2.06 2.06-.94-2.06-.94L8.5 2.5l-.94 2.06-2.06.94zm10 10l.94 2.06.94-2.06 2.06-.94-2.06-.94-.94-2.06-.94 2.06-2.06.94z\"/><path d=\"M17.41 7.96l-1.37-1.37c-.4-.4-.92-.59-1.43-.59-.52 0-1.04.2-1.43.59L10.3 9.45l-7.72 7.72c-.78.78-.78 2.05 0 2.83L4 21.41c.39.39.9.59 1.41.59.51 0 1.02-.2 1.41-.59l7.78-7.78 2.81-2.81c.8-.78.8-2.07 0-2.86zM5.41 20L4 18.59l7.72-7.72 1.47 1.35L5.41 20z\"/>\n",
              "  </svg>\n",
              "      </button>\n",
              "      \n",
              "  <style>\n",
              "    .colab-df-container {\n",
              "      display:flex;\n",
              "      flex-wrap:wrap;\n",
              "      gap: 12px;\n",
              "    }\n",
              "\n",
              "    .colab-df-convert {\n",
              "      background-color: #E8F0FE;\n",
              "      border: none;\n",
              "      border-radius: 50%;\n",
              "      cursor: pointer;\n",
              "      display: none;\n",
              "      fill: #1967D2;\n",
              "      height: 32px;\n",
              "      padding: 0 0 0 0;\n",
              "      width: 32px;\n",
              "    }\n",
              "\n",
              "    .colab-df-convert:hover {\n",
              "      background-color: #E2EBFA;\n",
              "      box-shadow: 0px 1px 2px rgba(60, 64, 67, 0.3), 0px 1px 3px 1px rgba(60, 64, 67, 0.15);\n",
              "      fill: #174EA6;\n",
              "    }\n",
              "\n",
              "    [theme=dark] .colab-df-convert {\n",
              "      background-color: #3B4455;\n",
              "      fill: #D2E3FC;\n",
              "    }\n",
              "\n",
              "    [theme=dark] .colab-df-convert:hover {\n",
              "      background-color: #434B5C;\n",
              "      box-shadow: 0px 1px 3px 1px rgba(0, 0, 0, 0.15);\n",
              "      filter: drop-shadow(0px 1px 2px rgba(0, 0, 0, 0.3));\n",
              "      fill: #FFFFFF;\n",
              "    }\n",
              "  </style>\n",
              "\n",
              "      <script>\n",
              "        const buttonEl =\n",
              "          document.querySelector('#df-2b9129fb-e89f-4d59-8398-054825410bd6 button.colab-df-convert');\n",
              "        buttonEl.style.display =\n",
              "          google.colab.kernel.accessAllowed ? 'block' : 'none';\n",
              "\n",
              "        async function convertToInteractive(key) {\n",
              "          const element = document.querySelector('#df-2b9129fb-e89f-4d59-8398-054825410bd6');\n",
              "          const dataTable =\n",
              "            await google.colab.kernel.invokeFunction('convertToInteractive',\n",
              "                                                     [key], {});\n",
              "          if (!dataTable) return;\n",
              "\n",
              "          const docLinkHtml = 'Like what you see? Visit the ' +\n",
              "            '<a target=\"_blank\" href=https://colab.research.google.com/notebooks/data_table.ipynb>data table notebook</a>'\n",
              "            + ' to learn more about interactive tables.';\n",
              "          element.innerHTML = '';\n",
              "          dataTable['output_type'] = 'display_data';\n",
              "          await google.colab.output.renderOutput(dataTable, element);\n",
              "          const docLink = document.createElement('div');\n",
              "          docLink.innerHTML = docLinkHtml;\n",
              "          element.appendChild(docLink);\n",
              "        }\n",
              "      </script>\n",
              "    </div>\n",
              "  </div>\n",
              "  "
            ]
          },
          "metadata": {},
          "execution_count": 25
        }
      ],
      "source": [
        "#  data related statistics\n",
        "data.describe()"
      ]
    },
    {
      "cell_type": "code",
      "execution_count": null,
      "metadata": {
        "colab": {
          "base_uri": "https://localhost:8080/"
        },
        "id": "kDmvyzwgcxsR",
        "outputId": "31b5d405-c606-4fb4-abd7-25e35a11941e"
      },
      "outputs": [
        {
          "output_type": "execute_result",
          "data": {
            "text/plain": [
              "Index(['id', 'age', 'education', 'sex', 'is_smoking', 'cigsPerDay', 'BPMeds',\n",
              "       'prevalentStroke', 'prevalentHyp', 'diabetes', 'totChol', 'sysBP',\n",
              "       'diaBP', 'BMI', 'heartRate', 'glucose', 'TenYearCHD'],\n",
              "      dtype='object')"
            ]
          },
          "metadata": {},
          "execution_count": 26
        }
      ],
      "source": [
        "# name of columns\n",
        "data.columns"
      ]
    },
    {
      "cell_type": "markdown",
      "metadata": {
        "id": "KfH7h667YIe3"
      },
      "source": [
        "**Checking for Null Values**"
      ]
    },
    {
      "cell_type": "code",
      "execution_count": null,
      "metadata": {
        "colab": {
          "base_uri": "https://localhost:8080/"
        },
        "id": "c3zu4mUKjczN",
        "outputId": "0e9c90d3-2b11-41a7-82fb-1cef2a1549d4"
      },
      "outputs": [
        {
          "output_type": "execute_result",
          "data": {
            "text/plain": [
              "id                   0\n",
              "age                  0\n",
              "education           87\n",
              "sex                  0\n",
              "is_smoking           0\n",
              "cigsPerDay          22\n",
              "BPMeds              44\n",
              "prevalentStroke      0\n",
              "prevalentHyp         0\n",
              "diabetes             0\n",
              "totChol             38\n",
              "sysBP                0\n",
              "diaBP                0\n",
              "BMI                 14\n",
              "heartRate            1\n",
              "glucose            304\n",
              "TenYearCHD           0\n",
              "dtype: int64"
            ]
          },
          "metadata": {},
          "execution_count": 27
        }
      ],
      "source": [
        "# checking if data contains null values\n",
        "data.isna().sum()"
      ]
    },
    {
      "cell_type": "code",
      "execution_count": null,
      "metadata": {
        "id": "8gZhkiJI8Luz"
      },
      "outputs": [],
      "source": [
        "# Replacing string categorical value with numerical value 0 or 1\n",
        "\n",
        "data['sex'] = data['sex'].replace({'F':1,'M':0})\n",
        "data['is_smoking'] = data['is_smoking'].replace({'YES':1,'NO':0})"
      ]
    },
    {
      "cell_type": "code",
      "execution_count": null,
      "metadata": {
        "colab": {
          "base_uri": "https://localhost:8080/"
        },
        "id": "iybUyiKW8NUW",
        "outputId": "05e9ce3c-2896-4886-8fb7-25a001ba390f"
      },
      "outputs": [
        {
          "output_type": "execute_result",
          "data": {
            "text/plain": [
              "id                   0\n",
              "age                  0\n",
              "education           87\n",
              "sex                  0\n",
              "is_smoking           0\n",
              "cigsPerDay          22\n",
              "BPMeds              44\n",
              "prevalentStroke      0\n",
              "prevalentHyp         0\n",
              "diabetes             0\n",
              "totChol             38\n",
              "sysBP                0\n",
              "diaBP                0\n",
              "BMI                 14\n",
              "heartRate            1\n",
              "glucose            304\n",
              "TenYearCHD           0\n",
              "dtype: int64"
            ]
          },
          "metadata": {},
          "execution_count": 29
        }
      ],
      "source": [
        "# checking if data contains null values\n",
        "data.isna().sum()"
      ]
    },
    {
      "cell_type": "markdown",
      "metadata": {
        "id": "Fy2_vP8NVcWE"
      },
      "source": [
        "**To prevent data leakage, splitting into train and test data set**"
      ]
    },
    {
      "cell_type": "code",
      "source": [
        "data.drop(['id'],axis=1,inplace=True)"
      ],
      "metadata": {
        "id": "y56Tc8dnlMCV"
      },
      "execution_count": null,
      "outputs": []
    },
    {
      "cell_type": "code",
      "execution_count": null,
      "metadata": {
        "id": "euMv-JBRVVbI"
      },
      "outputs": [],
      "source": [
        "# splitting dataset into training and test data\n",
        "train,test=train_test_split(data,test_size=0.2,random_state=0, stratify=data['TenYearCHD'])"
      ]
    },
    {
      "cell_type": "code",
      "execution_count": null,
      "metadata": {
        "colab": {
          "base_uri": "https://localhost:8080/"
        },
        "id": "PcrENkxCWBvl",
        "outputId": "334a8667-a783-4953-d4b8-d5b3d1f6e182"
      },
      "outputs": [
        {
          "output_type": "execute_result",
          "data": {
            "text/plain": [
              "(2712, 16)"
            ]
          },
          "metadata": {},
          "execution_count": 32
        }
      ],
      "source": [
        "train.shape"
      ]
    },
    {
      "cell_type": "code",
      "execution_count": null,
      "metadata": {
        "colab": {
          "base_uri": "https://localhost:8080/"
        },
        "id": "CaNyc6niWEnU",
        "outputId": "6dc8ceff-9854-487f-da0f-bf20991c7439"
      },
      "outputs": [
        {
          "output_type": "execute_result",
          "data": {
            "text/plain": [
              "(678, 16)"
            ]
          },
          "metadata": {},
          "execution_count": 33
        }
      ],
      "source": [
        "test.shape"
      ]
    },
    {
      "cell_type": "code",
      "execution_count": null,
      "metadata": {
        "colab": {
          "base_uri": "https://localhost:8080/"
        },
        "id": "SvatEMydWRii",
        "outputId": "d6a2def6-9fbe-40b7-c7dd-1bf77eeb7304"
      },
      "outputs": [
        {
          "output_type": "execute_result",
          "data": {
            "text/plain": [
              "age                  0\n",
              "education           68\n",
              "sex                  0\n",
              "is_smoking           0\n",
              "cigsPerDay          19\n",
              "BPMeds              36\n",
              "prevalentStroke      0\n",
              "prevalentHyp         0\n",
              "diabetes             0\n",
              "totChol             30\n",
              "sysBP                0\n",
              "diaBP                0\n",
              "BMI                 13\n",
              "heartRate            1\n",
              "glucose            255\n",
              "TenYearCHD           0\n",
              "dtype: int64"
            ]
          },
          "metadata": {},
          "execution_count": 34
        }
      ],
      "source": [
        "train.isna().sum()"
      ]
    },
    {
      "cell_type": "code",
      "execution_count": null,
      "metadata": {
        "colab": {
          "base_uri": "https://localhost:8080/"
        },
        "id": "H1p3sQG3WT89",
        "outputId": "1f472fae-bea4-42e6-ee43-f4061942e6e9"
      },
      "outputs": [
        {
          "output_type": "execute_result",
          "data": {
            "text/plain": [
              "age                 0\n",
              "education          19\n",
              "sex                 0\n",
              "is_smoking          0\n",
              "cigsPerDay          3\n",
              "BPMeds              8\n",
              "prevalentStroke     0\n",
              "prevalentHyp        0\n",
              "diabetes            0\n",
              "totChol             8\n",
              "sysBP               0\n",
              "diaBP               0\n",
              "BMI                 1\n",
              "heartRate           0\n",
              "glucose            49\n",
              "TenYearCHD          0\n",
              "dtype: int64"
            ]
          },
          "metadata": {},
          "execution_count": 35
        }
      ],
      "source": [
        "test.isna().sum()"
      ]
    },
    {
      "cell_type": "code",
      "source": [
        "train['TenYearCHD'].value_counts()"
      ],
      "metadata": {
        "colab": {
          "base_uri": "https://localhost:8080/"
        },
        "id": "JSpu0ICZkuvJ",
        "outputId": "f2a373c4-99f3-409a-f49c-b2e14d69d179"
      },
      "execution_count": null,
      "outputs": [
        {
          "output_type": "execute_result",
          "data": {
            "text/plain": [
              "0    2303\n",
              "1     409\n",
              "Name: TenYearCHD, dtype: int64"
            ]
          },
          "metadata": {},
          "execution_count": 36
        }
      ]
    },
    {
      "cell_type": "markdown",
      "metadata": {
        "id": "bTRrbaOW_zGs"
      },
      "source": [
        "**Imputing null values using KNN imputer**"
      ]
    },
    {
      "cell_type": "code",
      "execution_count": null,
      "metadata": {
        "id": "z210zyJ48dr3"
      },
      "outputs": [],
      "source": [
        "# imputing missing values using KNN imputer for continuous variables\n",
        "cts = ['age','cigsPerDay','totChol','sysBP','diaBP','BMI','heartRate','glucose']\n",
        "imputer = KNNImputer(n_neighbors=3)\n",
        "train[cts] = imputer.fit_transform(train[cts])\n",
        "test[cts] = imputer.fit_transform(test[cts])"
      ]
    },
    {
      "cell_type": "code",
      "source": [
        "# imputing missing values using KNN imputer for categorical variables\n",
        "from sklearn.impute import SimpleImputer\n",
        "category = ['education','sex','is_smoking','BPMeds','prevalentStroke','prevalentHyp','diabetes']\n",
        "frequent= SimpleImputer(strategy=\"most_frequent\")\n",
        "train[category] = frequent.fit_transform(train[category])\n",
        "test[category] = frequent.fit_transform(test[category])"
      ],
      "metadata": {
        "id": "ndcnKfFKn4Vj"
      },
      "execution_count": null,
      "outputs": []
    },
    {
      "cell_type": "code",
      "execution_count": null,
      "metadata": {
        "colab": {
          "base_uri": "https://localhost:8080/",
          "height": 206
        },
        "id": "YbhSk04r9lyP",
        "outputId": "75633d8e-ad1a-4bde-a291-ff63db43634a"
      },
      "outputs": [
        {
          "output_type": "execute_result",
          "data": {
            "text/plain": [
              "       age  education  sex  is_smoking  cigsPerDay  BPMeds  prevalentStroke  \\\n",
              "1609  48.0        1.0  1.0         0.0         0.0     0.0              0.0   \n",
              "1789  48.0        1.0  0.0         1.0        20.0     0.0              0.0   \n",
              "2117  49.0        2.0  0.0         1.0         3.0     0.0              0.0   \n",
              "1126  37.0        1.0  0.0         1.0        30.0     0.0              0.0   \n",
              "1581  62.0        3.0  0.0         0.0         0.0     0.0              0.0   \n",
              "\n",
              "      prevalentHyp  diabetes  totChol  sysBP  diaBP    BMI  heartRate  \\\n",
              "1609           0.0       0.0    244.0  117.0   81.5  28.96       67.0   \n",
              "1789           0.0       0.0    268.0  116.5   82.0  21.34       60.0   \n",
              "2117           1.0       0.0    246.0  141.0   92.0  27.92       75.0   \n",
              "1126           0.0       0.0    275.0  127.0   80.0  27.22       85.0   \n",
              "1581           0.0       0.0    211.0  128.0   78.0  27.99       56.0   \n",
              "\n",
              "      glucose  TenYearCHD  \n",
              "1609     78.0           0  \n",
              "1789     82.0           0  \n",
              "2117     76.0           0  \n",
              "1126     93.0           0  \n",
              "1581     83.0           1  "
            ],
            "text/html": [
              "\n",
              "  <div id=\"df-b486729f-1286-443a-bcfc-4bad6416db04\">\n",
              "    <div class=\"colab-df-container\">\n",
              "      <div>\n",
              "<style scoped>\n",
              "    .dataframe tbody tr th:only-of-type {\n",
              "        vertical-align: middle;\n",
              "    }\n",
              "\n",
              "    .dataframe tbody tr th {\n",
              "        vertical-align: top;\n",
              "    }\n",
              "\n",
              "    .dataframe thead th {\n",
              "        text-align: right;\n",
              "    }\n",
              "</style>\n",
              "<table border=\"1\" class=\"dataframe\">\n",
              "  <thead>\n",
              "    <tr style=\"text-align: right;\">\n",
              "      <th></th>\n",
              "      <th>age</th>\n",
              "      <th>education</th>\n",
              "      <th>sex</th>\n",
              "      <th>is_smoking</th>\n",
              "      <th>cigsPerDay</th>\n",
              "      <th>BPMeds</th>\n",
              "      <th>prevalentStroke</th>\n",
              "      <th>prevalentHyp</th>\n",
              "      <th>diabetes</th>\n",
              "      <th>totChol</th>\n",
              "      <th>sysBP</th>\n",
              "      <th>diaBP</th>\n",
              "      <th>BMI</th>\n",
              "      <th>heartRate</th>\n",
              "      <th>glucose</th>\n",
              "      <th>TenYearCHD</th>\n",
              "    </tr>\n",
              "  </thead>\n",
              "  <tbody>\n",
              "    <tr>\n",
              "      <th>1609</th>\n",
              "      <td>48.0</td>\n",
              "      <td>1.0</td>\n",
              "      <td>1.0</td>\n",
              "      <td>0.0</td>\n",
              "      <td>0.0</td>\n",
              "      <td>0.0</td>\n",
              "      <td>0.0</td>\n",
              "      <td>0.0</td>\n",
              "      <td>0.0</td>\n",
              "      <td>244.0</td>\n",
              "      <td>117.0</td>\n",
              "      <td>81.5</td>\n",
              "      <td>28.96</td>\n",
              "      <td>67.0</td>\n",
              "      <td>78.0</td>\n",
              "      <td>0</td>\n",
              "    </tr>\n",
              "    <tr>\n",
              "      <th>1789</th>\n",
              "      <td>48.0</td>\n",
              "      <td>1.0</td>\n",
              "      <td>0.0</td>\n",
              "      <td>1.0</td>\n",
              "      <td>20.0</td>\n",
              "      <td>0.0</td>\n",
              "      <td>0.0</td>\n",
              "      <td>0.0</td>\n",
              "      <td>0.0</td>\n",
              "      <td>268.0</td>\n",
              "      <td>116.5</td>\n",
              "      <td>82.0</td>\n",
              "      <td>21.34</td>\n",
              "      <td>60.0</td>\n",
              "      <td>82.0</td>\n",
              "      <td>0</td>\n",
              "    </tr>\n",
              "    <tr>\n",
              "      <th>2117</th>\n",
              "      <td>49.0</td>\n",
              "      <td>2.0</td>\n",
              "      <td>0.0</td>\n",
              "      <td>1.0</td>\n",
              "      <td>3.0</td>\n",
              "      <td>0.0</td>\n",
              "      <td>0.0</td>\n",
              "      <td>1.0</td>\n",
              "      <td>0.0</td>\n",
              "      <td>246.0</td>\n",
              "      <td>141.0</td>\n",
              "      <td>92.0</td>\n",
              "      <td>27.92</td>\n",
              "      <td>75.0</td>\n",
              "      <td>76.0</td>\n",
              "      <td>0</td>\n",
              "    </tr>\n",
              "    <tr>\n",
              "      <th>1126</th>\n",
              "      <td>37.0</td>\n",
              "      <td>1.0</td>\n",
              "      <td>0.0</td>\n",
              "      <td>1.0</td>\n",
              "      <td>30.0</td>\n",
              "      <td>0.0</td>\n",
              "      <td>0.0</td>\n",
              "      <td>0.0</td>\n",
              "      <td>0.0</td>\n",
              "      <td>275.0</td>\n",
              "      <td>127.0</td>\n",
              "      <td>80.0</td>\n",
              "      <td>27.22</td>\n",
              "      <td>85.0</td>\n",
              "      <td>93.0</td>\n",
              "      <td>0</td>\n",
              "    </tr>\n",
              "    <tr>\n",
              "      <th>1581</th>\n",
              "      <td>62.0</td>\n",
              "      <td>3.0</td>\n",
              "      <td>0.0</td>\n",
              "      <td>0.0</td>\n",
              "      <td>0.0</td>\n",
              "      <td>0.0</td>\n",
              "      <td>0.0</td>\n",
              "      <td>0.0</td>\n",
              "      <td>0.0</td>\n",
              "      <td>211.0</td>\n",
              "      <td>128.0</td>\n",
              "      <td>78.0</td>\n",
              "      <td>27.99</td>\n",
              "      <td>56.0</td>\n",
              "      <td>83.0</td>\n",
              "      <td>1</td>\n",
              "    </tr>\n",
              "  </tbody>\n",
              "</table>\n",
              "</div>\n",
              "      <button class=\"colab-df-convert\" onclick=\"convertToInteractive('df-b486729f-1286-443a-bcfc-4bad6416db04')\"\n",
              "              title=\"Convert this dataframe to an interactive table.\"\n",
              "              style=\"display:none;\">\n",
              "        \n",
              "  <svg xmlns=\"http://www.w3.org/2000/svg\" height=\"24px\"viewBox=\"0 0 24 24\"\n",
              "       width=\"24px\">\n",
              "    <path d=\"M0 0h24v24H0V0z\" fill=\"none\"/>\n",
              "    <path d=\"M18.56 5.44l.94 2.06.94-2.06 2.06-.94-2.06-.94-.94-2.06-.94 2.06-2.06.94zm-11 1L8.5 8.5l.94-2.06 2.06-.94-2.06-.94L8.5 2.5l-.94 2.06-2.06.94zm10 10l.94 2.06.94-2.06 2.06-.94-2.06-.94-.94-2.06-.94 2.06-2.06.94z\"/><path d=\"M17.41 7.96l-1.37-1.37c-.4-.4-.92-.59-1.43-.59-.52 0-1.04.2-1.43.59L10.3 9.45l-7.72 7.72c-.78.78-.78 2.05 0 2.83L4 21.41c.39.39.9.59 1.41.59.51 0 1.02-.2 1.41-.59l7.78-7.78 2.81-2.81c.8-.78.8-2.07 0-2.86zM5.41 20L4 18.59l7.72-7.72 1.47 1.35L5.41 20z\"/>\n",
              "  </svg>\n",
              "      </button>\n",
              "      \n",
              "  <style>\n",
              "    .colab-df-container {\n",
              "      display:flex;\n",
              "      flex-wrap:wrap;\n",
              "      gap: 12px;\n",
              "    }\n",
              "\n",
              "    .colab-df-convert {\n",
              "      background-color: #E8F0FE;\n",
              "      border: none;\n",
              "      border-radius: 50%;\n",
              "      cursor: pointer;\n",
              "      display: none;\n",
              "      fill: #1967D2;\n",
              "      height: 32px;\n",
              "      padding: 0 0 0 0;\n",
              "      width: 32px;\n",
              "    }\n",
              "\n",
              "    .colab-df-convert:hover {\n",
              "      background-color: #E2EBFA;\n",
              "      box-shadow: 0px 1px 2px rgba(60, 64, 67, 0.3), 0px 1px 3px 1px rgba(60, 64, 67, 0.15);\n",
              "      fill: #174EA6;\n",
              "    }\n",
              "\n",
              "    [theme=dark] .colab-df-convert {\n",
              "      background-color: #3B4455;\n",
              "      fill: #D2E3FC;\n",
              "    }\n",
              "\n",
              "    [theme=dark] .colab-df-convert:hover {\n",
              "      background-color: #434B5C;\n",
              "      box-shadow: 0px 1px 3px 1px rgba(0, 0, 0, 0.15);\n",
              "      filter: drop-shadow(0px 1px 2px rgba(0, 0, 0, 0.3));\n",
              "      fill: #FFFFFF;\n",
              "    }\n",
              "  </style>\n",
              "\n",
              "      <script>\n",
              "        const buttonEl =\n",
              "          document.querySelector('#df-b486729f-1286-443a-bcfc-4bad6416db04 button.colab-df-convert');\n",
              "        buttonEl.style.display =\n",
              "          google.colab.kernel.accessAllowed ? 'block' : 'none';\n",
              "\n",
              "        async function convertToInteractive(key) {\n",
              "          const element = document.querySelector('#df-b486729f-1286-443a-bcfc-4bad6416db04');\n",
              "          const dataTable =\n",
              "            await google.colab.kernel.invokeFunction('convertToInteractive',\n",
              "                                                     [key], {});\n",
              "          if (!dataTable) return;\n",
              "\n",
              "          const docLinkHtml = 'Like what you see? Visit the ' +\n",
              "            '<a target=\"_blank\" href=https://colab.research.google.com/notebooks/data_table.ipynb>data table notebook</a>'\n",
              "            + ' to learn more about interactive tables.';\n",
              "          element.innerHTML = '';\n",
              "          dataTable['output_type'] = 'display_data';\n",
              "          await google.colab.output.renderOutput(dataTable, element);\n",
              "          const docLink = document.createElement('div');\n",
              "          docLink.innerHTML = docLinkHtml;\n",
              "          element.appendChild(docLink);\n",
              "        }\n",
              "      </script>\n",
              "    </div>\n",
              "  </div>\n",
              "  "
            ]
          },
          "metadata": {},
          "execution_count": 39
        }
      ],
      "source": [
        "train.head()"
      ]
    },
    {
      "cell_type": "code",
      "execution_count": null,
      "metadata": {
        "colab": {
          "base_uri": "https://localhost:8080/"
        },
        "id": "KKaQorK2_fiz",
        "outputId": "62042a04-b630-49bc-eac1-5db977870f4f"
      },
      "outputs": [
        {
          "output_type": "execute_result",
          "data": {
            "text/plain": [
              "age                0\n",
              "education          0\n",
              "sex                0\n",
              "is_smoking         0\n",
              "cigsPerDay         0\n",
              "BPMeds             0\n",
              "prevalentStroke    0\n",
              "prevalentHyp       0\n",
              "diabetes           0\n",
              "totChol            0\n",
              "sysBP              0\n",
              "diaBP              0\n",
              "BMI                0\n",
              "heartRate          0\n",
              "glucose            0\n",
              "TenYearCHD         0\n",
              "dtype: int64"
            ]
          },
          "metadata": {},
          "execution_count": 40
        }
      ],
      "source": [
        "# checking if data contains null values\n",
        "train.isna().sum()"
      ]
    },
    {
      "cell_type": "code",
      "execution_count": null,
      "metadata": {
        "colab": {
          "base_uri": "https://localhost:8080/"
        },
        "id": "MsY0IhSzWudX",
        "outputId": "1f3119fe-a0df-4e75-f368-acd42559db79"
      },
      "outputs": [
        {
          "output_type": "execute_result",
          "data": {
            "text/plain": [
              "age                0\n",
              "education          0\n",
              "sex                0\n",
              "is_smoking         0\n",
              "cigsPerDay         0\n",
              "BPMeds             0\n",
              "prevalentStroke    0\n",
              "prevalentHyp       0\n",
              "diabetes           0\n",
              "totChol            0\n",
              "sysBP              0\n",
              "diaBP              0\n",
              "BMI                0\n",
              "heartRate          0\n",
              "glucose            0\n",
              "TenYearCHD         0\n",
              "dtype: int64"
            ]
          },
          "metadata": {},
          "execution_count": 41
        }
      ],
      "source": [
        "test.isna().sum()"
      ]
    },
    {
      "cell_type": "code",
      "execution_count": null,
      "metadata": {
        "colab": {
          "base_uri": "https://localhost:8080/"
        },
        "id": "A453thvrN4Gw",
        "outputId": "35a7ebb5-aeb8-44d1-a929-bd5d6ba82c48"
      },
      "outputs": [
        {
          "output_type": "execute_result",
          "data": {
            "text/plain": [
              "0.0    2693\n",
              "1.0      19\n",
              "Name: prevalentStroke, dtype: int64"
            ]
          },
          "metadata": {},
          "execution_count": 42
        }
      ],
      "source": [
        "train['prevalentStroke'].value_counts()"
      ]
    },
    {
      "cell_type": "code",
      "execution_count": null,
      "metadata": {
        "colab": {
          "base_uri": "https://localhost:8080/"
        },
        "id": "KXV_IWcXN99S",
        "outputId": "be08dbda-c8c1-421a-88ac-2fd450738cfb"
      },
      "outputs": [
        {
          "output_type": "execute_result",
          "data": {
            "text/plain": [
              "0.0    1846\n",
              "1.0     866\n",
              "Name: prevalentHyp, dtype: int64"
            ]
          },
          "metadata": {},
          "execution_count": 43
        }
      ],
      "source": [
        "train['prevalentHyp'].value_counts()"
      ]
    },
    {
      "cell_type": "code",
      "execution_count": null,
      "metadata": {
        "colab": {
          "base_uri": "https://localhost:8080/"
        },
        "id": "_xKuKpApOCr9",
        "outputId": "40205092-d6d4-484d-923a-84a16ca044db"
      },
      "outputs": [
        {
          "output_type": "execute_result",
          "data": {
            "text/plain": [
              "0.0    2637\n",
              "1.0      75\n",
              "Name: diabetes, dtype: int64"
            ]
          },
          "metadata": {},
          "execution_count": 44
        }
      ],
      "source": [
        "train['diabetes'].value_counts()"
      ]
    },
    {
      "cell_type": "code",
      "execution_count": null,
      "metadata": {
        "colab": {
          "base_uri": "https://localhost:8080/"
        },
        "id": "tKLnueBdOcIg",
        "outputId": "f09d5ed5-7ee4-489b-f299-a2a14de4b70d"
      },
      "outputs": [
        {
          "output_type": "execute_result",
          "data": {
            "text/plain": [
              "22.54    16\n",
              "22.19    14\n",
              "22.91    12\n",
              "25.09    11\n",
              "23.10    10\n",
              "         ..\n",
              "18.75     1\n",
              "26.10     1\n",
              "19.50     1\n",
              "35.16     1\n",
              "29.38     1\n",
              "Name: BMI, Length: 1160, dtype: int64"
            ]
          },
          "metadata": {},
          "execution_count": 45
        }
      ],
      "source": [
        "train['BMI'].value_counts()"
      ]
    },
    {
      "cell_type": "code",
      "execution_count": null,
      "metadata": {
        "colab": {
          "base_uri": "https://localhost:8080/"
        },
        "id": "JafsfFsMOW0l",
        "outputId": "dcecc1c9-7877-478f-d65b-20888d138be4"
      },
      "outputs": [
        {
          "output_type": "execute_result",
          "data": {
            "text/plain": [
              "80.0     174\n",
              "82.0     100\n",
              "70.0      86\n",
              "85.0      84\n",
              "90.0      82\n",
              "        ... \n",
              "51.0       1\n",
              "116.0      1\n",
              "60.5       1\n",
              "50.0       1\n",
              "136.0      1\n",
              "Name: diaBP, Length: 136, dtype: int64"
            ]
          },
          "metadata": {},
          "execution_count": 46
        }
      ],
      "source": [
        "train['diaBP'].value_counts()"
      ]
    },
    {
      "cell_type": "code",
      "execution_count": null,
      "metadata": {
        "colab": {
          "base_uri": "https://localhost:8080/"
        },
        "id": "OqeJA5k7OST6",
        "outputId": "a20e1ea9-4119-4b42-bcb4-328b3b637987"
      },
      "outputs": [
        {
          "output_type": "execute_result",
          "data": {
            "text/plain": [
              "110.0    68\n",
              "120.0    67\n",
              "130.0    66\n",
              "125.0    56\n",
              "124.0    53\n",
              "         ..\n",
              "148.5     1\n",
              "185.5     1\n",
              "99.5      1\n",
              "188.5     1\n",
              "208.0     1\n",
              "Name: sysBP, Length: 220, dtype: int64"
            ]
          },
          "metadata": {},
          "execution_count": 47
        }
      ],
      "source": [
        "train['sysBP'].value_counts()"
      ]
    },
    {
      "cell_type": "code",
      "execution_count": null,
      "metadata": {
        "colab": {
          "base_uri": "https://localhost:8080/"
        },
        "id": "yWe9tr3gNHeG",
        "outputId": "43db2bc6-1b90-4498-ea82-8a92abcd3c22"
      },
      "outputs": [
        {
          "output_type": "execute_result",
          "data": {
            "text/plain": [
              "0.000000     1369\n",
              "20.000000     485\n",
              "15.000000     142\n",
              "30.000000     141\n",
              "10.000000      83\n",
              "5.000000       83\n",
              "9.000000       81\n",
              "3.000000       70\n",
              "40.000000      49\n",
              "1.000000       41\n",
              "43.000000      34\n",
              "25.000000      32\n",
              "35.000000      16\n",
              "2.000000       12\n",
              "6.000000       11\n",
              "8.000000        8\n",
              "60.000000       6\n",
              "18.000000       5\n",
              "4.000000        5\n",
              "7.000000        5\n",
              "23.000000       5\n",
              "12.000000       4\n",
              "11.000000       4\n",
              "17.000000       3\n",
              "6.666667        3\n",
              "13.000000       2\n",
              "16.000000       2\n",
              "21.000000       2\n",
              "45.000000       2\n",
              "19.000000       2\n",
              "9.666667        1\n",
              "70.000000       1\n",
              "38.000000       1\n",
              "50.000000       1\n",
              "26.666667       1\n",
              "Name: cigsPerDay, dtype: int64"
            ]
          },
          "metadata": {},
          "execution_count": 48
        }
      ],
      "source": [
        "# checking how many patients were on  blood pressure medication\n",
        "train['cigsPerDay'].value_counts()"
      ]
    },
    {
      "cell_type": "code",
      "execution_count": null,
      "metadata": {
        "colab": {
          "base_uri": "https://localhost:8080/"
        },
        "id": "w47ju9y7jce3",
        "outputId": "1f5e23df-b289-4c1e-9a82-d0d49e37c0e3"
      },
      "outputs": [
        {
          "output_type": "execute_result",
          "data": {
            "text/plain": [
              "0.0    2630\n",
              "1.0      82\n",
              "Name: BPMeds, dtype: int64"
            ]
          },
          "metadata": {},
          "execution_count": 49
        }
      ],
      "source": [
        "# checking how many patients were on  blood pressure medication\n",
        "train['BPMeds'].value_counts()"
      ]
    },
    {
      "cell_type": "code",
      "execution_count": null,
      "metadata": {
        "colab": {
          "base_uri": "https://localhost:8080/"
        },
        "id": "sU36mJNnkLtW",
        "outputId": "1449f846-a32f-4753-d4f4-b08f1f49f71a"
      },
      "outputs": [
        {
          "output_type": "execute_result",
          "data": {
            "text/plain": [
              "22.54    16\n",
              "22.19    14\n",
              "22.91    12\n",
              "25.09    11\n",
              "23.10    10\n",
              "         ..\n",
              "18.75     1\n",
              "26.10     1\n",
              "19.50     1\n",
              "35.16     1\n",
              "29.38     1\n",
              "Name: BMI, Length: 1160, dtype: int64"
            ]
          },
          "metadata": {},
          "execution_count": 50
        }
      ],
      "source": [
        "# checking different Body mass index values for patients\n",
        "train['BMI'].value_counts()"
      ]
    },
    {
      "cell_type": "code",
      "execution_count": null,
      "metadata": {
        "colab": {
          "base_uri": "https://localhost:8080/"
        },
        "id": "0jmL3ZG7khYK",
        "outputId": "aafe56e5-d07b-43a3-9ac6-dd91db85aca8"
      },
      "outputs": [
        {
          "output_type": "execute_result",
          "data": {
            "text/plain": [
              "240.0    53\n",
              "210.0    43\n",
              "232.0    37\n",
              "235.0    36\n",
              "220.0    36\n",
              "         ..\n",
              "365.0     1\n",
              "129.0     1\n",
              "135.0     1\n",
              "696.0     1\n",
              "360.0     1\n",
              "Name: totChol, Length: 255, dtype: int64"
            ]
          },
          "metadata": {},
          "execution_count": 51
        }
      ],
      "source": [
        "# checking total cholesterol values for different patients\n",
        "\n",
        "train['totChol'].value_counts()"
      ]
    },
    {
      "cell_type": "code",
      "execution_count": null,
      "metadata": {
        "colab": {
          "base_uri": "https://localhost:8080/"
        },
        "id": "8kJKxPwNk26k",
        "outputId": "3624f838-723e-48a8-8eca-4bd45fec8318"
      },
      "outputs": [
        {
          "output_type": "execute_result",
          "data": {
            "text/plain": [
              "75.0     360\n",
              "80.0     243\n",
              "70.0     187\n",
              "85.0     161\n",
              "72.0     146\n",
              "        ... \n",
              "143.0      1\n",
              "115.0      1\n",
              "51.0       1\n",
              "140.0      1\n",
              "107.0      1\n",
              "Name: heartRate, Length: 65, dtype: int64"
            ]
          },
          "metadata": {},
          "execution_count": 52
        }
      ],
      "source": [
        "# checking heart rate values for different patients\n",
        "\n",
        "train['heartRate'].value_counts()"
      ]
    },
    {
      "cell_type": "code",
      "execution_count": null,
      "metadata": {
        "colab": {
          "base_uri": "https://localhost:8080/"
        },
        "id": "SbmVHG5alH2F",
        "outputId": "797277f5-4942-43f5-b6b5-20ec37282c0a"
      },
      "outputs": [
        {
          "output_type": "execute_result",
          "data": {
            "text/plain": [
              "75.000000     121\n",
              "83.000000     117\n",
              "78.000000     102\n",
              "80.000000     102\n",
              "70.000000      99\n",
              "             ... \n",
              "63.666667       1\n",
              "124.000000      1\n",
              "254.000000      1\n",
              "119.000000      1\n",
              "107.666667      1\n",
              "Name: glucose, Length: 190, dtype: int64"
            ]
          },
          "metadata": {},
          "execution_count": 53
        }
      ],
      "source": [
        "# checking glucose values for all patients\n",
        "\n",
        "train['glucose'].value_counts()"
      ]
    },
    {
      "cell_type": "code",
      "source": [
        "train['diabetes'].value_counts()"
      ],
      "metadata": {
        "colab": {
          "base_uri": "https://localhost:8080/"
        },
        "id": "m2pZJG_qrE6S",
        "outputId": "9c225b0d-e5fe-4fe8-ba14-746201f7eb4d"
      },
      "execution_count": null,
      "outputs": [
        {
          "output_type": "execute_result",
          "data": {
            "text/plain": [
              "0.0    2637\n",
              "1.0      75\n",
              "Name: diabetes, dtype: int64"
            ]
          },
          "metadata": {},
          "execution_count": 54
        }
      ]
    },
    {
      "cell_type": "markdown",
      "metadata": {
        "id": "s44nxwQrX90e"
      },
      "source": [
        "##**Target variable dependency on different columns**"
      ]
    },
    {
      "cell_type": "code",
      "execution_count": null,
      "metadata": {
        "colab": {
          "base_uri": "https://localhost:8080/",
          "height": 303
        },
        "id": "vLFtjm3Vczxt",
        "outputId": "151f4095-76ab-491c-c75a-29e3ec46b8c1"
      },
      "outputs": [
        {
          "output_type": "execute_result",
          "data": {
            "text/plain": [
              "<matplotlib.axes._subplots.AxesSubplot at 0x7f00474a2350>"
            ]
          },
          "metadata": {},
          "execution_count": 55
        },
        {
          "output_type": "display_data",
          "data": {
            "text/plain": [
              "<Figure size 432x288 with 1 Axes>"
            ],
            "image/png": "[encoded data removed]"
          },
          "metadata": {
            "needs_background": "light"
          }
        }
      ],
      "source": [
        "# plotting graph for checking how many users are smoking or not and how it affects the target variable\n",
        "\n",
        "pd.crosstab(train['is_smoking'],train['TenYearCHD']).plot(kind='bar')"
      ]
    },
    {
      "cell_type": "code",
      "execution_count": null,
      "metadata": {
        "colab": {
          "base_uri": "https://localhost:8080/",
          "height": 306
        },
        "id": "m8W8fSlwebMV",
        "outputId": "c4ad1f67-bb27-47f8-d97a-eca7622e1cc5"
      },
      "outputs": [
        {
          "output_type": "execute_result",
          "data": {
            "text/plain": [
              "<matplotlib.axes._subplots.AxesSubplot at 0x7f0047395d90>"
            ]
          },
          "metadata": {},
          "execution_count": 56
        },
        {
          "output_type": "display_data",
          "data": {
            "text/plain": [
              "<Figure size 432x288 with 1 Axes>"
            ],
            "image/png": "[encoded data removed]"
          },
          "metadata": {
            "needs_background": "light"
          }
        }
      ],
      "source": [
        "# plotting graph for checking how many persons are male or female and how it affects the target variable\n",
        "\n",
        "pd.crosstab(train['sex'],train['TenYearCHD']).plot(kind='bar')"
      ]
    },
    {
      "cell_type": "code",
      "execution_count": null,
      "metadata": {
        "colab": {
          "base_uri": "https://localhost:8080/",
          "height": 302
        },
        "id": "5vI8wbI3fhAc",
        "outputId": "fd521dbc-8d77-41a4-af47-d61972018dd4"
      },
      "outputs": [
        {
          "output_type": "execute_result",
          "data": {
            "text/plain": [
              "<matplotlib.axes._subplots.AxesSubplot at 0x7f0046ed0e50>"
            ]
          },
          "metadata": {},
          "execution_count": 57
        },
        {
          "output_type": "display_data",
          "data": {
            "text/plain": [
              "<Figure size 432x288 with 1 Axes>"
            ],
            "image/png": "[encoded data removed]"
          },
          "metadata": {
            "needs_background": "light"
          }
        }
      ],
      "source": [
        "# plotting graph for checking  whether  patient was on blood pressure medication or not and how it affects the target variable\n",
        "\n",
        "pd.crosstab(train['BPMeds'],train['TenYearCHD']).plot(kind='bar')"
      ]
    },
    {
      "cell_type": "code",
      "execution_count": null,
      "metadata": {
        "colab": {
          "base_uri": "https://localhost:8080/",
          "height": 302
        },
        "id": "fKFI5u_gfm2B",
        "outputId": "6884c5e6-de3d-4afe-b96c-fc4765c4a9e5"
      },
      "outputs": [
        {
          "output_type": "execute_result",
          "data": {
            "text/plain": [
              "<matplotlib.axes._subplots.AxesSubplot at 0x7f0046e59950>"
            ]
          },
          "metadata": {},
          "execution_count": 58
        },
        {
          "output_type": "display_data",
          "data": {
            "text/plain": [
              "<Figure size 432x288 with 1 Axes>"
            ],
            "image/png": "[encoded data removed]"
          },
          "metadata": {
            "needs_background": "light"
          }
        }
      ],
      "source": [
        "# plotting graph for checking  whether or not the patient had previously had a stroke and how it affects the target variable\n",
        "\n",
        "pd.crosstab(train['prevalentStroke'],train['TenYearCHD']).plot(kind='bar')"
      ]
    },
    {
      "cell_type": "code",
      "execution_count": null,
      "metadata": {
        "colab": {
          "base_uri": "https://localhost:8080/",
          "height": 302
        },
        "id": "TMNoD9BBf37I",
        "outputId": "845e6143-a904-420f-dcb0-0cae3803ef70"
      },
      "outputs": [
        {
          "output_type": "execute_result",
          "data": {
            "text/plain": [
              "<matplotlib.axes._subplots.AxesSubplot at 0x7f0046dc9150>"
            ]
          },
          "metadata": {},
          "execution_count": 59
        },
        {
          "output_type": "display_data",
          "data": {
            "text/plain": [
              "<Figure size 432x288 with 1 Axes>"
            ],
            "image/png": "[encoded data removed]"
          },
          "metadata": {
            "needs_background": "light"
          }
        }
      ],
      "source": [
        "# plotting graph for checking if person is diabetic or not and how it affects the target variable\n",
        "\n",
        "pd.crosstab(train['diabetes'],train['TenYearCHD']).plot(kind='bar')"
      ]
    },
    {
      "cell_type": "code",
      "execution_count": null,
      "metadata": {
        "colab": {
          "base_uri": "https://localhost:8080/",
          "height": 306
        },
        "id": "Na62c80RgDij",
        "outputId": "f7141cc6-1a3b-4faf-cb56-075cad7059ef"
      },
      "outputs": [
        {
          "output_type": "execute_result",
          "data": {
            "text/plain": [
              "<matplotlib.axes._subplots.AxesSubplot at 0x7f0046d4b450>"
            ]
          },
          "metadata": {},
          "execution_count": 60
        },
        {
          "output_type": "display_data",
          "data": {
            "text/plain": [
              "<Figure size 432x288 with 1 Axes>"
            ],
            "image/png": "[encoded data removed]"
          },
          "metadata": {
            "needs_background": "light"
          }
        }
      ],
      "source": [
        "# plotting graph for checking the education values and how it affects the target variable\n",
        "\n",
        "pd.crosstab(train['education'],train['TenYearCHD']).plot(kind='bar')"
      ]
    },
    {
      "cell_type": "code",
      "execution_count": null,
      "metadata": {
        "colab": {
          "base_uri": "https://localhost:8080/",
          "height": 302
        },
        "id": "P0l6_dfnh-5F",
        "outputId": "2c5f0d80-165e-49d7-bbd2-b7967dccfed2"
      },
      "outputs": [
        {
          "output_type": "execute_result",
          "data": {
            "text/plain": [
              "<matplotlib.axes._subplots.AxesSubplot at 0x7f0046cde0d0>"
            ]
          },
          "metadata": {},
          "execution_count": 61
        },
        {
          "output_type": "display_data",
          "data": {
            "text/plain": [
              "<Figure size 432x288 with 1 Axes>"
            ],
            "image/png": "[encoded data removed]"
          },
          "metadata": {
            "needs_background": "light"
          }
        }
      ],
      "source": [
        "# plotting graph for checking whether or not the patient was hypertensive and how it affects the target variable\n",
        "\n",
        "pd.crosstab(train['prevalentHyp'],train['TenYearCHD']).plot(kind='bar')"
      ]
    },
    {
      "cell_type": "markdown",
      "metadata": {
        "id": "Lkk8Ld2yXrGl"
      },
      "source": [
        "##**Data Distribution for different target variable labels**"
      ]
    },
    {
      "cell_type": "code",
      "execution_count": null,
      "metadata": {
        "id": "BQ1ddpUTrWt1"
      },
      "outputs": [],
      "source": [
        "# plotting  data distribution for different columns\n",
        "\n",
        "def plot(col_name):\n",
        "  print('\\033[1m Ten Year CHD Values for different '+col_name+' values')\n",
        "  ax = train.hist(column=col_name,by=\"TenYearCHD\",bins=30)\n",
        "  "
      ]
    },
    {
      "cell_type": "code",
      "execution_count": null,
      "metadata": {
        "colab": {
          "base_uri": "https://localhost:8080/",
          "height": 300
        },
        "id": "h3ZgnopmrhtV",
        "outputId": "8b55bbac-02f4-4c83-e524-b0e7a1687467"
      },
      "outputs": [
        {
          "output_type": "stream",
          "name": "stdout",
          "text": [
            "\u001b[1m Ten Year CHD Values for different age values\n"
          ]
        },
        {
          "output_type": "display_data",
          "data": {
            "text/plain": [
              "<Figure size 432x288 with 2 Axes>"
            ],
            "image/png": "[encoded data removed]"
          },
          "metadata": {
            "needs_background": "light"
          }
        }
      ],
      "source": [
        "# data distribution for age column\n",
        "plot('age')"
      ]
    },
    {
      "cell_type": "code",
      "execution_count": null,
      "metadata": {
        "colab": {
          "base_uri": "https://localhost:8080/",
          "height": 294
        },
        "id": "UGiGAzpYu1V6",
        "outputId": "8962190a-dabd-421f-a335-82493e806b3e"
      },
      "outputs": [
        {
          "output_type": "stream",
          "name": "stdout",
          "text": [
            "\u001b[1m Ten Year CHD Values for different education values\n"
          ]
        },
        {
          "output_type": "display_data",
          "data": {
            "text/plain": [
              "<Figure size 432x288 with 2 Axes>"
            ],
            "image/png": "[encoded data removed]"
          },
          "metadata": {
            "needs_background": "light"
          }
        }
      ],
      "source": [
        "# data distribution for education column\n",
        "plot('education')"
      ]
    },
    {
      "cell_type": "code",
      "execution_count": null,
      "metadata": {
        "colab": {
          "base_uri": "https://localhost:8080/",
          "height": 310
        },
        "id": "UXoV6q21vHcd",
        "outputId": "469c426c-bf19-436f-9f38-051383bccd3f"
      },
      "outputs": [
        {
          "output_type": "stream",
          "name": "stdout",
          "text": [
            "\u001b[1m Ten Year CHD Values for different sex values\n"
          ]
        },
        {
          "output_type": "display_data",
          "data": {
            "text/plain": [
              "<Figure size 432x288 with 2 Axes>"
            ],
            "image/png": "[encoded data removed]"
          },
          "metadata": {
            "needs_background": "light"
          }
        }
      ],
      "source": [
        "# data distribution for sex column\n",
        "plot('sex')"
      ]
    },
    {
      "cell_type": "code",
      "execution_count": null,
      "metadata": {
        "colab": {
          "base_uri": "https://localhost:8080/",
          "height": 310
        },
        "id": "G0qeyw4NvKKB",
        "outputId": "e8e81d44-2f9c-409a-f652-8bd227134570"
      },
      "outputs": [
        {
          "output_type": "stream",
          "name": "stdout",
          "text": [
            "\u001b[1m Ten Year CHD Values for different is_smoking values\n"
          ]
        },
        {
          "output_type": "display_data",
          "data": {
            "text/plain": [
              "<Figure size 432x288 with 2 Axes>"
            ],
            "image/png": "[encoded data removed]"
          },
          "metadata": {
            "needs_background": "light"
          }
        }
      ],
      "source": [
        "# data distribution for is_smoking column\n",
        "plot('is_smoking')"
      ]
    },
    {
      "cell_type": "code",
      "execution_count": null,
      "metadata": {
        "colab": {
          "base_uri": "https://localhost:8080/",
          "height": 300
        },
        "id": "pnuYJuMuvNzP",
        "outputId": "a801f53b-09a2-47be-cc35-ed300bc323ab"
      },
      "outputs": [
        {
          "output_type": "stream",
          "name": "stdout",
          "text": [
            "\u001b[1m Ten Year CHD Values for different cigsPerDay values\n"
          ]
        },
        {
          "output_type": "display_data",
          "data": {
            "text/plain": [
              "<Figure size 432x288 with 2 Axes>"
            ],
            "image/png": "[encoded data removed]"
          },
          "metadata": {
            "needs_background": "light"
          }
        }
      ],
      "source": [
        "# data distribution for cigsPerDay column\n",
        "plot('cigsPerDay')"
      ]
    },
    {
      "cell_type": "code",
      "execution_count": null,
      "metadata": {
        "colab": {
          "base_uri": "https://localhost:8080/",
          "height": 310
        },
        "id": "AWktfu99vQ98",
        "outputId": "37995ff4-a370-4a68-c8e6-e5c3967a87eb"
      },
      "outputs": [
        {
          "output_type": "stream",
          "name": "stdout",
          "text": [
            "\u001b[1m Ten Year CHD Values for different BPMeds values\n"
          ]
        },
        {
          "output_type": "display_data",
          "data": {
            "text/plain": [
              "<Figure size 432x288 with 2 Axes>"
            ],
            "image/png": "[encoded data removed]"
          },
          "metadata": {
            "needs_background": "light"
          }
        }
      ],
      "source": [
        "\n",
        "# data distribution for BPMeds column\n",
        "plot('BPMeds')"
      ]
    },
    {
      "cell_type": "code",
      "execution_count": null,
      "metadata": {
        "colab": {
          "base_uri": "https://localhost:8080/",
          "height": 310
        },
        "id": "aohmsIVlvTwC",
        "outputId": "533848be-915c-439a-e4e9-07e65d58a400"
      },
      "outputs": [
        {
          "output_type": "stream",
          "name": "stdout",
          "text": [
            "\u001b[1m Ten Year CHD Values for different prevalentStroke values\n"
          ]
        },
        {
          "output_type": "display_data",
          "data": {
            "text/plain": [
              "<Figure size 432x288 with 2 Axes>"
            ],
            "image/png": "[encoded data removed]"
          },
          "metadata": {
            "needs_background": "light"
          }
        }
      ],
      "source": [
        "# data distribution for prevalentStroke column\n",
        "plot('prevalentStroke')"
      ]
    },
    {
      "cell_type": "code",
      "execution_count": null,
      "metadata": {
        "colab": {
          "base_uri": "https://localhost:8080/",
          "height": 310
        },
        "id": "ltH1AxhMvXFN",
        "outputId": "71cae512-e810-4dc6-c857-50a1ffad49e3"
      },
      "outputs": [
        {
          "output_type": "stream",
          "name": "stdout",
          "text": [
            "\u001b[1m Ten Year CHD Values for different prevalentHyp values\n"
          ]
        },
        {
          "output_type": "display_data",
          "data": {
            "text/plain": [
              "<Figure size 432x288 with 2 Axes>"
            ],
            "image/png": "[encoded data removed]"
          },
          "metadata": {
            "needs_background": "light"
          }
        }
      ],
      "source": [
        "# data distribution for prevalentHyp column\n",
        "plot('prevalentHyp')"
      ]
    },
    {
      "cell_type": "code",
      "execution_count": null,
      "metadata": {
        "colab": {
          "base_uri": "https://localhost:8080/",
          "height": 310
        },
        "id": "JcMEpon9vbQO",
        "outputId": "ff932bfc-7d13-421e-b9dc-6d7fe14e923a"
      },
      "outputs": [
        {
          "output_type": "stream",
          "name": "stdout",
          "text": [
            "\u001b[1m Ten Year CHD Values for different diabetes values\n"
          ]
        },
        {
          "output_type": "display_data",
          "data": {
            "text/plain": [
              "<Figure size 432x288 with 2 Axes>"
            ],
            "image/png": "[encoded data removed]"
          },
          "metadata": {
            "needs_background": "light"
          }
        }
      ],
      "source": [
        "# data distribution for diabetes column\n",
        "plot('diabetes')"
      ]
    },
    {
      "cell_type": "code",
      "execution_count": null,
      "metadata": {
        "colab": {
          "base_uri": "https://localhost:8080/",
          "height": 306
        },
        "id": "DN6Kh0i6verf",
        "outputId": "694da3e5-a257-4306-8708-c4dfd7c29783"
      },
      "outputs": [
        {
          "output_type": "stream",
          "name": "stdout",
          "text": [
            "\u001b[1m Ten Year CHD Values for different totChol values\n"
          ]
        },
        {
          "output_type": "display_data",
          "data": {
            "text/plain": [
              "<Figure size 432x288 with 2 Axes>"
            ],
            "image/png": "[encoded data removed]"
          },
          "metadata": {
            "needs_background": "light"
          }
        }
      ],
      "source": [
        "# data distribution for total cholesterol column\n",
        "plot('totChol')"
      ]
    },
    {
      "cell_type": "code",
      "execution_count": null,
      "metadata": {
        "colab": {
          "base_uri": "https://localhost:8080/",
          "height": 306
        },
        "id": "FwGDYMknvh4n",
        "outputId": "9e202b79-b05c-4070-e651-e72710d20040"
      },
      "outputs": [
        {
          "output_type": "stream",
          "name": "stdout",
          "text": [
            "\u001b[1m Ten Year CHD Values for different sysBP values\n"
          ]
        },
        {
          "output_type": "display_data",
          "data": {
            "text/plain": [
              "<Figure size 432x288 with 2 Axes>"
            ],
            "image/png": "[encoded data removed]"
          },
          "metadata": {
            "needs_background": "light"
          }
        }
      ],
      "source": [
        "# data distribution for total systolic blood pressure column\n",
        "plot('sysBP')"
      ]
    },
    {
      "cell_type": "code",
      "execution_count": null,
      "metadata": {
        "colab": {
          "base_uri": "https://localhost:8080/",
          "height": 306
        },
        "id": "QcfSV_YLvkaE",
        "outputId": "7ed5a57b-fd1f-441b-86e2-b34a45f2bf3a"
      },
      "outputs": [
        {
          "output_type": "stream",
          "name": "stdout",
          "text": [
            "\u001b[1m Ten Year CHD Values for different diaBP values\n"
          ]
        },
        {
          "output_type": "display_data",
          "data": {
            "text/plain": [
              "<Figure size 432x288 with 2 Axes>"
            ],
            "image/png": "[encoded data removed]"
          },
          "metadata": {
            "needs_background": "light"
          }
        }
      ],
      "source": [
        "# data distribution for diastolic blood pressure column\n",
        "plot('diaBP')"
      ]
    },
    {
      "cell_type": "code",
      "execution_count": null,
      "metadata": {
        "colab": {
          "base_uri": "https://localhost:8080/",
          "height": 300
        },
        "id": "9IjbSIhavnPI",
        "outputId": "c012d33d-1008-4db4-e056-6cce6500bded"
      },
      "outputs": [
        {
          "output_type": "stream",
          "name": "stdout",
          "text": [
            "\u001b[1m Ten Year CHD Values for different BMI values\n"
          ]
        },
        {
          "output_type": "display_data",
          "data": {
            "text/plain": [
              "<Figure size 432x288 with 2 Axes>"
            ],
            "image/png": "[encoded data removed]"
          },
          "metadata": {
            "needs_background": "light"
          }
        }
      ],
      "source": [
        "# data distribution for Body Mass Index column\n",
        "plot('BMI')"
      ]
    },
    {
      "cell_type": "code",
      "execution_count": null,
      "metadata": {
        "colab": {
          "base_uri": "https://localhost:8080/",
          "height": 306
        },
        "id": "i3x6_hqCvp9Z",
        "outputId": "0bfaa2f9-6a6e-4bd9-8765-956528723036"
      },
      "outputs": [
        {
          "output_type": "stream",
          "name": "stdout",
          "text": [
            "\u001b[1m Ten Year CHD Values for different heartRate values\n"
          ]
        },
        {
          "output_type": "display_data",
          "data": {
            "text/plain": [
              "<Figure size 432x288 with 2 Axes>"
            ],
            "image/png": "[encoded data removed]"
          },
          "metadata": {
            "needs_background": "light"
          }
        }
      ],
      "source": [
        "# data distribution for heartrate column\n",
        "plot('heartRate')"
      ]
    },
    {
      "cell_type": "code",
      "execution_count": null,
      "metadata": {
        "colab": {
          "base_uri": "https://localhost:8080/",
          "height": 306
        },
        "id": "9XisNcKgvtKg",
        "outputId": "5a8cb53d-8e83-4ccc-90f8-f3bf5ba8ad3a"
      },
      "outputs": [
        {
          "output_type": "stream",
          "name": "stdout",
          "text": [
            "\u001b[1m Ten Year CHD Values for different glucose values\n"
          ]
        },
        {
          "output_type": "display_data",
          "data": {
            "text/plain": [
              "<Figure size 432x288 with 2 Axes>"
            ],
            "image/png": "[encoded data removed]"
          },
          "metadata": {
            "needs_background": "light"
          }
        }
      ],
      "source": [
        "# data distribution for glucose column\n",
        "plot('glucose')"
      ]
    },
    {
      "cell_type": "code",
      "source": [
        ""
      ],
      "metadata": {
        "id": "CK6raL-6eoHJ"
      },
      "execution_count": null,
      "outputs": []
    },
    {
      "cell_type": "markdown",
      "metadata": {
        "id": "0Pp4WkXaXlRj"
      },
      "source": [
        "##**Outliers Detection**"
      ]
    },
    {
      "cell_type": "code",
      "execution_count": null,
      "metadata": {
        "colab": {
          "base_uri": "https://localhost:8080/",
          "height": 296
        },
        "id": "ySV1mRcQye4g",
        "outputId": "30c71131-2ed8-4e52-8e45-a4fc35a81922"
      },
      "outputs": [
        {
          "output_type": "execute_result",
          "data": {
            "text/plain": [
              "<matplotlib.axes._subplots.AxesSubplot at 0x7f00469a2c50>"
            ]
          },
          "metadata": {},
          "execution_count": 78
        },
        {
          "output_type": "display_data",
          "data": {
            "text/plain": [
              "<Figure size 1800x288 with 4 Axes>"
            ],
            "image/png": "[encoded data removed]"
          },
          "metadata": {
            "needs_background": "light"
          }
        }
      ],
      "source": [
        "# plotting different column values to check outliers\n",
        "\n",
        "fig, (ax1,ax2,ax3,ax4) = plt.subplots(1,4, figsize=(25,4))\n",
        "sns.boxplot(x=train['BMI'],ax=ax1,color = 'orange')\n",
        "sns.boxplot(x=train['totChol'],ax=ax2,color = 'orange')\n",
        "sns.boxplot(x=train['sysBP'],ax=ax3,color = 'orange')\n",
        "sns.boxplot(x=train['glucose'],ax=ax4,color = 'orange')\n"
      ]
    },
    {
      "cell_type": "code",
      "execution_count": null,
      "metadata": {
        "colab": {
          "base_uri": "https://localhost:8080/",
          "height": 296
        },
        "id": "Wqx1yKteY_ST",
        "outputId": "bff96162-bc20-4784-a2b2-db9caa2f4a53"
      },
      "outputs": [
        {
          "output_type": "execute_result",
          "data": {
            "text/plain": [
              "<matplotlib.axes._subplots.AxesSubplot at 0x7f00466c8190>"
            ]
          },
          "metadata": {},
          "execution_count": 79
        },
        {
          "output_type": "display_data",
          "data": {
            "text/plain": [
              "<Figure size 1800x288 with 4 Axes>"
            ],
            "image/png": "[encoded data removed]"
          },
          "metadata": {
            "needs_background": "light"
          }
        }
      ],
      "source": [
        "# plotting different column values to check outliers\n",
        "\n",
        "fig, (ax1,ax2,ax3,ax4) = plt.subplots(1,4, figsize=(25,4))\n",
        "sns.boxplot(x=train['heartRate'],ax=ax1,color = 'orange')\n",
        "sns.boxplot(x=train['cigsPerDay'],ax=ax2,color = 'orange')\n",
        "sns.boxplot(x=train['diaBP'],ax=ax3,color = 'orange')\n",
        "sns.boxplot(x=train['age'],ax=ax4,color = 'orange')\n"
      ]
    },
    {
      "cell_type": "markdown",
      "metadata": {
        "id": "nw8THl-mCWZ4"
      },
      "source": [
        "**Treatment of outliers for training and testing data**"
      ]
    },
    {
      "cell_type": "code",
      "execution_count": null,
      "metadata": {
        "id": "vhuDNwBuCVzX"
      },
      "outputs": [],
      "source": [
        "# function to find outliers using Z score\n",
        "outlier_list = []\n",
        "\n",
        "def outlier_detection(data):\n",
        "    thres = 3\n",
        "    mean = np.mean(data)\n",
        "    std = np.std(data)    \n",
        "    for data_point in data:\n",
        "        z_score = (data_point -mean)/std\n",
        "        if (np.abs(z_score) > thres):\n",
        "            outlier_list.append(data_point)\n",
        "    return outlier_list\n"
      ]
    },
    {
      "cell_type": "code",
      "execution_count": null,
      "metadata": {
        "colab": {
          "base_uri": "https://localhost:8080/"
        },
        "id": "8MNArvudEsTX",
        "outputId": "5d94f828-83e8-4b2d-86f4-06c115d97c91"
      },
      "outputs": [
        {
          "output_type": "stream",
          "name": "stdout",
          "text": [
            "number of Outliers for feature BMI:  36\n",
            "number of Outliers for feature totChol:  49\n",
            "number of Outliers for feature sysBP:  78\n",
            "number of Outliers for feature glucose:  116\n",
            "number of Outliers for feature heartRate:  130\n",
            "number of Outliers for feature cigsPerDay:  140\n",
            "number of Outliers for feature diaBP:  163\n",
            "number of Outliers for feature age:  163\n"
          ]
        }
      ],
      "source": [
        "cols = ['BMI','totChol','sysBP','glucose','heartRate','cigsPerDay','diaBP','age']\n",
        "for col in cols:\n",
        "  outlier_values = outlier_detection(train[col])\n",
        "  print(\"number of Outliers for feature {}: \".format(col), len(outlier_values))"
      ]
    },
    {
      "cell_type": "code",
      "execution_count": null,
      "metadata": {
        "id": "MqLP9qNXH6ZG"
      },
      "outputs": [],
      "source": [
        "# Computing 10th, 90th percentiles and replacing the outliers\n",
        "def treat_outliers(data):\n",
        "  fifth_qunatile = data.quantile(0.05) \n",
        "  ninetyfive_qunatile  = data.quantile(0.95) \n",
        "  data.clip(fifth_qunatile, ninetyfive_qunatile, inplace=True)\n",
        "\n",
        "for col in cols:\n",
        "  treat_outliers(train[col])\n"
      ]
    },
    {
      "cell_type": "code",
      "execution_count": null,
      "metadata": {
        "colab": {
          "base_uri": "https://localhost:8080/",
          "height": 295
        },
        "id": "yQGiBAPOMOZb",
        "outputId": "cb3f1640-59b1-4122-ef71-cc85ff716fa0"
      },
      "outputs": [
        {
          "output_type": "execute_result",
          "data": {
            "text/plain": [
              "<matplotlib.axes._subplots.AxesSubplot at 0x7f00465fe150>"
            ]
          },
          "metadata": {},
          "execution_count": 83
        },
        {
          "output_type": "display_data",
          "data": {
            "text/plain": [
              "<Figure size 1800x288 with 4 Axes>"
            ],
            "image/png": "[encoded data removed]"
          },
          "metadata": {
            "needs_background": "light"
          }
        }
      ],
      "source": [
        "# plotting different column values to check outliers if they exist or not \n",
        "\n",
        "fig, (ax1,ax2,ax3,ax4) = plt.subplots(1,4, figsize=(25,4))\n",
        "sns.boxplot(x=train['BMI'],ax=ax1,color = 'orange')\n",
        "sns.boxplot(x=train['totChol'],ax=ax2,color = 'orange')\n",
        "sns.boxplot(x=train['sysBP'],ax=ax3,color = 'orange')\n",
        "sns.boxplot(x=train['glucose'],ax=ax4,color = 'orange')\n"
      ]
    },
    {
      "cell_type": "code",
      "execution_count": null,
      "metadata": {
        "colab": {
          "base_uri": "https://localhost:8080/",
          "height": 296
        },
        "id": "WkFhN_UNMXOo",
        "outputId": "98493bc1-b409-4dda-d2f6-b305d2fa845a"
      },
      "outputs": [
        {
          "output_type": "execute_result",
          "data": {
            "text/plain": [
              "<matplotlib.axes._subplots.AxesSubplot at 0x7f0046cc8950>"
            ]
          },
          "metadata": {},
          "execution_count": 84
        },
        {
          "output_type": "display_data",
          "data": {
            "text/plain": [
              "<Figure size 1800x288 with 4 Axes>"
            ],
            "image/png": "[encoded data removed]"
          },
          "metadata": {
            "needs_background": "light"
          }
        }
      ],
      "source": [
        "# plotting different column values to check outliers if they exist or not\n",
        "\n",
        "fig, (ax1,ax2,ax3,ax4) = plt.subplots(1,4, figsize=(25,4))\n",
        "sns.boxplot(x=train['heartRate'],ax=ax1,color = 'orange')\n",
        "sns.boxplot(x=train['cigsPerDay'],ax=ax2,color = 'orange')\n",
        "sns.boxplot(x=train['diaBP'],ax=ax3,color = 'orange')\n",
        "sns.boxplot(x=train['age'],ax=ax4,color = 'orange')"
      ]
    },
    {
      "cell_type": "markdown",
      "metadata": {
        "id": "BYvjm02HYeMD"
      },
      "source": [
        "**Outliers removed from training data**"
      ]
    },
    {
      "cell_type": "code",
      "execution_count": null,
      "metadata": {
        "colab": {
          "base_uri": "https://localhost:8080/",
          "height": 295
        },
        "id": "9DFNg1dnZ5io",
        "outputId": "1d04bbc6-795d-49fe-ee75-69472b1e2d3a"
      },
      "outputs": [
        {
          "output_type": "execute_result",
          "data": {
            "text/plain": [
              "<matplotlib.axes._subplots.AxesSubplot at 0x7f004696ef50>"
            ]
          },
          "metadata": {},
          "execution_count": 85
        },
        {
          "output_type": "display_data",
          "data": {
            "text/plain": [
              "<Figure size 1800x288 with 4 Axes>"
            ],
            "image/png": "[encoded data removed]"
          },
          "metadata": {
            "needs_background": "light"
          }
        }
      ],
      "source": [
        "# plotting different column values to check outliers (test data)\n",
        "\n",
        "fig, (ax1,ax2,ax3,ax4) = plt.subplots(1,4, figsize=(25,4))\n",
        "sns.boxplot(x=test['BMI'],ax=ax1,color = 'orange')\n",
        "sns.boxplot(x=test['totChol'],ax=ax2,color = 'orange')\n",
        "sns.boxplot(x=test['sysBP'],ax=ax3,color = 'orange')\n",
        "sns.boxplot(x=test['glucose'],ax=ax4,color = 'orange')"
      ]
    },
    {
      "cell_type": "code",
      "execution_count": null,
      "metadata": {
        "colab": {
          "base_uri": "https://localhost:8080/",
          "height": 296
        },
        "id": "G17IE9SbaKGW",
        "outputId": "a8043519-9660-4c89-f9d6-e04e961aaa84"
      },
      "outputs": [
        {
          "output_type": "execute_result",
          "data": {
            "text/plain": [
              "<matplotlib.axes._subplots.AxesSubplot at 0x7f0046bec890>"
            ]
          },
          "metadata": {},
          "execution_count": 86
        },
        {
          "output_type": "display_data",
          "data": {
            "text/plain": [
              "<Figure size 1800x288 with 4 Axes>"
            ],
            "image/png": "[encoded data removed]"
          },
          "metadata": {
            "needs_background": "light"
          }
        }
      ],
      "source": [
        "# plotting different column values to check outliers (test data)\n",
        "\n",
        "fig, (ax1,ax2,ax3,ax4) = plt.subplots(1,4, figsize=(25,4))\n",
        "sns.boxplot(x=test['heartRate'],ax=ax1,color = 'orange')\n",
        "sns.boxplot(x=test['cigsPerDay'],ax=ax2,color = 'orange')\n",
        "sns.boxplot(x=test['diaBP'],ax=ax3,color = 'orange')\n",
        "sns.boxplot(x=test['age'],ax=ax4,color = 'orange')"
      ]
    },
    {
      "cell_type": "code",
      "execution_count": null,
      "metadata": {
        "id": "TDXvHOEQaW51"
      },
      "outputs": [],
      "source": [
        "# outlier treatment for test data\n",
        "for col in cols:\n",
        "  treat_outliers(test[col])"
      ]
    },
    {
      "cell_type": "code",
      "execution_count": null,
      "metadata": {
        "colab": {
          "base_uri": "https://localhost:8080/",
          "height": 296
        },
        "id": "NYYI93tSaeCs",
        "outputId": "92b648c2-8860-484e-902d-1fc446a6a2d2"
      },
      "outputs": [
        {
          "output_type": "execute_result",
          "data": {
            "text/plain": [
              "<matplotlib.axes._subplots.AxesSubplot at 0x7f0046197bd0>"
            ]
          },
          "metadata": {},
          "execution_count": 88
        },
        {
          "output_type": "display_data",
          "data": {
            "text/plain": [
              "<Figure size 1800x288 with 4 Axes>"
            ],
            "image/png": "[encoded data removed]"
          },
          "metadata": {
            "needs_background": "light"
          }
        }
      ],
      "source": [
        "# plotting different column values to check outliers (test data) if exist or not\n",
        "\n",
        "fig, (ax1,ax2,ax3,ax4) = plt.subplots(1,4, figsize=(25,4))\n",
        "sns.boxplot(x=test['BMI'],ax=ax1,color = 'orange')\n",
        "sns.boxplot(x=test['totChol'],ax=ax2,color = 'orange')\n",
        "sns.boxplot(x=test['sysBP'],ax=ax3,color = 'orange')\n",
        "sns.boxplot(x=test['glucose'],ax=ax4,color = 'orange')"
      ]
    },
    {
      "cell_type": "code",
      "execution_count": null,
      "metadata": {
        "colab": {
          "base_uri": "https://localhost:8080/",
          "height": 296
        },
        "id": "WlhLNS-IajpI",
        "outputId": "9994565e-3740-418b-8c16-f25b6883a91f"
      },
      "outputs": [
        {
          "output_type": "execute_result",
          "data": {
            "text/plain": [
              "<matplotlib.axes._subplots.AxesSubplot at 0x7f0045fc57d0>"
            ]
          },
          "metadata": {},
          "execution_count": 89
        },
        {
          "output_type": "display_data",
          "data": {
            "text/plain": [
              "<Figure size 1800x288 with 4 Axes>"
            ],
            "image/png": "[encoded data removed]"
          },
          "metadata": {
            "needs_background": "light"
          }
        }
      ],
      "source": [
        "# plotting different column values to check outliers (test data) if exist or not\n",
        "\n",
        "fig, (ax1,ax2,ax3,ax4) = plt.subplots(1,4, figsize=(25,4))\n",
        "sns.boxplot(x=test['heartRate'],ax=ax1,color = 'orange')\n",
        "sns.boxplot(x=test['cigsPerDay'],ax=ax2,color = 'orange')\n",
        "sns.boxplot(x=test['diaBP'],ax=ax3,color = 'orange')\n",
        "sns.boxplot(x=test['age'],ax=ax4,color = 'orange')"
      ]
    },
    {
      "cell_type": "markdown",
      "metadata": {
        "id": "SrcV-aTcam2H"
      },
      "source": [
        "**Treatment of outliers in test data done**"
      ]
    },
    {
      "cell_type": "markdown",
      "metadata": {
        "id": "hEbK4U7tk_2Z"
      },
      "source": [
        "**Checking collinearity between variables**"
      ]
    },
    {
      "cell_type": "code",
      "execution_count": null,
      "metadata": {
        "id": "xwc8OmRJfur8"
      },
      "outputs": [],
      "source": [
        "independent_variables = ['age','education', 'sex', 'is_smoking', 'cigsPerDay', 'BPMeds',\n",
        "       'prevalentStroke', 'prevalentHyp', 'diabetes', 'totChol', 'sysBP',\n",
        "       'diaBP', 'BMI', 'heartRate', 'glucose']\n",
        "dependent_variables = ['TenYearCHD']   "
      ]
    },
    {
      "cell_type": "code",
      "execution_count": null,
      "metadata": {
        "colab": {
          "base_uri": "https://localhost:8080/",
          "height": 682
        },
        "id": "zxs-lCx9fbOP",
        "outputId": "d7813cfc-2d88-4f0f-ab63-11534987415e"
      },
      "outputs": [
        {
          "output_type": "execute_result",
          "data": {
            "text/plain": [
              "<matplotlib.axes._subplots.AxesSubplot at 0x7f00460b3a90>"
            ]
          },
          "metadata": {},
          "execution_count": 91
        },
        {
          "output_type": "display_data",
          "data": {
            "text/plain": [
              "<Figure size 1008x720 with 2 Axes>"
            ],
            "image/png": "[encoded data removed]"
          },
          "metadata": {
            "needs_background": "light"
          }
        }
      ],
      "source": [
        "# checking correlation between variables\n",
        "\n",
        "correlation_calc = train[independent_variables].corr()\n",
        "plt.figure(figsize=(14, 10))\n",
        "sns.heatmap(correlation_calc,  annot=True, cmap=\"YlGnBu\")"
      ]
    },
    {
      "cell_type": "code",
      "execution_count": null,
      "metadata": {
        "id": "TAqk12i4iZ4C"
      },
      "outputs": [],
      "source": [
        "# dropping columns to remove rows which are combined\n",
        "train['bpratio'] = round(train['sysBP']/train['diaBP'],2)\n",
        "test['bpratio'] = round(test['sysBP']/test['diaBP'],2)\n",
        "train.drop(['diaBP'],axis=1,inplace=True)\n",
        "test.drop(['diaBP'],axis=1,inplace=True)"
      ]
    },
    {
      "cell_type": "code",
      "execution_count": null,
      "metadata": {
        "id": "QKGBvNpuj54x"
      },
      "outputs": [],
      "source": [
        "# dropping is_smoking column as cigsPerDay is highly correlated to it\n",
        "\n",
        "train.drop(['is_smoking'],axis=1,inplace=True)\n",
        "test.drop(['is_smoking'],axis=1,inplace=True)"
      ]
    },
    {
      "cell_type": "code",
      "execution_count": null,
      "metadata": {
        "colab": {
          "base_uri": "https://localhost:8080/",
          "height": 682
        },
        "id": "jjWheJski1wq",
        "outputId": "13dfc4b6-22f6-4f6a-b4d9-5dd263783b83"
      },
      "outputs": [
        {
          "output_type": "execute_result",
          "data": {
            "text/plain": [
              "<matplotlib.axes._subplots.AxesSubplot at 0x7f0045e6f950>"
            ]
          },
          "metadata": {},
          "execution_count": 94
        },
        {
          "output_type": "display_data",
          "data": {
            "text/plain": [
              "<Figure size 1008x720 with 2 Axes>"
            ],
            "image/png": "[encoded data removed]"
          },
          "metadata": {
            "needs_background": "light"
          }
        }
      ],
      "source": [
        "# checking correlation between variables\n",
        "independent_variables = ['age','education', 'sex', 'cigsPerDay', 'BPMeds',\n",
        "       'prevalentStroke', 'prevalentHyp', 'diabetes', 'totChol',\n",
        "        'BMI', 'heartRate', 'glucose','bpratio','sysBP']\n",
        "\n",
        "correlation_calc = train[independent_variables].corr()\n",
        "plt.figure(figsize=(14, 10))\n",
        "sns.heatmap(correlation_calc,  annot=True, cmap=\"YlGnBu\")"
      ]
    },
    {
      "cell_type": "code",
      "source": [
        "train.drop(['prevalentHyp'],axis=1,inplace=True)\n",
        "test.drop(['prevalentHyp'],axis=1,inplace=True)"
      ],
      "metadata": {
        "id": "H1nqtrqE8WQv"
      },
      "execution_count": null,
      "outputs": []
    },
    {
      "cell_type": "markdown",
      "metadata": {
        "id": "hI1Qyk84PnH4"
      },
      "source": [
        "\n",
        "## **Resampling of data as data is imbalanced**"
      ]
    },
    {
      "cell_type": "code",
      "execution_count": null,
      "metadata": {
        "id": "MiPmvnXirZQJ"
      },
      "outputs": [],
      "source": [
        "independent_variables = ['age', 'education', 'sex', 'cigsPerDay', 'BPMeds', 'prevalentStroke',\n",
        "        'diabetes', 'totChol', 'sysBP', 'BMI', 'heartRate',\n",
        "       'glucose',  'bpratio']\n",
        "dependent_variable = ['TenYearCHD']"
      ]
    },
    {
      "cell_type": "code",
      "execution_count": null,
      "metadata": {
        "id": "3aoR-_noeXDC"
      },
      "outputs": [],
      "source": [
        "train_independent = train[independent_variables]\n",
        "train_dependent =  train[dependent_variables]"
      ]
    },
    {
      "cell_type": "code",
      "execution_count": null,
      "metadata": {
        "colab": {
          "base_uri": "https://localhost:8080/"
        },
        "id": "81WvwxwjmmFp",
        "outputId": "10196220-5c5b-4b74-8136-b08a26218f2a"
      },
      "outputs": [
        {
          "output_type": "execute_result",
          "data": {
            "text/plain": [
              "Index(['age', 'education', 'sex', 'cigsPerDay', 'BPMeds', 'prevalentStroke',\n",
              "       'diabetes', 'totChol', 'sysBP', 'BMI', 'heartRate', 'glucose',\n",
              "       'bpratio'],\n",
              "      dtype='object')"
            ]
          },
          "metadata": {},
          "execution_count": 98
        }
      ],
      "source": [
        "train_independent.columns"
      ]
    },
    {
      "cell_type": "code",
      "execution_count": null,
      "metadata": {
        "colab": {
          "base_uri": "https://localhost:8080/"
        },
        "id": "08Jy4miTeakI",
        "outputId": "f4058c14-addf-42f0-91b8-d0a668e67b25"
      },
      "outputs": [
        {
          "output_type": "execute_result",
          "data": {
            "text/plain": [
              "0    2303\n",
              "1     409\n",
              "Name: TenYearCHD, dtype: int64"
            ]
          },
          "metadata": {},
          "execution_count": 99
        }
      ],
      "source": [
        "train_dependent['TenYearCHD'].value_counts()"
      ]
    },
    {
      "cell_type": "code",
      "execution_count": null,
      "metadata": {
        "id": "shVug-uOeiPc"
      },
      "outputs": [],
      "source": [
        "from imblearn.combine import SMOTEENN\n",
        "smote_enn = SMOTEENN(random_state=0)\n",
        "X_train, y_train = smote_enn.fit_resample(train[independent_variables], train[dependent_variables])\n",
        "from imblearn.under_sampling import TomekLinks\n",
        "tl = TomekLinks(sampling_strategy='majority')\n",
        "X_train, y_train = tl.fit_resample(X_train, y_train)\n",
        "#from imblearn.over_sampling import SMOTE\n",
        "#oversample = SMOTE()\n",
        "#X_train, y_train = oversample.fit_resample(train[independent_variables], train[dependent_variables])"
      ]
    },
    {
      "cell_type": "code",
      "execution_count": null,
      "metadata": {
        "colab": {
          "base_uri": "https://localhost:8080/"
        },
        "id": "FUwme99Uew6O",
        "outputId": "f773a662-07b1-4643-a96e-7a5d6225bcda"
      },
      "outputs": [
        {
          "output_type": "execute_result",
          "data": {
            "text/plain": [
              "TenYearCHD\n",
              "1             2097\n",
              "0             1267\n",
              "dtype: int64"
            ]
          },
          "metadata": {},
          "execution_count": 101
        }
      ],
      "source": [
        "y_train.value_counts()"
      ]
    },
    {
      "cell_type": "markdown",
      "metadata": {
        "id": "kuoXYDbOfF8u"
      },
      "source": [
        "**Data is now balanced data**"
      ]
    },
    {
      "cell_type": "markdown",
      "metadata": {
        "id": "d4yd2MwXXZf4"
      },
      "source": [
        "##**Models Implementation for fitting the training data**"
      ]
    },
    {
      "cell_type": "markdown",
      "metadata": {
        "id": "kofEkktUMhZJ"
      },
      "source": [
        "## **Decision Tree Classifier**"
      ]
    },
    {
      "cell_type": "code",
      "execution_count": null,
      "metadata": {
        "id": "9LlXVRETl164"
      },
      "outputs": [],
      "source": [
        "train_independent = X_train\n",
        "train_dependent = y_train"
      ]
    },
    {
      "cell_type": "code",
      "execution_count": null,
      "metadata": {
        "colab": {
          "base_uri": "https://localhost:8080/"
        },
        "id": "LKKNjDDh-rhv",
        "outputId": "e29077be-63e7-43de-e45d-fe256b49274b"
      },
      "outputs": [
        {
          "output_type": "execute_result",
          "data": {
            "text/plain": [
              "DecisionTreeClassifier(random_state=0)"
            ]
          },
          "metadata": {},
          "execution_count": 103
        }
      ],
      "source": [
        "from sklearn.tree import DecisionTreeClassifier\n",
        "  \n",
        "# create a regressor object\n",
        "classifier= DecisionTreeClassifier(random_state = 0) \n",
        "  \n",
        "# fit the regressor with X and Y data\n",
        "classifier.fit(train_independent, train_dependent)"
      ]
    },
    {
      "cell_type": "code",
      "execution_count": null,
      "metadata": {
        "colab": {
          "base_uri": "https://localhost:8080/"
        },
        "id": "k-49MOndKx1v",
        "outputId": "3cbf5a81-8db2-4c2a-c8f1-56c2b0908c14"
      },
      "outputs": [
        {
          "output_type": "execute_result",
          "data": {
            "text/plain": [
              "1.0"
            ]
          },
          "metadata": {},
          "execution_count": 104
        }
      ],
      "source": [
        "# accuracy score for training data\n",
        "\n",
        "y_pred = classifier.predict(test[independent_variables])\n",
        "accuracy_score(train_dependent, classifier.predict(train_independent))"
      ]
    },
    {
      "cell_type": "code",
      "execution_count": null,
      "metadata": {
        "colab": {
          "base_uri": "https://localhost:8080/"
        },
        "id": "Py-Wpt74sMLI",
        "outputId": "9e21bc84-2899-4a2b-f128-fa185682d683"
      },
      "outputs": [
        {
          "output_type": "execute_result",
          "data": {
            "text/plain": [
              "0.668141592920354"
            ]
          },
          "metadata": {},
          "execution_count": 105
        }
      ],
      "source": [
        "# accuracy score  for testing data\n",
        "\n",
        "accuracy_score(test[dependent_variables], classifier.predict(test[independent_variables]))"
      ]
    },
    {
      "cell_type": "code",
      "execution_count": null,
      "metadata": {
        "colab": {
          "base_uri": "https://localhost:8080/"
        },
        "id": "4_dvygAXK2Xl",
        "outputId": "63372920-06ae-48f7-b612-608f0d26221a"
      },
      "outputs": [
        {
          "output_type": "execute_result",
          "data": {
            "text/plain": [
              "1.0"
            ]
          },
          "metadata": {},
          "execution_count": 106
        }
      ],
      "source": [
        "# recall score for training data set\n",
        "from sklearn.metrics import recall_score\n",
        "recall_score(train_dependent, classifier.predict(train_independent))"
      ]
    },
    {
      "cell_type": "code",
      "execution_count": null,
      "metadata": {
        "colab": {
          "base_uri": "https://localhost:8080/"
        },
        "id": "g8oshEm-K-2-",
        "outputId": "5416d218-f1d1-4f1a-9605-52949e605594"
      },
      "outputs": [
        {
          "output_type": "execute_result",
          "data": {
            "text/plain": [
              "0.4411764705882353"
            ]
          },
          "metadata": {},
          "execution_count": 107
        }
      ],
      "source": [
        "# recall score for testing data set\n",
        "recall_score(test[dependent_variables], classifier.predict(test[independent_variables]))"
      ]
    },
    {
      "cell_type": "markdown",
      "metadata": {
        "id": "gVUVSydhF1Fx"
      },
      "source": [
        "**Our goal is to increase recall score as per the problem so as patient is not diagnosed incorrectly**"
      ]
    },
    {
      "cell_type": "code",
      "execution_count": null,
      "metadata": {
        "id": "l6f8jBK2uPa6"
      },
      "outputs": [],
      "source": [
        "# using standard scaler to transform data \n",
        "\n",
        "from sklearn.preprocessing import StandardScaler\n",
        "scaler= StandardScaler()\n",
        "X_train=scaler.fit_transform(train_independent)\n",
        "X_test=scaler.fit_transform(test[independent_variables])"
      ]
    },
    {
      "cell_type": "code",
      "execution_count": null,
      "metadata": {
        "colab": {
          "base_uri": "https://localhost:8080/"
        },
        "id": "4qToRjHBuqRV",
        "outputId": "46034b60-911a-4a0d-abf0-fba41143cbaf"
      },
      "outputs": [
        {
          "output_type": "execute_result",
          "data": {
            "text/plain": [
              "DecisionTreeClassifier(random_state=0)"
            ]
          },
          "metadata": {},
          "execution_count": 109
        }
      ],
      "source": [
        "# Again implementing decision tree classifier\n",
        "\n",
        "classifier= DecisionTreeClassifier(random_state = 0) \n",
        "classifier.fit(X_train, train_dependent)"
      ]
    },
    {
      "cell_type": "code",
      "execution_count": null,
      "metadata": {
        "colab": {
          "base_uri": "https://localhost:8080/"
        },
        "id": "rk-1aPXovdbY",
        "outputId": "20e73028-4dc8-479e-8d95-491890694c75"
      },
      "outputs": [
        {
          "output_type": "execute_result",
          "data": {
            "text/plain": [
              "1.0"
            ]
          },
          "metadata": {},
          "execution_count": 110
        }
      ],
      "source": [
        "# recall score \n",
        "recall_score(train_dependent, classifier.predict(X_train))"
      ]
    },
    {
      "cell_type": "code",
      "execution_count": null,
      "metadata": {
        "colab": {
          "base_uri": "https://localhost:8080/"
        },
        "id": "IMqtHgk-vnQ6",
        "outputId": "2ecebb8e-71eb-4755-c31b-7e4e917085ed"
      },
      "outputs": [
        {
          "output_type": "execute_result",
          "data": {
            "text/plain": [
              "0.7745098039215687"
            ]
          },
          "metadata": {},
          "execution_count": 111
        }
      ],
      "source": [
        "# recall score increased for testing data\n",
        "recall_score(test[dependent_variables], classifier.predict(X_test))"
      ]
    },
    {
      "cell_type": "code",
      "execution_count": null,
      "metadata": {
        "colab": {
          "base_uri": "https://localhost:8080/"
        },
        "id": "aHNvWUXvxSRd",
        "outputId": "fd5aaf9d-d8a2-47c0-c74a-64deacb478af"
      },
      "outputs": [
        {
          "output_type": "execute_result",
          "data": {
            "text/plain": [
              "{'ccp_alpha': 0.0,\n",
              " 'class_weight': None,\n",
              " 'criterion': 'gini',\n",
              " 'max_depth': None,\n",
              " 'max_features': None,\n",
              " 'max_leaf_nodes': None,\n",
              " 'min_impurity_decrease': 0.0,\n",
              " 'min_samples_leaf': 1,\n",
              " 'min_samples_split': 2,\n",
              " 'min_weight_fraction_leaf': 0.0,\n",
              " 'random_state': 0,\n",
              " 'splitter': 'best'}"
            ]
          },
          "metadata": {},
          "execution_count": 112
        }
      ],
      "source": [
        "classifier.get_params()"
      ]
    },
    {
      "cell_type": "code",
      "execution_count": null,
      "metadata": {
        "colab": {
          "base_uri": "https://localhost:8080/",
          "height": 490
        },
        "id": "qKqMZNuX4Xj_",
        "outputId": "d5ad04f0-c478-4b00-ae0c-e0976d9086ce"
      },
      "outputs": [
        {
          "output_type": "stream",
          "name": "stdout",
          "text": [
            "Feature: 0, Score: 0.27615\n",
            "Feature: 1, Score: 0.07004\n",
            "Feature: 2, Score: 0.03965\n",
            "Feature: 3, Score: 0.09212\n",
            "Feature: 4, Score: 0.00193\n",
            "Feature: 5, Score: 0.00000\n",
            "Feature: 6, Score: 0.00985\n",
            "Feature: 7, Score: 0.09129\n",
            "Feature: 8, Score: 0.12525\n",
            "Feature: 9, Score: 0.06641\n",
            "Feature: 10, Score: 0.08398\n",
            "Feature: 11, Score: 0.08466\n",
            "Feature: 12, Score: 0.05867\n"
          ]
        },
        {
          "output_type": "display_data",
          "data": {
            "text/plain": [
              "<Figure size 432x288 with 1 Axes>"
            ],
            "image/png": "[encoded data removed]"
          },
          "metadata": {
            "needs_background": "light"
          }
        }
      ],
      "source": [
        "# importance of features can be seen using feature_importances_\n",
        "\n",
        "importance = classifier.feature_importances_\n",
        "# summarize feature importance\n",
        "for i,v in enumerate(importance):\n",
        "\tprint('Feature: %0d, Score: %.5f' % (i,v))\n",
        "# plot feature importance\n",
        "plt.bar([x for x in range(len(importance))], importance)\n",
        "plt.show()"
      ]
    },
    {
      "cell_type": "markdown",
      "metadata": {
        "id": "S-eOi76gslQE"
      },
      "source": [
        "**Hyperparameter Tuning on decision tree classifier**"
      ]
    },
    {
      "cell_type": "code",
      "execution_count": null,
      "metadata": {
        "colab": {
          "base_uri": "https://localhost:8080/"
        },
        "id": "7z60GD8gFU_8",
        "outputId": "029b0763-53eb-45f0-e03c-42d96b5b68ce"
      },
      "outputs": [
        {
          "output_type": "stream",
          "name": "stdout",
          "text": [
            "Fitting 3 folds for each of 18 candidates, totalling 54 fits\n",
            "[CV 1/3] END criterion=gini, max_depth=16, min_samples_split=2;, score=0.773 total time=   0.0s\n",
            "[CV 2/3] END criterion=gini, max_depth=16, min_samples_split=2;, score=0.864 total time=   0.0s\n",
            "[CV 3/3] END criterion=gini, max_depth=16, min_samples_split=2;, score=0.903 total time=   0.0s\n",
            "[CV 1/3] END criterion=gini, max_depth=16, min_samples_split=3;, score=0.768 total time=   0.1s\n",
            "[CV 2/3] END criterion=gini, max_depth=16, min_samples_split=3;, score=0.870 total time=   0.0s\n",
            "[CV 3/3] END criterion=gini, max_depth=16, min_samples_split=3;, score=0.897 total time=   0.0s\n",
            "[CV 1/3] END criterion=gini, max_depth=16, min_samples_split=4;, score=0.772 total time=   0.0s\n",
            "[CV 2/3] END criterion=gini, max_depth=16, min_samples_split=4;, score=0.857 total time=   0.0s\n",
            "[CV 3/3] END criterion=gini, max_depth=16, min_samples_split=4;, score=0.893 total time=   0.1s\n",
            "[CV 1/3] END criterion=gini, max_depth=17, min_samples_split=2;, score=0.763 total time=   0.1s\n",
            "[CV 2/3] END criterion=gini, max_depth=17, min_samples_split=2;, score=0.860 total time=   0.0s\n",
            "[CV 3/3] END criterion=gini, max_depth=17, min_samples_split=2;, score=0.903 total time=   0.0s\n",
            "[CV 1/3] END criterion=gini, max_depth=17, min_samples_split=3;, score=0.771 total time=   0.0s\n",
            "[CV 2/3] END criterion=gini, max_depth=17, min_samples_split=3;, score=0.858 total time=   0.0s\n",
            "[CV 3/3] END criterion=gini, max_depth=17, min_samples_split=3;, score=0.897 total time=   0.0s\n",
            "[CV 1/3] END criterion=gini, max_depth=17, min_samples_split=4;, score=0.767 total time=   0.0s\n",
            "[CV 2/3] END criterion=gini, max_depth=17, min_samples_split=4;, score=0.857 total time=   0.0s\n",
            "[CV 3/3] END criterion=gini, max_depth=17, min_samples_split=4;, score=0.893 total time=   0.1s\n",
            "[CV 1/3] END criterion=gini, max_depth=18, min_samples_split=2;, score=0.771 total time=   0.0s\n",
            "[CV 2/3] END criterion=gini, max_depth=18, min_samples_split=2;, score=0.860 total time=   0.0s\n",
            "[CV 3/3] END criterion=gini, max_depth=18, min_samples_split=2;, score=0.903 total time=   0.1s\n",
            "[CV 1/3] END criterion=gini, max_depth=18, min_samples_split=3;, score=0.766 total time=   0.0s\n",
            "[CV 2/3] END criterion=gini, max_depth=18, min_samples_split=3;, score=0.858 total time=   0.0s\n",
            "[CV 3/3] END criterion=gini, max_depth=18, min_samples_split=3;, score=0.897 total time=   0.1s\n",
            "[CV 1/3] END criterion=gini, max_depth=18, min_samples_split=4;, score=0.767 total time=   0.1s\n",
            "[CV 2/3] END criterion=gini, max_depth=18, min_samples_split=4;, score=0.857 total time=   0.0s\n",
            "[CV 3/3] END criterion=gini, max_depth=18, min_samples_split=4;, score=0.893 total time=   0.0s\n",
            "[CV 1/3] END criterion=entropy, max_depth=16, min_samples_split=2;, score=0.773 total time=   0.0s\n",
            "[CV 2/3] END criterion=entropy, max_depth=16, min_samples_split=2;, score=0.855 total time=   0.0s\n",
            "[CV 3/3] END criterion=entropy, max_depth=16, min_samples_split=2;, score=0.883 total time=   0.0s\n",
            "[CV 1/3] END criterion=entropy, max_depth=16, min_samples_split=3;, score=0.764 total time=   0.1s\n",
            "[CV 2/3] END criterion=entropy, max_depth=16, min_samples_split=3;, score=0.858 total time=   0.0s\n",
            "[CV 3/3] END criterion=entropy, max_depth=16, min_samples_split=3;, score=0.878 total time=   0.0s\n",
            "[CV 1/3] END criterion=entropy, max_depth=16, min_samples_split=4;, score=0.757 total time=   0.0s\n",
            "[CV 2/3] END criterion=entropy, max_depth=16, min_samples_split=4;, score=0.856 total time=   0.0s\n",
            "[CV 3/3] END criterion=entropy, max_depth=16, min_samples_split=4;, score=0.878 total time=   0.0s\n",
            "[CV 1/3] END criterion=entropy, max_depth=17, min_samples_split=2;, score=0.771 total time=   0.0s\n",
            "[CV 2/3] END criterion=entropy, max_depth=17, min_samples_split=2;, score=0.854 total time=   0.0s\n",
            "[CV 3/3] END criterion=entropy, max_depth=17, min_samples_split=2;, score=0.885 total time=   0.1s\n",
            "[CV 1/3] END criterion=entropy, max_depth=17, min_samples_split=3;, score=0.769 total time=   0.1s\n",
            "[CV 2/3] END criterion=entropy, max_depth=17, min_samples_split=3;, score=0.851 total time=   0.1s\n",
            "[CV 3/3] END criterion=entropy, max_depth=17, min_samples_split=3;, score=0.880 total time=   0.0s\n",
            "[CV 1/3] END criterion=entropy, max_depth=17, min_samples_split=4;, score=0.756 total time=   0.0s\n",
            "[CV 2/3] END criterion=entropy, max_depth=17, min_samples_split=4;, score=0.848 total time=   0.1s\n",
            "[CV 3/3] END criterion=entropy, max_depth=17, min_samples_split=4;, score=0.882 total time=   0.0s\n",
            "[CV 1/3] END criterion=entropy, max_depth=18, min_samples_split=2;, score=0.774 total time=   0.0s\n",
            "[CV 2/3] END criterion=entropy, max_depth=18, min_samples_split=2;, score=0.855 total time=   0.1s\n",
            "[CV 3/3] END criterion=entropy, max_depth=18, min_samples_split=2;, score=0.885 total time=   0.1s\n",
            "[CV 1/3] END criterion=entropy, max_depth=18, min_samples_split=3;, score=0.766 total time=   0.0s\n",
            "[CV 2/3] END criterion=entropy, max_depth=18, min_samples_split=3;, score=0.855 total time=   0.0s\n",
            "[CV 3/3] END criterion=entropy, max_depth=18, min_samples_split=3;, score=0.880 total time=   0.0s\n",
            "[CV 1/3] END criterion=entropy, max_depth=18, min_samples_split=4;, score=0.758 total time=   0.0s\n",
            "[CV 2/3] END criterion=entropy, max_depth=18, min_samples_split=4;, score=0.849 total time=   0.0s\n",
            "[CV 3/3] END criterion=entropy, max_depth=18, min_samples_split=4;, score=0.882 total time=   0.0s\n"
          ]
        },
        {
          "output_type": "execute_result",
          "data": {
            "text/plain": [
              "GridSearchCV(cv=3, estimator=DecisionTreeClassifier(random_state=0),\n",
              "             param_grid={'criterion': ['gini', 'entropy'],\n",
              "                         'max_depth': [16, 17, 18],\n",
              "                         'min_samples_split': [2, 3, 4]},\n",
              "             verbose=3)"
            ]
          },
          "metadata": {},
          "execution_count": 169
        }
      ],
      "source": [
        "# applying hyperparameter tuning to control overfitting and find optimal hyperparameters\n",
        "\n",
        "grid = {\"max_depth\": [16,17,18],\"criterion\": [\"gini\",'entropy'],\"min_samples_split\":[2,3,4]}\n",
        "\n",
        "grid = GridSearchCV(classifier, grid, refit = True, verbose = 3, cv=3)\n",
        "grid.fit(X_train, train_dependent)"
      ]
    },
    {
      "cell_type": "code",
      "source": [
        "grid.best_params_"
      ],
      "metadata": {
        "colab": {
          "base_uri": "https://localhost:8080/"
        },
        "id": "-RxswM_jR9gR",
        "outputId": "033cfa19-454e-4482-cd6b-fb42c4ace121"
      },
      "execution_count": null,
      "outputs": [
        {
          "output_type": "execute_result",
          "data": {
            "text/plain": [
              "{'criterion': 'gini', 'max_depth': 16, 'min_samples_split': 2}"
            ]
          },
          "metadata": {},
          "execution_count": 170
        }
      ]
    },
    {
      "cell_type": "code",
      "execution_count": null,
      "metadata": {
        "colab": {
          "base_uri": "https://localhost:8080/"
        },
        "id": "QWz_yW8BOF-M",
        "outputId": "2ef2d655-d88e-468e-9d40-eb8470e75fd1"
      },
      "outputs": [
        {
          "output_type": "execute_result",
          "data": {
            "text/plain": [
              "1.0"
            ]
          },
          "metadata": {},
          "execution_count": 171
        }
      ],
      "source": [
        "# recall score for training data\n",
        "\n",
        "recall_score(train_dependent, grid.predict(X_train))"
      ]
    },
    {
      "cell_type": "code",
      "execution_count": null,
      "metadata": {
        "colab": {
          "base_uri": "https://localhost:8080/"
        },
        "id": "3DpH-MQ5yh3x",
        "outputId": "fead76a6-b94b-45b4-e958-c357f53f7de5"
      },
      "outputs": [
        {
          "output_type": "execute_result",
          "data": {
            "text/plain": [
              "0.7843137254901961"
            ]
          },
          "metadata": {},
          "execution_count": 172
        }
      ],
      "source": [
        "# recall score for testing data\n",
        "\n",
        "recall_score(test[dependent_variables], grid.predict(X_test))"
      ]
    },
    {
      "cell_type": "code",
      "execution_count": null,
      "metadata": {
        "colab": {
          "base_uri": "https://localhost:8080/"
        },
        "id": "cBT0pvQ5ucD4",
        "outputId": "6bb3277f-e10b-4fdd-c691-bd22b20571cf"
      },
      "outputs": [
        {
          "output_type": "execute_result",
          "data": {
            "text/plain": [
              "0.16701461377870563"
            ]
          },
          "metadata": {},
          "execution_count": 173
        }
      ],
      "source": [
        "from sklearn.metrics import precision_score\n",
        "precision_score(test[dependent_variables], grid.predict(X_test))"
      ]
    },
    {
      "cell_type": "code",
      "source": [
        "from sklearn.metrics import precision_recall_curve\n",
        "y_decision_function = grid.predict(X_test)\n",
        "precision,recall,threshold = precision_recall_curve(test[dependent_variables],y_decision_function)\n",
        "plt.plot(recall,precision)\n",
        "plt.xlabel('Recall')\n",
        "plt.ylabel('Precision')\n",
        "plt.title('Precision Recall Tradeoff')\n",
        "plt.show() "
      ],
      "metadata": {
        "colab": {
          "base_uri": "https://localhost:8080/",
          "height": 295
        },
        "id": "jUIvZLiSmnE4",
        "outputId": "5a5aed06-9b8f-429a-9bfa-1cfba2617541"
      },
      "execution_count": null,
      "outputs": [
        {
          "output_type": "display_data",
          "data": {
            "text/plain": [
              "<Figure size 432x288 with 1 Axes>"
            ],
            "image/png": "[encoded data removed]"
          },
          "metadata": {
            "needs_background": "light"
          }
        }
      ]
    },
    {
      "cell_type": "code",
      "execution_count": null,
      "metadata": {
        "colab": {
          "base_uri": "https://localhost:8080/",
          "height": 326
        },
        "id": "BO8EUkji-bNc",
        "outputId": "3a25408f-c8e2-4d88-a30e-1509431122c0"
      },
      "outputs": [
        {
          "output_type": "stream",
          "name": "stdout",
          "text": [
            "confusion matrix\n",
            "[[173 403]\n",
            " [ 25  77]]\n"
          ]
        },
        {
          "output_type": "execute_result",
          "data": {
            "text/plain": [
              "<matplotlib.colorbar.Colorbar at 0x7f0043cf2e90>"
            ]
          },
          "metadata": {},
          "execution_count": 118
        },
        {
          "output_type": "display_data",
          "data": {
            "text/plain": [
              "<Figure size 288x288 with 2 Axes>"
            ],
            "image/png": "[encoded data removed]"
          },
          "metadata": {
            "needs_background": "light"
          }
        }
      ],
      "source": [
        "#Confusion Matrix to see false negatives , true positives, true negatives, false positives\n",
        "\n",
        "conf_matrix = confusion_matrix(test[dependent_variables], grid.predict(X_test))\n",
        "print(\"confusion matrix\")\n",
        "print(conf_matrix)\n",
        "plt.matshow(conf_matrix)\n",
        "plt.colorbar()"
      ]
    },
    {
      "cell_type": "code",
      "execution_count": null,
      "metadata": {
        "colab": {
          "base_uri": "https://localhost:8080/"
        },
        "id": "MNoOhPb5RyTl",
        "outputId": "c732365d-5bd1-40d7-c241-25514d36e7d6"
      },
      "outputs": [
        {
          "output_type": "stream",
          "name": "stdout",
          "text": [
            "Classification Report               precision    recall  f1-score   support\n",
            "\n",
            "           0       0.88      0.31      0.46       576\n",
            "           1       0.16      0.75      0.27       102\n",
            "\n",
            "    accuracy                           0.38       678\n",
            "   macro avg       0.52      0.53      0.36       678\n",
            "weighted avg       0.77      0.38      0.43       678\n",
            "\n"
          ]
        }
      ],
      "source": [
        "# classification report\n",
        "\n",
        "print(\"Classification Report\",classification_report(test[dependent_variables], grid.predict(X_test)))"
      ]
    },
    {
      "cell_type": "markdown",
      "source": [
        "# **SVM Classifier**"
      ],
      "metadata": {
        "id": "mbXqSILdMVkn"
      }
    },
    {
      "cell_type": "code",
      "source": [
        "model = svm.SVC(C=1.0, kernel='linear', class_weight='balanced')\n",
        "model.fit(X_train, train_dependent.values.ravel())"
      ],
      "metadata": {
        "colab": {
          "base_uri": "https://localhost:8080/"
        },
        "id": "Td3uXSSF5JBw",
        "outputId": "39e070b1-a5b0-4a52-c310-fde582ba35d5"
      },
      "execution_count": null,
      "outputs": [
        {
          "output_type": "execute_result",
          "data": {
            "text/plain": [
              "SVC(class_weight='balanced', kernel='linear')"
            ]
          },
          "metadata": {},
          "execution_count": 102
        }
      ]
    },
    {
      "cell_type": "code",
      "source": [
        "print(\"Classification Report\",classification_report(test[dependent_variables], model.predict(X_test)))"
      ],
      "metadata": {
        "colab": {
          "base_uri": "https://localhost:8080/"
        },
        "id": "UsS37yTk5S1S",
        "outputId": "ed1e0dc9-e0af-4a26-ca58-0d70aad9ea39"
      },
      "execution_count": null,
      "outputs": [
        {
          "output_type": "stream",
          "name": "stdout",
          "text": [
            "Classification Report               precision    recall  f1-score   support\n",
            "\n",
            "           0       0.93      0.49      0.65       576\n",
            "           1       0.22      0.80      0.34       102\n",
            "\n",
            "    accuracy                           0.54       678\n",
            "   macro avg       0.58      0.65      0.49       678\n",
            "weighted avg       0.83      0.54      0.60       678\n",
            "\n"
          ]
        }
      ]
    },
    {
      "cell_type": "code",
      "source": [
        "accuracy_score(test[dependent_variables], model.predict(X_test))"
      ],
      "metadata": {
        "colab": {
          "base_uri": "https://localhost:8080/"
        },
        "id": "nF3_-mc15bI6",
        "outputId": "4a6651f9-9f10-4814-d44a-bb42f05564a5"
      },
      "execution_count": null,
      "outputs": [
        {
          "output_type": "execute_result",
          "data": {
            "text/plain": [
              "0.5398230088495575"
            ]
          },
          "metadata": {},
          "execution_count": 104
        }
      ]
    },
    {
      "cell_type": "code",
      "source": [
        "precision_score(test[dependent_variables], model.predict(X_test))"
      ],
      "metadata": {
        "colab": {
          "base_uri": "https://localhost:8080/"
        },
        "id": "UmX1aQNIMR-C",
        "outputId": "997ecc10-cebb-488f-98f2-5e3ae88a2825"
      },
      "execution_count": null,
      "outputs": [
        {
          "output_type": "execute_result",
          "data": {
            "text/plain": [
              "0.2192513368983957"
            ]
          },
          "metadata": {},
          "execution_count": 105
        }
      ]
    },
    {
      "cell_type": "code",
      "source": [
        "recall_score(test[dependent_variables], model.predict(X_test))"
      ],
      "metadata": {
        "colab": {
          "base_uri": "https://localhost:8080/"
        },
        "id": "4jQrg2l4MelS",
        "outputId": "8ab7c8ec-ef60-454b-dace-8785869115ab"
      },
      "execution_count": null,
      "outputs": [
        {
          "output_type": "execute_result",
          "data": {
            "text/plain": [
              "0.803921568627451"
            ]
          },
          "metadata": {},
          "execution_count": 106
        }
      ]
    },
    {
      "cell_type": "code",
      "source": [
        "param_grid = {  \n",
        "              'kernel': ['rbf','linear'],'class_weight':['balanced']}\n",
        " \n",
        "grid = GridSearchCV(svm.SVC(), param_grid, refit = True, verbose = 3)\n",
        " \n",
        "# fitting the model for grid search\n",
        "grid.fit(X_train, train_dependent.values.ravel())"
      ],
      "metadata": {
        "colab": {
          "base_uri": "https://localhost:8080/"
        },
        "id": "UAbi6ncHo4Ub",
        "outputId": "089ee365-26d5-491c-f2b9-27f4199a5f46"
      },
      "execution_count": null,
      "outputs": [
        {
          "output_type": "stream",
          "name": "stdout",
          "text": [
            "Fitting 5 folds for each of 2 candidates, totalling 10 fits\n",
            "[CV 1/5] END .class_weight=balanced, kernel=rbf;, score=0.801 total time=   0.4s\n",
            "[CV 2/5] END .class_weight=balanced, kernel=rbf;, score=0.814 total time=   0.4s\n",
            "[CV 3/5] END .class_weight=balanced, kernel=rbf;, score=0.820 total time=   0.4s\n",
            "[CV 4/5] END .class_weight=balanced, kernel=rbf;, score=0.844 total time=   0.4s\n",
            "[CV 5/5] END .class_weight=balanced, kernel=rbf;, score=0.848 total time=   0.4s\n",
            "[CV 1/5] END class_weight=balanced, kernel=linear;, score=0.736 total time=   0.4s\n",
            "[CV 2/5] END class_weight=balanced, kernel=linear;, score=0.736 total time=   0.4s\n",
            "[CV 3/5] END class_weight=balanced, kernel=linear;, score=0.752 total time=   0.4s\n",
            "[CV 4/5] END class_weight=balanced, kernel=linear;, score=0.753 total time=   0.4s\n",
            "[CV 5/5] END class_weight=balanced, kernel=linear;, score=0.759 total time=   0.4s\n"
          ]
        },
        {
          "output_type": "execute_result",
          "data": {
            "text/plain": [
              "GridSearchCV(estimator=SVC(),\n",
              "             param_grid={'class_weight': ['balanced'],\n",
              "                         'kernel': ['rbf', 'linear']},\n",
              "             verbose=3)"
            ]
          },
          "metadata": {},
          "execution_count": 176
        }
      ]
    },
    {
      "cell_type": "code",
      "source": [
        "print(\"Classification Report\",classification_report(test[dependent_variables], grid.predict(X_test)))"
      ],
      "metadata": {
        "colab": {
          "base_uri": "https://localhost:8080/"
        },
        "id": "il-XSJZ4tDOt",
        "outputId": "e5f7a118-7d74-45c0-f01e-701cdbf282bb"
      },
      "execution_count": null,
      "outputs": [
        {
          "output_type": "stream",
          "name": "stdout",
          "text": [
            "Classification Report               precision    recall  f1-score   support\n",
            "\n",
            "           0       0.89      0.51      0.65       576\n",
            "           1       0.19      0.66      0.30       102\n",
            "\n",
            "    accuracy                           0.53       678\n",
            "   macro avg       0.54      0.58      0.47       678\n",
            "weighted avg       0.79      0.53      0.60       678\n",
            "\n"
          ]
        }
      ]
    },
    {
      "cell_type": "code",
      "source": [
        "recall_score(test[dependent_variables], grid.predict(X_test))"
      ],
      "metadata": {
        "colab": {
          "base_uri": "https://localhost:8080/"
        },
        "id": "yfOcTpRztGuf",
        "outputId": "56c679dd-8b4d-4bdf-f2dd-97a1a6ad6078"
      },
      "execution_count": null,
      "outputs": [
        {
          "output_type": "execute_result",
          "data": {
            "text/plain": [
              "0.6568627450980392"
            ]
          },
          "metadata": {},
          "execution_count": 178
        }
      ]
    },
    {
      "cell_type": "code",
      "source": [
        "precision_score(test[dependent_variables], grid.predict(X_test))"
      ],
      "metadata": {
        "colab": {
          "base_uri": "https://localhost:8080/"
        },
        "id": "bCu_cGAgtPrC",
        "outputId": "372b2bd7-9c5c-47fc-8856-9b81f7331a99"
      },
      "execution_count": null,
      "outputs": [
        {
          "output_type": "execute_result",
          "data": {
            "text/plain": [
              "0.1925287356321839"
            ]
          },
          "metadata": {},
          "execution_count": 179
        }
      ]
    },
    {
      "cell_type": "code",
      "source": [
        "accuracy_score(test[dependent_variables], grid.predict(X_test))"
      ],
      "metadata": {
        "colab": {
          "base_uri": "https://localhost:8080/"
        },
        "id": "g8ZPdTdJtXH3",
        "outputId": "48ce57e3-059e-4b69-8fdd-7ed1c8afa4bb"
      },
      "execution_count": null,
      "outputs": [
        {
          "output_type": "execute_result",
          "data": {
            "text/plain": [
              "0.5339233038348082"
            ]
          },
          "metadata": {},
          "execution_count": 180
        }
      ]
    },
    {
      "cell_type": "code",
      "source": [
        "from sklearn.metrics import precision_recall_curve\n",
        "y_decision_function = grid.predict(X_test)\n",
        "precision,recall,threshold = precision_recall_curve(test[dependent_variables],y_decision_function)\n",
        "plt.plot(recall,precision)\n",
        "plt.xlabel('Recall')\n",
        "plt.ylabel('Precision')\n",
        "plt.title('Precision Recall Tradeoff')\n",
        "plt.show() "
      ],
      "metadata": {
        "colab": {
          "base_uri": "https://localhost:8080/",
          "height": 295
        },
        "id": "CQonP6ccnrH2",
        "outputId": "48d0fd74-7406-4831-cfca-6ab9f43a1130"
      },
      "execution_count": null,
      "outputs": [
        {
          "output_type": "display_data",
          "data": {
            "text/plain": [
              "<Figure size 432x288 with 1 Axes>"
            ],
            "image/png": "[encoded data removed]"
          },
          "metadata": {
            "needs_background": "light"
          }
        }
      ]
    },
    {
      "cell_type": "markdown",
      "source": [
        "**Hyperparameter tuning reduced recall score value which is not acceptable for this scenario**"
      ],
      "metadata": {
        "id": "wYChjsiW1KM3"
      }
    },
    {
      "cell_type": "markdown",
      "metadata": {
        "id": "Csmi8hxRtF_E"
      },
      "source": [
        "## **Random Forest Classifier with hyper parameter tuning**"
      ]
    },
    {
      "cell_type": "code",
      "execution_count": null,
      "metadata": {
        "id": "DDRsIfTfc5by"
      },
      "outputs": [],
      "source": [
        "# creating grid for hyperparameters\n",
        "\n",
        "from sklearn.model_selection import RandomizedSearchCV\n",
        "\n",
        "n_estimators = [int(x) for x in np.linspace(start = 200, stop = 2000, num = 10)]\n",
        "max_features = ['auto', 'sqrt']\n",
        "max_depth = [int(x) for x in np.linspace(10, 110, num = 11)]\n",
        "max_depth.append(None)\n",
        "min_samples_split = [2, 5, 10]\n",
        "min_samples_leaf = [1, 2, 4]\n",
        "bootstrap = [True, False]\n",
        "random_grid = {'n_estimators': n_estimators,\n",
        "               'max_features': max_features,\n",
        "               'max_depth': max_depth,\n",
        "               'min_samples_split': min_samples_split,\n",
        "               'min_samples_leaf': min_samples_leaf,\n",
        "               'bootstrap': bootstrap}\n"
      ]
    },
    {
      "cell_type": "code",
      "execution_count": null,
      "metadata": {
        "id": "fSW-mgdheHXm"
      },
      "outputs": [],
      "source": [
        "# using randomized search cv\n",
        "\n",
        "clf = RandomForestClassifier()\n",
        "# Random search of parameters, using 3 fold cross validation, \n",
        "rf = RandomizedSearchCV(estimator = clf, param_distributions = random_grid, n_iter = 100, cv = 3, verbose=2, random_state=42, n_jobs = -1)"
      ]
    },
    {
      "cell_type": "code",
      "execution_count": null,
      "metadata": {
        "colab": {
          "base_uri": "https://localhost:8080/"
        },
        "id": "38eQ-uyreTr3",
        "outputId": "68e99dc6-ae90-4022-b764-fd04c3f08bc5"
      },
      "outputs": [
        {
          "output_type": "stream",
          "name": "stdout",
          "text": [
            "Fitting 3 folds for each of 100 candidates, totalling 300 fits\n"
          ]
        },
        {
          "output_type": "execute_result",
          "data": {
            "text/plain": [
              "RandomizedSearchCV(cv=3, estimator=RandomForestClassifier(), n_iter=100,\n",
              "                   n_jobs=-1,\n",
              "                   param_distributions={'bootstrap': [True, False],\n",
              "                                        'max_depth': [10, 20, 30, 40, 50, 60,\n",
              "                                                      70, 80, 90, 100, 110,\n",
              "                                                      None],\n",
              "                                        'max_features': ['auto', 'sqrt'],\n",
              "                                        'min_samples_leaf': [1, 2, 4],\n",
              "                                        'min_samples_split': [2, 5, 10],\n",
              "                                        'n_estimators': [200, 400, 600, 800,\n",
              "                                                         1000, 1200, 1400, 1600,\n",
              "                                                         1800, 2000]},\n",
              "                   random_state=42, verbose=2)"
            ]
          },
          "metadata": {},
          "execution_count": 109
        }
      ],
      "source": [
        "# fitting model\n",
        "\n",
        "rf.fit(X_train, train_dependent.values.ravel())"
      ]
    },
    {
      "cell_type": "markdown",
      "metadata": {
        "id": "5ED6zOrMtV8_"
      },
      "source": [
        "**Evaluation Metrics**"
      ]
    },
    {
      "cell_type": "code",
      "execution_count": null,
      "metadata": {
        "colab": {
          "base_uri": "https://localhost:8080/"
        },
        "id": "mT1jWeJedOhA",
        "outputId": "4fbbb8aa-7154-4581-dcef-e21500586c6b"
      },
      "outputs": [
        {
          "output_type": "execute_result",
          "data": {
            "text/plain": [
              "1.0"
            ]
          },
          "metadata": {},
          "execution_count": 110
        }
      ],
      "source": [
        "# recall score on training data\n",
        "recall_score(train_dependent, rf.predict(X_train))"
      ]
    },
    {
      "cell_type": "code",
      "execution_count": null,
      "metadata": {
        "colab": {
          "base_uri": "https://localhost:8080/"
        },
        "id": "ReqqtznTdfiX",
        "outputId": "233e13cc-475a-4069-a8cb-5df650a4868c"
      },
      "outputs": [
        {
          "output_type": "execute_result",
          "data": {
            "text/plain": [
              "1.0"
            ]
          },
          "metadata": {},
          "execution_count": 111
        }
      ],
      "source": [
        "# accuracy score on training data\n",
        "accuracy_score(train_dependent, rf.predict(X_train))"
      ]
    },
    {
      "cell_type": "code",
      "execution_count": null,
      "metadata": {
        "colab": {
          "base_uri": "https://localhost:8080/"
        },
        "id": "KCREJtKOdjQs",
        "outputId": "8350f8b6-ff18-4b3e-e92e-5642d5bb2711"
      },
      "outputs": [
        {
          "output_type": "execute_result",
          "data": {
            "text/plain": [
              "0.2359882005899705"
            ]
          },
          "metadata": {},
          "execution_count": 112
        }
      ],
      "source": [
        "# accuracy score on test data\n",
        "accuracy_score(test[dependent_variables], rf.predict(X_test))"
      ]
    },
    {
      "cell_type": "code",
      "execution_count": null,
      "metadata": {
        "colab": {
          "base_uri": "https://localhost:8080/"
        },
        "id": "zTCTNmffdTO7",
        "outputId": "a6d230f6-e46c-42d0-b4ef-268830fc8b84"
      },
      "outputs": [
        {
          "output_type": "execute_result",
          "data": {
            "text/plain": [
              "0.9411764705882353"
            ]
          },
          "metadata": {},
          "execution_count": 113
        }
      ],
      "source": [
        "# recall score on test data\n",
        "\n",
        "recall_score(test[dependent_variables], rf.predict(X_test))"
      ]
    },
    {
      "cell_type": "code",
      "execution_count": null,
      "metadata": {
        "colab": {
          "base_uri": "https://localhost:8080/"
        },
        "id": "vRSNKkeIrqKa",
        "outputId": "7880b08b-07fc-4dcc-d096-eefc7535243a"
      },
      "outputs": [
        {
          "output_type": "execute_result",
          "data": {
            "text/plain": [
              "0.15789473684210525"
            ]
          },
          "metadata": {},
          "execution_count": 114
        }
      ],
      "source": [
        "# precision score on test data\n",
        "from sklearn.metrics import precision_score\n",
        "precision_score(test[dependent_variables], rf.predict(X_test))"
      ]
    },
    {
      "cell_type": "code",
      "execution_count": null,
      "metadata": {
        "colab": {
          "base_uri": "https://localhost:8080/",
          "height": 323
        },
        "id": "EbZYr0Hfdstk",
        "outputId": "17d2565b-84f4-4d7b-f5d0-cd8b17cbad17"
      },
      "outputs": [
        {
          "output_type": "stream",
          "name": "stdout",
          "text": [
            "confusion matrix\n",
            "[[ 64 512]\n",
            " [  6  96]]\n"
          ]
        },
        {
          "output_type": "execute_result",
          "data": {
            "text/plain": [
              "<matplotlib.colorbar.Colorbar at 0x7f5e8b693890>"
            ]
          },
          "metadata": {},
          "execution_count": 115
        },
        {
          "output_type": "display_data",
          "data": {
            "text/plain": [
              "<Figure size 288x288 with 2 Axes>"
            ],
            "image/png": "[encoded data removed]"
          },
          "metadata": {
            "needs_background": "light"
          }
        }
      ],
      "source": [
        "# confusion matrix\n",
        "conf_matrix = confusion_matrix(test[dependent_variables], rf.predict(X_test))\n",
        "print(\"confusion matrix\")\n",
        "print(conf_matrix)\n",
        "plt.matshow(conf_matrix)\n",
        "plt.colorbar()"
      ]
    },
    {
      "cell_type": "code",
      "source": [
        "from sklearn.metrics import precision_recall_curve\n",
        "y_decision_function = grid.predict(X_test)\n",
        "precision,recall,threshold = precision_recall_curve(test[dependent_variables],y_decision_function)\n",
        "plt.plot(recall,precision)\n",
        "plt.xlabel('Recall')\n",
        "plt.ylabel('Precision')\n",
        "plt.title('Precision Recall Tradeoff')\n",
        "plt.show() "
      ],
      "metadata": {
        "id": "9gY-_p91n0pY"
      },
      "execution_count": null,
      "outputs": []
    },
    {
      "cell_type": "markdown",
      "metadata": {
        "id": "LYOwH2NLM8mG"
      },
      "source": [
        "# **Logistic Regression**"
      ]
    },
    {
      "cell_type": "code",
      "execution_count": null,
      "metadata": {
        "id": "yP_ZC-BEM6g3"
      },
      "outputs": [],
      "source": [
        "# logistic regression classifier\n",
        "from sklearn.linear_model import LogisticRegression\n",
        "clf = LogisticRegression(random_state=0,class_weight='balanced')"
      ]
    },
    {
      "cell_type": "code",
      "execution_count": null,
      "metadata": {
        "colab": {
          "base_uri": "https://localhost:8080/"
        },
        "id": "1UoZr5OWzHv3",
        "outputId": "ae834780-654d-40b4-a795-4d90e530f46e"
      },
      "outputs": [
        {
          "output_type": "execute_result",
          "data": {
            "text/plain": [
              "LogisticRegression(class_weight='balanced', random_state=0)"
            ]
          },
          "metadata": {},
          "execution_count": 183
        }
      ],
      "source": [
        "# fitting scaled data\n",
        "\n",
        "clf.fit(X_train, train_dependent.values.ravel())"
      ]
    },
    {
      "cell_type": "markdown",
      "metadata": {
        "id": "Ev6t6NUZt8ai"
      },
      "source": [
        "###**Evaluation of Model**"
      ]
    },
    {
      "cell_type": "code",
      "execution_count": null,
      "metadata": {
        "colab": {
          "base_uri": "https://localhost:8080/"
        },
        "id": "B8hFJEOIsDxO",
        "outputId": "e6955856-0385-4769-be30-fe408a897c5c"
      },
      "outputs": [
        {
          "output_type": "execute_result",
          "data": {
            "text/plain": [
              "0.5457227138643068"
            ]
          },
          "metadata": {},
          "execution_count": 184
        }
      ],
      "source": [
        "# accuracy score on test data\n",
        "accuracy_score(test[dependent_variables], clf.predict(X_test))"
      ]
    },
    {
      "cell_type": "code",
      "execution_count": null,
      "metadata": {
        "colab": {
          "base_uri": "https://localhost:8080/"
        },
        "id": "FhRgQx1_sOk2",
        "outputId": "f5754fcf-c184-41fe-ac4a-748d83454ca7"
      },
      "outputs": [
        {
          "output_type": "execute_result",
          "data": {
            "text/plain": [
              "0.22162162162162163"
            ]
          },
          "metadata": {},
          "execution_count": 185
        }
      ],
      "source": [
        "# precision score on test data\n",
        "\n",
        "precision_score(test[dependent_variables], clf.predict(X_test))"
      ]
    },
    {
      "cell_type": "code",
      "execution_count": null,
      "metadata": {
        "colab": {
          "base_uri": "https://localhost:8080/"
        },
        "id": "er6czOdENG0j",
        "outputId": "93329c12-5443-4c66-e3ff-2e7ef486e0df"
      },
      "outputs": [
        {
          "output_type": "execute_result",
          "data": {
            "text/plain": [
              "0.7587029089175011"
            ]
          },
          "metadata": {},
          "execution_count": 186
        }
      ],
      "source": [
        "# recall score  for training data\n",
        "\n",
        "recall_score(train_dependent, clf.predict(X_train))"
      ]
    },
    {
      "cell_type": "code",
      "execution_count": null,
      "metadata": {
        "colab": {
          "base_uri": "https://localhost:8080/"
        },
        "id": "gBrMgPCSNVGw",
        "outputId": "e21b42c7-aa25-4f45-b855-e6a69f7be5a8"
      },
      "outputs": [
        {
          "output_type": "execute_result",
          "data": {
            "text/plain": [
              "0.803921568627451"
            ]
          },
          "metadata": {},
          "execution_count": 187
        }
      ],
      "source": [
        "# recall score  for testing data\n",
        "recall_score(test[dependent_variables], clf.predict(X_test))"
      ]
    },
    {
      "cell_type": "code",
      "source": [
        "from sklearn.metrics import precision_recall_curve\n",
        "y_decision_function = clf.predict(X_test)\n",
        "precision,recall,threshold = precision_recall_curve(test[dependent_variables],y_decision_function)\n",
        "plt.plot(recall,precision)\n",
        "plt.xlabel('Recall')\n",
        "plt.ylabel('Precision')\n",
        "plt.title('Precision Recall Tradeoff')\n",
        "plt.show() "
      ],
      "metadata": {
        "colab": {
          "base_uri": "https://localhost:8080/",
          "height": 295
        },
        "id": "S1YDZ0rSn9Cb",
        "outputId": "6d2ef6e6-2989-432a-adf5-bbf0e7b93c2c"
      },
      "execution_count": null,
      "outputs": [
        {
          "output_type": "display_data",
          "data": {
            "text/plain": [
              "<Figure size 432x288 with 1 Axes>"
            ],
            "image/png": "[encoded data removed]"
          },
          "metadata": {
            "needs_background": "light"
          }
        }
      ]
    },
    {
      "cell_type": "code",
      "execution_count": null,
      "metadata": {
        "colab": {
          "base_uri": "https://localhost:8080/"
        },
        "id": "vJFeG6IbRiC4",
        "outputId": "abcd219d-dae6-4794-d8b8-32bf4f6d9d6e"
      },
      "outputs": [
        {
          "output_type": "stream",
          "name": "stdout",
          "text": [
            "Classification Report               precision    recall  f1-score   support\n",
            "\n",
            "           0       0.94      0.50      0.65       576\n",
            "           1       0.22      0.80      0.35       102\n",
            "\n",
            "    accuracy                           0.55       678\n",
            "   macro avg       0.58      0.65      0.50       678\n",
            "weighted avg       0.83      0.55      0.61       678\n",
            "\n"
          ]
        }
      ],
      "source": [
        "#classification report\n",
        "\n",
        "print(\"Classification Report\",classification_report(test[dependent_variables], clf.predict(X_test)))"
      ]
    },
    {
      "cell_type": "code",
      "execution_count": null,
      "metadata": {
        "colab": {
          "base_uri": "https://localhost:8080/",
          "height": 323
        },
        "id": "EwsPDXTq360H",
        "outputId": "ff76e798-cf02-4e8f-b6b5-43a247e85aa7"
      },
      "outputs": [
        {
          "output_type": "stream",
          "name": "stdout",
          "text": [
            "confusion matrix\n",
            "[[288 288]\n",
            " [ 20  82]]\n"
          ]
        },
        {
          "output_type": "execute_result",
          "data": {
            "text/plain": [
              "<matplotlib.colorbar.Colorbar at 0x7f5e8b7690d0>"
            ]
          },
          "metadata": {},
          "execution_count": 123
        },
        {
          "output_type": "display_data",
          "data": {
            "text/plain": [
              "<Figure size 288x288 with 2 Axes>"
            ],
            "image/png": "[encoded data removed]"
          },
          "metadata": {
            "needs_background": "light"
          }
        }
      ],
      "source": [
        "#Confusion Matrix\n",
        "conf_matrix = confusion_matrix(test[dependent_variables], clf.predict(X_test))\n",
        "print(\"confusion matrix\")\n",
        "print(conf_matrix)\n",
        "plt.matshow(conf_matrix)\n",
        "plt.colorbar()"
      ]
    },
    {
      "cell_type": "markdown",
      "source": [
        "**Data was imbalanced , SMOTE was used to balance the dataset and to improve the results**\n",
        "\n",
        "**Hyper parameter tuning was applied using Grid Search CV and randomized search cv for different models**\n",
        "\n",
        "**Recall of 80% is achieved using logistic regression**\n",
        "\n",
        "**Recall of 94% is achieved using Random Forest Classifer**\n",
        "\n",
        "**Recall of 80 % is achieved using SVM Classifier**\n",
        "\n",
        "**Recall of 78% is achieved using Decision Tree Classifier**\n",
        "\n",
        "\n"
      ],
      "metadata": {
        "id": "QEQFqZIenWhF"
      }
    }
  ],
  "metadata": {
    "colab": {
      "collapsed_sections": [],
      "name": "Cardiovascular Risk Prediction.ipynb",
      "provenance": [],
      "authorship_tag": "ABX9TyMVnqUyFCRwWWHrbsIzdODl",
      "include_colab_link": true
    },
    "kernelspec": {
      "display_name": "Python 3",
      "name": "python3"
    },
    "language_info": {
      "name": "python"
    }
  },
  "nbformat": 4,
  "nbformat_minor": 0
}